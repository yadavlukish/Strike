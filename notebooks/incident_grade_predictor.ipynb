{
 "cells": [
  {
   "cell_type": "markdown",
   "metadata": {
    "vscode": {
     "languageId": "plaintext"
    }
   },
   "source": [
    "Here's the markdown explanation:\n",
    "\n",
    "# Machine Learning Model Selection for Incident Grade Prediction\n",
    "\n",
    "## Dataset Characteristics\n",
    "Our analysis revealed that our dataset is entirely categorical in nature:\n",
    "- Columns that appear numeric (IDs, versions, counts) are actually categorical codes\n",
    "- No true continuous numeric features exist\n",
    "- All features represent discrete categories or labels\n",
    "\n",
    "## Suitable ML Models for Categorical Data\n",
    "\n",
    "### 1. Tree-Based Models\n",
    "- **Decision Trees**\n",
    "  - Naturally handles categorical data\n",
    "  - No encoding necessary (though can benefit from it)\n",
    "  - Highly interpretable\n",
    "\n",
    "- **Random Forest**\n",
    "  - Ensemble of decision trees\n",
    "  - Better generalization than single trees\n",
    "  - Good handling of categorical features\n",
    "\n",
    "- **Gradient Boosting (LightGBM/XGBoost)**\n",
    "  - Optimized for categorical features\n",
    "  - High performance on tabular data\n",
    "  - Built-in categorical feature support\n",
    "\n",
    "### 2. Probabilistic Models\n",
    "- **Categorical Naive Bayes**\n",
    "  - Specifically designed for categorical features\n",
    "  - Works well with high-dimensional categorical data\n",
    "  - Probabilistic predictions\n",
    "\n",
    "### 3. Other Suitable Models\n",
    "- **CatBoost**\n",
    "  - Specifically designed for categorical features\n",
    "  - Handles categorical features without preprocessing\n",
    "  - Built-in encoding mechanisms\n",
    "\n",
    "## Data Preprocessing Requirements\n",
    "1. **Label Encoding**\n",
    "   - Convert categorical strings to numeric codes\n",
    "   - Preserve categorical nature of features\n",
    "   - Required for most ML libraries\n",
    "\n",
    "2. **Missing Value Handling**\n",
    "   - Special category for missing values\n",
    "   - Maintain categorical nature of data\n",
    "\n",
    "3. **Feature Selection**\n",
    "   - Based on Cramer's V correlation\n",
    "   - Chi-square tests for feature importance\n",
    "   - Information gain metrics\n",
    "\n",
    "## Evaluation Metrics\n",
    "For categorical target (Incident Grade):\n",
    "1. **Classification Metrics**\n",
    "   - Accuracy\n",
    "   - Precision/Recall\n",
    "   - F1-Score\n",
    "   - ROC-AUC\n",
    "\n",
    "2. **Confusion Matrix**\n",
    "   - Class-wise performance\n",
    "   - Error analysis\n",
    "\n",
    "Would you like me to:\n",
    "1. Add implementation details for each model?\n",
    "2. Include code examples?\n",
    "3. Add performance comparison metrics?\n",
    "4. Elaborate on any specific aspect?\n"
   ]
  },
  {
   "cell_type": "code",
   "execution_count": 1,
   "metadata": {},
   "outputs": [],
   "source": [
    "import pandas as pd\n",
    "\n",
    "# Set display options\n",
    "pd.set_option('display.max_columns', 50)\n",
    "pd.set_option('display.max_rows', 100)"
   ]
  },
  {
   "cell_type": "code",
   "execution_count": 25,
   "metadata": {},
   "outputs": [],
   "source": [
    "# Import required libraries\n",
    "import pandas as pd\n",
    "import numpy as np\n",
    "from sklearn.model_selection import train_test_split\n",
    "from sklearn.metrics import classification_report, confusion_matrix, accuracy_score, roc_auc_score\n",
    "from catboost import CatBoostClassifier, Pool\n",
    "import matplotlib.pyplot as plt\n",
    "import seaborn as sns\n",
    "import plotly.express as px\n",
    "import plotly.graph_objects as go\n",
    "from tqdm import tqdm"
   ]
  },
  {
   "cell_type": "code",
   "execution_count": 4,
   "metadata": {},
   "outputs": [],
   "source": [
    "df=pd.read_csv(\"/Users/lukishyadav/Desktop/Engineering/case_study/ai_strike/data/GUIDE_Train.csv\")"
   ]
  },
  {
   "cell_type": "code",
   "execution_count": 5,
   "metadata": {},
   "outputs": [],
   "source": [
    "# Incident Level\n",
    "incident_columns = {\n",
    "    'id_columns': [\n",
    "        'Id',          # System-generated identifier\n",
    "        'OrgId',       # \"Organization identifier\"\n",
    "        'IncidentId'   # \"Organizationally unique incident identifier\"\n",
    "    ],\n",
    "    'num_features': [],\n",
    "    'cat_features': [],\n",
    "    'target': [\n",
    "        'IncidentGrade'  # \"SOC grade assigned to the incident\"\n",
    "                        # BenignPositive: 43.20%\n",
    "                        # TruePositive: 34.91%\n",
    "                        # FalsePositive: 21.35%\n",
    "    ]\n",
    "}\n",
    "\n",
    "# Alert Level\n",
    "alert_columns = {\n",
    "    'id_columns': [\n",
    "        'AlertId'      # \"Unique identifier for an alert\"\n",
    "    ],\n",
    "    'num_features': [\n",
    "        'Timestamp'    # \"Time the alert was created\"\n",
    "    ],\n",
    "    'cat_features': [\n",
    "        # Low Null Rate Features\n",
    "        'DetectorId',      # \"Unique ID for the alert generating detector\"\n",
    "        'AlertTitle',      # \"Title of the alert\"\n",
    "        'Category',        # \"Category of the alert\"\n",
    "        \n",
    "        # Moderate Null Rate Features\n",
    "        'MitreTechniques'  # \"MITRE ATT&CK techniques involved in alert\"\n",
    "    ],\n",
    "    'target': [\n",
    "        'ActionGrouped',   # \"SOC alert remediation action (high level)\"\n",
    "        'ActionGranular'   # \"SOC alert remediation action (fine-grain)\"\n",
    "    ]\n",
    "}\n",
    "\n",
    "# Evidence Level\n",
    "evidence_columns = {\n",
    "    'id_columns': [\n",
    "        'DeviceId',           # \"Unique identifier for the device\"\n",
    "        'NetworkMessageId'    # \"Org-level identifier for email message\"\n",
    "    ],\n",
    "    'num_features': [\n",
    "        'OSVersion',          # \"Version of the operating system\"\n",
    "        'CountryCode',        # \"Country code evidence appears in\"\n",
    "        'State',              # \"State of evidence appears in\"\n",
    "        'City'               # \"City evidence appears in\"\n",
    "    ],\n",
    "    'cat_features': [\n",
    "        # Low Null Rate Features (<20%)\n",
    "        'EntityType',         # \"Type of entity involved in the alert\"\n",
    "        'EvidenceRole',       # \"Role of the evidence in the investigation\"\n",
    "        'OSFamily',           # \"Family of the operating system\"\n",
    "        'DeviceName',         # \"Name of the device\"\n",
    "        'AccountName',        # Account display name\n",
    "        'IpAddress',          # \"IP address involved\"\n",
    "        \n",
    "        # Medium Null Rate Features (20-50%)\n",
    "        'Url',               # \"URL involved\"\n",
    "        'AccountUpn',        # \"Email account identifier\"\n",
    "        'Sha256',            # \"SHA-256 hash of the file\"\n",
    "        'ApplicationName',    # \"Name of the application\"\n",
    "        \n",
    "        # High Null Rate Features (>90%)\n",
    "        'EmailClusterId',     # \"Unique identifier for the email cluster\"\n",
    "        'ThreatFamily',       # \"Malware family associated with a file\"\n",
    "        'ResourceType',       # \"Type of Azure resource\"\n",
    "        'Roles',             # \"Additional metadata on evidence role in alert\"\n",
    "        'AntispamDirection',  # \"Direction of the antispam filter\"\n",
    "        'RegistryKey',        # \"Registry key involved\"\n",
    "        'RegistryValueName',  # \"Name of the registry value\"\n",
    "        'RegistryValueData',  # \"Data of the registry value\"\n",
    "        'FileName',          # \"Name of the file\"\n",
    "        'FolderPath',        # \"Path of the file folder\"\n",
    "        'ResourceIdName'     # \"Name of the Azure resource\"\n",
    "    ],\n",
    "    'target': [\n",
    "        'SuspicionLevel',   # \"Level of suspicion\"\n",
    "        'LastVerdict'      # \"Final verdict of threat analysis\"\n",
    "    ]\n",
    "}"
   ]
  },
  {
   "cell_type": "markdown",
   "metadata": {},
   "source": [
    "# Forming features and targets"
   ]
  },
  {
   "cell_type": "code",
   "execution_count": 9,
   "metadata": {},
   "outputs": [
    {
     "name": "stdout",
     "output_type": "stream",
     "text": [
      "Feature Summary:\n",
      "Total features selected: 30\n",
      "Features: ['DetectorId', 'AlertTitle', 'Category', 'MitreTechniques', 'Timestamp', 'EntityType', 'EvidenceRole', 'OSFamily', 'DeviceName', 'AccountName', 'IpAddress', 'Url', 'AccountUpn', 'Sha256', 'ApplicationName', 'EmailClusterId', 'ThreatFamily', 'ResourceType', 'Roles', 'AntispamDirection', 'RegistryKey', 'RegistryValueName', 'RegistryValueData', 'FileName', 'FolderPath', 'ResourceIdName', 'OSVersion', 'CountryCode', 'State', 'City']\n",
      "\n",
      "ID columns excluded: 6\n",
      "ID columns: ['Id', 'OrgId', 'IncidentId', 'AlertId', 'DeviceId', 'NetworkMessageId']\n",
      "\n",
      "Target columns: 5\n",
      "Target columns: ['IncidentGrade', 'ActionGrouped', 'ActionGranular', 'SuspicionLevel', 'LastVerdict']\n"
     ]
    }
   ],
   "source": [
    "# Combine all features (excluding IDs and targets)\n",
    "features = (\n",
    "    alert_columns['cat_features'] + \n",
    "    alert_columns['num_features'] +  # These are actually categorical\n",
    "    evidence_columns['cat_features'] + \n",
    "    evidence_columns['num_features']  # These are actually categorical\n",
    ")\n",
    "\n",
    "# Get all ID columns to exclude\n",
    "id_columns = (\n",
    "    incident_columns['id_columns'] +\n",
    "    alert_columns['id_columns'] +\n",
    "    evidence_columns['id_columns']\n",
    ")\n",
    "\n",
    "# Get all target columns\n",
    "target_columns = (\n",
    "    incident_columns['target'] +\n",
    "    alert_columns['target'] +\n",
    "    evidence_columns['target']\n",
    ")\n",
    "\n",
    "print(\"Feature Summary:\")\n",
    "print(f\"Total features selected: {len(features)}\")\n",
    "print(\"Features:\", features)\n",
    "print(f\"\\nID columns excluded: {len(id_columns)}\")\n",
    "print(\"ID columns:\", id_columns)\n",
    "print(f\"\\nTarget columns: {len(target_columns)}\")\n",
    "print(\"Target columns:\", target_columns)"
   ]
  },
  {
   "cell_type": "markdown",
   "metadata": {},
   "source": [
    "# Null values analysis\n"
   ]
  },
  {
   "cell_type": "code",
   "execution_count": 11,
   "metadata": {},
   "outputs": [
    {
     "name": "stdout",
     "output_type": "stream",
     "text": [
      "Null Value Analysis:\n",
      "================================================================================\n",
      "\n",
      "Columns with null values (sorted by percentage):\n",
      "                   Total_Rows  Null_Count  Null_Percentage Column_Type\n",
      "ResourceType          9516837     9509762            99.93     Feature\n",
      "ActionGranular        9516837     9460773            99.41      Target\n",
      "ActionGrouped         9516837     9460773            99.41      Target\n",
      "ThreatFamily          9516837     9441956            99.21     Feature\n",
      "EmailClusterId        9516837     9420025            98.98     Feature\n",
      "AntispamDirection     9516837     9339535            98.14     Feature\n",
      "Roles                 9516837     9298686            97.71     Feature\n",
      "SuspicionLevel        9516837     8072708            84.83      Target\n",
      "LastVerdict           9516837     7282572            76.52      Target\n",
      "MitreTechniques       9516837     5468386            57.46     Feature\n",
      "IncidentGrade         9516837       51340             0.54      Target\n",
      "\n",
      "Summary by Column Type:\n",
      "----------------------------------------\n",
      "\n",
      "Feature Columns:\n",
      "Total columns: 30\n",
      "Columns with nulls: 6\n",
      "Average null percentage: 18.38%\n",
      "\n",
      "Target Columns:\n",
      "Total columns: 5\n",
      "Columns with nulls: 5\n",
      "Average null percentage: 72.14%\n"
     ]
    },
    {
     "data": {
      "application/vnd.plotly.v1+json": {
       "config": {
        "plotlyServerURL": "https://plot.ly"
       },
       "data": [
        {
         "hovertemplate": "Column_Type=Feature<br>x=%{x}<br>Null Percentage (%)=%{y}<extra></extra>",
         "legendgroup": "Feature",
         "marker": {
          "color": "#636efa",
          "pattern": {
           "shape": ""
          }
         },
         "name": "Feature",
         "orientation": "v",
         "showlegend": true,
         "textposition": "auto",
         "type": "bar",
         "x": [
          "ResourceType",
          "ThreatFamily",
          "EmailClusterId",
          "AntispamDirection",
          "Roles",
          "MitreTechniques"
         ],
         "xaxis": "x",
         "y": {
          "bdata": "7FG4HoX7WEA9CtejcM1YQB+F61G4vlhAKVyPwvWIWEA9CtejcG1YQHsUrkfhukxA",
          "dtype": "f8"
         },
         "yaxis": "y"
        },
        {
         "hovertemplate": "Column_Type=Target<br>x=%{x}<br>Null Percentage (%)=%{y}<extra></extra>",
         "legendgroup": "Target",
         "marker": {
          "color": "#EF553B",
          "pattern": {
           "shape": ""
          }
         },
         "name": "Target",
         "orientation": "v",
         "showlegend": true,
         "textposition": "auto",
         "type": "bar",
         "x": [
          "ActionGranular",
          "ActionGrouped",
          "SuspicionLevel",
          "LastVerdict",
          "IncidentGrade"
         ],
         "xaxis": "x",
         "y": {
          "bdata": "CtejcD3aWEAK16NwPdpYQIXrUbgeNVVA4XoUrkchU0BI4XoUrkfhPw==",
          "dtype": "f8"
         },
         "yaxis": "y"
        }
       ],
       "layout": {
        "barmode": "relative",
        "height": 600,
        "legend": {
         "title": {
          "text": "Column_Type"
         },
         "tracegroupgap": 0
        },
        "showlegend": true,
        "template": {
         "data": {
          "bar": [
           {
            "error_x": {
             "color": "#2a3f5f"
            },
            "error_y": {
             "color": "#2a3f5f"
            },
            "marker": {
             "line": {
              "color": "#E5ECF6",
              "width": 0.5
             },
             "pattern": {
              "fillmode": "overlay",
              "size": 10,
              "solidity": 0.2
             }
            },
            "type": "bar"
           }
          ],
          "barpolar": [
           {
            "marker": {
             "line": {
              "color": "#E5ECF6",
              "width": 0.5
             },
             "pattern": {
              "fillmode": "overlay",
              "size": 10,
              "solidity": 0.2
             }
            },
            "type": "barpolar"
           }
          ],
          "carpet": [
           {
            "aaxis": {
             "endlinecolor": "#2a3f5f",
             "gridcolor": "white",
             "linecolor": "white",
             "minorgridcolor": "white",
             "startlinecolor": "#2a3f5f"
            },
            "baxis": {
             "endlinecolor": "#2a3f5f",
             "gridcolor": "white",
             "linecolor": "white",
             "minorgridcolor": "white",
             "startlinecolor": "#2a3f5f"
            },
            "type": "carpet"
           }
          ],
          "choropleth": [
           {
            "colorbar": {
             "outlinewidth": 0,
             "ticks": ""
            },
            "type": "choropleth"
           }
          ],
          "contour": [
           {
            "colorbar": {
             "outlinewidth": 0,
             "ticks": ""
            },
            "colorscale": [
             [
              0,
              "#0d0887"
             ],
             [
              0.1111111111111111,
              "#46039f"
             ],
             [
              0.2222222222222222,
              "#7201a8"
             ],
             [
              0.3333333333333333,
              "#9c179e"
             ],
             [
              0.4444444444444444,
              "#bd3786"
             ],
             [
              0.5555555555555556,
              "#d8576b"
             ],
             [
              0.6666666666666666,
              "#ed7953"
             ],
             [
              0.7777777777777778,
              "#fb9f3a"
             ],
             [
              0.8888888888888888,
              "#fdca26"
             ],
             [
              1,
              "#f0f921"
             ]
            ],
            "type": "contour"
           }
          ],
          "contourcarpet": [
           {
            "colorbar": {
             "outlinewidth": 0,
             "ticks": ""
            },
            "type": "contourcarpet"
           }
          ],
          "heatmap": [
           {
            "colorbar": {
             "outlinewidth": 0,
             "ticks": ""
            },
            "colorscale": [
             [
              0,
              "#0d0887"
             ],
             [
              0.1111111111111111,
              "#46039f"
             ],
             [
              0.2222222222222222,
              "#7201a8"
             ],
             [
              0.3333333333333333,
              "#9c179e"
             ],
             [
              0.4444444444444444,
              "#bd3786"
             ],
             [
              0.5555555555555556,
              "#d8576b"
             ],
             [
              0.6666666666666666,
              "#ed7953"
             ],
             [
              0.7777777777777778,
              "#fb9f3a"
             ],
             [
              0.8888888888888888,
              "#fdca26"
             ],
             [
              1,
              "#f0f921"
             ]
            ],
            "type": "heatmap"
           }
          ],
          "histogram": [
           {
            "marker": {
             "pattern": {
              "fillmode": "overlay",
              "size": 10,
              "solidity": 0.2
             }
            },
            "type": "histogram"
           }
          ],
          "histogram2d": [
           {
            "colorbar": {
             "outlinewidth": 0,
             "ticks": ""
            },
            "colorscale": [
             [
              0,
              "#0d0887"
             ],
             [
              0.1111111111111111,
              "#46039f"
             ],
             [
              0.2222222222222222,
              "#7201a8"
             ],
             [
              0.3333333333333333,
              "#9c179e"
             ],
             [
              0.4444444444444444,
              "#bd3786"
             ],
             [
              0.5555555555555556,
              "#d8576b"
             ],
             [
              0.6666666666666666,
              "#ed7953"
             ],
             [
              0.7777777777777778,
              "#fb9f3a"
             ],
             [
              0.8888888888888888,
              "#fdca26"
             ],
             [
              1,
              "#f0f921"
             ]
            ],
            "type": "histogram2d"
           }
          ],
          "histogram2dcontour": [
           {
            "colorbar": {
             "outlinewidth": 0,
             "ticks": ""
            },
            "colorscale": [
             [
              0,
              "#0d0887"
             ],
             [
              0.1111111111111111,
              "#46039f"
             ],
             [
              0.2222222222222222,
              "#7201a8"
             ],
             [
              0.3333333333333333,
              "#9c179e"
             ],
             [
              0.4444444444444444,
              "#bd3786"
             ],
             [
              0.5555555555555556,
              "#d8576b"
             ],
             [
              0.6666666666666666,
              "#ed7953"
             ],
             [
              0.7777777777777778,
              "#fb9f3a"
             ],
             [
              0.8888888888888888,
              "#fdca26"
             ],
             [
              1,
              "#f0f921"
             ]
            ],
            "type": "histogram2dcontour"
           }
          ],
          "mesh3d": [
           {
            "colorbar": {
             "outlinewidth": 0,
             "ticks": ""
            },
            "type": "mesh3d"
           }
          ],
          "parcoords": [
           {
            "line": {
             "colorbar": {
              "outlinewidth": 0,
              "ticks": ""
             }
            },
            "type": "parcoords"
           }
          ],
          "pie": [
           {
            "automargin": true,
            "type": "pie"
           }
          ],
          "scatter": [
           {
            "fillpattern": {
             "fillmode": "overlay",
             "size": 10,
             "solidity": 0.2
            },
            "type": "scatter"
           }
          ],
          "scatter3d": [
           {
            "line": {
             "colorbar": {
              "outlinewidth": 0,
              "ticks": ""
             }
            },
            "marker": {
             "colorbar": {
              "outlinewidth": 0,
              "ticks": ""
             }
            },
            "type": "scatter3d"
           }
          ],
          "scattercarpet": [
           {
            "marker": {
             "colorbar": {
              "outlinewidth": 0,
              "ticks": ""
             }
            },
            "type": "scattercarpet"
           }
          ],
          "scattergeo": [
           {
            "marker": {
             "colorbar": {
              "outlinewidth": 0,
              "ticks": ""
             }
            },
            "type": "scattergeo"
           }
          ],
          "scattergl": [
           {
            "marker": {
             "colorbar": {
              "outlinewidth": 0,
              "ticks": ""
             }
            },
            "type": "scattergl"
           }
          ],
          "scattermap": [
           {
            "marker": {
             "colorbar": {
              "outlinewidth": 0,
              "ticks": ""
             }
            },
            "type": "scattermap"
           }
          ],
          "scattermapbox": [
           {
            "marker": {
             "colorbar": {
              "outlinewidth": 0,
              "ticks": ""
             }
            },
            "type": "scattermapbox"
           }
          ],
          "scatterpolar": [
           {
            "marker": {
             "colorbar": {
              "outlinewidth": 0,
              "ticks": ""
             }
            },
            "type": "scatterpolar"
           }
          ],
          "scatterpolargl": [
           {
            "marker": {
             "colorbar": {
              "outlinewidth": 0,
              "ticks": ""
             }
            },
            "type": "scatterpolargl"
           }
          ],
          "scatterternary": [
           {
            "marker": {
             "colorbar": {
              "outlinewidth": 0,
              "ticks": ""
             }
            },
            "type": "scatterternary"
           }
          ],
          "surface": [
           {
            "colorbar": {
             "outlinewidth": 0,
             "ticks": ""
            },
            "colorscale": [
             [
              0,
              "#0d0887"
             ],
             [
              0.1111111111111111,
              "#46039f"
             ],
             [
              0.2222222222222222,
              "#7201a8"
             ],
             [
              0.3333333333333333,
              "#9c179e"
             ],
             [
              0.4444444444444444,
              "#bd3786"
             ],
             [
              0.5555555555555556,
              "#d8576b"
             ],
             [
              0.6666666666666666,
              "#ed7953"
             ],
             [
              0.7777777777777778,
              "#fb9f3a"
             ],
             [
              0.8888888888888888,
              "#fdca26"
             ],
             [
              1,
              "#f0f921"
             ]
            ],
            "type": "surface"
           }
          ],
          "table": [
           {
            "cells": {
             "fill": {
              "color": "#EBF0F8"
             },
             "line": {
              "color": "white"
             }
            },
            "header": {
             "fill": {
              "color": "#C8D4E3"
             },
             "line": {
              "color": "white"
             }
            },
            "type": "table"
           }
          ]
         },
         "layout": {
          "annotationdefaults": {
           "arrowcolor": "#2a3f5f",
           "arrowhead": 0,
           "arrowwidth": 1
          },
          "autotypenumbers": "strict",
          "coloraxis": {
           "colorbar": {
            "outlinewidth": 0,
            "ticks": ""
           }
          },
          "colorscale": {
           "diverging": [
            [
             0,
             "#8e0152"
            ],
            [
             0.1,
             "#c51b7d"
            ],
            [
             0.2,
             "#de77ae"
            ],
            [
             0.3,
             "#f1b6da"
            ],
            [
             0.4,
             "#fde0ef"
            ],
            [
             0.5,
             "#f7f7f7"
            ],
            [
             0.6,
             "#e6f5d0"
            ],
            [
             0.7,
             "#b8e186"
            ],
            [
             0.8,
             "#7fbc41"
            ],
            [
             0.9,
             "#4d9221"
            ],
            [
             1,
             "#276419"
            ]
           ],
           "sequential": [
            [
             0,
             "#0d0887"
            ],
            [
             0.1111111111111111,
             "#46039f"
            ],
            [
             0.2222222222222222,
             "#7201a8"
            ],
            [
             0.3333333333333333,
             "#9c179e"
            ],
            [
             0.4444444444444444,
             "#bd3786"
            ],
            [
             0.5555555555555556,
             "#d8576b"
            ],
            [
             0.6666666666666666,
             "#ed7953"
            ],
            [
             0.7777777777777778,
             "#fb9f3a"
            ],
            [
             0.8888888888888888,
             "#fdca26"
            ],
            [
             1,
             "#f0f921"
            ]
           ],
           "sequentialminus": [
            [
             0,
             "#0d0887"
            ],
            [
             0.1111111111111111,
             "#46039f"
            ],
            [
             0.2222222222222222,
             "#7201a8"
            ],
            [
             0.3333333333333333,
             "#9c179e"
            ],
            [
             0.4444444444444444,
             "#bd3786"
            ],
            [
             0.5555555555555556,
             "#d8576b"
            ],
            [
             0.6666666666666666,
             "#ed7953"
            ],
            [
             0.7777777777777778,
             "#fb9f3a"
            ],
            [
             0.8888888888888888,
             "#fdca26"
            ],
            [
             1,
             "#f0f921"
            ]
           ]
          },
          "colorway": [
           "#636efa",
           "#EF553B",
           "#00cc96",
           "#ab63fa",
           "#FFA15A",
           "#19d3f3",
           "#FF6692",
           "#B6E880",
           "#FF97FF",
           "#FECB52"
          ],
          "font": {
           "color": "#2a3f5f"
          },
          "geo": {
           "bgcolor": "white",
           "lakecolor": "white",
           "landcolor": "#E5ECF6",
           "showlakes": true,
           "showland": true,
           "subunitcolor": "white"
          },
          "hoverlabel": {
           "align": "left"
          },
          "hovermode": "closest",
          "mapbox": {
           "style": "light"
          },
          "paper_bgcolor": "white",
          "plot_bgcolor": "#E5ECF6",
          "polar": {
           "angularaxis": {
            "gridcolor": "white",
            "linecolor": "white",
            "ticks": ""
           },
           "bgcolor": "#E5ECF6",
           "radialaxis": {
            "gridcolor": "white",
            "linecolor": "white",
            "ticks": ""
           }
          },
          "scene": {
           "xaxis": {
            "backgroundcolor": "#E5ECF6",
            "gridcolor": "white",
            "gridwidth": 2,
            "linecolor": "white",
            "showbackground": true,
            "ticks": "",
            "zerolinecolor": "white"
           },
           "yaxis": {
            "backgroundcolor": "#E5ECF6",
            "gridcolor": "white",
            "gridwidth": 2,
            "linecolor": "white",
            "showbackground": true,
            "ticks": "",
            "zerolinecolor": "white"
           },
           "zaxis": {
            "backgroundcolor": "#E5ECF6",
            "gridcolor": "white",
            "gridwidth": 2,
            "linecolor": "white",
            "showbackground": true,
            "ticks": "",
            "zerolinecolor": "white"
           }
          },
          "shapedefaults": {
           "line": {
            "color": "#2a3f5f"
           }
          },
          "ternary": {
           "aaxis": {
            "gridcolor": "white",
            "linecolor": "white",
            "ticks": ""
           },
           "baxis": {
            "gridcolor": "white",
            "linecolor": "white",
            "ticks": ""
           },
           "bgcolor": "#E5ECF6",
           "caxis": {
            "gridcolor": "white",
            "linecolor": "white",
            "ticks": ""
           }
          },
          "title": {
           "x": 0.05
          },
          "xaxis": {
           "automargin": true,
           "gridcolor": "white",
           "linecolor": "white",
           "ticks": "",
           "title": {
            "standoff": 15
           },
           "zerolinecolor": "white",
           "zerolinewidth": 2
          },
          "yaxis": {
           "automargin": true,
           "gridcolor": "white",
           "linecolor": "white",
           "ticks": "",
           "title": {
            "standoff": 15
           },
           "zerolinecolor": "white",
           "zerolinewidth": 2
          }
         }
        },
        "title": {
         "text": "Null Percentages by Column"
        },
        "xaxis": {
         "anchor": "y",
         "domain": [
          0,
          1
         ],
         "tickangle": -45,
         "title": {
          "text": "x"
         }
        },
        "yaxis": {
         "anchor": "x",
         "domain": [
          0,
          1
         ],
         "title": {
          "text": "Null Percentage (%)"
         }
        }
       }
      }
     },
     "metadata": {},
     "output_type": "display_data"
    }
   ],
   "source": [
    "def analyze_null_values():\n",
    "    # Combine features and targets for analysis\n",
    "    all_columns = features + target_columns\n",
    "    \n",
    "    # Calculate null statistics\n",
    "    null_stats = pd.DataFrame({\n",
    "        'Total_Rows': len(df),\n",
    "        'Null_Count': df[all_columns].isnull().sum(),\n",
    "        'Null_Percentage': (df[all_columns].isnull().sum() / len(df) * 100).round(2)\n",
    "    }).sort_values('Null_Percentage', ascending=False)\n",
    "    \n",
    "    # Add column type classification\n",
    "    null_stats['Column_Type'] = null_stats.index.map(\n",
    "        lambda x: 'Target' if x in target_columns else 'Feature'\n",
    "    )\n",
    "    \n",
    "    # Print summary\n",
    "    print(\"Null Value Analysis:\")\n",
    "    print(\"=\" * 80)\n",
    "    print(\"\\nColumns with null values (sorted by percentage):\")\n",
    "    print(null_stats[null_stats['Null_Count'] > 0])\n",
    "    \n",
    "    print(\"\\nSummary by Column Type:\")\n",
    "    print(\"-\" * 40)\n",
    "    for col_type in ['Feature', 'Target']:\n",
    "        type_stats = null_stats[null_stats['Column_Type'] == col_type]\n",
    "        print(f\"\\n{col_type} Columns:\")\n",
    "        print(f\"Total columns: {len(type_stats)}\")\n",
    "        print(f\"Columns with nulls: {len(type_stats[type_stats['Null_Count'] > 0])}\")\n",
    "        if len(type_stats) > 0:\n",
    "            print(f\"Average null percentage: {type_stats['Null_Percentage'].mean():.2f}%\")\n",
    "    \n",
    "    # Visualize null percentages\n",
    "    import plotly.express as px\n",
    "    \n",
    "    # Create bar plot\n",
    "    fig = px.bar(\n",
    "        null_stats[null_stats['Null_Count'] > 0],\n",
    "        x=null_stats[null_stats['Null_Count'] > 0].index,\n",
    "        y='Null_Percentage',\n",
    "        color='Column_Type',\n",
    "        title='Null Percentages by Column',\n",
    "        labels={'index': 'Column Name', 'Null_Percentage': 'Null Percentage (%)'}\n",
    "    )\n",
    "    \n",
    "    fig.update_layout(\n",
    "        xaxis_tickangle=-45,\n",
    "        showlegend=True,\n",
    "        height=600\n",
    "    )\n",
    "    \n",
    "    fig.show()\n",
    "    \n",
    "    return null_stats\n",
    "\n",
    "# Run the analysis\n",
    "null_stats = analyze_null_values()"
   ]
  },
  {
   "cell_type": "code",
   "execution_count": 12,
   "metadata": {},
   "outputs": [
    {
     "name": "stdout",
     "output_type": "stream",
     "text": [
      "Features with Null Values:\n",
      "==================================================\n",
      "                   Total_Rows  Null_Count  Null_Percentage\n",
      "ResourceType          9516837     9509762            99.93\n",
      "ThreatFamily          9516837     9441956            99.21\n",
      "EmailClusterId        9516837     9420025            98.98\n",
      "AntispamDirection     9516837     9339535            98.14\n",
      "Roles                 9516837     9298686            97.71\n",
      "MitreTechniques       9516837     5468386            57.46\n",
      "\n",
      "Targets with Null Values:\n",
      "==================================================\n",
      "                Total_Rows  Null_Count  Null_Percentage\n",
      "ActionGrouped      9516837     9460773            99.41\n",
      "ActionGranular     9516837     9460773            99.41\n",
      "SuspicionLevel     9516837     8072708            84.83\n",
      "LastVerdict        9516837     7282572            76.52\n",
      "IncidentGrade      9516837       51340             0.54\n",
      "\n",
      "Summary:\n",
      "Features with nulls: 6\n",
      "Targets with nulls: 5\n"
     ]
    }
   ],
   "source": [
    "# Get null value analysis for features\n",
    "feature_nulls = pd.DataFrame({\n",
    "    'Total_Rows': len(df),\n",
    "    'Null_Count': df[features].isnull().sum(),\n",
    "    'Null_Percentage': (df[features].isnull().sum() / len(df) * 100).round(2)\n",
    "}).sort_values('Null_Percentage', ascending=False)\n",
    "\n",
    "# Get null value analysis for targets\n",
    "target_nulls = pd.DataFrame({\n",
    "    'Total_Rows': len(df),\n",
    "    'Null_Count': df[target_columns].isnull().sum(),\n",
    "    'Null_Percentage': (df[target_columns].isnull().sum() / len(df) * 100).round(2)\n",
    "}).sort_values('Null_Percentage', ascending=False)\n",
    "\n",
    "print(\"Features with Null Values:\")\n",
    "print(\"=\" * 50)\n",
    "print(feature_nulls[feature_nulls['Null_Count'] > 0])\n",
    "\n",
    "print(\"\\nTargets with Null Values:\")\n",
    "print(\"=\" * 50)\n",
    "print(target_nulls[target_nulls['Null_Count'] > 0])\n",
    "\n",
    "# Create lists of features with nulls\n",
    "features_with_nulls = feature_nulls[feature_nulls['Null_Count'] > 0].index.tolist()\n",
    "targets_with_nulls = target_nulls[target_nulls['Null_Count'] > 0].index.tolist()\n",
    "\n",
    "print(\"\\nSummary:\")\n",
    "print(f\"Features with nulls: {len(features_with_nulls)}\")\n",
    "print(f\"Targets with nulls: {len(targets_with_nulls)}\")"
   ]
  },
  {
   "cell_type": "markdown",
   "metadata": {},
   "source": [
    "# Observing disctinct values of features and targets with null values so that we can see if they are to be repaced/filled or columns are to be dropped"
   ]
  },
  {
   "cell_type": "code",
   "execution_count": 19,
   "metadata": {},
   "outputs": [
    {
     "name": "stdout",
     "output_type": "stream",
     "text": [
      "Distinct Values Analysis for Columns with Nulls:\n",
      "================================================================================\n",
      "\n",
      "Column: ResourceType\n",
      "----------------------------------------\n",
      "Total distinct values: 25\n",
      "Null count: 9509762\n",
      "Null percentage: 99.93%\n",
      "\n",
      "Value distribution:\n",
      "ResourceType\n",
      "NaN                                     9509762\n",
      "Virtual Machine                            4146\n",
      "Key Vault                                   480\n",
      "App Service                                 404\n",
      "Azure Arc machine                           373\n",
      "Storage Account                             366\n",
      "Subscription                                271\n",
      "SQL Database                                226\n",
      "Azure Database for MySQL Server             182\n",
      "Azure Resource                              157\n",
      "Virtual Machine Scale Set                   112\n",
      "API Management Service                       94\n",
      "Key Vault Secret                             77\n",
      "Azure Database for PostgreSQL Server         45\n",
      "SQL Server                                   41\n",
      "Azure Cosmos DB Account                      30\n",
      "Networking                                   14\n",
      "Synapse SQL Pool                             11\n",
      "GCP Compute Instance                         10\n",
      "SQL Managed Instance                          9\n",
      "Kubernetes Service                            9\n",
      "Key Vault Certificate                         7\n",
      "AWS EC2 Instance                              6\n",
      "Key Vault Key                                 2\n",
      "Synapse Workspace                             2\n",
      "Cognitive Service                             1\n",
      "Name: count, dtype: int64\n",
      "--------------------------------------------------------------------------------\n",
      "\n",
      "Column: ThreatFamily\n",
      "----------------------------------------\n",
      "Total distinct values: 1745\n",
      "Null count: 9441956\n",
      "Null percentage: 99.21%\n",
      "\n",
      "Value distribution:\n",
      "ThreatFamily\n",
      "NaN                      9441956\n",
      "Phish                       3526\n",
      "Malgent                     2636\n",
      "Donoff                      2519\n",
      "CustomEnterpriseBlock       2145\n",
      "                          ...   \n",
      "AprilAxe                       1\n",
      "Kechang                        1\n",
      "PolsckiCrypt                   1\n",
      "GhostRadmin                    1\n",
      "Gootkit                        1\n",
      "Name: count, Length: 1746, dtype: int64\n",
      "--------------------------------------------------------------------------------\n",
      "\n",
      "Column: EmailClusterId\n",
      "----------------------------------------\n",
      "Total distinct values: 26474\n",
      "Null count: 9420025\n",
      "Null percentage: 98.98%\n",
      "\n",
      "Value distribution:\n",
      "EmailClusterId\n",
      "NaN             9420025\n",
      "4.218787e+09       1990\n",
      "4.023350e+09       1904\n",
      "4.140628e+09       1736\n",
      "1.962111e+09        824\n",
      "                 ...   \n",
      "9.748145e+08          1\n",
      "3.220066e+09          1\n",
      "3.751199e+09          1\n",
      "2.964504e+09          1\n",
      "1.760943e+09          1\n",
      "Name: count, Length: 26475, dtype: int64\n",
      "--------------------------------------------------------------------------------\n",
      "\n",
      "Column: AntispamDirection\n",
      "----------------------------------------\n",
      "Total distinct values: 5\n",
      "Null count: 9339535\n",
      "Null percentage: 98.14%\n",
      "\n",
      "Value distribution:\n",
      "AntispamDirection\n",
      "NaN                                                   9339535\n",
      "Inbound                                                161111\n",
      "Intraorg                                                15308\n",
      "Outbound                                                  868\n",
      "DomainPII_50d8b4a941c26b89482c94ab324b5a274f9ced66         10\n",
      "DomainPII_df80ab894e01e375bf55d12ba315c04029d3e32d          5\n",
      "Name: count, dtype: int64\n",
      "--------------------------------------------------------------------------------\n",
      "\n",
      "Column: Roles\n",
      "----------------------------------------\n",
      "Total distinct values: 10\n",
      "Null count: 9298686\n",
      "Null percentage: 97.71%\n",
      "\n",
      "Value distribution:\n",
      "Roles\n",
      "NaN               9298686\n",
      "Contextual         130528\n",
      "Destination         34324\n",
      "Suspicious          28952\n",
      "Attacker            13096\n",
      "Source               7171\n",
      "Compromised          3219\n",
      "PolicyViolator        666\n",
      "Attacked              188\n",
      "Edited                  6\n",
      "Added                   1\n",
      "Name: count, dtype: int64\n",
      "--------------------------------------------------------------------------------\n",
      "\n",
      "Column: MitreTechniques\n",
      "----------------------------------------\n",
      "Total distinct values: 1193\n",
      "Null count: 5468386\n",
      "Null percentage: 57.46%\n",
      "\n",
      "Value distribution:\n",
      "MitreTechniques\n",
      "NaN                                                    5468386\n",
      "T1078;T1078.004                                        1354904\n",
      "T1566.002                                               814308\n",
      "T1566                                                   659591\n",
      "T1133                                                   145579\n",
      "                                                        ...   \n",
      "T1084                                                        1\n",
      "T1055;T1055.003;T1055.012;T1059;T1059.001;T1106              1\n",
      "T1003.001;T1055;T1055.003;T1055.012;T1106;T1550.002          1\n",
      "T1055;T1055.002;T1055.003;T1055.012;T1078;T1106              1\n",
      "T1078;T1078.001                                              1\n",
      "Name: count, Length: 1194, dtype: int64\n",
      "--------------------------------------------------------------------------------\n",
      "\n",
      "Column: ActionGrouped\n",
      "----------------------------------------\n",
      "Total distinct values: 3\n",
      "Null count: 9460773\n",
      "Null percentage: 99.41%\n",
      "\n",
      "Value distribution:\n",
      "ActionGrouped\n",
      "NaN                      9460773\n",
      "ContainAccount             53760\n",
      "IsolateDevice               2237\n",
      "Stop Virtual Machines         67\n",
      "Name: count, dtype: int64\n",
      "--------------------------------------------------------------------------------\n",
      "\n",
      "Column: ActionGranular\n",
      "----------------------------------------\n",
      "Total distinct values: 16\n",
      "Null count: 9460773\n",
      "Null percentage: 99.41%\n",
      "\n",
      "Value distribution:\n",
      "ActionGranular\n",
      "NaN                                           9460773\n",
      "update stsrefreshtokenvalidfrom timestamp.      21393\n",
      "account password changed                        14059\n",
      "change user password.                           13623\n",
      "isolateresponse                                  2043\n",
      "account disabled                                 1991\n",
      "disable account.                                 1143\n",
      "reset user password.                              886\n",
      "forcepasswordresetremediation                     234\n",
      "quarantinefile                                    194\n",
      "msecidentitiesconfirmusercompromised              146\n",
      "disableuser                                       107\n",
      "msecidentitiessuspenduser                          81\n",
      "delete virtualmachines                             67\n",
      "account deleted                                    55\n",
      "delete user.                                       35\n",
      "set force change user password.                     7\n",
      "Name: count, dtype: int64\n",
      "--------------------------------------------------------------------------------\n",
      "\n",
      "Column: SuspicionLevel\n",
      "----------------------------------------\n",
      "Total distinct values: 2\n",
      "Null count: 8072708\n",
      "Null percentage: 84.83%\n",
      "\n",
      "Value distribution:\n",
      "SuspicionLevel\n",
      "NaN             8072708\n",
      "Suspicious      1442614\n",
      "Incriminated       1515\n",
      "Name: count, dtype: int64\n",
      "--------------------------------------------------------------------------------\n",
      "\n",
      "Column: LastVerdict\n",
      "----------------------------------------\n",
      "Total distinct values: 5\n",
      "Null count: 7282572\n",
      "Null percentage: 76.52%\n",
      "\n",
      "Value distribution:\n",
      "LastVerdict\n",
      "NaN                                                   7282572\n",
      "Suspicious                                            1402997\n",
      "Malicious                                              433359\n",
      "NoThreatsFound                                         397718\n",
      "DomainPII_50d8b4a941c26b89482c94ab324b5a274f9ced66        128\n",
      "DomainPII_9207384283ce115db5a590dd9ca5de21e5e99df2         63\n",
      "Name: count, dtype: int64\n",
      "--------------------------------------------------------------------------------\n",
      "\n",
      "Column: IncidentGrade\n",
      "----------------------------------------\n",
      "Total distinct values: 3\n",
      "Null count: 51340\n",
      "Null percentage: 0.54%\n",
      "\n",
      "Value distribution:\n",
      "IncidentGrade\n",
      "BenignPositive    4110817\n",
      "TruePositive      3322713\n",
      "FalsePositive     2031967\n",
      "NaN                 51340\n",
      "Name: count, dtype: int64\n",
      "--------------------------------------------------------------------------------\n",
      "\n",
      "Summary of Distinct Values:\n",
      "               Column  Distinct_Values  Null_Count  Null_Percentage\n",
      "0        ResourceType               25     9509762            99.93\n",
      "6       ActionGrouped                3     9460773            99.41\n",
      "7      ActionGranular               16     9460773            99.41\n",
      "1        ThreatFamily             1745     9441956            99.21\n",
      "2      EmailClusterId            26474     9420025            98.98\n",
      "3   AntispamDirection                5     9339535            98.14\n",
      "4               Roles               10     9298686            97.71\n",
      "8      SuspicionLevel                2     8072708            84.83\n",
      "9         LastVerdict                5     7282572            76.52\n",
      "5     MitreTechniques             1193     5468386            57.46\n",
      "10      IncidentGrade                3       51340             0.54\n"
     ]
    }
   ],
   "source": [
    "# Get distinct values for each column with nulls\n",
    "print(\"Distinct Values Analysis for Columns with Nulls:\")\n",
    "print(\"=\" * 80)\n",
    "\n",
    "for column in features_with_nulls + targets_with_nulls:\n",
    "    print(f\"\\nColumn: {column}\")\n",
    "    print(\"-\" * 40)\n",
    "    \n",
    "    # Get value counts including nulls\n",
    "    value_counts = df[column].value_counts(dropna=False)\n",
    "    \n",
    "    print(f\"Total distinct values: {df[column].nunique()}\")\n",
    "    print(f\"Null count: {df[column].isnull().sum()}\")\n",
    "    print(f\"Null percentage: {(df[column].isnull().sum() / len(df) * 100):.2f}%\")\n",
    "    print(\"\\nValue distribution:\")\n",
    "    print(value_counts)\n",
    "    print(\"-\" * 80)\n",
    "\n",
    "# Optional: Create a summary DataFrame\n",
    "summary_df = pd.DataFrame({\n",
    "    'Column': features_with_nulls + targets_with_nulls,\n",
    "    'Distinct_Values': [df[col].nunique() for col in features_with_nulls + targets_with_nulls],\n",
    "    'Null_Count': [df[col].isnull().sum() for col in features_with_nulls + targets_with_nulls],\n",
    "    'Null_Percentage': [(df[col].isnull().sum() / len(df) * 100).round(2) for col in features_with_nulls + targets_with_nulls]\n",
    "})\n",
    "\n",
    "print(\"\\nSummary of Distinct Values:\")\n",
    "print(summary_df.sort_values('Null_Percentage', ascending=False))"
   ]
  },
  {
   "cell_type": "markdown",
   "metadata": {},
   "source": [
    "# Dropping null incident records"
   ]
  },
  {
   "cell_type": "code",
   "execution_count": 20,
   "metadata": {},
   "outputs": [
    {
     "name": "stdout",
     "output_type": "stream",
     "text": [
      "Original dataset size: 9516837\n",
      "Dataset size after dropping null IncidentGrade: 9465497\n"
     ]
    }
   ],
   "source": [
    "# First, drop records with null incident grade\n",
    "df_clean = df[df['IncidentGrade'].notna()].copy()\n",
    "print(f\"Original dataset size: {len(df)}\")\n",
    "print(f\"Dataset size after dropping null IncidentGrade: {len(df_clean)}\")\n"
   ]
  },
  {
   "cell_type": "markdown",
   "metadata": {},
   "source": [
    "# Lack of time for us"
   ]
  },
  {
   "cell_type": "code",
   "execution_count": 31,
   "metadata": {},
   "outputs": [
    {
     "name": "stdout",
     "output_type": "stream",
     "text": [
      "Original class distribution:\n",
      "IncidentGrade\n",
      "BenignPositive    0.434295\n",
      "TruePositive      0.351034\n",
      "FalsePositive     0.214671\n",
      "Name: proportion, dtype: float64\n",
      "\n",
      "Balanced class distribution:\n",
      "IncidentGrade\n",
      "FalsePositive     0.333333\n",
      "BenignPositive    0.333333\n",
      "TruePositive      0.333333\n",
      "Name: proportion, dtype: float64\n",
      "\n",
      "Final dataset size: 999\n"
     ]
    }
   ],
   "source": [
    "# First, drop records with null incident grade\n",
    "df_clean = df[df['IncidentGrade'].notna()].copy()\n",
    "\n",
    "# Print original class distribution\n",
    "print(\"Original class distribution:\")\n",
    "print(df_clean['IncidentGrade'].value_counts(normalize=True))\n",
    "\n",
    "# Take stratified sample\n",
    "n_samples = 1000  # total samples we want\n",
    "n_each_class = n_samples // len(df_clean['IncidentGrade'].unique())  # samples per class\n",
    "\n",
    "# Sample equal numbers from each class\n",
    "df_balanced = pd.DataFrame()\n",
    "for grade in df_clean['IncidentGrade'].unique():\n",
    "    class_sample = df_clean[df_clean['IncidentGrade'] == grade].sample(n=n_each_class, random_state=42)\n",
    "    df_balanced = pd.concat([df_balanced, class_sample])\n",
    "\n",
    "# Shuffle the final dataset\n",
    "df_clean = df_balanced.sample(frac=1, random_state=42).reset_index(drop=True)\n",
    "\n",
    "# Print new class distribution\n",
    "print(\"\\nBalanced class distribution:\")\n",
    "print(df_clean['IncidentGrade'].value_counts(normalize=True))\n",
    "\n",
    "print(f\"\\nFinal dataset size: {len(df_clean)}\")"
   ]
  },
  {
   "cell_type": "markdown",
   "metadata": {},
   "source": [
    "# Training Cat boost with and with null features (dropping vs replacing nullsm)"
   ]
  },
  {
   "cell_type": "code",
   "execution_count": 33,
   "metadata": {},
   "outputs": [
    {
     "name": "stdout",
     "output_type": "stream",
     "text": [
      "\n",
      "=== Method 1: Training with Dropped Features ===\n",
      "\n",
      "Features retained: 24\n",
      "Features dropped: 6\n",
      "\n",
      "Dropped features: ['ResourceType', 'ThreatFamily', 'EmailClusterId', 'AntispamDirection', 'Roles', 'MitreTechniques']\n",
      "\n",
      "=== Method 2: Training with All Features (Nulls replaced with 'UNKNOWN') ===\n",
      "\n",
      "Total features used: 30\n",
      "\n",
      "Results for Dropped Features Method:\n",
      "Number of features used: 24\n",
      "Accuracy: 0.6700\n",
      "ROC AUC: 0.8156\n",
      "\n",
      "Classification Report:\n",
      "                precision    recall  f1-score   support\n",
      "\n",
      "BenignPositive       0.61      0.83      0.71        66\n",
      " FalsePositive       0.74      0.46      0.57        67\n",
      "  TruePositive       0.71      0.72      0.71        67\n",
      "\n",
      "      accuracy                           0.67       200\n",
      "     macro avg       0.69      0.67      0.66       200\n",
      "  weighted avg       0.69      0.67      0.66       200\n",
      "\n"
     ]
    },
    {
     "data": {
      "image/png": "[encoded data removed]",
      "text/plain": [
       "<Figure size 1200x600 with 1 Axes>"
      ]
     },
     "metadata": {},
     "output_type": "display_data"
    },
    {
     "name": "stdout",
     "output_type": "stream",
     "text": [
      "\n",
      "Results for All Features Method:\n",
      "Number of features used: 30\n",
      "Accuracy: 0.6800\n",
      "ROC AUC: 0.8094\n",
      "\n",
      "Classification Report:\n",
      "                precision    recall  f1-score   support\n",
      "\n",
      "BenignPositive       0.62      0.83      0.71        66\n",
      " FalsePositive       0.74      0.51      0.60        67\n",
      "  TruePositive       0.72      0.70      0.71        67\n",
      "\n",
      "      accuracy                           0.68       200\n",
      "     macro avg       0.69      0.68      0.67       200\n",
      "  weighted avg       0.69      0.68      0.67       200\n",
      "\n"
     ]
    },
    {
     "data": {
      "image/png": "[encoded data removed]",
      "text/plain": [
       "<Figure size 1200x600 with 1 Axes>"
      ]
     },
     "metadata": {},
     "output_type": "display_data"
    },
    {
     "name": "stdout",
     "output_type": "stream",
     "text": [
      "\n",
      "Final Comparison:\n",
      "             Method  Accuracy   ROC AUC  Number of Features\n",
      "0  Dropped Features      0.67  0.815560                  24\n",
      "1      All Features      0.68  0.809437                  30\n"
     ]
    },
    {
     "data": {
      "text/plain": [
       "<Figure size 1000x600 with 0 Axes>"
      ]
     },
     "metadata": {},
     "output_type": "display_data"
    },
    {
     "data": {
      "image/png": "[encoded data removed]",
      "text/plain": [
       "<Figure size 640x480 with 1 Axes>"
      ]
     },
     "metadata": {},
     "output_type": "display_data"
    }
   ],
   "source": [
    "# Method 1: Drop features that have nulls\n",
    "def train_with_dropped_features():\n",
    "    print(\"\\n=== Method 1: Training with Dropped Features ===\")\n",
    "    \n",
    "    # Get features without nulls (drop all features that have any nulls)\n",
    "    features_without_nulls = [f for f in features if f not in features_with_nulls]\n",
    "    print(f\"\\nFeatures retained: {len(features_without_nulls)}\")\n",
    "    print(f\"Features dropped: {len(features_with_nulls)}\")\n",
    "    print(\"\\nDropped features:\", features_with_nulls)\n",
    "    \n",
    "    # Prepare data\n",
    "    X = df_clean[features_without_nulls].astype(str)  # Convert all features to strings\n",
    "    y = df_clean['IncidentGrade']\n",
    "    \n",
    "    # Train-test split\n",
    "    X_train, X_test, y_train, y_test = train_test_split(\n",
    "        X, y, test_size=0.2, random_state=42, stratify=y\n",
    "    )\n",
    "    \n",
    "    # Create CatBoost Pool with categorical features\n",
    "    cat_features = list(range(X.shape[1]))\n",
    "    train_pool = Pool(X_train, y_train, cat_features=cat_features)\n",
    "    test_pool = Pool(X_test, y_test, cat_features=cat_features)\n",
    "    \n",
    "    # Train model\n",
    "    model = CatBoostClassifier(\n",
    "        iterations=100,\n",
    "        learning_rate=0.1,\n",
    "        depth=6,\n",
    "        loss_function='MultiClass',\n",
    "        random_seed=42,\n",
    "        verbose=False\n",
    "    )\n",
    "    \n",
    "    model.fit(train_pool)\n",
    "    \n",
    "    return model, test_pool, X, y\n",
    "\n",
    "# Method 2: Keep all features but replace nulls with 'UNKNOWN'\n",
    "def train_with_all_features():\n",
    "    print(\"\\n=== Method 2: Training with All Features (Nulls replaced with 'UNKNOWN') ===\")\n",
    "    \n",
    "    # Prepare data - keep all features but replace nulls and convert to string\n",
    "    X = df_clean[features].fillna('UNKNOWN').astype(str)  # Convert all features to strings\n",
    "    y = df_clean['IncidentGrade']\n",
    "    \n",
    "    print(f\"\\nTotal features used: {len(features)}\")\n",
    "    \n",
    "    # Train-test split\n",
    "    X_train, X_test, y_train, y_test = train_test_split(\n",
    "        X, y, test_size=0.2, random_state=42, stratify=y\n",
    "    )\n",
    "    \n",
    "    # Create CatBoost Pool with categorical features\n",
    "    cat_features = list(range(X.shape[1]))\n",
    "    train_pool = Pool(X_train, y_train, cat_features=cat_features)\n",
    "    test_pool = Pool(X_test, y_test, cat_features=cat_features)\n",
    "    \n",
    "    # Train model\n",
    "    model = CatBoostClassifier(\n",
    "        iterations=100,\n",
    "        learning_rate=0.1,\n",
    "        depth=6,\n",
    "        loss_function='MultiClass',\n",
    "        random_seed=42,\n",
    "        verbose=False\n",
    "    )\n",
    "    \n",
    "    model.fit(train_pool)\n",
    "    \n",
    "    return model, test_pool, X, y\n",
    "\n",
    "# Train both models\n",
    "model1, test_pool1, X1, y1 = train_with_dropped_features()\n",
    "model2, test_pool2, X2, y2 = train_with_all_features()\n",
    "\n",
    "# Evaluate both models\n",
    "def evaluate_model(model, test_pool, X, name):\n",
    "    y_pred = model.predict(test_pool)\n",
    "    y_pred_proba = model.predict_proba(test_pool)\n",
    "    \n",
    "    # Get actual test labels\n",
    "    y_test = test_pool.get_label()\n",
    "    \n",
    "    # Calculate metrics\n",
    "    accuracy = accuracy_score(y_test, y_pred)\n",
    "    roc_auc = roc_auc_score(y_test, y_pred_proba, multi_class='ovr')\n",
    "    \n",
    "    print(f\"\\nResults for {name}:\")\n",
    "    print(f\"Number of features used: {X.shape[1]}\")\n",
    "    print(f\"Accuracy: {accuracy:.4f}\")\n",
    "    print(f\"ROC AUC: {roc_auc:.4f}\")\n",
    "    print(\"\\nClassification Report:\")\n",
    "    print(classification_report(y_test, y_pred))\n",
    "    \n",
    "    # Feature importance\n",
    "    importance_df = pd.DataFrame({\n",
    "        'feature': X.columns,\n",
    "        'importance': model.feature_importances_\n",
    "    }).sort_values('importance', ascending=False)\n",
    "    \n",
    "    # Plot feature importance\n",
    "    plt.figure(figsize=(12, 6))\n",
    "    sns.barplot(data=importance_df.head(20), x='importance', y='feature')\n",
    "    plt.title(f'Top 20 Feature Importance - {name}')\n",
    "    plt.tight_layout()\n",
    "    plt.show()\n",
    "    \n",
    "    return accuracy, roc_auc, importance_df\n",
    "\n",
    "# Evaluate both approaches\n",
    "acc1, roc1, imp1 = evaluate_model(model1, test_pool1, X1, \"Dropped Features Method\")\n",
    "acc2, roc2, imp2 = evaluate_model(model2, test_pool2, X2, \"All Features Method\")\n",
    "\n",
    "# Compare results\n",
    "comparison_df = pd.DataFrame({\n",
    "    'Method': ['Dropped Features', 'All Features'],\n",
    "    'Accuracy': [acc1, acc2],\n",
    "    'ROC AUC': [roc1, roc2],\n",
    "    'Number of Features': [X1.shape[1], X2.shape[1]]\n",
    "})\n",
    "\n",
    "print(\"\\nFinal Comparison:\")\n",
    "print(comparison_df)\n",
    "\n",
    "# Plot comparison\n",
    "plt.figure(figsize=(10, 6))\n",
    "comparison_df.set_index('Method')[['Accuracy', 'ROC AUC']].plot(kind='bar')\n",
    "plt.title('Model Performance Comparison')\n",
    "plt.ylabel('Score')\n",
    "plt.xticks(rotation=45)\n",
    "plt.tight_layout()\n",
    "plt.show()"
   ]
  }
 ],
 "metadata": {
  "kernelspec": {
   "display_name": "nlp",
   "language": "python",
   "name": "python3"
  },
  "language_info": {
   "codemirror_mode": {
    "name": "ipython",
    "version": 3
   },
   "file_extension": ".py",
   "mimetype": "text/x-python",
   "name": "python",
   "nbconvert_exporter": "python",
   "pygments_lexer": "ipython3",
   "version": "3.9.18"
  }
 },
 "nbformat": 4,
 "nbformat_minor": 2
}
