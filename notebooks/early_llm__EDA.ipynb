{
 "cells": [
  {
   "cell_type": "markdown",
   "metadata": {},
   "source": [
    "# Setting up to display all columns and 100 rows"
   ]
  },
  {
   "cell_type": "code",
   "execution_count": 1,
   "metadata": {},
   "outputs": [],
   "source": [
    "import pandas as pd\n",
    "\n",
    "# Set display options\n",
    "pd.set_option('display.max_columns', 50)\n",
    "pd.set_option('display.max_rows', 100)"
   ]
  },
  {
   "cell_type": "markdown",
   "metadata": {},
   "source": [
    "# Reading the data"
   ]
  },
  {
   "cell_type": "code",
   "execution_count": 1,
   "metadata": {},
   "outputs": [],
   "source": [
    "import pandas as pd\n",
    "\n",
    "# Read the CSV file\n",
    "df = pd.read_csv('/Users/lukishyadav/Desktop/Engineering/case_study/ai_strike/data/GUIDE_Train.csv')\n"
   ]
  },
  {
   "cell_type": "markdown",
   "metadata": {},
   "source": [
    "# Looking at the head chunk"
   ]
  },
  {
   "cell_type": "code",
   "execution_count": 3,
   "metadata": {},
   "outputs": [
    {
     "data": {
      "text/html": [
       "<div>\n",
       "<style scoped>\n",
       "    .dataframe tbody tr th:only-of-type {\n",
       "        vertical-align: middle;\n",
       "    }\n",
       "\n",
       "    .dataframe tbody tr th {\n",
       "        vertical-align: top;\n",
       "    }\n",
       "\n",
       "    .dataframe thead th {\n",
       "        text-align: right;\n",
       "    }\n",
       "</style>\n",
       "<table border=\"1\" class=\"dataframe\">\n",
       "  <thead>\n",
       "    <tr style=\"text-align: right;\">\n",
       "      <th></th>\n",
       "      <th>Id</th>\n",
       "      <th>OrgId</th>\n",
       "      <th>IncidentId</th>\n",
       "      <th>AlertId</th>\n",
       "      <th>Timestamp</th>\n",
       "      <th>DetectorId</th>\n",
       "      <th>AlertTitle</th>\n",
       "      <th>Category</th>\n",
       "      <th>MitreTechniques</th>\n",
       "      <th>IncidentGrade</th>\n",
       "      <th>ActionGrouped</th>\n",
       "      <th>ActionGranular</th>\n",
       "      <th>EntityType</th>\n",
       "      <th>EvidenceRole</th>\n",
       "      <th>DeviceId</th>\n",
       "      <th>Sha256</th>\n",
       "      <th>IpAddress</th>\n",
       "      <th>Url</th>\n",
       "      <th>AccountSid</th>\n",
       "      <th>AccountUpn</th>\n",
       "      <th>AccountObjectId</th>\n",
       "      <th>AccountName</th>\n",
       "      <th>DeviceName</th>\n",
       "      <th>NetworkMessageId</th>\n",
       "      <th>EmailClusterId</th>\n",
       "      <th>RegistryKey</th>\n",
       "      <th>RegistryValueName</th>\n",
       "      <th>RegistryValueData</th>\n",
       "      <th>ApplicationId</th>\n",
       "      <th>ApplicationName</th>\n",
       "      <th>OAuthApplicationId</th>\n",
       "      <th>ThreatFamily</th>\n",
       "      <th>FileName</th>\n",
       "      <th>FolderPath</th>\n",
       "      <th>ResourceIdName</th>\n",
       "      <th>ResourceType</th>\n",
       "      <th>Roles</th>\n",
       "      <th>OSFamily</th>\n",
       "      <th>OSVersion</th>\n",
       "      <th>AntispamDirection</th>\n",
       "      <th>SuspicionLevel</th>\n",
       "      <th>LastVerdict</th>\n",
       "      <th>CountryCode</th>\n",
       "      <th>State</th>\n",
       "      <th>City</th>\n",
       "    </tr>\n",
       "  </thead>\n",
       "  <tbody>\n",
       "    <tr>\n",
       "      <th>0</th>\n",
       "      <td>180388628218</td>\n",
       "      <td>0</td>\n",
       "      <td>612</td>\n",
       "      <td>123247</td>\n",
       "      <td>2024-06-04T06:05:15.000Z</td>\n",
       "      <td>7</td>\n",
       "      <td>6</td>\n",
       "      <td>InitialAccess</td>\n",
       "      <td>NaN</td>\n",
       "      <td>TruePositive</td>\n",
       "      <td>NaN</td>\n",
       "      <td>NaN</td>\n",
       "      <td>Ip</td>\n",
       "      <td>Related</td>\n",
       "      <td>98799</td>\n",
       "      <td>138268</td>\n",
       "      <td>27</td>\n",
       "      <td>160396</td>\n",
       "      <td>441377</td>\n",
       "      <td>673934</td>\n",
       "      <td>425863</td>\n",
       "      <td>453297</td>\n",
       "      <td>153085</td>\n",
       "      <td>529644</td>\n",
       "      <td>NaN</td>\n",
       "      <td>1631</td>\n",
       "      <td>635</td>\n",
       "      <td>860</td>\n",
       "      <td>2251</td>\n",
       "      <td>3421</td>\n",
       "      <td>881</td>\n",
       "      <td>NaN</td>\n",
       "      <td>289573</td>\n",
       "      <td>117668</td>\n",
       "      <td>3586</td>\n",
       "      <td>NaN</td>\n",
       "      <td>NaN</td>\n",
       "      <td>5</td>\n",
       "      <td>66</td>\n",
       "      <td>NaN</td>\n",
       "      <td>NaN</td>\n",
       "      <td>NaN</td>\n",
       "      <td>31</td>\n",
       "      <td>6</td>\n",
       "      <td>3</td>\n",
       "    </tr>\n",
       "    <tr>\n",
       "      <th>1</th>\n",
       "      <td>455266534868</td>\n",
       "      <td>88</td>\n",
       "      <td>326</td>\n",
       "      <td>210035</td>\n",
       "      <td>2024-06-14T03:01:25.000Z</td>\n",
       "      <td>58</td>\n",
       "      <td>43</td>\n",
       "      <td>Exfiltration</td>\n",
       "      <td>NaN</td>\n",
       "      <td>FalsePositive</td>\n",
       "      <td>NaN</td>\n",
       "      <td>NaN</td>\n",
       "      <td>User</td>\n",
       "      <td>Impacted</td>\n",
       "      <td>98799</td>\n",
       "      <td>138268</td>\n",
       "      <td>360606</td>\n",
       "      <td>160396</td>\n",
       "      <td>22406</td>\n",
       "      <td>23032</td>\n",
       "      <td>22795</td>\n",
       "      <td>24887</td>\n",
       "      <td>153085</td>\n",
       "      <td>529644</td>\n",
       "      <td>NaN</td>\n",
       "      <td>1631</td>\n",
       "      <td>635</td>\n",
       "      <td>860</td>\n",
       "      <td>2251</td>\n",
       "      <td>3421</td>\n",
       "      <td>881</td>\n",
       "      <td>NaN</td>\n",
       "      <td>289573</td>\n",
       "      <td>117668</td>\n",
       "      <td>3586</td>\n",
       "      <td>NaN</td>\n",
       "      <td>NaN</td>\n",
       "      <td>5</td>\n",
       "      <td>66</td>\n",
       "      <td>NaN</td>\n",
       "      <td>NaN</td>\n",
       "      <td>NaN</td>\n",
       "      <td>242</td>\n",
       "      <td>1445</td>\n",
       "      <td>10630</td>\n",
       "    </tr>\n",
       "    <tr>\n",
       "      <th>2</th>\n",
       "      <td>1056561957389</td>\n",
       "      <td>809</td>\n",
       "      <td>58352</td>\n",
       "      <td>712507</td>\n",
       "      <td>2024-06-13T04:52:55.000Z</td>\n",
       "      <td>423</td>\n",
       "      <td>298</td>\n",
       "      <td>InitialAccess</td>\n",
       "      <td>T1189</td>\n",
       "      <td>FalsePositive</td>\n",
       "      <td>NaN</td>\n",
       "      <td>NaN</td>\n",
       "      <td>Url</td>\n",
       "      <td>Related</td>\n",
       "      <td>98799</td>\n",
       "      <td>138268</td>\n",
       "      <td>360606</td>\n",
       "      <td>68652</td>\n",
       "      <td>441377</td>\n",
       "      <td>673934</td>\n",
       "      <td>425863</td>\n",
       "      <td>453297</td>\n",
       "      <td>153085</td>\n",
       "      <td>529644</td>\n",
       "      <td>NaN</td>\n",
       "      <td>1631</td>\n",
       "      <td>635</td>\n",
       "      <td>860</td>\n",
       "      <td>2251</td>\n",
       "      <td>3421</td>\n",
       "      <td>881</td>\n",
       "      <td>NaN</td>\n",
       "      <td>289573</td>\n",
       "      <td>117668</td>\n",
       "      <td>3586</td>\n",
       "      <td>NaN</td>\n",
       "      <td>NaN</td>\n",
       "      <td>5</td>\n",
       "      <td>66</td>\n",
       "      <td>NaN</td>\n",
       "      <td>Suspicious</td>\n",
       "      <td>Suspicious</td>\n",
       "      <td>242</td>\n",
       "      <td>1445</td>\n",
       "      <td>10630</td>\n",
       "    </tr>\n",
       "    <tr>\n",
       "      <th>3</th>\n",
       "      <td>1279900258736</td>\n",
       "      <td>92</td>\n",
       "      <td>32992</td>\n",
       "      <td>774301</td>\n",
       "      <td>2024-06-10T16:39:36.000Z</td>\n",
       "      <td>2</td>\n",
       "      <td>2</td>\n",
       "      <td>CommandAndControl</td>\n",
       "      <td>NaN</td>\n",
       "      <td>BenignPositive</td>\n",
       "      <td>NaN</td>\n",
       "      <td>NaN</td>\n",
       "      <td>Url</td>\n",
       "      <td>Related</td>\n",
       "      <td>98799</td>\n",
       "      <td>138268</td>\n",
       "      <td>360606</td>\n",
       "      <td>13</td>\n",
       "      <td>441377</td>\n",
       "      <td>673934</td>\n",
       "      <td>425863</td>\n",
       "      <td>453297</td>\n",
       "      <td>153085</td>\n",
       "      <td>529644</td>\n",
       "      <td>NaN</td>\n",
       "      <td>1631</td>\n",
       "      <td>635</td>\n",
       "      <td>860</td>\n",
       "      <td>2251</td>\n",
       "      <td>3421</td>\n",
       "      <td>881</td>\n",
       "      <td>NaN</td>\n",
       "      <td>289573</td>\n",
       "      <td>117668</td>\n",
       "      <td>3586</td>\n",
       "      <td>NaN</td>\n",
       "      <td>NaN</td>\n",
       "      <td>5</td>\n",
       "      <td>66</td>\n",
       "      <td>NaN</td>\n",
       "      <td>Suspicious</td>\n",
       "      <td>Suspicious</td>\n",
       "      <td>242</td>\n",
       "      <td>1445</td>\n",
       "      <td>10630</td>\n",
       "    </tr>\n",
       "    <tr>\n",
       "      <th>4</th>\n",
       "      <td>214748368522</td>\n",
       "      <td>148</td>\n",
       "      <td>4359</td>\n",
       "      <td>188041</td>\n",
       "      <td>2024-06-15T01:08:07.000Z</td>\n",
       "      <td>9</td>\n",
       "      <td>74</td>\n",
       "      <td>Execution</td>\n",
       "      <td>NaN</td>\n",
       "      <td>TruePositive</td>\n",
       "      <td>NaN</td>\n",
       "      <td>NaN</td>\n",
       "      <td>User</td>\n",
       "      <td>Impacted</td>\n",
       "      <td>98799</td>\n",
       "      <td>138268</td>\n",
       "      <td>360606</td>\n",
       "      <td>160396</td>\n",
       "      <td>449</td>\n",
       "      <td>592</td>\n",
       "      <td>440</td>\n",
       "      <td>479</td>\n",
       "      <td>153085</td>\n",
       "      <td>529644</td>\n",
       "      <td>NaN</td>\n",
       "      <td>1631</td>\n",
       "      <td>635</td>\n",
       "      <td>860</td>\n",
       "      <td>2251</td>\n",
       "      <td>3421</td>\n",
       "      <td>881</td>\n",
       "      <td>NaN</td>\n",
       "      <td>289573</td>\n",
       "      <td>117668</td>\n",
       "      <td>3586</td>\n",
       "      <td>NaN</td>\n",
       "      <td>NaN</td>\n",
       "      <td>5</td>\n",
       "      <td>66</td>\n",
       "      <td>NaN</td>\n",
       "      <td>NaN</td>\n",
       "      <td>NaN</td>\n",
       "      <td>242</td>\n",
       "      <td>1445</td>\n",
       "      <td>10630</td>\n",
       "    </tr>\n",
       "  </tbody>\n",
       "</table>\n",
       "</div>"
      ],
      "text/plain": [
       "              Id  OrgId  IncidentId  AlertId                 Timestamp  \\\n",
       "0   180388628218      0         612   123247  2024-06-04T06:05:15.000Z   \n",
       "1   455266534868     88         326   210035  2024-06-14T03:01:25.000Z   \n",
       "2  1056561957389    809       58352   712507  2024-06-13T04:52:55.000Z   \n",
       "3  1279900258736     92       32992   774301  2024-06-10T16:39:36.000Z   \n",
       "4   214748368522    148        4359   188041  2024-06-15T01:08:07.000Z   \n",
       "\n",
       "   DetectorId  AlertTitle           Category MitreTechniques   IncidentGrade  \\\n",
       "0           7           6      InitialAccess             NaN    TruePositive   \n",
       "1          58          43       Exfiltration             NaN   FalsePositive   \n",
       "2         423         298      InitialAccess           T1189   FalsePositive   \n",
       "3           2           2  CommandAndControl             NaN  BenignPositive   \n",
       "4           9          74          Execution             NaN    TruePositive   \n",
       "\n",
       "  ActionGrouped ActionGranular EntityType EvidenceRole  DeviceId  Sha256  \\\n",
       "0           NaN            NaN         Ip      Related     98799  138268   \n",
       "1           NaN            NaN       User     Impacted     98799  138268   \n",
       "2           NaN            NaN        Url      Related     98799  138268   \n",
       "3           NaN            NaN        Url      Related     98799  138268   \n",
       "4           NaN            NaN       User     Impacted     98799  138268   \n",
       "\n",
       "   IpAddress     Url  AccountSid  AccountUpn  AccountObjectId  AccountName  \\\n",
       "0         27  160396      441377      673934           425863       453297   \n",
       "1     360606  160396       22406       23032            22795        24887   \n",
       "2     360606   68652      441377      673934           425863       453297   \n",
       "3     360606      13      441377      673934           425863       453297   \n",
       "4     360606  160396         449         592              440          479   \n",
       "\n",
       "   DeviceName  NetworkMessageId  EmailClusterId  RegistryKey  \\\n",
       "0      153085            529644             NaN         1631   \n",
       "1      153085            529644             NaN         1631   \n",
       "2      153085            529644             NaN         1631   \n",
       "3      153085            529644             NaN         1631   \n",
       "4      153085            529644             NaN         1631   \n",
       "\n",
       "   RegistryValueName  RegistryValueData  ApplicationId  ApplicationName  \\\n",
       "0                635                860           2251             3421   \n",
       "1                635                860           2251             3421   \n",
       "2                635                860           2251             3421   \n",
       "3                635                860           2251             3421   \n",
       "4                635                860           2251             3421   \n",
       "\n",
       "   OAuthApplicationId ThreatFamily  FileName  FolderPath  ResourceIdName  \\\n",
       "0                 881          NaN    289573      117668            3586   \n",
       "1                 881          NaN    289573      117668            3586   \n",
       "2                 881          NaN    289573      117668            3586   \n",
       "3                 881          NaN    289573      117668            3586   \n",
       "4                 881          NaN    289573      117668            3586   \n",
       "\n",
       "  ResourceType Roles  OSFamily  OSVersion AntispamDirection SuspicionLevel  \\\n",
       "0          NaN   NaN         5         66               NaN            NaN   \n",
       "1          NaN   NaN         5         66               NaN            NaN   \n",
       "2          NaN   NaN         5         66               NaN     Suspicious   \n",
       "3          NaN   NaN         5         66               NaN     Suspicious   \n",
       "4          NaN   NaN         5         66               NaN            NaN   \n",
       "\n",
       "  LastVerdict  CountryCode  State   City  \n",
       "0         NaN           31      6      3  \n",
       "1         NaN          242   1445  10630  \n",
       "2  Suspicious          242   1445  10630  \n",
       "3  Suspicious          242   1445  10630  \n",
       "4         NaN          242   1445  10630  "
      ]
     },
     "execution_count": 3,
     "metadata": {},
     "output_type": "execute_result"
    }
   ],
   "source": [
    "df.head()"
   ]
  },
  {
   "cell_type": "code",
   "execution_count": 4,
   "metadata": {},
   "outputs": [
    {
     "data": {
      "text/html": [
       "<div>\n",
       "<style scoped>\n",
       "    .dataframe tbody tr th:only-of-type {\n",
       "        vertical-align: middle;\n",
       "    }\n",
       "\n",
       "    .dataframe tbody tr th {\n",
       "        vertical-align: top;\n",
       "    }\n",
       "\n",
       "    .dataframe thead th {\n",
       "        text-align: right;\n",
       "    }\n",
       "</style>\n",
       "<table border=\"1\" class=\"dataframe\">\n",
       "  <thead>\n",
       "    <tr style=\"text-align: right;\">\n",
       "      <th></th>\n",
       "      <th>Id</th>\n",
       "      <th>OrgId</th>\n",
       "      <th>IncidentId</th>\n",
       "      <th>AlertId</th>\n",
       "      <th>DetectorId</th>\n",
       "      <th>AlertTitle</th>\n",
       "      <th>DeviceId</th>\n",
       "      <th>Sha256</th>\n",
       "      <th>IpAddress</th>\n",
       "      <th>Url</th>\n",
       "      <th>AccountSid</th>\n",
       "      <th>AccountUpn</th>\n",
       "      <th>AccountObjectId</th>\n",
       "      <th>AccountName</th>\n",
       "      <th>DeviceName</th>\n",
       "      <th>NetworkMessageId</th>\n",
       "      <th>EmailClusterId</th>\n",
       "      <th>RegistryKey</th>\n",
       "      <th>RegistryValueName</th>\n",
       "      <th>RegistryValueData</th>\n",
       "      <th>ApplicationId</th>\n",
       "      <th>ApplicationName</th>\n",
       "      <th>OAuthApplicationId</th>\n",
       "      <th>FileName</th>\n",
       "      <th>FolderPath</th>\n",
       "      <th>ResourceIdName</th>\n",
       "      <th>OSFamily</th>\n",
       "      <th>OSVersion</th>\n",
       "      <th>CountryCode</th>\n",
       "      <th>State</th>\n",
       "      <th>City</th>\n",
       "    </tr>\n",
       "  </thead>\n",
       "  <tbody>\n",
       "    <tr>\n",
       "      <th>count</th>\n",
       "      <td>9.516837e+06</td>\n",
       "      <td>9.516837e+06</td>\n",
       "      <td>9.516837e+06</td>\n",
       "      <td>9.516837e+06</td>\n",
       "      <td>9.516837e+06</td>\n",
       "      <td>9.516837e+06</td>\n",
       "      <td>9.516837e+06</td>\n",
       "      <td>9.516837e+06</td>\n",
       "      <td>9.516837e+06</td>\n",
       "      <td>9.516837e+06</td>\n",
       "      <td>9.516837e+06</td>\n",
       "      <td>9.516837e+06</td>\n",
       "      <td>9.516837e+06</td>\n",
       "      <td>9.516837e+06</td>\n",
       "      <td>9.516837e+06</td>\n",
       "      <td>9.516837e+06</td>\n",
       "      <td>9.681200e+04</td>\n",
       "      <td>9.516837e+06</td>\n",
       "      <td>9.516837e+06</td>\n",
       "      <td>9.516837e+06</td>\n",
       "      <td>9.516837e+06</td>\n",
       "      <td>9.516837e+06</td>\n",
       "      <td>9.516837e+06</td>\n",
       "      <td>9.516837e+06</td>\n",
       "      <td>9.516837e+06</td>\n",
       "      <td>9.516837e+06</td>\n",
       "      <td>9.516837e+06</td>\n",
       "      <td>9.516837e+06</td>\n",
       "      <td>9.516837e+06</td>\n",
       "      <td>9.516837e+06</td>\n",
       "      <td>9.516837e+06</td>\n",
       "    </tr>\n",
       "    <tr>\n",
       "      <th>mean</th>\n",
       "      <td>8.425494e+11</td>\n",
       "      <td>1.815800e+02</td>\n",
       "      <td>7.066349e+04</td>\n",
       "      <td>4.065188e+05</td>\n",
       "      <td>1.106724e+02</td>\n",
       "      <td>2.947315e+03</td>\n",
       "      <td>9.566476e+04</td>\n",
       "      <td>1.287191e+05</td>\n",
       "      <td>2.857506e+05</td>\n",
       "      <td>1.503317e+05</td>\n",
       "      <td>3.524466e+05</td>\n",
       "      <td>4.643773e+05</td>\n",
       "      <td>3.409622e+05</td>\n",
       "      <td>3.569664e+05</td>\n",
       "      <td>1.432298e+05</td>\n",
       "      <td>4.800467e+05</td>\n",
       "      <td>3.242503e+09</td>\n",
       "      <td>1.628170e+03</td>\n",
       "      <td>6.347345e+02</td>\n",
       "      <td>8.595601e+02</td>\n",
       "      <td>2.200910e+03</td>\n",
       "      <td>3.342790e+03</td>\n",
       "      <td>8.807955e+02</td>\n",
       "      <td>2.622621e+05</td>\n",
       "      <td>1.076172e+05</td>\n",
       "      <td>3.583477e+03</td>\n",
       "      <td>4.898537e+00</td>\n",
       "      <td>6.465558e+01</td>\n",
       "      <td>2.236742e+02</td>\n",
       "      <td>1.351488e+03</td>\n",
       "      <td>9.936183e+03</td>\n",
       "    </tr>\n",
       "    <tr>\n",
       "      <th>std</th>\n",
       "      <td>4.962499e+11</td>\n",
       "      <td>3.867784e+02</td>\n",
       "      <td>1.208369e+05</td>\n",
       "      <td>4.592827e+05</td>\n",
       "      <td>4.351038e+02</td>\n",
       "      <td>1.146150e+04</td>\n",
       "      <td>1.635288e+04</td>\n",
       "      <td>3.399208e+04</td>\n",
       "      <td>1.412240e+05</td>\n",
       "      <td>3.750795e+04</td>\n",
       "      <td>1.664965e+05</td>\n",
       "      <td>2.902275e+05</td>\n",
       "      <td>1.599377e+05</td>\n",
       "      <td>1.744466e+05</td>\n",
       "      <td>3.607056e+04</td>\n",
       "      <td>1.417584e+05</td>\n",
       "      <td>1.034468e+09</td>\n",
       "      <td>6.675012e+01</td>\n",
       "      <td>1.258111e+01</td>\n",
       "      <td>1.886303e+01</td>\n",
       "      <td>3.315528e+02</td>\n",
       "      <td>5.103381e+02</td>\n",
       "      <td>1.291083e+01</td>\n",
       "      <td>8.152956e+04</td>\n",
       "      <td>3.220835e+04</td>\n",
       "      <td>9.020262e+01</td>\n",
       "      <td>7.035099e-01</td>\n",
       "      <td>9.314929e+00</td>\n",
       "      <td>6.279729e+01</td>\n",
       "      <td>3.509808e+02</td>\n",
       "      <td>2.606812e+03</td>\n",
       "    </tr>\n",
       "    <tr>\n",
       "      <th>min</th>\n",
       "      <td>0.000000e+00</td>\n",
       "      <td>0.000000e+00</td>\n",
       "      <td>0.000000e+00</td>\n",
       "      <td>0.000000e+00</td>\n",
       "      <td>0.000000e+00</td>\n",
       "      <td>0.000000e+00</td>\n",
       "      <td>0.000000e+00</td>\n",
       "      <td>0.000000e+00</td>\n",
       "      <td>0.000000e+00</td>\n",
       "      <td>0.000000e+00</td>\n",
       "      <td>0.000000e+00</td>\n",
       "      <td>0.000000e+00</td>\n",
       "      <td>0.000000e+00</td>\n",
       "      <td>0.000000e+00</td>\n",
       "      <td>0.000000e+00</td>\n",
       "      <td>0.000000e+00</td>\n",
       "      <td>1.927080e+05</td>\n",
       "      <td>0.000000e+00</td>\n",
       "      <td>0.000000e+00</td>\n",
       "      <td>0.000000e+00</td>\n",
       "      <td>0.000000e+00</td>\n",
       "      <td>0.000000e+00</td>\n",
       "      <td>0.000000e+00</td>\n",
       "      <td>0.000000e+00</td>\n",
       "      <td>0.000000e+00</td>\n",
       "      <td>0.000000e+00</td>\n",
       "      <td>0.000000e+00</td>\n",
       "      <td>0.000000e+00</td>\n",
       "      <td>0.000000e+00</td>\n",
       "      <td>0.000000e+00</td>\n",
       "      <td>0.000000e+00</td>\n",
       "    </tr>\n",
       "    <tr>\n",
       "      <th>25%</th>\n",
       "      <td>4.123169e+11</td>\n",
       "      <td>1.000000e+01</td>\n",
       "      <td>5.040000e+02</td>\n",
       "      <td>2.324200e+04</td>\n",
       "      <td>2.000000e+00</td>\n",
       "      <td>2.000000e+00</td>\n",
       "      <td>9.879900e+04</td>\n",
       "      <td>1.382680e+05</td>\n",
       "      <td>3.606060e+05</td>\n",
       "      <td>1.603960e+05</td>\n",
       "      <td>4.413770e+05</td>\n",
       "      <td>9.258300e+04</td>\n",
       "      <td>4.258630e+05</td>\n",
       "      <td>4.532970e+05</td>\n",
       "      <td>1.530850e+05</td>\n",
       "      <td>5.296440e+05</td>\n",
       "      <td>2.762798e+09</td>\n",
       "      <td>1.631000e+03</td>\n",
       "      <td>6.350000e+02</td>\n",
       "      <td>8.600000e+02</td>\n",
       "      <td>2.251000e+03</td>\n",
       "      <td>3.421000e+03</td>\n",
       "      <td>8.810000e+02</td>\n",
       "      <td>2.895730e+05</td>\n",
       "      <td>1.176680e+05</td>\n",
       "      <td>3.586000e+03</td>\n",
       "      <td>5.000000e+00</td>\n",
       "      <td>6.600000e+01</td>\n",
       "      <td>2.420000e+02</td>\n",
       "      <td>1.445000e+03</td>\n",
       "      <td>1.063000e+04</td>\n",
       "    </tr>\n",
       "    <tr>\n",
       "      <th>50%</th>\n",
       "      <td>8.418136e+11</td>\n",
       "      <td>4.500000e+01</td>\n",
       "      <td>1.033600e+04</td>\n",
       "      <td>2.166520e+05</td>\n",
       "      <td>9.000000e+00</td>\n",
       "      <td>1.100000e+01</td>\n",
       "      <td>9.879900e+04</td>\n",
       "      <td>1.382680e+05</td>\n",
       "      <td>3.606060e+05</td>\n",
       "      <td>1.603960e+05</td>\n",
       "      <td>4.413770e+05</td>\n",
       "      <td>6.739340e+05</td>\n",
       "      <td>4.258630e+05</td>\n",
       "      <td>4.532970e+05</td>\n",
       "      <td>1.530850e+05</td>\n",
       "      <td>5.296440e+05</td>\n",
       "      <td>3.504264e+09</td>\n",
       "      <td>1.631000e+03</td>\n",
       "      <td>6.350000e+02</td>\n",
       "      <td>8.600000e+02</td>\n",
       "      <td>2.251000e+03</td>\n",
       "      <td>3.421000e+03</td>\n",
       "      <td>8.810000e+02</td>\n",
       "      <td>2.895730e+05</td>\n",
       "      <td>1.176680e+05</td>\n",
       "      <td>3.586000e+03</td>\n",
       "      <td>5.000000e+00</td>\n",
       "      <td>6.600000e+01</td>\n",
       "      <td>2.420000e+02</td>\n",
       "      <td>1.445000e+03</td>\n",
       "      <td>1.063000e+04</td>\n",
       "    </tr>\n",
       "    <tr>\n",
       "      <th>75%</th>\n",
       "      <td>1.271310e+12</td>\n",
       "      <td>1.710000e+02</td>\n",
       "      <td>8.432900e+04</td>\n",
       "      <td>6.715770e+05</td>\n",
       "      <td>4.500000e+01</td>\n",
       "      <td>1.800000e+02</td>\n",
       "      <td>9.879900e+04</td>\n",
       "      <td>1.382680e+05</td>\n",
       "      <td>3.606060e+05</td>\n",
       "      <td>1.603960e+05</td>\n",
       "      <td>4.413770e+05</td>\n",
       "      <td>6.739340e+05</td>\n",
       "      <td>4.258630e+05</td>\n",
       "      <td>4.532970e+05</td>\n",
       "      <td>1.530850e+05</td>\n",
       "      <td>5.296440e+05</td>\n",
       "      <td>4.107006e+09</td>\n",
       "      <td>1.631000e+03</td>\n",
       "      <td>6.350000e+02</td>\n",
       "      <td>8.600000e+02</td>\n",
       "      <td>2.251000e+03</td>\n",
       "      <td>3.421000e+03</td>\n",
       "      <td>8.810000e+02</td>\n",
       "      <td>2.895730e+05</td>\n",
       "      <td>1.176680e+05</td>\n",
       "      <td>3.586000e+03</td>\n",
       "      <td>5.000000e+00</td>\n",
       "      <td>6.600000e+01</td>\n",
       "      <td>2.420000e+02</td>\n",
       "      <td>1.445000e+03</td>\n",
       "      <td>1.063000e+04</td>\n",
       "    </tr>\n",
       "    <tr>\n",
       "      <th>max</th>\n",
       "      <td>1.709397e+12</td>\n",
       "      <td>6.147000e+03</td>\n",
       "      <td>5.997060e+05</td>\n",
       "      <td>1.721456e+06</td>\n",
       "      <td>9.522000e+03</td>\n",
       "      <td>1.131740e+05</td>\n",
       "      <td>9.879900e+04</td>\n",
       "      <td>1.382680e+05</td>\n",
       "      <td>3.606060e+05</td>\n",
       "      <td>1.603960e+05</td>\n",
       "      <td>4.413770e+05</td>\n",
       "      <td>6.739340e+05</td>\n",
       "      <td>4.258630e+05</td>\n",
       "      <td>4.532970e+05</td>\n",
       "      <td>1.530850e+05</td>\n",
       "      <td>5.296440e+05</td>\n",
       "      <td>4.294967e+09</td>\n",
       "      <td>1.631000e+03</td>\n",
       "      <td>6.350000e+02</td>\n",
       "      <td>8.600000e+02</td>\n",
       "      <td>2.251000e+03</td>\n",
       "      <td>3.421000e+03</td>\n",
       "      <td>8.810000e+02</td>\n",
       "      <td>2.895730e+05</td>\n",
       "      <td>1.176680e+05</td>\n",
       "      <td>3.586000e+03</td>\n",
       "      <td>5.000000e+00</td>\n",
       "      <td>6.600000e+01</td>\n",
       "      <td>2.420000e+02</td>\n",
       "      <td>1.445000e+03</td>\n",
       "      <td>1.063000e+04</td>\n",
       "    </tr>\n",
       "  </tbody>\n",
       "</table>\n",
       "</div>"
      ],
      "text/plain": [
       "                 Id         OrgId    IncidentId       AlertId    DetectorId  \\\n",
       "count  9.516837e+06  9.516837e+06  9.516837e+06  9.516837e+06  9.516837e+06   \n",
       "mean   8.425494e+11  1.815800e+02  7.066349e+04  4.065188e+05  1.106724e+02   \n",
       "std    4.962499e+11  3.867784e+02  1.208369e+05  4.592827e+05  4.351038e+02   \n",
       "min    0.000000e+00  0.000000e+00  0.000000e+00  0.000000e+00  0.000000e+00   \n",
       "25%    4.123169e+11  1.000000e+01  5.040000e+02  2.324200e+04  2.000000e+00   \n",
       "50%    8.418136e+11  4.500000e+01  1.033600e+04  2.166520e+05  9.000000e+00   \n",
       "75%    1.271310e+12  1.710000e+02  8.432900e+04  6.715770e+05  4.500000e+01   \n",
       "max    1.709397e+12  6.147000e+03  5.997060e+05  1.721456e+06  9.522000e+03   \n",
       "\n",
       "         AlertTitle      DeviceId        Sha256     IpAddress           Url  \\\n",
       "count  9.516837e+06  9.516837e+06  9.516837e+06  9.516837e+06  9.516837e+06   \n",
       "mean   2.947315e+03  9.566476e+04  1.287191e+05  2.857506e+05  1.503317e+05   \n",
       "std    1.146150e+04  1.635288e+04  3.399208e+04  1.412240e+05  3.750795e+04   \n",
       "min    0.000000e+00  0.000000e+00  0.000000e+00  0.000000e+00  0.000000e+00   \n",
       "25%    2.000000e+00  9.879900e+04  1.382680e+05  3.606060e+05  1.603960e+05   \n",
       "50%    1.100000e+01  9.879900e+04  1.382680e+05  3.606060e+05  1.603960e+05   \n",
       "75%    1.800000e+02  9.879900e+04  1.382680e+05  3.606060e+05  1.603960e+05   \n",
       "max    1.131740e+05  9.879900e+04  1.382680e+05  3.606060e+05  1.603960e+05   \n",
       "\n",
       "         AccountSid    AccountUpn  AccountObjectId   AccountName  \\\n",
       "count  9.516837e+06  9.516837e+06     9.516837e+06  9.516837e+06   \n",
       "mean   3.524466e+05  4.643773e+05     3.409622e+05  3.569664e+05   \n",
       "std    1.664965e+05  2.902275e+05     1.599377e+05  1.744466e+05   \n",
       "min    0.000000e+00  0.000000e+00     0.000000e+00  0.000000e+00   \n",
       "25%    4.413770e+05  9.258300e+04     4.258630e+05  4.532970e+05   \n",
       "50%    4.413770e+05  6.739340e+05     4.258630e+05  4.532970e+05   \n",
       "75%    4.413770e+05  6.739340e+05     4.258630e+05  4.532970e+05   \n",
       "max    4.413770e+05  6.739340e+05     4.258630e+05  4.532970e+05   \n",
       "\n",
       "         DeviceName  NetworkMessageId  EmailClusterId   RegistryKey  \\\n",
       "count  9.516837e+06      9.516837e+06    9.681200e+04  9.516837e+06   \n",
       "mean   1.432298e+05      4.800467e+05    3.242503e+09  1.628170e+03   \n",
       "std    3.607056e+04      1.417584e+05    1.034468e+09  6.675012e+01   \n",
       "min    0.000000e+00      0.000000e+00    1.927080e+05  0.000000e+00   \n",
       "25%    1.530850e+05      5.296440e+05    2.762798e+09  1.631000e+03   \n",
       "50%    1.530850e+05      5.296440e+05    3.504264e+09  1.631000e+03   \n",
       "75%    1.530850e+05      5.296440e+05    4.107006e+09  1.631000e+03   \n",
       "max    1.530850e+05      5.296440e+05    4.294967e+09  1.631000e+03   \n",
       "\n",
       "       RegistryValueName  RegistryValueData  ApplicationId  ApplicationName  \\\n",
       "count       9.516837e+06       9.516837e+06   9.516837e+06     9.516837e+06   \n",
       "mean        6.347345e+02       8.595601e+02   2.200910e+03     3.342790e+03   \n",
       "std         1.258111e+01       1.886303e+01   3.315528e+02     5.103381e+02   \n",
       "min         0.000000e+00       0.000000e+00   0.000000e+00     0.000000e+00   \n",
       "25%         6.350000e+02       8.600000e+02   2.251000e+03     3.421000e+03   \n",
       "50%         6.350000e+02       8.600000e+02   2.251000e+03     3.421000e+03   \n",
       "75%         6.350000e+02       8.600000e+02   2.251000e+03     3.421000e+03   \n",
       "max         6.350000e+02       8.600000e+02   2.251000e+03     3.421000e+03   \n",
       "\n",
       "       OAuthApplicationId      FileName    FolderPath  ResourceIdName  \\\n",
       "count        9.516837e+06  9.516837e+06  9.516837e+06    9.516837e+06   \n",
       "mean         8.807955e+02  2.622621e+05  1.076172e+05    3.583477e+03   \n",
       "std          1.291083e+01  8.152956e+04  3.220835e+04    9.020262e+01   \n",
       "min          0.000000e+00  0.000000e+00  0.000000e+00    0.000000e+00   \n",
       "25%          8.810000e+02  2.895730e+05  1.176680e+05    3.586000e+03   \n",
       "50%          8.810000e+02  2.895730e+05  1.176680e+05    3.586000e+03   \n",
       "75%          8.810000e+02  2.895730e+05  1.176680e+05    3.586000e+03   \n",
       "max          8.810000e+02  2.895730e+05  1.176680e+05    3.586000e+03   \n",
       "\n",
       "           OSFamily     OSVersion   CountryCode         State          City  \n",
       "count  9.516837e+06  9.516837e+06  9.516837e+06  9.516837e+06  9.516837e+06  \n",
       "mean   4.898537e+00  6.465558e+01  2.236742e+02  1.351488e+03  9.936183e+03  \n",
       "std    7.035099e-01  9.314929e+00  6.279729e+01  3.509808e+02  2.606812e+03  \n",
       "min    0.000000e+00  0.000000e+00  0.000000e+00  0.000000e+00  0.000000e+00  \n",
       "25%    5.000000e+00  6.600000e+01  2.420000e+02  1.445000e+03  1.063000e+04  \n",
       "50%    5.000000e+00  6.600000e+01  2.420000e+02  1.445000e+03  1.063000e+04  \n",
       "75%    5.000000e+00  6.600000e+01  2.420000e+02  1.445000e+03  1.063000e+04  \n",
       "max    5.000000e+00  6.600000e+01  2.420000e+02  1.445000e+03  1.063000e+04  "
      ]
     },
     "execution_count": 4,
     "metadata": {},
     "output_type": "execute_result"
    }
   ],
   "source": [
    "df.describe()"
   ]
  },
  {
   "cell_type": "code",
   "execution_count": 5,
   "metadata": {},
   "outputs": [
    {
     "data": {
      "text/plain": [
       "45"
      ]
     },
     "execution_count": 5,
     "metadata": {},
     "output_type": "execute_result"
    }
   ],
   "source": [
    "len(df.columns)"
   ]
  },
  {
   "cell_type": "code",
   "execution_count": 6,
   "metadata": {},
   "outputs": [
    {
     "data": {
      "text/plain": [
       "Index(['Id', 'OrgId', 'IncidentId', 'AlertId', 'Timestamp', 'DetectorId',\n",
       "       'AlertTitle', 'Category', 'MitreTechniques', 'IncidentGrade',\n",
       "       'ActionGrouped', 'ActionGranular', 'EntityType', 'EvidenceRole',\n",
       "       'DeviceId', 'Sha256', 'IpAddress', 'Url', 'AccountSid', 'AccountUpn',\n",
       "       'AccountObjectId', 'AccountName', 'DeviceName', 'NetworkMessageId',\n",
       "       'EmailClusterId', 'RegistryKey', 'RegistryValueName',\n",
       "       'RegistryValueData', 'ApplicationId', 'ApplicationName',\n",
       "       'OAuthApplicationId', 'ThreatFamily', 'FileName', 'FolderPath',\n",
       "       'ResourceIdName', 'ResourceType', 'Roles', 'OSFamily', 'OSVersion',\n",
       "       'AntispamDirection', 'SuspicionLevel', 'LastVerdict', 'CountryCode',\n",
       "       'State', 'City'],\n",
       "      dtype='object')"
      ]
     },
     "execution_count": 6,
     "metadata": {},
     "output_type": "execute_result"
    }
   ],
   "source": [
    "df.columns"
   ]
  },
  {
   "cell_type": "markdown",
   "metadata": {},
   "source": [
    "# Leveraging LLMs for Data Analysis\n",
    "\n",
    "Using Large Language Models to:\n",
    "- Understand data structure and patterns\n",
    "- Analyze problems\n",
    "- Extract metadata\n",
    "- Generate hypotheses\n",
    "\n",
    "## Extracting and Storing Kaggle Metadata\n",
    "\n",
    "This section covers how to retrieve metadata from Kaggle datasets and save it in JSON format."
   ]
  },
  {
   "cell_type": "code",
   "execution_count": null,
   "metadata": {},
   "outputs": [],
   "source": [
    "import json\n",
    "\n",
    "# Define the dictionary\n",
    "column_definitions = {\n",
    "        'OrgId': 'Organization identifier',\n",
    "        'IncidentId': 'Organizationally unique incident identifier',\n",
    "        'AlertId': 'Unique identifier for an alert',\n",
    "        'Timestamp': 'Time the alert was created',\n",
    "        'DetectorId': 'Unique ID for the alert generating detector',\n",
    "        'AlertTitle': 'Title of the alert',\n",
    "        'Category': 'Category of the alert',\n",
    "        'MitreTechniques': 'MITRE ATT&CK techniques involved in alert',\n",
    "        'IncidentGrade': 'SOC grade assigned to the incident',\n",
    "        'ActionGrouped': 'SOC alert remediation action (high level)',\n",
    "        'ActionGranular': 'SOC alert remediation action (fine-grain)',\n",
    "        'EntityType': 'Type of entity involved in the alert',\n",
    "        'EvidenceRole': 'Role of the evidence in the investigation',\n",
    "        'DeviceId': 'Unique identifier for the device',\n",
    "        'Sha256': 'SHA-256 hash of the file',\n",
    "        'IpAddress': 'IP address involved',\n",
    "        'Url': 'URL involved',\n",
    "        'AccountSid': 'On-premises account identifier',\n",
    "        'AccountUpn': 'Email account identifier',\n",
    "        'AccountObjectId': 'Entra ID account identifier',\n",
    "        'DeviceName': 'Name of the device',\n",
    "        'NetworkMessageId': 'Org-level identifier for email message',\n",
    "        'EmailClusterId': 'Unique identifier for the email cluster',\n",
    "        'RegistryKey': 'Registry key involved',\n",
    "        'RegistryValueName': 'Name of the registry value',\n",
    "        'RegistryValueData': 'Data of the registry value',\n",
    "        'ApplicationId': 'Unique identifier for the application',\n",
    "        'ApplicationName': 'Name of the application',\n",
    "        'OAuthApplicationId': 'OAuth application identifier',\n",
    "        'ThreatFamily': 'Malware family associated with a file',\n",
    "        'FileName': 'Name of the file',\n",
    "        'FolderPath': 'Path of the file folder',\n",
    "        'ResourceIdName': 'Name of the Azure resource',\n",
    "        'ResourceType': 'Type of Azure resource',\n",
    "        'Roles': 'Additional metadata on evidence role in alert',\n",
    "        'OSFamily': 'Family of the operating system',\n",
    "        'OSVersion': 'Version of the operating system',\n",
    "        'AntispamDirection': 'Direction of the antispam filter',\n",
    "        'SuspicionLevel': 'Level of suspicion',\n",
    "        'LastVerdict': 'Final verdict of threat analysis',\n",
    "        'CountryCode': 'Country code evidence appears in',\n",
    "        'State': 'State of evidence appears in',\n",
    "        'City': 'City evidence appears in'\n",
    "    }\n",
    "\n",
    "# Write the dictionary to a JSON file\n",
    "with open('/Users/lukishyadav/Desktop/Engineering/case_study/ai_strike/meta_data/column_definitions.json', 'w') as file:\n",
    "    json.dump(column_definitions, file, indent=4)"
   ]
  },
  {
   "cell_type": "markdown",
   "metadata": {},
   "source": [
    "# Data Understanding and Metadata Analysis using LLM\n",
    "\n",
    "## Process Overview\n",
    "\n",
    "1. **Metadata Collection**\n",
    "   - Extracted metadata from Kaggle\n",
    "   - Stored in JSON format\n",
    "   - Location: `meta_data` folder\n",
    "\n",
    "2. **LLM-Assisted Data Analysis**\n",
    "   - Utilized LLM to:\n",
    "     - Understand the dataset structure\n",
    "     - Analyze the problem domain\n",
    "     - Extract relevant metadata insights\n",
    "\n",
    "3. **Column Categorization**\n",
    "   - Leveraged LLM to categorize columns\n",
    "   - Organized columns by category/Level\n",
    "   - Created structured column hierarchy\n",
    "\n",
    "4. **Hypothesis Formation**\n",
    "   - Using the organized data structure\n",
    "   - Ready for hypothesis development\n",
    "   - Informed by LLM-driven insights\n",
    "\n",
    "This systematic approach provides a solid foundation for further analysis and hypothesis testing.\n"
   ]
  },
  {
   "cell_type": "markdown",
   "metadata": {},
   "source": [
    "# Breaking down the columns into the three hierarchical levels based on the column definitions:"
   ]
  },
  {
   "cell_type": "code",
   "execution_count": 7,
   "metadata": {},
   "outputs": [],
   "source": [
    "evidence_columns = [\n",
    "    \"EntityType\",          # Type of entity involved in the alert\n",
    "    \"EvidenceRole\",        # Role of the evidence in the investigation\n",
    "    \"DeviceId\",           # Unique identifier for the device\n",
    "    \"Sha256\",             # SHA-256 hash of the file\n",
    "    \"IpAddress\",          # IP address involved\n",
    "    \"Url\",                # URL involved\n",
    "    \"AccountSid\",         # On-premises account identifier\n",
    "    \"AccountUpn\",         # Email account identifier\n",
    "    \"AccountObjectId\",     # Entra ID account identifier\n",
    "    \"DeviceName\",         # Name of the device\n",
    "    \"NetworkMessageId\",    # Org-level identifier for email message\n",
    "    \"EmailClusterId\",     # Unique identifier for the email cluster\n",
    "    \"RegistryKey\",        # Registry key involved\n",
    "    \"RegistryValueName\",  # Name of the registry value\n",
    "    \"RegistryValueData\",  # Data of the registry value\n",
    "    \"ApplicationId\",      # Unique identifier for the application\n",
    "    \"ApplicationName\",    # Name of the application\n",
    "    \"OAuthApplicationId\", # OAuth application identifier\n",
    "    \"ThreatFamily\",       # Malware family associated with a file\n",
    "    \"FileName\",           # Name of the file\n",
    "    \"FolderPath\",         # Path of the file folder\n",
    "    \"ResourceIdName\",     # Name of the Azure resource\n",
    "    \"ResourceType\",       # Type of Azure resource\n",
    "    \"Roles\",              # Additional metadata on evidence role in alert\n",
    "    \"OSFamily\",           # Family of the operating system\n",
    "    \"OSVersion\",          # Version of the operating system\n",
    "    \"AntispamDirection\",  # Direction of the antispam filter\n",
    "    \"SuspicionLevel\",     # Level of suspicion\n",
    "    \"LastVerdict\",        # Final verdict of threat analysis\n",
    "    \"CountryCode\",        # Country code evidence appears in\n",
    "    \"State\",              # State evidence appears in\n",
    "    \"City\"               # City evidence appears in\n",
    "]\n",
    "\n",
    "alert_columns = [\n",
    "    \"AlertId\",           # Unique identifier for an alert\n",
    "    \"Timestamp\",         # Time the alert was created\n",
    "    \"DetectorId\",        # Unique ID for the alert generating detector\n",
    "    \"AlertTitle\",        # Title of the alert\n",
    "    \"Category\",          # Category of the alert\n",
    "    \"MitreTechniques\",   # MITRE ATT&CK techniques involved in alert\n",
    "    \"ActionGrouped\",     # SOC alert remediation action (high level)\n",
    "    \"ActionGranular\"     # SOC alert remediation action (fine-grain)\n",
    "]\n",
    "\n",
    "incident_columns = [\n",
    "    \"OrgId\",            # Organization identifier\n",
    "    \"IncidentId\",       # Organizationally unique incident identifier\n",
    "    \"IncidentGrade\"     # SOC grade assigned to the incident (TP/BP/FP)\n",
    "]"
   ]
  },
  {
   "cell_type": "markdown",
   "metadata": {},
   "source": [
    "\n",
    "\n",
    "# Target Columns in the Dataset\n",
    "\n",
    "## Primary Target (Main Task)\n",
    "| Column Name | Level | Description | Values |\n",
    "|------------|-------|-------------|---------|\n",
    "| `IncidentGrade` | Incident | SOC grade assigned to the incident | TP (True Positive), BP (Benign Positive), FP (False Positive) |\n",
    "\n",
    "## Secondary Targets (Additional Task)\n",
    "| Column Name | Level | Description | Values |\n",
    "|------------|-------|-------------|---------|\n",
    "| `ActionGrouped` | Alert | SOC alert remediation action (high level) | [Values not specified in data dictionary] |\n",
    "| `ActionGranular` | Alert | SOC alert remediation action (fine-grain) | [Values not specified in data dictionary] |\n",
    "\n",
    "**Key Points:**\n",
    "- Primary task has 1M labeled incidents\n",
    "- Secondary task has 26k labeled alerts\n",
    "- `IncidentGrade` is the main classification target\n",
    "- `ActionGrouped` and `ActionGranular` represent hierarchical action recommendations\n",
    "\n",
    "Would you like me to:\n",
    "1. Look for the possible values these target columns can take?\n",
    "2. Explain the relationship between `ActionGrouped` and `ActionGranular`?\n",
    "3. Discuss the evaluation metrics for each target?\n"
   ]
  },
  {
   "cell_type": "code",
   "execution_count": 14,
   "metadata": {},
   "outputs": [],
   "source": [
    "# Define column classifications for each hierarchy level\n",
    "\n",
    "# Incident Level Columns (Highest Level)\n",
    "incident_columns = {\n",
    "    'id_columns': [\n",
    "        'Id',          # Added from data\n",
    "        'OrgId',       # Numerical but used as ID\n",
    "        'IncidentId'   # Numerical but used as ID\n",
    "    ],\n",
    "    \n",
    "    'num_features': [],  # No direct numerical features at incident level\n",
    "    \n",
    "    'cat_features': [],  # No direct categorical features at incident level\n",
    "    \n",
    "    'target': [\n",
    "        'IncidentGrade'  # Categorical: TruePositive, FalsePositive, BenignPositive\n",
    "    ]\n",
    "}\n",
    "\n",
    "# Alert Level Columns (Middle Level)\n",
    "alert_columns = {\n",
    "    'id_columns': [\n",
    "        'AlertId'      # Numerical but used as ID\n",
    "    ],\n",
    "    \n",
    "    'num_features': [\n",
    "        'Timestamp'    # DateTime feature\n",
    "    ],\n",
    "    \n",
    "    'cat_features': [\n",
    "        'DetectorId',  # Looks numerical but should be treated as categorical\n",
    "        'AlertTitle',  # Categorical\n",
    "        'Category',    # Categorical (e.g., 'InitialAccess', 'Exfiltration')\n",
    "        'MitreTechniques'  # Categorical (e.g., 'T1189')\n",
    "    ],\n",
    "    \n",
    "    'target': [\n",
    "        'ActionGrouped',   # Categorical (all NaN in sample)\n",
    "        'ActionGranular'   # Categorical (all NaN in sample)\n",
    "    ]\n",
    "}\n",
    "\n",
    "# Evidence Level Columns (Lowest Level)\n",
    "evidence_columns = {\n",
    "    'id_columns': [\n",
    "        'DeviceId',          # Numerical but used as ID\n",
    "        'NetworkMessageId',  # Numerical but used as ID\n",
    "        'EmailClusterId',    # Mostly NaN in sample\n",
    "        'ApplicationId',     # Numerical but used as ID\n",
    "        'OAuthApplicationId',# Numerical but used as ID\n",
    "        'AccountSid',        # Numerical but used as ID\n",
    "        'AccountObjectId',   # Numerical but used as ID\n",
    "    ],\n",
    "    \n",
    "    'num_features': [\n",
    "        'SuspicionLevel',    # Numerical (based on sample)\n",
    "        'OSVersion'          # Numerical (based on sample)\n",
    "    ],\n",
    "    \n",
    "    'cat_features': [\n",
    "        'EntityType',        # Categorical (e.g., 'Ip', 'User', 'Url')\n",
    "        'EvidenceRole',      # Categorical (e.g., 'Related', 'Impacted')\n",
    "        'Sha256',           # Categorical (hash)\n",
    "        'IpAddress',        # Categorical (should be treated as such)\n",
    "        'Url',              # Categorical\n",
    "        'AccountUpn',       # Categorical\n",
    "        'AccountName',      # Categorical\n",
    "        'DeviceName',       # Categorical\n",
    "        'RegistryKey',      # Categorical\n",
    "        'RegistryValueName',# Categorical\n",
    "        'RegistryValueData',# Categorical\n",
    "        'ApplicationName',  # Categorical\n",
    "        'ThreatFamily',     # Categorical (all NaN in sample)\n",
    "        'FileName',         # Categorical\n",
    "        'FolderPath',       # Categorical\n",
    "        'ResourceIdName',   # Categorical\n",
    "        'ResourceType',     # Categorical (all NaN in sample)\n",
    "        'Roles',           # Categorical (all NaN in sample)\n",
    "        'OSFamily',        # Categorical\n",
    "        'AntispamDirection',# Categorical (all NaN in sample)\n",
    "        'LastVerdict',     # Categorical (e.g., 'Suspicious')\n",
    "        'CountryCode',     # Categorical\n",
    "        'State',           # Categorical\n",
    "        'City'             # Categorical\n",
    "    ],\n",
    "\n",
    "    'target': []  # No targets at evidence level\n",
    "}"
   ]
  },
  {
   "cell_type": "code",
   "execution_count": 16,
   "metadata": {},
   "outputs": [
    {
     "name": "stdout",
     "output_type": "stream",
     "text": [
      "=== Column Counts ===\n",
      "Incident Level Columns: 4\n",
      "Alert Level Columns: 8\n",
      "Evidence Level Columns: 33\n",
      "\n",
      "=== Target Columns ===\n",
      "['IncidentGrade', 'ActionGrouped', 'ActionGranular']\n",
      "\n",
      "Total Columns: 45\n",
      "\n",
      "=== Features and IDs ===\n",
      "Number of feature columns: 31\n",
      "Number of ID columns to exclude: 11\n"
     ]
    }
   ],
   "source": [
    "# Utility functions\n",
    "def get_all_columns(level_dict):\n",
    "    \"\"\"Get all columns for a given level\"\"\"\n",
    "    return (level_dict['id_columns'] + \n",
    "            level_dict['num_features'] +\n",
    "            level_dict['cat_features'] +\n",
    "            level_dict['target'])\n",
    "\n",
    "def get_all_target_columns():\n",
    "    \"\"\"Get all target columns across all levels\"\"\"\n",
    "    return (incident_columns['target'] + \n",
    "            alert_columns['target'] + \n",
    "            evidence_columns['target'])\n",
    "\n",
    "# Example usage in Jupyter notebook:\n",
    "print(\"=== Column Counts ===\")\n",
    "print(f\"Incident Level Columns: {len(get_all_columns(incident_columns))}\")\n",
    "print(f\"Alert Level Columns: {len(get_all_columns(alert_columns))}\")\n",
    "print(f\"Evidence Level Columns: {len(get_all_columns(evidence_columns))}\")\n",
    "\n",
    "print(\"\\n=== Target Columns ===\")\n",
    "print(get_all_target_columns())\n",
    "\n",
    "# Get total number of columns\n",
    "total_columns = (len(get_all_columns(incident_columns)) + \n",
    "                len(get_all_columns(alert_columns)) + \n",
    "                len(get_all_columns(evidence_columns)))\n",
    "print(f\"\\nTotal Columns: {total_columns}\")\n",
    "\n",
    "# Example: How to get all features for modeling\n",
    "features_for_model = (\n",
    "    evidence_columns['num_features'] + \n",
    "    evidence_columns['cat_features'] + \n",
    "    alert_columns['num_features'] + \n",
    "    alert_columns['cat_features']\n",
    ")\n",
    "\n",
    "# Example: How to get columns to exclude from features\n",
    "id_columns_to_exclude = (\n",
    "    incident_columns['id_columns'] + \n",
    "    alert_columns['id_columns'] + \n",
    "    evidence_columns['id_columns']\n",
    ")\n",
    "\n",
    "print(\"\\n=== Features and IDs ===\")\n",
    "print(f\"Number of feature columns: {len(features_for_model)}\")\n",
    "print(f\"Number of ID columns to exclude: {len(id_columns_to_exclude)}\")"
   ]
  },
  {
   "cell_type": "markdown",
   "metadata": {},
   "source": [
    "# Giving feedback to the LLM and asking it to reflect on the features and type of them. Numeric features actually dont seem to have numeric values to them"
   ]
  },
  {
   "cell_type": "code",
   "execution_count": 66,
   "metadata": {},
   "outputs": [],
   "source": [
    "# All features should be treated as categorical\n",
    "categorical_features = (\n",
    "    alert_columns['cat_features'] + \n",
    "    alert_columns['num_features'] +  # These aren't truly numeric\n",
    "    evidence_columns['cat_features'] +\n",
    "    evidence_columns['num_features']  # These aren't truly numeric\n",
    ")\n",
    "\n",
    "# For correlation analysis, we should use:\n",
    "# Chi-square/Cramer's V for all feature pairs\n",
    "#Remove numeric correlation methods (Spearman/Pearson)"
   ]
  },
  {
   "cell_type": "markdown",
   "metadata": {},
   "source": [
    "# Plotting distribution of the target column"
   ]
  },
  {
   "cell_type": "code",
   "execution_count": 25,
   "metadata": {},
   "outputs": [
    {
     "data": {
      "application/vnd.plotly.v1+json": {
       "config": {
        "plotlyServerURL": "https://plot.ly"
       },
       "data": [
        {
         "hovertemplate": "IncidentGrade=%{x}<br>Count=%{text}<extra></extra>",
         "legendgroup": "",
         "marker": {
          "color": "#636efa",
          "pattern": {
           "shape": ""
          }
         },
         "name": "",
         "orientation": "v",
         "showlegend": false,
         "text": {
          "bdata": "AAAAgPBcT0EAAACArFlJQQAAAABfAT9B",
          "dtype": "f8"
         },
         "textposition": "outside",
         "type": "bar",
         "x": [
          "BenignPositive",
          "TruePositive",
          "FalsePositive"
         ],
         "xaxis": "x",
         "y": {
          "bdata": "4bk+AFmzMgBfAR8A",
          "dtype": "i4"
         },
         "yaxis": "y"
        }
       ],
       "layout": {
        "barmode": "relative",
        "legend": {
         "tracegroupgap": 0
        },
        "template": {
         "data": {
          "bar": [
           {
            "error_x": {
             "color": "#2a3f5f"
            },
            "error_y": {
             "color": "#2a3f5f"
            },
            "marker": {
             "line": {
              "color": "white",
              "width": 0.5
             },
             "pattern": {
              "fillmode": "overlay",
              "size": 10,
              "solidity": 0.2
             }
            },
            "type": "bar"
           }
          ],
          "barpolar": [
           {
            "marker": {
             "line": {
              "color": "white",
              "width": 0.5
             },
             "pattern": {
              "fillmode": "overlay",
              "size": 10,
              "solidity": 0.2
             }
            },
            "type": "barpolar"
           }
          ],
          "carpet": [
           {
            "aaxis": {
             "endlinecolor": "#2a3f5f",
             "gridcolor": "#C8D4E3",
             "linecolor": "#C8D4E3",
             "minorgridcolor": "#C8D4E3",
             "startlinecolor": "#2a3f5f"
            },
            "baxis": {
             "endlinecolor": "#2a3f5f",
             "gridcolor": "#C8D4E3",
             "linecolor": "#C8D4E3",
             "minorgridcolor": "#C8D4E3",
             "startlinecolor": "#2a3f5f"
            },
            "type": "carpet"
           }
          ],
          "choropleth": [
           {
            "colorbar": {
             "outlinewidth": 0,
             "ticks": ""
            },
            "type": "choropleth"
           }
          ],
          "contour": [
           {
            "colorbar": {
             "outlinewidth": 0,
             "ticks": ""
            },
            "colorscale": [
             [
              0,
              "#0d0887"
             ],
             [
              0.1111111111111111,
              "#46039f"
             ],
             [
              0.2222222222222222,
              "#7201a8"
             ],
             [
              0.3333333333333333,
              "#9c179e"
             ],
             [
              0.4444444444444444,
              "#bd3786"
             ],
             [
              0.5555555555555556,
              "#d8576b"
             ],
             [
              0.6666666666666666,
              "#ed7953"
             ],
             [
              0.7777777777777778,
              "#fb9f3a"
             ],
             [
              0.8888888888888888,
              "#fdca26"
             ],
             [
              1,
              "#f0f921"
             ]
            ],
            "type": "contour"
           }
          ],
          "contourcarpet": [
           {
            "colorbar": {
             "outlinewidth": 0,
             "ticks": ""
            },
            "type": "contourcarpet"
           }
          ],
          "heatmap": [
           {
            "colorbar": {
             "outlinewidth": 0,
             "ticks": ""
            },
            "colorscale": [
             [
              0,
              "#0d0887"
             ],
             [
              0.1111111111111111,
              "#46039f"
             ],
             [
              0.2222222222222222,
              "#7201a8"
             ],
             [
              0.3333333333333333,
              "#9c179e"
             ],
             [
              0.4444444444444444,
              "#bd3786"
             ],
             [
              0.5555555555555556,
              "#d8576b"
             ],
             [
              0.6666666666666666,
              "#ed7953"
             ],
             [
              0.7777777777777778,
              "#fb9f3a"
             ],
             [
              0.8888888888888888,
              "#fdca26"
             ],
             [
              1,
              "#f0f921"
             ]
            ],
            "type": "heatmap"
           }
          ],
          "histogram": [
           {
            "marker": {
             "pattern": {
              "fillmode": "overlay",
              "size": 10,
              "solidity": 0.2
             }
            },
            "type": "histogram"
           }
          ],
          "histogram2d": [
           {
            "colorbar": {
             "outlinewidth": 0,
             "ticks": ""
            },
            "colorscale": [
             [
              0,
              "#0d0887"
             ],
             [
              0.1111111111111111,
              "#46039f"
             ],
             [
              0.2222222222222222,
              "#7201a8"
             ],
             [
              0.3333333333333333,
              "#9c179e"
             ],
             [
              0.4444444444444444,
              "#bd3786"
             ],
             [
              0.5555555555555556,
              "#d8576b"
             ],
             [
              0.6666666666666666,
              "#ed7953"
             ],
             [
              0.7777777777777778,
              "#fb9f3a"
             ],
             [
              0.8888888888888888,
              "#fdca26"
             ],
             [
              1,
              "#f0f921"
             ]
            ],
            "type": "histogram2d"
           }
          ],
          "histogram2dcontour": [
           {
            "colorbar": {
             "outlinewidth": 0,
             "ticks": ""
            },
            "colorscale": [
             [
              0,
              "#0d0887"
             ],
             [
              0.1111111111111111,
              "#46039f"
             ],
             [
              0.2222222222222222,
              "#7201a8"
             ],
             [
              0.3333333333333333,
              "#9c179e"
             ],
             [
              0.4444444444444444,
              "#bd3786"
             ],
             [
              0.5555555555555556,
              "#d8576b"
             ],
             [
              0.6666666666666666,
              "#ed7953"
             ],
             [
              0.7777777777777778,
              "#fb9f3a"
             ],
             [
              0.8888888888888888,
              "#fdca26"
             ],
             [
              1,
              "#f0f921"
             ]
            ],
            "type": "histogram2dcontour"
           }
          ],
          "mesh3d": [
           {
            "colorbar": {
             "outlinewidth": 0,
             "ticks": ""
            },
            "type": "mesh3d"
           }
          ],
          "parcoords": [
           {
            "line": {
             "colorbar": {
              "outlinewidth": 0,
              "ticks": ""
             }
            },
            "type": "parcoords"
           }
          ],
          "pie": [
           {
            "automargin": true,
            "type": "pie"
           }
          ],
          "scatter": [
           {
            "fillpattern": {
             "fillmode": "overlay",
             "size": 10,
             "solidity": 0.2
            },
            "type": "scatter"
           }
          ],
          "scatter3d": [
           {
            "line": {
             "colorbar": {
              "outlinewidth": 0,
              "ticks": ""
             }
            },
            "marker": {
             "colorbar": {
              "outlinewidth": 0,
              "ticks": ""
             }
            },
            "type": "scatter3d"
           }
          ],
          "scattercarpet": [
           {
            "marker": {
             "colorbar": {
              "outlinewidth": 0,
              "ticks": ""
             }
            },
            "type": "scattercarpet"
           }
          ],
          "scattergeo": [
           {
            "marker": {
             "colorbar": {
              "outlinewidth": 0,
              "ticks": ""
             }
            },
            "type": "scattergeo"
           }
          ],
          "scattergl": [
           {
            "marker": {
             "colorbar": {
              "outlinewidth": 0,
              "ticks": ""
             }
            },
            "type": "scattergl"
           }
          ],
          "scattermap": [
           {
            "marker": {
             "colorbar": {
              "outlinewidth": 0,
              "ticks": ""
             }
            },
            "type": "scattermap"
           }
          ],
          "scattermapbox": [
           {
            "marker": {
             "colorbar": {
              "outlinewidth": 0,
              "ticks": ""
             }
            },
            "type": "scattermapbox"
           }
          ],
          "scatterpolar": [
           {
            "marker": {
             "colorbar": {
              "outlinewidth": 0,
              "ticks": ""
             }
            },
            "type": "scatterpolar"
           }
          ],
          "scatterpolargl": [
           {
            "marker": {
             "colorbar": {
              "outlinewidth": 0,
              "ticks": ""
             }
            },
            "type": "scatterpolargl"
           }
          ],
          "scatterternary": [
           {
            "marker": {
             "colorbar": {
              "outlinewidth": 0,
              "ticks": ""
             }
            },
            "type": "scatterternary"
           }
          ],
          "surface": [
           {
            "colorbar": {
             "outlinewidth": 0,
             "ticks": ""
            },
            "colorscale": [
             [
              0,
              "#0d0887"
             ],
             [
              0.1111111111111111,
              "#46039f"
             ],
             [
              0.2222222222222222,
              "#7201a8"
             ],
             [
              0.3333333333333333,
              "#9c179e"
             ],
             [
              0.4444444444444444,
              "#bd3786"
             ],
             [
              0.5555555555555556,
              "#d8576b"
             ],
             [
              0.6666666666666666,
              "#ed7953"
             ],
             [
              0.7777777777777778,
              "#fb9f3a"
             ],
             [
              0.8888888888888888,
              "#fdca26"
             ],
             [
              1,
              "#f0f921"
             ]
            ],
            "type": "surface"
           }
          ],
          "table": [
           {
            "cells": {
             "fill": {
              "color": "#EBF0F8"
             },
             "line": {
              "color": "white"
             }
            },
            "header": {
             "fill": {
              "color": "#C8D4E3"
             },
             "line": {
              "color": "white"
             }
            },
            "type": "table"
           }
          ]
         },
         "layout": {
          "annotationdefaults": {
           "arrowcolor": "#2a3f5f",
           "arrowhead": 0,
           "arrowwidth": 1
          },
          "autotypenumbers": "strict",
          "coloraxis": {
           "colorbar": {
            "outlinewidth": 0,
            "ticks": ""
           }
          },
          "colorscale": {
           "diverging": [
            [
             0,
             "#8e0152"
            ],
            [
             0.1,
             "#c51b7d"
            ],
            [
             0.2,
             "#de77ae"
            ],
            [
             0.3,
             "#f1b6da"
            ],
            [
             0.4,
             "#fde0ef"
            ],
            [
             0.5,
             "#f7f7f7"
            ],
            [
             0.6,
             "#e6f5d0"
            ],
            [
             0.7,
             "#b8e186"
            ],
            [
             0.8,
             "#7fbc41"
            ],
            [
             0.9,
             "#4d9221"
            ],
            [
             1,
             "#276419"
            ]
           ],
           "sequential": [
            [
             0,
             "#0d0887"
            ],
            [
             0.1111111111111111,
             "#46039f"
            ],
            [
             0.2222222222222222,
             "#7201a8"
            ],
            [
             0.3333333333333333,
             "#9c179e"
            ],
            [
             0.4444444444444444,
             "#bd3786"
            ],
            [
             0.5555555555555556,
             "#d8576b"
            ],
            [
             0.6666666666666666,
             "#ed7953"
            ],
            [
             0.7777777777777778,
             "#fb9f3a"
            ],
            [
             0.8888888888888888,
             "#fdca26"
            ],
            [
             1,
             "#f0f921"
            ]
           ],
           "sequentialminus": [
            [
             0,
             "#0d0887"
            ],
            [
             0.1111111111111111,
             "#46039f"
            ],
            [
             0.2222222222222222,
             "#7201a8"
            ],
            [
             0.3333333333333333,
             "#9c179e"
            ],
            [
             0.4444444444444444,
             "#bd3786"
            ],
            [
             0.5555555555555556,
             "#d8576b"
            ],
            [
             0.6666666666666666,
             "#ed7953"
            ],
            [
             0.7777777777777778,
             "#fb9f3a"
            ],
            [
             0.8888888888888888,
             "#fdca26"
            ],
            [
             1,
             "#f0f921"
            ]
           ]
          },
          "colorway": [
           "#636efa",
           "#EF553B",
           "#00cc96",
           "#ab63fa",
           "#FFA15A",
           "#19d3f3",
           "#FF6692",
           "#B6E880",
           "#FF97FF",
           "#FECB52"
          ],
          "font": {
           "color": "#2a3f5f"
          },
          "geo": {
           "bgcolor": "white",
           "lakecolor": "white",
           "landcolor": "white",
           "showlakes": true,
           "showland": true,
           "subunitcolor": "#C8D4E3"
          },
          "hoverlabel": {
           "align": "left"
          },
          "hovermode": "closest",
          "mapbox": {
           "style": "light"
          },
          "paper_bgcolor": "white",
          "plot_bgcolor": "white",
          "polar": {
           "angularaxis": {
            "gridcolor": "#EBF0F8",
            "linecolor": "#EBF0F8",
            "ticks": ""
           },
           "bgcolor": "white",
           "radialaxis": {
            "gridcolor": "#EBF0F8",
            "linecolor": "#EBF0F8",
            "ticks": ""
           }
          },
          "scene": {
           "xaxis": {
            "backgroundcolor": "white",
            "gridcolor": "#DFE8F3",
            "gridwidth": 2,
            "linecolor": "#EBF0F8",
            "showbackground": true,
            "ticks": "",
            "zerolinecolor": "#EBF0F8"
           },
           "yaxis": {
            "backgroundcolor": "white",
            "gridcolor": "#DFE8F3",
            "gridwidth": 2,
            "linecolor": "#EBF0F8",
            "showbackground": true,
            "ticks": "",
            "zerolinecolor": "#EBF0F8"
           },
           "zaxis": {
            "backgroundcolor": "white",
            "gridcolor": "#DFE8F3",
            "gridwidth": 2,
            "linecolor": "#EBF0F8",
            "showbackground": true,
            "ticks": "",
            "zerolinecolor": "#EBF0F8"
           }
          },
          "shapedefaults": {
           "line": {
            "color": "#2a3f5f"
           }
          },
          "ternary": {
           "aaxis": {
            "gridcolor": "#DFE8F3",
            "linecolor": "#A2B1C6",
            "ticks": ""
           },
           "baxis": {
            "gridcolor": "#DFE8F3",
            "linecolor": "#A2B1C6",
            "ticks": ""
           },
           "bgcolor": "white",
           "caxis": {
            "gridcolor": "#DFE8F3",
            "linecolor": "#A2B1C6",
            "ticks": ""
           }
          },
          "title": {
           "x": 0.05
          },
          "xaxis": {
           "automargin": true,
           "gridcolor": "#EBF0F8",
           "linecolor": "#EBF0F8",
           "ticks": "",
           "title": {
            "standoff": 15
           },
           "zerolinecolor": "#EBF0F8",
           "zerolinewidth": 2
          },
          "yaxis": {
           "automargin": true,
           "gridcolor": "#EBF0F8",
           "linecolor": "#EBF0F8",
           "ticks": "",
           "title": {
            "standoff": 15
           },
           "zerolinecolor": "#EBF0F8",
           "zerolinewidth": 2
          }
         }
        },
        "title": {
         "text": "Distribution of IncidentGrade",
         "x": 0.5
        },
        "xaxis": {
         "anchor": "y",
         "domain": [
          0,
          1
         ],
         "title": {}
        },
        "yaxis": {
         "anchor": "x",
         "domain": [
          0,
          1
         ],
         "title": {
          "text": "Count"
         }
        }
       }
      }
     },
     "metadata": {},
     "output_type": "display_data"
    },
    {
     "data": {
      "application/vnd.plotly.v1+json": {
       "config": {
        "plotlyServerURL": "https://plot.ly"
       },
       "data": [
        {
         "hovertemplate": "ActionGrouped=%{x}<br>Count=%{text}<extra></extra>",
         "legendgroup": "",
         "marker": {
          "color": "#636efa",
          "pattern": {
           "shape": ""
          }
         },
         "name": "",
         "orientation": "v",
         "showlegend": false,
         "text": {
          "bdata": "AAAAAABA6kAAAAAAAHqhQAAAAAAAwFBA",
          "dtype": "f8"
         },
         "textposition": "outside",
         "type": "bar",
         "x": [
          "ContainAccount",
          "IsolateDevice",
          "Stop Virtual Machines"
         ],
         "xaxis": "x",
         "y": {
          "bdata": "ANIAAL0IAABDAAAA",
          "dtype": "i4"
         },
         "yaxis": "y"
        }
       ],
       "layout": {
        "barmode": "relative",
        "legend": {
         "tracegroupgap": 0
        },
        "template": {
         "data": {
          "bar": [
           {
            "error_x": {
             "color": "#2a3f5f"
            },
            "error_y": {
             "color": "#2a3f5f"
            },
            "marker": {
             "line": {
              "color": "white",
              "width": 0.5
             },
             "pattern": {
              "fillmode": "overlay",
              "size": 10,
              "solidity": 0.2
             }
            },
            "type": "bar"
           }
          ],
          "barpolar": [
           {
            "marker": {
             "line": {
              "color": "white",
              "width": 0.5
             },
             "pattern": {
              "fillmode": "overlay",
              "size": 10,
              "solidity": 0.2
             }
            },
            "type": "barpolar"
           }
          ],
          "carpet": [
           {
            "aaxis": {
             "endlinecolor": "#2a3f5f",
             "gridcolor": "#C8D4E3",
             "linecolor": "#C8D4E3",
             "minorgridcolor": "#C8D4E3",
             "startlinecolor": "#2a3f5f"
            },
            "baxis": {
             "endlinecolor": "#2a3f5f",
             "gridcolor": "#C8D4E3",
             "linecolor": "#C8D4E3",
             "minorgridcolor": "#C8D4E3",
             "startlinecolor": "#2a3f5f"
            },
            "type": "carpet"
           }
          ],
          "choropleth": [
           {
            "colorbar": {
             "outlinewidth": 0,
             "ticks": ""
            },
            "type": "choropleth"
           }
          ],
          "contour": [
           {
            "colorbar": {
             "outlinewidth": 0,
             "ticks": ""
            },
            "colorscale": [
             [
              0,
              "#0d0887"
             ],
             [
              0.1111111111111111,
              "#46039f"
             ],
             [
              0.2222222222222222,
              "#7201a8"
             ],
             [
              0.3333333333333333,
              "#9c179e"
             ],
             [
              0.4444444444444444,
              "#bd3786"
             ],
             [
              0.5555555555555556,
              "#d8576b"
             ],
             [
              0.6666666666666666,
              "#ed7953"
             ],
             [
              0.7777777777777778,
              "#fb9f3a"
             ],
             [
              0.8888888888888888,
              "#fdca26"
             ],
             [
              1,
              "#f0f921"
             ]
            ],
            "type": "contour"
           }
          ],
          "contourcarpet": [
           {
            "colorbar": {
             "outlinewidth": 0,
             "ticks": ""
            },
            "type": "contourcarpet"
           }
          ],
          "heatmap": [
           {
            "colorbar": {
             "outlinewidth": 0,
             "ticks": ""
            },
            "colorscale": [
             [
              0,
              "#0d0887"
             ],
             [
              0.1111111111111111,
              "#46039f"
             ],
             [
              0.2222222222222222,
              "#7201a8"
             ],
             [
              0.3333333333333333,
              "#9c179e"
             ],
             [
              0.4444444444444444,
              "#bd3786"
             ],
             [
              0.5555555555555556,
              "#d8576b"
             ],
             [
              0.6666666666666666,
              "#ed7953"
             ],
             [
              0.7777777777777778,
              "#fb9f3a"
             ],
             [
              0.8888888888888888,
              "#fdca26"
             ],
             [
              1,
              "#f0f921"
             ]
            ],
            "type": "heatmap"
           }
          ],
          "histogram": [
           {
            "marker": {
             "pattern": {
              "fillmode": "overlay",
              "size": 10,
              "solidity": 0.2
             }
            },
            "type": "histogram"
           }
          ],
          "histogram2d": [
           {
            "colorbar": {
             "outlinewidth": 0,
             "ticks": ""
            },
            "colorscale": [
             [
              0,
              "#0d0887"
             ],
             [
              0.1111111111111111,
              "#46039f"
             ],
             [
              0.2222222222222222,
              "#7201a8"
             ],
             [
              0.3333333333333333,
              "#9c179e"
             ],
             [
              0.4444444444444444,
              "#bd3786"
             ],
             [
              0.5555555555555556,
              "#d8576b"
             ],
             [
              0.6666666666666666,
              "#ed7953"
             ],
             [
              0.7777777777777778,
              "#fb9f3a"
             ],
             [
              0.8888888888888888,
              "#fdca26"
             ],
             [
              1,
              "#f0f921"
             ]
            ],
            "type": "histogram2d"
           }
          ],
          "histogram2dcontour": [
           {
            "colorbar": {
             "outlinewidth": 0,
             "ticks": ""
            },
            "colorscale": [
             [
              0,
              "#0d0887"
             ],
             [
              0.1111111111111111,
              "#46039f"
             ],
             [
              0.2222222222222222,
              "#7201a8"
             ],
             [
              0.3333333333333333,
              "#9c179e"
             ],
             [
              0.4444444444444444,
              "#bd3786"
             ],
             [
              0.5555555555555556,
              "#d8576b"
             ],
             [
              0.6666666666666666,
              "#ed7953"
             ],
             [
              0.7777777777777778,
              "#fb9f3a"
             ],
             [
              0.8888888888888888,
              "#fdca26"
             ],
             [
              1,
              "#f0f921"
             ]
            ],
            "type": "histogram2dcontour"
           }
          ],
          "mesh3d": [
           {
            "colorbar": {
             "outlinewidth": 0,
             "ticks": ""
            },
            "type": "mesh3d"
           }
          ],
          "parcoords": [
           {
            "line": {
             "colorbar": {
              "outlinewidth": 0,
              "ticks": ""
             }
            },
            "type": "parcoords"
           }
          ],
          "pie": [
           {
            "automargin": true,
            "type": "pie"
           }
          ],
          "scatter": [
           {
            "fillpattern": {
             "fillmode": "overlay",
             "size": 10,
             "solidity": 0.2
            },
            "type": "scatter"
           }
          ],
          "scatter3d": [
           {
            "line": {
             "colorbar": {
              "outlinewidth": 0,
              "ticks": ""
             }
            },
            "marker": {
             "colorbar": {
              "outlinewidth": 0,
              "ticks": ""
             }
            },
            "type": "scatter3d"
           }
          ],
          "scattercarpet": [
           {
            "marker": {
             "colorbar": {
              "outlinewidth": 0,
              "ticks": ""
             }
            },
            "type": "scattercarpet"
           }
          ],
          "scattergeo": [
           {
            "marker": {
             "colorbar": {
              "outlinewidth": 0,
              "ticks": ""
             }
            },
            "type": "scattergeo"
           }
          ],
          "scattergl": [
           {
            "marker": {
             "colorbar": {
              "outlinewidth": 0,
              "ticks": ""
             }
            },
            "type": "scattergl"
           }
          ],
          "scattermap": [
           {
            "marker": {
             "colorbar": {
              "outlinewidth": 0,
              "ticks": ""
             }
            },
            "type": "scattermap"
           }
          ],
          "scattermapbox": [
           {
            "marker": {
             "colorbar": {
              "outlinewidth": 0,
              "ticks": ""
             }
            },
            "type": "scattermapbox"
           }
          ],
          "scatterpolar": [
           {
            "marker": {
             "colorbar": {
              "outlinewidth": 0,
              "ticks": ""
             }
            },
            "type": "scatterpolar"
           }
          ],
          "scatterpolargl": [
           {
            "marker": {
             "colorbar": {
              "outlinewidth": 0,
              "ticks": ""
             }
            },
            "type": "scatterpolargl"
           }
          ],
          "scatterternary": [
           {
            "marker": {
             "colorbar": {
              "outlinewidth": 0,
              "ticks": ""
             }
            },
            "type": "scatterternary"
           }
          ],
          "surface": [
           {
            "colorbar": {
             "outlinewidth": 0,
             "ticks": ""
            },
            "colorscale": [
             [
              0,
              "#0d0887"
             ],
             [
              0.1111111111111111,
              "#46039f"
             ],
             [
              0.2222222222222222,
              "#7201a8"
             ],
             [
              0.3333333333333333,
              "#9c179e"
             ],
             [
              0.4444444444444444,
              "#bd3786"
             ],
             [
              0.5555555555555556,
              "#d8576b"
             ],
             [
              0.6666666666666666,
              "#ed7953"
             ],
             [
              0.7777777777777778,
              "#fb9f3a"
             ],
             [
              0.8888888888888888,
              "#fdca26"
             ],
             [
              1,
              "#f0f921"
             ]
            ],
            "type": "surface"
           }
          ],
          "table": [
           {
            "cells": {
             "fill": {
              "color": "#EBF0F8"
             },
             "line": {
              "color": "white"
             }
            },
            "header": {
             "fill": {
              "color": "#C8D4E3"
             },
             "line": {
              "color": "white"
             }
            },
            "type": "table"
           }
          ]
         },
         "layout": {
          "annotationdefaults": {
           "arrowcolor": "#2a3f5f",
           "arrowhead": 0,
           "arrowwidth": 1
          },
          "autotypenumbers": "strict",
          "coloraxis": {
           "colorbar": {
            "outlinewidth": 0,
            "ticks": ""
           }
          },
          "colorscale": {
           "diverging": [
            [
             0,
             "#8e0152"
            ],
            [
             0.1,
             "#c51b7d"
            ],
            [
             0.2,
             "#de77ae"
            ],
            [
             0.3,
             "#f1b6da"
            ],
            [
             0.4,
             "#fde0ef"
            ],
            [
             0.5,
             "#f7f7f7"
            ],
            [
             0.6,
             "#e6f5d0"
            ],
            [
             0.7,
             "#b8e186"
            ],
            [
             0.8,
             "#7fbc41"
            ],
            [
             0.9,
             "#4d9221"
            ],
            [
             1,
             "#276419"
            ]
           ],
           "sequential": [
            [
             0,
             "#0d0887"
            ],
            [
             0.1111111111111111,
             "#46039f"
            ],
            [
             0.2222222222222222,
             "#7201a8"
            ],
            [
             0.3333333333333333,
             "#9c179e"
            ],
            [
             0.4444444444444444,
             "#bd3786"
            ],
            [
             0.5555555555555556,
             "#d8576b"
            ],
            [
             0.6666666666666666,
             "#ed7953"
            ],
            [
             0.7777777777777778,
             "#fb9f3a"
            ],
            [
             0.8888888888888888,
             "#fdca26"
            ],
            [
             1,
             "#f0f921"
            ]
           ],
           "sequentialminus": [
            [
             0,
             "#0d0887"
            ],
            [
             0.1111111111111111,
             "#46039f"
            ],
            [
             0.2222222222222222,
             "#7201a8"
            ],
            [
             0.3333333333333333,
             "#9c179e"
            ],
            [
             0.4444444444444444,
             "#bd3786"
            ],
            [
             0.5555555555555556,
             "#d8576b"
            ],
            [
             0.6666666666666666,
             "#ed7953"
            ],
            [
             0.7777777777777778,
             "#fb9f3a"
            ],
            [
             0.8888888888888888,
             "#fdca26"
            ],
            [
             1,
             "#f0f921"
            ]
           ]
          },
          "colorway": [
           "#636efa",
           "#EF553B",
           "#00cc96",
           "#ab63fa",
           "#FFA15A",
           "#19d3f3",
           "#FF6692",
           "#B6E880",
           "#FF97FF",
           "#FECB52"
          ],
          "font": {
           "color": "#2a3f5f"
          },
          "geo": {
           "bgcolor": "white",
           "lakecolor": "white",
           "landcolor": "white",
           "showlakes": true,
           "showland": true,
           "subunitcolor": "#C8D4E3"
          },
          "hoverlabel": {
           "align": "left"
          },
          "hovermode": "closest",
          "mapbox": {
           "style": "light"
          },
          "paper_bgcolor": "white",
          "plot_bgcolor": "white",
          "polar": {
           "angularaxis": {
            "gridcolor": "#EBF0F8",
            "linecolor": "#EBF0F8",
            "ticks": ""
           },
           "bgcolor": "white",
           "radialaxis": {
            "gridcolor": "#EBF0F8",
            "linecolor": "#EBF0F8",
            "ticks": ""
           }
          },
          "scene": {
           "xaxis": {
            "backgroundcolor": "white",
            "gridcolor": "#DFE8F3",
            "gridwidth": 2,
            "linecolor": "#EBF0F8",
            "showbackground": true,
            "ticks": "",
            "zerolinecolor": "#EBF0F8"
           },
           "yaxis": {
            "backgroundcolor": "white",
            "gridcolor": "#DFE8F3",
            "gridwidth": 2,
            "linecolor": "#EBF0F8",
            "showbackground": true,
            "ticks": "",
            "zerolinecolor": "#EBF0F8"
           },
           "zaxis": {
            "backgroundcolor": "white",
            "gridcolor": "#DFE8F3",
            "gridwidth": 2,
            "linecolor": "#EBF0F8",
            "showbackground": true,
            "ticks": "",
            "zerolinecolor": "#EBF0F8"
           }
          },
          "shapedefaults": {
           "line": {
            "color": "#2a3f5f"
           }
          },
          "ternary": {
           "aaxis": {
            "gridcolor": "#DFE8F3",
            "linecolor": "#A2B1C6",
            "ticks": ""
           },
           "baxis": {
            "gridcolor": "#DFE8F3",
            "linecolor": "#A2B1C6",
            "ticks": ""
           },
           "bgcolor": "white",
           "caxis": {
            "gridcolor": "#DFE8F3",
            "linecolor": "#A2B1C6",
            "ticks": ""
           }
          },
          "title": {
           "x": 0.05
          },
          "xaxis": {
           "automargin": true,
           "gridcolor": "#EBF0F8",
           "linecolor": "#EBF0F8",
           "ticks": "",
           "title": {
            "standoff": 15
           },
           "zerolinecolor": "#EBF0F8",
           "zerolinewidth": 2
          },
          "yaxis": {
           "automargin": true,
           "gridcolor": "#EBF0F8",
           "linecolor": "#EBF0F8",
           "ticks": "",
           "title": {
            "standoff": 15
           },
           "zerolinecolor": "#EBF0F8",
           "zerolinewidth": 2
          }
         }
        },
        "title": {
         "text": "Distribution of ActionGrouped",
         "x": 0.5
        },
        "xaxis": {
         "anchor": "y",
         "domain": [
          0,
          1
         ],
         "title": {}
        },
        "yaxis": {
         "anchor": "x",
         "domain": [
          0,
          1
         ],
         "title": {
          "text": "Count"
         }
        }
       }
      }
     },
     "metadata": {},
     "output_type": "display_data"
    },
    {
     "data": {
      "application/vnd.plotly.v1+json": {
       "config": {
        "plotlyServerURL": "https://plot.ly"
       },
       "data": [
        {
         "hovertemplate": "ActionGranular=%{x}<br>Count=%{text}<extra></extra>",
         "legendgroup": "",
         "marker": {
          "color": "#636efa",
          "pattern": {
           "shape": ""
          }
         },
         "name": "",
         "orientation": "v",
         "showlegend": false,
         "text": {
          "bdata": "AAAAAEDk1EAAAAAAgHXLQAAAAACAm8pAAAAAAADsn0AAAAAAAByfQAAAAAAA3JFAAAAAAACwi0AAAAAAAEBtQAAAAAAAQGhAAAAAAABAYkAAAAAAAMBaQAAAAAAAQFRAAAAAAADAUEAAAAAAAIBLQAAAAAAAgEFAAAAAAAAAHEA=",
          "dtype": "f8"
         },
         "textposition": "outside",
         "type": "bar",
         "x": [
          "update stsrefreshtokenvalidfrom timestamp.",
          "account password changed",
          "change user password.",
          "isolateresponse",
          "account disabled",
          "disable account.",
          "reset user password.",
          "forcepasswordresetremediation",
          "quarantinefile",
          "msecidentitiesconfirmusercompromised",
          "disableuser",
          "msecidentitiessuspenduser",
          "delete virtualmachines",
          "account deleted",
          "delete user.",
          "set force change user password."
         ],
         "xaxis": "x",
         "y": {
          "bdata": "kVPrNjc1+wfHB3cEdgPqAMIAkgBrAFEAQwA3ACMABwA=",
          "dtype": "i2"
         },
         "yaxis": "y"
        }
       ],
       "layout": {
        "barmode": "relative",
        "legend": {
         "tracegroupgap": 0
        },
        "template": {
         "data": {
          "bar": [
           {
            "error_x": {
             "color": "#2a3f5f"
            },
            "error_y": {
             "color": "#2a3f5f"
            },
            "marker": {
             "line": {
              "color": "white",
              "width": 0.5
             },
             "pattern": {
              "fillmode": "overlay",
              "size": 10,
              "solidity": 0.2
             }
            },
            "type": "bar"
           }
          ],
          "barpolar": [
           {
            "marker": {
             "line": {
              "color": "white",
              "width": 0.5
             },
             "pattern": {
              "fillmode": "overlay",
              "size": 10,
              "solidity": 0.2
             }
            },
            "type": "barpolar"
           }
          ],
          "carpet": [
           {
            "aaxis": {
             "endlinecolor": "#2a3f5f",
             "gridcolor": "#C8D4E3",
             "linecolor": "#C8D4E3",
             "minorgridcolor": "#C8D4E3",
             "startlinecolor": "#2a3f5f"
            },
            "baxis": {
             "endlinecolor": "#2a3f5f",
             "gridcolor": "#C8D4E3",
             "linecolor": "#C8D4E3",
             "minorgridcolor": "#C8D4E3",
             "startlinecolor": "#2a3f5f"
            },
            "type": "carpet"
           }
          ],
          "choropleth": [
           {
            "colorbar": {
             "outlinewidth": 0,
             "ticks": ""
            },
            "type": "choropleth"
           }
          ],
          "contour": [
           {
            "colorbar": {
             "outlinewidth": 0,
             "ticks": ""
            },
            "colorscale": [
             [
              0,
              "#0d0887"
             ],
             [
              0.1111111111111111,
              "#46039f"
             ],
             [
              0.2222222222222222,
              "#7201a8"
             ],
             [
              0.3333333333333333,
              "#9c179e"
             ],
             [
              0.4444444444444444,
              "#bd3786"
             ],
             [
              0.5555555555555556,
              "#d8576b"
             ],
             [
              0.6666666666666666,
              "#ed7953"
             ],
             [
              0.7777777777777778,
              "#fb9f3a"
             ],
             [
              0.8888888888888888,
              "#fdca26"
             ],
             [
              1,
              "#f0f921"
             ]
            ],
            "type": "contour"
           }
          ],
          "contourcarpet": [
           {
            "colorbar": {
             "outlinewidth": 0,
             "ticks": ""
            },
            "type": "contourcarpet"
           }
          ],
          "heatmap": [
           {
            "colorbar": {
             "outlinewidth": 0,
             "ticks": ""
            },
            "colorscale": [
             [
              0,
              "#0d0887"
             ],
             [
              0.1111111111111111,
              "#46039f"
             ],
             [
              0.2222222222222222,
              "#7201a8"
             ],
             [
              0.3333333333333333,
              "#9c179e"
             ],
             [
              0.4444444444444444,
              "#bd3786"
             ],
             [
              0.5555555555555556,
              "#d8576b"
             ],
             [
              0.6666666666666666,
              "#ed7953"
             ],
             [
              0.7777777777777778,
              "#fb9f3a"
             ],
             [
              0.8888888888888888,
              "#fdca26"
             ],
             [
              1,
              "#f0f921"
             ]
            ],
            "type": "heatmap"
           }
          ],
          "histogram": [
           {
            "marker": {
             "pattern": {
              "fillmode": "overlay",
              "size": 10,
              "solidity": 0.2
             }
            },
            "type": "histogram"
           }
          ],
          "histogram2d": [
           {
            "colorbar": {
             "outlinewidth": 0,
             "ticks": ""
            },
            "colorscale": [
             [
              0,
              "#0d0887"
             ],
             [
              0.1111111111111111,
              "#46039f"
             ],
             [
              0.2222222222222222,
              "#7201a8"
             ],
             [
              0.3333333333333333,
              "#9c179e"
             ],
             [
              0.4444444444444444,
              "#bd3786"
             ],
             [
              0.5555555555555556,
              "#d8576b"
             ],
             [
              0.6666666666666666,
              "#ed7953"
             ],
             [
              0.7777777777777778,
              "#fb9f3a"
             ],
             [
              0.8888888888888888,
              "#fdca26"
             ],
             [
              1,
              "#f0f921"
             ]
            ],
            "type": "histogram2d"
           }
          ],
          "histogram2dcontour": [
           {
            "colorbar": {
             "outlinewidth": 0,
             "ticks": ""
            },
            "colorscale": [
             [
              0,
              "#0d0887"
             ],
             [
              0.1111111111111111,
              "#46039f"
             ],
             [
              0.2222222222222222,
              "#7201a8"
             ],
             [
              0.3333333333333333,
              "#9c179e"
             ],
             [
              0.4444444444444444,
              "#bd3786"
             ],
             [
              0.5555555555555556,
              "#d8576b"
             ],
             [
              0.6666666666666666,
              "#ed7953"
             ],
             [
              0.7777777777777778,
              "#fb9f3a"
             ],
             [
              0.8888888888888888,
              "#fdca26"
             ],
             [
              1,
              "#f0f921"
             ]
            ],
            "type": "histogram2dcontour"
           }
          ],
          "mesh3d": [
           {
            "colorbar": {
             "outlinewidth": 0,
             "ticks": ""
            },
            "type": "mesh3d"
           }
          ],
          "parcoords": [
           {
            "line": {
             "colorbar": {
              "outlinewidth": 0,
              "ticks": ""
             }
            },
            "type": "parcoords"
           }
          ],
          "pie": [
           {
            "automargin": true,
            "type": "pie"
           }
          ],
          "scatter": [
           {
            "fillpattern": {
             "fillmode": "overlay",
             "size": 10,
             "solidity": 0.2
            },
            "type": "scatter"
           }
          ],
          "scatter3d": [
           {
            "line": {
             "colorbar": {
              "outlinewidth": 0,
              "ticks": ""
             }
            },
            "marker": {
             "colorbar": {
              "outlinewidth": 0,
              "ticks": ""
             }
            },
            "type": "scatter3d"
           }
          ],
          "scattercarpet": [
           {
            "marker": {
             "colorbar": {
              "outlinewidth": 0,
              "ticks": ""
             }
            },
            "type": "scattercarpet"
           }
          ],
          "scattergeo": [
           {
            "marker": {
             "colorbar": {
              "outlinewidth": 0,
              "ticks": ""
             }
            },
            "type": "scattergeo"
           }
          ],
          "scattergl": [
           {
            "marker": {
             "colorbar": {
              "outlinewidth": 0,
              "ticks": ""
             }
            },
            "type": "scattergl"
           }
          ],
          "scattermap": [
           {
            "marker": {
             "colorbar": {
              "outlinewidth": 0,
              "ticks": ""
             }
            },
            "type": "scattermap"
           }
          ],
          "scattermapbox": [
           {
            "marker": {
             "colorbar": {
              "outlinewidth": 0,
              "ticks": ""
             }
            },
            "type": "scattermapbox"
           }
          ],
          "scatterpolar": [
           {
            "marker": {
             "colorbar": {
              "outlinewidth": 0,
              "ticks": ""
             }
            },
            "type": "scatterpolar"
           }
          ],
          "scatterpolargl": [
           {
            "marker": {
             "colorbar": {
              "outlinewidth": 0,
              "ticks": ""
             }
            },
            "type": "scatterpolargl"
           }
          ],
          "scatterternary": [
           {
            "marker": {
             "colorbar": {
              "outlinewidth": 0,
              "ticks": ""
             }
            },
            "type": "scatterternary"
           }
          ],
          "surface": [
           {
            "colorbar": {
             "outlinewidth": 0,
             "ticks": ""
            },
            "colorscale": [
             [
              0,
              "#0d0887"
             ],
             [
              0.1111111111111111,
              "#46039f"
             ],
             [
              0.2222222222222222,
              "#7201a8"
             ],
             [
              0.3333333333333333,
              "#9c179e"
             ],
             [
              0.4444444444444444,
              "#bd3786"
             ],
             [
              0.5555555555555556,
              "#d8576b"
             ],
             [
              0.6666666666666666,
              "#ed7953"
             ],
             [
              0.7777777777777778,
              "#fb9f3a"
             ],
             [
              0.8888888888888888,
              "#fdca26"
             ],
             [
              1,
              "#f0f921"
             ]
            ],
            "type": "surface"
           }
          ],
          "table": [
           {
            "cells": {
             "fill": {
              "color": "#EBF0F8"
             },
             "line": {
              "color": "white"
             }
            },
            "header": {
             "fill": {
              "color": "#C8D4E3"
             },
             "line": {
              "color": "white"
             }
            },
            "type": "table"
           }
          ]
         },
         "layout": {
          "annotationdefaults": {
           "arrowcolor": "#2a3f5f",
           "arrowhead": 0,
           "arrowwidth": 1
          },
          "autotypenumbers": "strict",
          "coloraxis": {
           "colorbar": {
            "outlinewidth": 0,
            "ticks": ""
           }
          },
          "colorscale": {
           "diverging": [
            [
             0,
             "#8e0152"
            ],
            [
             0.1,
             "#c51b7d"
            ],
            [
             0.2,
             "#de77ae"
            ],
            [
             0.3,
             "#f1b6da"
            ],
            [
             0.4,
             "#fde0ef"
            ],
            [
             0.5,
             "#f7f7f7"
            ],
            [
             0.6,
             "#e6f5d0"
            ],
            [
             0.7,
             "#b8e186"
            ],
            [
             0.8,
             "#7fbc41"
            ],
            [
             0.9,
             "#4d9221"
            ],
            [
             1,
             "#276419"
            ]
           ],
           "sequential": [
            [
             0,
             "#0d0887"
            ],
            [
             0.1111111111111111,
             "#46039f"
            ],
            [
             0.2222222222222222,
             "#7201a8"
            ],
            [
             0.3333333333333333,
             "#9c179e"
            ],
            [
             0.4444444444444444,
             "#bd3786"
            ],
            [
             0.5555555555555556,
             "#d8576b"
            ],
            [
             0.6666666666666666,
             "#ed7953"
            ],
            [
             0.7777777777777778,
             "#fb9f3a"
            ],
            [
             0.8888888888888888,
             "#fdca26"
            ],
            [
             1,
             "#f0f921"
            ]
           ],
           "sequentialminus": [
            [
             0,
             "#0d0887"
            ],
            [
             0.1111111111111111,
             "#46039f"
            ],
            [
             0.2222222222222222,
             "#7201a8"
            ],
            [
             0.3333333333333333,
             "#9c179e"
            ],
            [
             0.4444444444444444,
             "#bd3786"
            ],
            [
             0.5555555555555556,
             "#d8576b"
            ],
            [
             0.6666666666666666,
             "#ed7953"
            ],
            [
             0.7777777777777778,
             "#fb9f3a"
            ],
            [
             0.8888888888888888,
             "#fdca26"
            ],
            [
             1,
             "#f0f921"
            ]
           ]
          },
          "colorway": [
           "#636efa",
           "#EF553B",
           "#00cc96",
           "#ab63fa",
           "#FFA15A",
           "#19d3f3",
           "#FF6692",
           "#B6E880",
           "#FF97FF",
           "#FECB52"
          ],
          "font": {
           "color": "#2a3f5f"
          },
          "geo": {
           "bgcolor": "white",
           "lakecolor": "white",
           "landcolor": "white",
           "showlakes": true,
           "showland": true,
           "subunitcolor": "#C8D4E3"
          },
          "hoverlabel": {
           "align": "left"
          },
          "hovermode": "closest",
          "mapbox": {
           "style": "light"
          },
          "paper_bgcolor": "white",
          "plot_bgcolor": "white",
          "polar": {
           "angularaxis": {
            "gridcolor": "#EBF0F8",
            "linecolor": "#EBF0F8",
            "ticks": ""
           },
           "bgcolor": "white",
           "radialaxis": {
            "gridcolor": "#EBF0F8",
            "linecolor": "#EBF0F8",
            "ticks": ""
           }
          },
          "scene": {
           "xaxis": {
            "backgroundcolor": "white",
            "gridcolor": "#DFE8F3",
            "gridwidth": 2,
            "linecolor": "#EBF0F8",
            "showbackground": true,
            "ticks": "",
            "zerolinecolor": "#EBF0F8"
           },
           "yaxis": {
            "backgroundcolor": "white",
            "gridcolor": "#DFE8F3",
            "gridwidth": 2,
            "linecolor": "#EBF0F8",
            "showbackground": true,
            "ticks": "",
            "zerolinecolor": "#EBF0F8"
           },
           "zaxis": {
            "backgroundcolor": "white",
            "gridcolor": "#DFE8F3",
            "gridwidth": 2,
            "linecolor": "#EBF0F8",
            "showbackground": true,
            "ticks": "",
            "zerolinecolor": "#EBF0F8"
           }
          },
          "shapedefaults": {
           "line": {
            "color": "#2a3f5f"
           }
          },
          "ternary": {
           "aaxis": {
            "gridcolor": "#DFE8F3",
            "linecolor": "#A2B1C6",
            "ticks": ""
           },
           "baxis": {
            "gridcolor": "#DFE8F3",
            "linecolor": "#A2B1C6",
            "ticks": ""
           },
           "bgcolor": "white",
           "caxis": {
            "gridcolor": "#DFE8F3",
            "linecolor": "#A2B1C6",
            "ticks": ""
           }
          },
          "title": {
           "x": 0.05
          },
          "xaxis": {
           "automargin": true,
           "gridcolor": "#EBF0F8",
           "linecolor": "#EBF0F8",
           "ticks": "",
           "title": {
            "standoff": 15
           },
           "zerolinecolor": "#EBF0F8",
           "zerolinewidth": 2
          },
          "yaxis": {
           "automargin": true,
           "gridcolor": "#EBF0F8",
           "linecolor": "#EBF0F8",
           "ticks": "",
           "title": {
            "standoff": 15
           },
           "zerolinecolor": "#EBF0F8",
           "zerolinewidth": 2
          }
         }
        },
        "title": {
         "text": "Distribution of ActionGranular",
         "x": 0.5
        },
        "xaxis": {
         "anchor": "y",
         "domain": [
          0,
          1
         ],
         "title": {}
        },
        "yaxis": {
         "anchor": "x",
         "domain": [
          0,
          1
         ],
         "title": {
          "text": "Count"
         }
        }
       }
      }
     },
     "metadata": {},
     "output_type": "display_data"
    },
    {
     "name": "stdout",
     "output_type": "stream",
     "text": [
      "\n",
      "IncidentGrade Distribution:\n",
      "                  Count  Percentage\n",
      "IncidentGrade                      \n",
      "BenignPositive  4110817       43.20\n",
      "TruePositive    3322713       34.91\n",
      "FalsePositive   2031967       21.35\n",
      "NaN               51340        0.54\n",
      "\n",
      "ActionGrouped Distribution:\n",
      "                         Count  Percentage\n",
      "ActionGrouped                             \n",
      "NaN                    9460773       99.41\n",
      "ContainAccount           53760        0.56\n",
      "IsolateDevice             2237        0.02\n",
      "Stop Virtual Machines       67        0.00\n",
      "\n",
      "ActionGranular Distribution:\n",
      "                                              Count  Percentage\n",
      "ActionGranular                                                 \n",
      "NaN                                         9460773       99.41\n",
      "update stsrefreshtokenvalidfrom timestamp.    21393        0.22\n",
      "account password changed                      14059        0.15\n",
      "change user password.                         13623        0.14\n",
      "isolateresponse                                2043        0.02\n",
      "account disabled                               1991        0.02\n",
      "disable account.                               1143        0.01\n",
      "reset user password.                            886        0.01\n",
      "forcepasswordresetremediation                   234        0.00\n",
      "quarantinefile                                  194        0.00\n",
      "msecidentitiesconfirmusercompromised            146        0.00\n",
      "disableuser                                     107        0.00\n",
      "msecidentitiessuspenduser                        81        0.00\n",
      "delete virtualmachines                           67        0.00\n",
      "account deleted                                  55        0.00\n",
      "delete user.                                     35        0.00\n",
      "set force change user password.                   7        0.00\n"
     ]
    }
   ],
   "source": [
    "import pandas as pd\n",
    "import plotly.express as px\n",
    "\n",
    "# 1. IncidentGrade Distribution\n",
    "incident_counts = df['IncidentGrade'].value_counts().reset_index()\n",
    "incident_counts.columns = ['IncidentGrade', 'Count']  # Rename columns explicitly\n",
    "\n",
    "fig1 = px.bar(\n",
    "    incident_counts,\n",
    "    x='IncidentGrade',\n",
    "    y='Count',\n",
    "    title='Distribution of IncidentGrade',\n",
    "    text='Count'  # Show values on bars\n",
    ")\n",
    "fig1.update_traces(textposition='outside')\n",
    "fig1.update_layout(\n",
    "    template='plotly_white',\n",
    "    title_x=0.5,\n",
    "    xaxis_title=None\n",
    ")\n",
    "fig1.show()\n",
    "\n",
    "# 2. ActionGrouped Distribution\n",
    "action_grouped_counts = df['ActionGrouped'].value_counts().reset_index()\n",
    "action_grouped_counts.columns = ['ActionGrouped', 'Count']\n",
    "\n",
    "fig2 = px.bar(\n",
    "    action_grouped_counts,\n",
    "    x='ActionGrouped',\n",
    "    y='Count',\n",
    "    title='Distribution of ActionGrouped',\n",
    "    text='Count'\n",
    ")\n",
    "fig2.update_traces(textposition='outside')\n",
    "fig2.update_layout(\n",
    "    template='plotly_white',\n",
    "    title_x=0.5,\n",
    "    xaxis_title=None\n",
    ")\n",
    "fig2.show()\n",
    "\n",
    "# 3. ActionGranular Distribution\n",
    "action_granular_counts = df['ActionGranular'].value_counts().reset_index()\n",
    "action_granular_counts.columns = ['ActionGranular', 'Count']\n",
    "\n",
    "fig3 = px.bar(\n",
    "    action_granular_counts,\n",
    "    x='ActionGranular',\n",
    "    y='Count',\n",
    "    title='Distribution of ActionGranular',\n",
    "    text='Count'\n",
    ")\n",
    "fig3.update_traces(textposition='outside')\n",
    "fig3.update_layout(\n",
    "    template='plotly_white',\n",
    "    title_x=0.5,\n",
    "    xaxis_title=None\n",
    ")\n",
    "fig3.show()\n",
    "\n",
    "# Print statistics\n",
    "for col in ['IncidentGrade', 'ActionGrouped', 'ActionGranular']:\n",
    "    print(f\"\\n{col} Distribution:\")\n",
    "    stats = pd.DataFrame({\n",
    "        'Count': df[col].value_counts(dropna=False),\n",
    "        'Percentage': df[col].value_counts(normalize=True, dropna=False).mul(100).round(2)\n",
    "    })\n",
    "    print(stats)"
   ]
  },
  {
   "cell_type": "code",
   "execution_count": 69,
   "metadata": {},
   "outputs": [
    {
     "name": "stdout",
     "output_type": "stream",
     "text": [
      "\n",
      "==================== Incident Level Distributions ====================\n"
     ]
    },
    {
     "data": {
      "application/vnd.plotly.v1+json": {
       "config": {
        "plotlyServerURL": "https://plot.ly"
       },
       "data": [
        {
         "customdata": {
          "bdata": "16NwPQq3RUDNzMzMzIxBQLgehetReDVA",
          "dtype": "f8",
          "shape": "3, 1"
         },
         "hovertemplate": "IncidentGrade=%{x}<br>Count=%{text}<br>Percentage=%{customdata[0]}<extra></extra>",
         "legendgroup": "",
         "marker": {
          "color": "#636efa",
          "pattern": {
           "shape": ""
          }
         },
         "name": "",
         "orientation": "v",
         "showlegend": false,
         "text": {
          "bdata": "AAAAgPBcT0EAAACArFlJQQAAAABfAT9B",
          "dtype": "f8"
         },
         "textposition": "outside",
         "type": "bar",
         "x": [
          "BenignPositive",
          "TruePositive",
          "FalsePositive"
         ],
         "xaxis": "x",
         "y": {
          "bdata": "4bk+AFmzMgBfAR8A",
          "dtype": "i4"
         },
         "yaxis": "y"
        }
       ],
       "layout": {
        "barmode": "relative",
        "height": 500,
        "legend": {
         "tracegroupgap": 0
        },
        "showlegend": false,
        "template": {
         "data": {
          "bar": [
           {
            "error_x": {
             "color": "#2a3f5f"
            },
            "error_y": {
             "color": "#2a3f5f"
            },
            "marker": {
             "line": {
              "color": "white",
              "width": 0.5
             },
             "pattern": {
              "fillmode": "overlay",
              "size": 10,
              "solidity": 0.2
             }
            },
            "type": "bar"
           }
          ],
          "barpolar": [
           {
            "marker": {
             "line": {
              "color": "white",
              "width": 0.5
             },
             "pattern": {
              "fillmode": "overlay",
              "size": 10,
              "solidity": 0.2
             }
            },
            "type": "barpolar"
           }
          ],
          "carpet": [
           {
            "aaxis": {
             "endlinecolor": "#2a3f5f",
             "gridcolor": "#C8D4E3",
             "linecolor": "#C8D4E3",
             "minorgridcolor": "#C8D4E3",
             "startlinecolor": "#2a3f5f"
            },
            "baxis": {
             "endlinecolor": "#2a3f5f",
             "gridcolor": "#C8D4E3",
             "linecolor": "#C8D4E3",
             "minorgridcolor": "#C8D4E3",
             "startlinecolor": "#2a3f5f"
            },
            "type": "carpet"
           }
          ],
          "choropleth": [
           {
            "colorbar": {
             "outlinewidth": 0,
             "ticks": ""
            },
            "type": "choropleth"
           }
          ],
          "contour": [
           {
            "colorbar": {
             "outlinewidth": 0,
             "ticks": ""
            },
            "colorscale": [
             [
              0,
              "#0d0887"
             ],
             [
              0.1111111111111111,
              "#46039f"
             ],
             [
              0.2222222222222222,
              "#7201a8"
             ],
             [
              0.3333333333333333,
              "#9c179e"
             ],
             [
              0.4444444444444444,
              "#bd3786"
             ],
             [
              0.5555555555555556,
              "#d8576b"
             ],
             [
              0.6666666666666666,
              "#ed7953"
             ],
             [
              0.7777777777777778,
              "#fb9f3a"
             ],
             [
              0.8888888888888888,
              "#fdca26"
             ],
             [
              1,
              "#f0f921"
             ]
            ],
            "type": "contour"
           }
          ],
          "contourcarpet": [
           {
            "colorbar": {
             "outlinewidth": 0,
             "ticks": ""
            },
            "type": "contourcarpet"
           }
          ],
          "heatmap": [
           {
            "colorbar": {
             "outlinewidth": 0,
             "ticks": ""
            },
            "colorscale": [
             [
              0,
              "#0d0887"
             ],
             [
              0.1111111111111111,
              "#46039f"
             ],
             [
              0.2222222222222222,
              "#7201a8"
             ],
             [
              0.3333333333333333,
              "#9c179e"
             ],
             [
              0.4444444444444444,
              "#bd3786"
             ],
             [
              0.5555555555555556,
              "#d8576b"
             ],
             [
              0.6666666666666666,
              "#ed7953"
             ],
             [
              0.7777777777777778,
              "#fb9f3a"
             ],
             [
              0.8888888888888888,
              "#fdca26"
             ],
             [
              1,
              "#f0f921"
             ]
            ],
            "type": "heatmap"
           }
          ],
          "histogram": [
           {
            "marker": {
             "pattern": {
              "fillmode": "overlay",
              "size": 10,
              "solidity": 0.2
             }
            },
            "type": "histogram"
           }
          ],
          "histogram2d": [
           {
            "colorbar": {
             "outlinewidth": 0,
             "ticks": ""
            },
            "colorscale": [
             [
              0,
              "#0d0887"
             ],
             [
              0.1111111111111111,
              "#46039f"
             ],
             [
              0.2222222222222222,
              "#7201a8"
             ],
             [
              0.3333333333333333,
              "#9c179e"
             ],
             [
              0.4444444444444444,
              "#bd3786"
             ],
             [
              0.5555555555555556,
              "#d8576b"
             ],
             [
              0.6666666666666666,
              "#ed7953"
             ],
             [
              0.7777777777777778,
              "#fb9f3a"
             ],
             [
              0.8888888888888888,
              "#fdca26"
             ],
             [
              1,
              "#f0f921"
             ]
            ],
            "type": "histogram2d"
           }
          ],
          "histogram2dcontour": [
           {
            "colorbar": {
             "outlinewidth": 0,
             "ticks": ""
            },
            "colorscale": [
             [
              0,
              "#0d0887"
             ],
             [
              0.1111111111111111,
              "#46039f"
             ],
             [
              0.2222222222222222,
              "#7201a8"
             ],
             [
              0.3333333333333333,
              "#9c179e"
             ],
             [
              0.4444444444444444,
              "#bd3786"
             ],
             [
              0.5555555555555556,
              "#d8576b"
             ],
             [
              0.6666666666666666,
              "#ed7953"
             ],
             [
              0.7777777777777778,
              "#fb9f3a"
             ],
             [
              0.8888888888888888,
              "#fdca26"
             ],
             [
              1,
              "#f0f921"
             ]
            ],
            "type": "histogram2dcontour"
           }
          ],
          "mesh3d": [
           {
            "colorbar": {
             "outlinewidth": 0,
             "ticks": ""
            },
            "type": "mesh3d"
           }
          ],
          "parcoords": [
           {
            "line": {
             "colorbar": {
              "outlinewidth": 0,
              "ticks": ""
             }
            },
            "type": "parcoords"
           }
          ],
          "pie": [
           {
            "automargin": true,
            "type": "pie"
           }
          ],
          "scatter": [
           {
            "fillpattern": {
             "fillmode": "overlay",
             "size": 10,
             "solidity": 0.2
            },
            "type": "scatter"
           }
          ],
          "scatter3d": [
           {
            "line": {
             "colorbar": {
              "outlinewidth": 0,
              "ticks": ""
             }
            },
            "marker": {
             "colorbar": {
              "outlinewidth": 0,
              "ticks": ""
             }
            },
            "type": "scatter3d"
           }
          ],
          "scattercarpet": [
           {
            "marker": {
             "colorbar": {
              "outlinewidth": 0,
              "ticks": ""
             }
            },
            "type": "scattercarpet"
           }
          ],
          "scattergeo": [
           {
            "marker": {
             "colorbar": {
              "outlinewidth": 0,
              "ticks": ""
             }
            },
            "type": "scattergeo"
           }
          ],
          "scattergl": [
           {
            "marker": {
             "colorbar": {
              "outlinewidth": 0,
              "ticks": ""
             }
            },
            "type": "scattergl"
           }
          ],
          "scattermap": [
           {
            "marker": {
             "colorbar": {
              "outlinewidth": 0,
              "ticks": ""
             }
            },
            "type": "scattermap"
           }
          ],
          "scattermapbox": [
           {
            "marker": {
             "colorbar": {
              "outlinewidth": 0,
              "ticks": ""
             }
            },
            "type": "scattermapbox"
           }
          ],
          "scatterpolar": [
           {
            "marker": {
             "colorbar": {
              "outlinewidth": 0,
              "ticks": ""
             }
            },
            "type": "scatterpolar"
           }
          ],
          "scatterpolargl": [
           {
            "marker": {
             "colorbar": {
              "outlinewidth": 0,
              "ticks": ""
             }
            },
            "type": "scatterpolargl"
           }
          ],
          "scatterternary": [
           {
            "marker": {
             "colorbar": {
              "outlinewidth": 0,
              "ticks": ""
             }
            },
            "type": "scatterternary"
           }
          ],
          "surface": [
           {
            "colorbar": {
             "outlinewidth": 0,
             "ticks": ""
            },
            "colorscale": [
             [
              0,
              "#0d0887"
             ],
             [
              0.1111111111111111,
              "#46039f"
             ],
             [
              0.2222222222222222,
              "#7201a8"
             ],
             [
              0.3333333333333333,
              "#9c179e"
             ],
             [
              0.4444444444444444,
              "#bd3786"
             ],
             [
              0.5555555555555556,
              "#d8576b"
             ],
             [
              0.6666666666666666,
              "#ed7953"
             ],
             [
              0.7777777777777778,
              "#fb9f3a"
             ],
             [
              0.8888888888888888,
              "#fdca26"
             ],
             [
              1,
              "#f0f921"
             ]
            ],
            "type": "surface"
           }
          ],
          "table": [
           {
            "cells": {
             "fill": {
              "color": "#EBF0F8"
             },
             "line": {
              "color": "white"
             }
            },
            "header": {
             "fill": {
              "color": "#C8D4E3"
             },
             "line": {
              "color": "white"
             }
            },
            "type": "table"
           }
          ]
         },
         "layout": {
          "annotationdefaults": {
           "arrowcolor": "#2a3f5f",
           "arrowhead": 0,
           "arrowwidth": 1
          },
          "autotypenumbers": "strict",
          "coloraxis": {
           "colorbar": {
            "outlinewidth": 0,
            "ticks": ""
           }
          },
          "colorscale": {
           "diverging": [
            [
             0,
             "#8e0152"
            ],
            [
             0.1,
             "#c51b7d"
            ],
            [
             0.2,
             "#de77ae"
            ],
            [
             0.3,
             "#f1b6da"
            ],
            [
             0.4,
             "#fde0ef"
            ],
            [
             0.5,
             "#f7f7f7"
            ],
            [
             0.6,
             "#e6f5d0"
            ],
            [
             0.7,
             "#b8e186"
            ],
            [
             0.8,
             "#7fbc41"
            ],
            [
             0.9,
             "#4d9221"
            ],
            [
             1,
             "#276419"
            ]
           ],
           "sequential": [
            [
             0,
             "#0d0887"
            ],
            [
             0.1111111111111111,
             "#46039f"
            ],
            [
             0.2222222222222222,
             "#7201a8"
            ],
            [
             0.3333333333333333,
             "#9c179e"
            ],
            [
             0.4444444444444444,
             "#bd3786"
            ],
            [
             0.5555555555555556,
             "#d8576b"
            ],
            [
             0.6666666666666666,
             "#ed7953"
            ],
            [
             0.7777777777777778,
             "#fb9f3a"
            ],
            [
             0.8888888888888888,
             "#fdca26"
            ],
            [
             1,
             "#f0f921"
            ]
           ],
           "sequentialminus": [
            [
             0,
             "#0d0887"
            ],
            [
             0.1111111111111111,
             "#46039f"
            ],
            [
             0.2222222222222222,
             "#7201a8"
            ],
            [
             0.3333333333333333,
             "#9c179e"
            ],
            [
             0.4444444444444444,
             "#bd3786"
            ],
            [
             0.5555555555555556,
             "#d8576b"
            ],
            [
             0.6666666666666666,
             "#ed7953"
            ],
            [
             0.7777777777777778,
             "#fb9f3a"
            ],
            [
             0.8888888888888888,
             "#fdca26"
            ],
            [
             1,
             "#f0f921"
            ]
           ]
          },
          "colorway": [
           "#636efa",
           "#EF553B",
           "#00cc96",
           "#ab63fa",
           "#FFA15A",
           "#19d3f3",
           "#FF6692",
           "#B6E880",
           "#FF97FF",
           "#FECB52"
          ],
          "font": {
           "color": "#2a3f5f"
          },
          "geo": {
           "bgcolor": "white",
           "lakecolor": "white",
           "landcolor": "white",
           "showlakes": true,
           "showland": true,
           "subunitcolor": "#C8D4E3"
          },
          "hoverlabel": {
           "align": "left"
          },
          "hovermode": "closest",
          "mapbox": {
           "style": "light"
          },
          "paper_bgcolor": "white",
          "plot_bgcolor": "white",
          "polar": {
           "angularaxis": {
            "gridcolor": "#EBF0F8",
            "linecolor": "#EBF0F8",
            "ticks": ""
           },
           "bgcolor": "white",
           "radialaxis": {
            "gridcolor": "#EBF0F8",
            "linecolor": "#EBF0F8",
            "ticks": ""
           }
          },
          "scene": {
           "xaxis": {
            "backgroundcolor": "white",
            "gridcolor": "#DFE8F3",
            "gridwidth": 2,
            "linecolor": "#EBF0F8",
            "showbackground": true,
            "ticks": "",
            "zerolinecolor": "#EBF0F8"
           },
           "yaxis": {
            "backgroundcolor": "white",
            "gridcolor": "#DFE8F3",
            "gridwidth": 2,
            "linecolor": "#EBF0F8",
            "showbackground": true,
            "ticks": "",
            "zerolinecolor": "#EBF0F8"
           },
           "zaxis": {
            "backgroundcolor": "white",
            "gridcolor": "#DFE8F3",
            "gridwidth": 2,
            "linecolor": "#EBF0F8",
            "showbackground": true,
            "ticks": "",
            "zerolinecolor": "#EBF0F8"
           }
          },
          "shapedefaults": {
           "line": {
            "color": "#2a3f5f"
           }
          },
          "ternary": {
           "aaxis": {
            "gridcolor": "#DFE8F3",
            "linecolor": "#A2B1C6",
            "ticks": ""
           },
           "baxis": {
            "gridcolor": "#DFE8F3",
            "linecolor": "#A2B1C6",
            "ticks": ""
           },
           "bgcolor": "white",
           "caxis": {
            "gridcolor": "#DFE8F3",
            "linecolor": "#A2B1C6",
            "ticks": ""
           }
          },
          "title": {
           "x": 0.05
          },
          "xaxis": {
           "automargin": true,
           "gridcolor": "#EBF0F8",
           "linecolor": "#EBF0F8",
           "ticks": "",
           "title": {
            "standoff": 15
           },
           "zerolinecolor": "#EBF0F8",
           "zerolinewidth": 2
          },
          "yaxis": {
           "automargin": true,
           "gridcolor": "#EBF0F8",
           "linecolor": "#EBF0F8",
           "ticks": "",
           "title": {
            "standoff": 15
           },
           "zerolinecolor": "#EBF0F8",
           "zerolinewidth": 2
          }
         }
        },
        "title": {
         "text": "Distribution of IncidentGrade",
         "x": 0.5
        },
        "xaxis": {
         "anchor": "y",
         "domain": [
          0,
          1
         ],
         "title": {}
        },
        "yaxis": {
         "anchor": "x",
         "domain": [
          0,
          1
         ],
         "title": {
          "text": "Count"
         }
        }
       }
      }
     },
     "metadata": {},
     "output_type": "display_data"
    },
    {
     "name": "stdout",
     "output_type": "stream",
     "text": [
      "\n",
      "IncidentGrade Distribution:\n",
      "                  Count  Percentage\n",
      "IncidentGrade                      \n",
      "BenignPositive  4110817       43.20\n",
      "TruePositive    3322713       34.91\n",
      "FalsePositive   2031967       21.35\n",
      "NaN               51340        0.54\n",
      "\n",
      "Total unique values: 3\n",
      "Null values: 51340 (0.54%)\n",
      "------------------------------------------------------------\n",
      "\n",
      "==================== Alert Level Distributions ====================\n"
     ]
    },
    {
     "data": {
      "application/vnd.plotly.v1+json": {
       "config": {
        "plotlyServerURL": "https://plot.ly"
       },
       "data": [
        {
         "customdata": {
          "bdata": "rkfhehSORkAUrkfhepQwQJqZmZmZGSVA4XoUrkdhIUCPwvUoXI8fQEjhehSuRwlAexSuR+F6BkApXI/C9Sj4P8P1KFyPwvU/UrgehetR6D9cj8L1KFzfPylcj8L1KNw/mpmZmZmZyT9SuB6F61HIP3sUrkfhesQ/mpmZmZmZqT+amZmZmZmpPwAAAAAAAAAAAAAAAAAAAAAAAAAAAAAAAA==",
          "dtype": "f8",
          "shape": "20, 1"
         },
         "hovertemplate": "Category=%{x}<br>Count=%{text}<br>Percentage=%{customdata[0]}<extra></extra>",
         "legendgroup": "",
         "marker": {
          "color": "#636efa",
          "pattern": {
           "shape": ""
          }
         },
         "name": "",
         "orientation": "v",
         "showlegend": false,
         "text": {
          "bdata": "AAAAQGxgUEEAAAAA7RM4QQAAAAA6oy5BAAAAAIY6KUEAAAAASuomQQAAAACYVxJBAAAAAChVEEEAAAAAiJYBQQAAAADgk/9AAAAAAKC+8UAAAAAAwMjmQAAAAABAY+RAAAAAAICH0kAAAAAAwMjRQAAAAACA0MxAAAAAAAA/skAAAAAAACiyQAAAAAAAQHhAAAAAAAAAQ0AAAAAAAAAYQA==",
          "dtype": "f8"
         },
         "textposition": "outside",
         "type": "bar",
         "x": [
          "InitialAccess",
          "Exfiltration",
          "SuspiciousActivity",
          "CommandAndControl",
          "Impact",
          "CredentialAccess",
          "Execution",
          "Malware",
          "Discovery",
          "Persistence",
          "DefenseEvasion",
          "LateralMovement",
          "Ransomware",
          "UnwantedSoftware",
          "Collection",
          "PrivilegeEscalation",
          "Exploit",
          "CredentialStealing",
          "WebExploit",
          "Weaponization"
         ],
         "xaxis": "x",
         "y": {
          "bdata": "sYFBAO0TGACdUQ8AQ50MACV1CwDmlQQAShUEANEyAgA++QEA6hsBAEa2AAAaowAAHkoAACNHAAChOQAAPxIAACgSAACEAQAAJgAAAAYAAAA=",
          "dtype": "i4"
         },
         "yaxis": "y"
        }
       ],
       "layout": {
        "barmode": "relative",
        "height": 500,
        "legend": {
         "tracegroupgap": 0
        },
        "margin": {
         "b": 100
        },
        "showlegend": false,
        "template": {
         "data": {
          "bar": [
           {
            "error_x": {
             "color": "#2a3f5f"
            },
            "error_y": {
             "color": "#2a3f5f"
            },
            "marker": {
             "line": {
              "color": "white",
              "width": 0.5
             },
             "pattern": {
              "fillmode": "overlay",
              "size": 10,
              "solidity": 0.2
             }
            },
            "type": "bar"
           }
          ],
          "barpolar": [
           {
            "marker": {
             "line": {
              "color": "white",
              "width": 0.5
             },
             "pattern": {
              "fillmode": "overlay",
              "size": 10,
              "solidity": 0.2
             }
            },
            "type": "barpolar"
           }
          ],
          "carpet": [
           {
            "aaxis": {
             "endlinecolor": "#2a3f5f",
             "gridcolor": "#C8D4E3",
             "linecolor": "#C8D4E3",
             "minorgridcolor": "#C8D4E3",
             "startlinecolor": "#2a3f5f"
            },
            "baxis": {
             "endlinecolor": "#2a3f5f",
             "gridcolor": "#C8D4E3",
             "linecolor": "#C8D4E3",
             "minorgridcolor": "#C8D4E3",
             "startlinecolor": "#2a3f5f"
            },
            "type": "carpet"
           }
          ],
          "choropleth": [
           {
            "colorbar": {
             "outlinewidth": 0,
             "ticks": ""
            },
            "type": "choropleth"
           }
          ],
          "contour": [
           {
            "colorbar": {
             "outlinewidth": 0,
             "ticks": ""
            },
            "colorscale": [
             [
              0,
              "#0d0887"
             ],
             [
              0.1111111111111111,
              "#46039f"
             ],
             [
              0.2222222222222222,
              "#7201a8"
             ],
             [
              0.3333333333333333,
              "#9c179e"
             ],
             [
              0.4444444444444444,
              "#bd3786"
             ],
             [
              0.5555555555555556,
              "#d8576b"
             ],
             [
              0.6666666666666666,
              "#ed7953"
             ],
             [
              0.7777777777777778,
              "#fb9f3a"
             ],
             [
              0.8888888888888888,
              "#fdca26"
             ],
             [
              1,
              "#f0f921"
             ]
            ],
            "type": "contour"
           }
          ],
          "contourcarpet": [
           {
            "colorbar": {
             "outlinewidth": 0,
             "ticks": ""
            },
            "type": "contourcarpet"
           }
          ],
          "heatmap": [
           {
            "colorbar": {
             "outlinewidth": 0,
             "ticks": ""
            },
            "colorscale": [
             [
              0,
              "#0d0887"
             ],
             [
              0.1111111111111111,
              "#46039f"
             ],
             [
              0.2222222222222222,
              "#7201a8"
             ],
             [
              0.3333333333333333,
              "#9c179e"
             ],
             [
              0.4444444444444444,
              "#bd3786"
             ],
             [
              0.5555555555555556,
              "#d8576b"
             ],
             [
              0.6666666666666666,
              "#ed7953"
             ],
             [
              0.7777777777777778,
              "#fb9f3a"
             ],
             [
              0.8888888888888888,
              "#fdca26"
             ],
             [
              1,
              "#f0f921"
             ]
            ],
            "type": "heatmap"
           }
          ],
          "histogram": [
           {
            "marker": {
             "pattern": {
              "fillmode": "overlay",
              "size": 10,
              "solidity": 0.2
             }
            },
            "type": "histogram"
           }
          ],
          "histogram2d": [
           {
            "colorbar": {
             "outlinewidth": 0,
             "ticks": ""
            },
            "colorscale": [
             [
              0,
              "#0d0887"
             ],
             [
              0.1111111111111111,
              "#46039f"
             ],
             [
              0.2222222222222222,
              "#7201a8"
             ],
             [
              0.3333333333333333,
              "#9c179e"
             ],
             [
              0.4444444444444444,
              "#bd3786"
             ],
             [
              0.5555555555555556,
              "#d8576b"
             ],
             [
              0.6666666666666666,
              "#ed7953"
             ],
             [
              0.7777777777777778,
              "#fb9f3a"
             ],
             [
              0.8888888888888888,
              "#fdca26"
             ],
             [
              1,
              "#f0f921"
             ]
            ],
            "type": "histogram2d"
           }
          ],
          "histogram2dcontour": [
           {
            "colorbar": {
             "outlinewidth": 0,
             "ticks": ""
            },
            "colorscale": [
             [
              0,
              "#0d0887"
             ],
             [
              0.1111111111111111,
              "#46039f"
             ],
             [
              0.2222222222222222,
              "#7201a8"
             ],
             [
              0.3333333333333333,
              "#9c179e"
             ],
             [
              0.4444444444444444,
              "#bd3786"
             ],
             [
              0.5555555555555556,
              "#d8576b"
             ],
             [
              0.6666666666666666,
              "#ed7953"
             ],
             [
              0.7777777777777778,
              "#fb9f3a"
             ],
             [
              0.8888888888888888,
              "#fdca26"
             ],
             [
              1,
              "#f0f921"
             ]
            ],
            "type": "histogram2dcontour"
           }
          ],
          "mesh3d": [
           {
            "colorbar": {
             "outlinewidth": 0,
             "ticks": ""
            },
            "type": "mesh3d"
           }
          ],
          "parcoords": [
           {
            "line": {
             "colorbar": {
              "outlinewidth": 0,
              "ticks": ""
             }
            },
            "type": "parcoords"
           }
          ],
          "pie": [
           {
            "automargin": true,
            "type": "pie"
           }
          ],
          "scatter": [
           {
            "fillpattern": {
             "fillmode": "overlay",
             "size": 10,
             "solidity": 0.2
            },
            "type": "scatter"
           }
          ],
          "scatter3d": [
           {
            "line": {
             "colorbar": {
              "outlinewidth": 0,
              "ticks": ""
             }
            },
            "marker": {
             "colorbar": {
              "outlinewidth": 0,
              "ticks": ""
             }
            },
            "type": "scatter3d"
           }
          ],
          "scattercarpet": [
           {
            "marker": {
             "colorbar": {
              "outlinewidth": 0,
              "ticks": ""
             }
            },
            "type": "scattercarpet"
           }
          ],
          "scattergeo": [
           {
            "marker": {
             "colorbar": {
              "outlinewidth": 0,
              "ticks": ""
             }
            },
            "type": "scattergeo"
           }
          ],
          "scattergl": [
           {
            "marker": {
             "colorbar": {
              "outlinewidth": 0,
              "ticks": ""
             }
            },
            "type": "scattergl"
           }
          ],
          "scattermap": [
           {
            "marker": {
             "colorbar": {
              "outlinewidth": 0,
              "ticks": ""
             }
            },
            "type": "scattermap"
           }
          ],
          "scattermapbox": [
           {
            "marker": {
             "colorbar": {
              "outlinewidth": 0,
              "ticks": ""
             }
            },
            "type": "scattermapbox"
           }
          ],
          "scatterpolar": [
           {
            "marker": {
             "colorbar": {
              "outlinewidth": 0,
              "ticks": ""
             }
            },
            "type": "scatterpolar"
           }
          ],
          "scatterpolargl": [
           {
            "marker": {
             "colorbar": {
              "outlinewidth": 0,
              "ticks": ""
             }
            },
            "type": "scatterpolargl"
           }
          ],
          "scatterternary": [
           {
            "marker": {
             "colorbar": {
              "outlinewidth": 0,
              "ticks": ""
             }
            },
            "type": "scatterternary"
           }
          ],
          "surface": [
           {
            "colorbar": {
             "outlinewidth": 0,
             "ticks": ""
            },
            "colorscale": [
             [
              0,
              "#0d0887"
             ],
             [
              0.1111111111111111,
              "#46039f"
             ],
             [
              0.2222222222222222,
              "#7201a8"
             ],
             [
              0.3333333333333333,
              "#9c179e"
             ],
             [
              0.4444444444444444,
              "#bd3786"
             ],
             [
              0.5555555555555556,
              "#d8576b"
             ],
             [
              0.6666666666666666,
              "#ed7953"
             ],
             [
              0.7777777777777778,
              "#fb9f3a"
             ],
             [
              0.8888888888888888,
              "#fdca26"
             ],
             [
              1,
              "#f0f921"
             ]
            ],
            "type": "surface"
           }
          ],
          "table": [
           {
            "cells": {
             "fill": {
              "color": "#EBF0F8"
             },
             "line": {
              "color": "white"
             }
            },
            "header": {
             "fill": {
              "color": "#C8D4E3"
             },
             "line": {
              "color": "white"
             }
            },
            "type": "table"
           }
          ]
         },
         "layout": {
          "annotationdefaults": {
           "arrowcolor": "#2a3f5f",
           "arrowhead": 0,
           "arrowwidth": 1
          },
          "autotypenumbers": "strict",
          "coloraxis": {
           "colorbar": {
            "outlinewidth": 0,
            "ticks": ""
           }
          },
          "colorscale": {
           "diverging": [
            [
             0,
             "#8e0152"
            ],
            [
             0.1,
             "#c51b7d"
            ],
            [
             0.2,
             "#de77ae"
            ],
            [
             0.3,
             "#f1b6da"
            ],
            [
             0.4,
             "#fde0ef"
            ],
            [
             0.5,
             "#f7f7f7"
            ],
            [
             0.6,
             "#e6f5d0"
            ],
            [
             0.7,
             "#b8e186"
            ],
            [
             0.8,
             "#7fbc41"
            ],
            [
             0.9,
             "#4d9221"
            ],
            [
             1,
             "#276419"
            ]
           ],
           "sequential": [
            [
             0,
             "#0d0887"
            ],
            [
             0.1111111111111111,
             "#46039f"
            ],
            [
             0.2222222222222222,
             "#7201a8"
            ],
            [
             0.3333333333333333,
             "#9c179e"
            ],
            [
             0.4444444444444444,
             "#bd3786"
            ],
            [
             0.5555555555555556,
             "#d8576b"
            ],
            [
             0.6666666666666666,
             "#ed7953"
            ],
            [
             0.7777777777777778,
             "#fb9f3a"
            ],
            [
             0.8888888888888888,
             "#fdca26"
            ],
            [
             1,
             "#f0f921"
            ]
           ],
           "sequentialminus": [
            [
             0,
             "#0d0887"
            ],
            [
             0.1111111111111111,
             "#46039f"
            ],
            [
             0.2222222222222222,
             "#7201a8"
            ],
            [
             0.3333333333333333,
             "#9c179e"
            ],
            [
             0.4444444444444444,
             "#bd3786"
            ],
            [
             0.5555555555555556,
             "#d8576b"
            ],
            [
             0.6666666666666666,
             "#ed7953"
            ],
            [
             0.7777777777777778,
             "#fb9f3a"
            ],
            [
             0.8888888888888888,
             "#fdca26"
            ],
            [
             1,
             "#f0f921"
            ]
           ]
          },
          "colorway": [
           "#636efa",
           "#EF553B",
           "#00cc96",
           "#ab63fa",
           "#FFA15A",
           "#19d3f3",
           "#FF6692",
           "#B6E880",
           "#FF97FF",
           "#FECB52"
          ],
          "font": {
           "color": "#2a3f5f"
          },
          "geo": {
           "bgcolor": "white",
           "lakecolor": "white",
           "landcolor": "white",
           "showlakes": true,
           "showland": true,
           "subunitcolor": "#C8D4E3"
          },
          "hoverlabel": {
           "align": "left"
          },
          "hovermode": "closest",
          "mapbox": {
           "style": "light"
          },
          "paper_bgcolor": "white",
          "plot_bgcolor": "white",
          "polar": {
           "angularaxis": {
            "gridcolor": "#EBF0F8",
            "linecolor": "#EBF0F8",
            "ticks": ""
           },
           "bgcolor": "white",
           "radialaxis": {
            "gridcolor": "#EBF0F8",
            "linecolor": "#EBF0F8",
            "ticks": ""
           }
          },
          "scene": {
           "xaxis": {
            "backgroundcolor": "white",
            "gridcolor": "#DFE8F3",
            "gridwidth": 2,
            "linecolor": "#EBF0F8",
            "showbackground": true,
            "ticks": "",
            "zerolinecolor": "#EBF0F8"
           },
           "yaxis": {
            "backgroundcolor": "white",
            "gridcolor": "#DFE8F3",
            "gridwidth": 2,
            "linecolor": "#EBF0F8",
            "showbackground": true,
            "ticks": "",
            "zerolinecolor": "#EBF0F8"
           },
           "zaxis": {
            "backgroundcolor": "white",
            "gridcolor": "#DFE8F3",
            "gridwidth": 2,
            "linecolor": "#EBF0F8",
            "showbackground": true,
            "ticks": "",
            "zerolinecolor": "#EBF0F8"
           }
          },
          "shapedefaults": {
           "line": {
            "color": "#2a3f5f"
           }
          },
          "ternary": {
           "aaxis": {
            "gridcolor": "#DFE8F3",
            "linecolor": "#A2B1C6",
            "ticks": ""
           },
           "baxis": {
            "gridcolor": "#DFE8F3",
            "linecolor": "#A2B1C6",
            "ticks": ""
           },
           "bgcolor": "white",
           "caxis": {
            "gridcolor": "#DFE8F3",
            "linecolor": "#A2B1C6",
            "ticks": ""
           }
          },
          "title": {
           "x": 0.05
          },
          "xaxis": {
           "automargin": true,
           "gridcolor": "#EBF0F8",
           "linecolor": "#EBF0F8",
           "ticks": "",
           "title": {
            "standoff": 15
           },
           "zerolinecolor": "#EBF0F8",
           "zerolinewidth": 2
          },
          "yaxis": {
           "automargin": true,
           "gridcolor": "#EBF0F8",
           "linecolor": "#EBF0F8",
           "ticks": "",
           "title": {
            "standoff": 15
           },
           "zerolinecolor": "#EBF0F8",
           "zerolinewidth": 2
          }
         }
        },
        "title": {
         "text": "Distribution of Category",
         "x": 0.5
        },
        "xaxis": {
         "anchor": "y",
         "domain": [
          0,
          1
         ],
         "tickangle": -45,
         "title": {}
        },
        "yaxis": {
         "anchor": "x",
         "domain": [
          0,
          1
         ],
         "title": {
          "text": "Count"
         }
        }
       }
      }
     },
     "metadata": {},
     "output_type": "display_data"
    },
    {
     "name": "stdout",
     "output_type": "stream",
     "text": [
      "\n",
      "Category Distribution:\n",
      "                       Count  Percentage\n",
      "Category                                \n",
      "InitialAccess        4293041       45.11\n",
      "Exfiltration         1577965       16.58\n",
      "SuspiciousActivity   1003933       10.55\n",
      "CommandAndControl     826691        8.69\n",
      "Impact                750885        7.89\n",
      "CredentialAccess      300518        3.16\n",
      "Execution             267594        2.81\n",
      "Malware               144081        1.51\n",
      "Discovery             129342        1.36\n",
      "Persistence            72682        0.76\n",
      "DefenseEvasion         46662        0.49\n",
      "LateralMovement        41754        0.44\n",
      "Ransomware             18974        0.20\n",
      "UnwantedSoftware       18211        0.19\n",
      "Collection             14753        0.16\n",
      "PrivilegeEscalation     4671        0.05\n",
      "Exploit                 4648        0.05\n",
      "CredentialStealing       388        0.00\n",
      "WebExploit                38        0.00\n",
      "Weaponization              6        0.00\n",
      "\n",
      "Total unique values: 20\n",
      "Null values: 0 (0.00%)\n",
      "------------------------------------------------------------\n"
     ]
    },
    {
     "data": {
      "application/vnd.plotly.v1+json": {
       "config": {
        "plotlyServerURL": "https://plot.ly"
       },
       "data": [
        {
         "customdata": {
          "bdata": "XI/C9Si8QEBcj8L1KBw0QArXo3A9SjBAzczMzMzMDEAK16NwPQoLQIXrUbgehQFAmpmZmZmZ9T97FK5H4XrwPwAAAAAAAPA/FK5H4XoU7j8zMzMzMzPrPz0K16NwPeo/9ihcj8L16D/2KFyPwvXoP7gehetRuOY/w/UoXI/C5T+amZmZmZnhPwAAAAAAAOA/uB6F61G43j+F61G4HoXbP65H4XoUrtc/ZmZmZmZm1j9mZmZmZmbWPx+F61G4HtU/exSuR+F61D+PwvUoXI/SP4/C9Shcj9I/uB6F61G4zj8pXI/C9SjMP5qZmZmZmck/CtejcD0Kxz8K16NwPQrHP8P1KFyPwsU/exSuR+F6xD97FK5H4XrEP7gehetRuL4/uB6F61G4vj8pXI/C9Si8P5qZmZmZmbk/mpmZmZmZuT+amZmZmZm5P5qZmZmZmbk/CtejcD0Ktz8K16NwPQq3PwrXo3A9Crc/CtejcD0Ktz97FK5H4Xq0P+xRuB6F67E/7FG4HoXrsT/sUbgeheuxP+xRuB6F67E/7FG4HoXrsT+4HoXrUbiuP7gehetRuK4/uB6F61G4rj+4HoXrUbiuP7gehetRuK4/uB6F61G4rj+4HoXrUbiuP7gehetRuK4/mpmZmZmZqT+amZmZmZmpP5qZmZmZmak/mpmZmZmZqT+amZmZmZmpP5qZmZmZmak/mpmZmZmZqT+amZmZmZmpP5qZmZmZmak/mpmZmZmZqT97FK5H4XqkP3sUrkfheqQ/exSuR+F6pD97FK5H4XqkP3sUrkfheqQ/exSuR+F6pD97FK5H4XqkP3sUrkfheqQ/exSuR+F6pD97FK5H4XqkP3sUrkfheqQ/exSuR+F6pD+4HoXrUbieP7gehetRuJ4/uB6F61G4nj+4HoXrUbieP7gehetRuJ4/uB6F61G4nj+4HoXrUbieP7gehetRuJ4/uB6F61G4nj+4HoXrUbieP7gehetRuJ4/uB6F61G4nj+4HoXrUbieP7gehetRuJ4/uB6F61G4nj+4HoXrUbieP7gehetRuJ4/uB6F61G4nj+4HoXrUbieP7gehetRuJ4/exSuR+F6lD97FK5H4XqUP3sUrkfhepQ/exSuR+F6lD97FK5H4XqUP3sUrkfhepQ/exSuR+F6lD97FK5H4XqUP3sUrkfhepQ/exSuR+F6lD97FK5H4XqUP3sUrkfhepQ/exSuR+F6lD97FK5H4XqUP3sUrkfhepQ/exSuR+F6lD97FK5H4XqUP3sUrkfhepQ/exSuR+F6lD97FK5H4XqUP3sUrkfhepQ/exSuR+F6lD97FK5H4XqUP3sUrkfhepQ/exSuR+F6lD97FK5H4XqUP3sUrkfhepQ/exSuR+F6lD97FK5H4XqUP3sUrkfhepQ/exSuR+F6lD97FK5H4XqUP3sUrkfhepQ/exSuR+F6lD97FK5H4XqUP3sUrkfhepQ/exSuR+F6lD97FK5H4XqUP3sUrkfhepQ/exSuR+F6lD97FK5H4XqEP3sUrkfheoQ/exSuR+F6hD97FK5H4XqEP3sUrkfheoQ/exSuR+F6hD97FK5H4XqEP3sUrkfheoQ/exSuR+F6hD97FK5H4XqEP3sUrkfheoQ/exSuR+F6hD97FK5H4XqEP3sUrkfheoQ/exSuR+F6hD97FK5H4XqEP3sUrkfheoQ/exSuR+F6hD97FK5H4XqEP3sUrkfheoQ/exSuR+F6hD97FK5H4XqEP3sUrkfheoQ/exSuR+F6hD97FK5H4XqEP3sUrkfheoQ/exSuR+F6hD97FK5H4XqEP3sUrkfheoQ/exSuR+F6hD97FK5H4XqEP3sUrkfheoQ/exSuR+F6hD97FK5H4XqEP3sUrkfheoQ/exSuR+F6hD97FK5H4XqEP3sUrkfheoQ/exSuR+F6hD97FK5H4XqEP3sUrkfheoQ/exSuR+F6hD97FK5H4XqEP3sUrkfheoQ/exSuR+F6hD97FK5H4XqEP3sUrkfheoQ/exSuR+F6hD97FK5H4XqEP3sUrkfheoQ/exSuR+F6hD97FK5H4XqEP3sUrkfheoQ/exSuR+F6hD97FK5H4XqEP3sUrkfheoQ/exSuR+F6hD97FK5H4XqEP3sUrkfheoQ/exSuR+F6hD97FK5H4XqEP3sUrkfheoQ/exSuR+F6hD97FK5H4XqEP3sUrkfheoQ/exSuR+F6hD97FK5H4XqEP3sUrkfheoQ/exSuR+F6hD97FK5H4XqEP3sUrkfheoQ/exSuR+F6hD97FK5H4XqEP3sUrkfheoQ/exSuR+F6hD97FK5H4XqEP3sUrkfheoQ/exSuR+F6hD97FK5H4XqEP3sUrkfheoQ/exSuR+F6hD97FK5H4XqEP3sUrkfheoQ/exSuR+F6hD97FK5H4XqEP3sUrkfheoQ/exSuR+F6hD97FK5H4XqEP3sUrkfheoQ/exSuR+F6hD97FK5H4XqEP3sUrkfheoQ/exSuR+F6hD97FK5H4XqEP3sUrkfheoQ/exSuR+F6hD97FK5H4XqEP3sUrkfheoQ/exSuR+F6hD97FK5H4XqEP3sUrkfheoQ/exSuR+F6hD97FK5H4XqEP3sUrkfheoQ/exSuR+F6hD97FK5H4XqEP3sUrkfheoQ/exSuR+F6hD97FK5H4XqEP3sUrkfheoQ/exSuR+F6hD97FK5H4XqEP3sUrkfheoQ/exSuR+F6hD97FK5H4XqEP3sUrkfheoQ/exSuR+F6hD97FK5H4XqEP3sUrkfheoQ/exSuR+F6hD8AAAAAAAAAAAAAAAAAAAAAAAAAAAAAAAAAAAAAAAAAAAAAAAAAAAAAAAAAAAAAAAAAAAAAAAAAAAAAAAAAAAAAAAAAAAAAAAAAAAAAAAAAAAAAAAAAAAAAAAAAAAAAAAAAAAAAAAAAAAAAAAAAAAAAAAAAAAAAAAAAAAAAAAAAAAAAAAAAAAAAAAAAAAAAAAAAAAAAAAAAAAAAAAAAAAAAAAAAAAAAAAAAAAAAAAAAAAAAAAAAAAAAAAAAAAAAAAAAAAAAAAAAAAAAAAAAAAAAAAAAAAAAAAAAAAAAAAAAAAAAAAAAAAAAAAAAAAAAAAAAAAAAAAAAAAAAAAAAAAAAAAAAAAAAAAAAAAAAAAAAAAAAAAAAAAAAAAAAAAAAAAAAAAAAAAAAAAAAAAAAAAAAAAAAAAAAAAAAAAAAAAAAAAAAAAAAAAAAAAAAAAAAAAAAAAAAAAAAAAAAAAAAAAAAAAAAAAAAAAAAAAAAAAAAAAAAAAAAAAAAAAAAAAAAAAAAAAAAAAAAAAAAAAAAAAAAAAAAAAAAAAAAAAAAAAAAAAAAAAAAAAAAAAAAAAAAAAAAAAAAAAAAAAAAAAAAAAAAAAAAAAAAAAAAAAAAAAAAAAAAAAAAAAAAAAAAAAAAAAAAAAAAAAAAAAAAAAAAAAAAAAAAAAAAAAAAAAAAAAAAAAAAAAAAAAAAAAAAAAAAAAAAAAAAAAAAAAAAAAAAAAAAAAAAAAAAAAAAAAAAAAAAAAAAAAAAAAAAAAAAAAAAAAAAAAAAAAAAAAAAAAAAAAAAAAAAAAAAAAAAAAAAAAAAAAAAAAAAAAAAAAAAAAAAAAAAAAAAAAAAAAAAAAAAAAAAAAAAAAAAAAAAAAAAAAAAAAAAAAAAAAAAAAAAAAAAAAAAAAAAAAAAAAAAAAAAAAAAAAAAAAAAAAAAAAAAAAAAAAAAAAAAAAAAAAAAAAAAAAAAAAAAAAAAAAAAAAAAAAAAAAAAAAAAAAAAAAAAAAAAAAAAAAAAAAAAAAAAAAAAAAAAAAAAAAAAAAAAAAAAAAAAAAAAAAAAAAAAAAAAAAAAAAAAAAAAAAAAAAAAAAAAAAAAAAAAAAAAAAAAAAAAAAAAAAAAAAAAAAAAAAAAAAAAAAAAAAAAAAAAAAAAAAAAAAAAAAAAAAAAAAAAAAAAAAAAAAAAAAAAAAAAAAAAAAAAAAAAAAAAAAAAAAAAAAAAAAAAAAAAAAAAAAAAAAAAAAAAAAAAAAAAAAAAAAAAAAAAAAAAAAAAAAAAAAAAAAAAAAAAAAAAAAAAAAAAAAAAAAAAAAAAAAAAAAAAAAAAAAAAAAAAAAAAAAAAAAAAAAAAAAAAAAAAAAAAAAAAAAAAAAAAAAAAAAAAAAAAAAAAAAAAAAAAAAAAAAAAAAAAAAAAAAAAAAAAAAAAAAAAAAAAAAAAAAAAAAAAAAAAAAAAAAAAAAAAAAAAAAAAAAAAAAAAAAAAAAAAAAAAAAAAAAAAAAAAAAAAAAAAAAAAAAAAAAAAAAAAAAAAAAAAAAAAAAAAAAAAAAAAAAAAAAAAAAAAAAAAAAAAAAAAAAAAAAAAAAAAAAAAAAAAAAAAAAAAAAAAAAAAAAAAAAAAAAAAAAAAAAAAAAAAAAAAAAAAAAAAAAAAAAAAAAAAAAAAAAAAAAAAAAAAAAAAAAAAAAAAAAAAAAAAAAAAAAAAAAAAAAAAAAAAAAAAAAAAAAAAAAAAAAAAAAAAAAAAAAAAAAAAAAAAAAAAAAAAAAAAAAAAAAAAAAAAAAAAAAAAAAAAAAAAAAAAAAAAAAAAAAAAAAAAAAAAAAAAAAAAAAAAAAAAAAAAAAAAAAAAAAAAAAAAAAAAAAAAAAAAAAAAAAAAAAAAAAAAAAAAAAAAAAAAAAAAAAAAAAAAAAAAAAAAAAAAAAAAAAAAAAAAAAAAAAAAAAAAAAAAAAAAAAAAAAAAAAAAAAAAAAAAAAAAAAAAAAAAAAAAAAAAAAAAAAAAAAAAAAAAAAAAAAAAAAAAAAAAAAAAAAAAAAAAAAAAAAAAAAAAAAAAAAAAAAAAAAAAAAAAAAAAAAAAAAAAAAAAAAAAAAAAAAAAAAAAAAAAAAAAAAAAAAAAAAAAAAAAAAAAAAAAAAAAAAAAAAAAAAAAAAAAAAAAAAAAAAAAAAAAAAAAAAAAAAAAAAAAAAAAAAAAAAAAAAAAAAAAAAAAAAAAAAAAAAAAAAAAAAAAAAAAAAAAAAAAAAAAAAAAAAAAAAAAAAAAAAAAAAAAAAAAAAAAAAAAAAAAAAAAAAAAAAAAAAAAAAAAAAAAAAAAAAAAAAAAAAAAAAAAAAAAAAAAAAAAAAAAAAAAAAAAAAAAAAAAAAAAAAAAAAAAAAAAAAAAAAAAAAAAAAAAAAAAAAAAAAAAAAAAAAAAAAAAAAAAAAAAAAAAAAAAAAAAAAAAAAAAAAAAAAAAAAAAAAAAAAAAAAAAAAAAAAAAAAAAAAAAAAAAAAAAAAAAAAAAAAAAAAAAAAAAAAAAAAAAAAAAAAAAAAAAAAAAAAAAAAAAAAAAAAAAAAAAAAAAAAAAAAAAAAAAAAAAAAAAAAAAAAAAAAAAAAAAAAAAAAAAAAAAAAAAAAAAAAAAAAAAAAAAAAAAAAAAAAAAAAAAAAAAAAAAAAAAAAAAAAAAAAAAAAAAAAAAAAAAAAAAAAAAAAAAAAAAAAAAAAAAAAAAAAAAAAAAAAAAAAAAAAAAAAAAAAAAAAAAAAAAAAAAAAAAAAAAAAAAAAAAAAAAAAAAAAAAAAAAAAAAAAAAAAAAAAAAAAAAAAAAAAAAAAAAAAAAAAAAAAAAAAAAAAAAAAAAAAAAAAAAAAAAAAAAAAAAAAAAAAAAAAAAAAAAAAAAAAAAAAAAAAAAAAAAAAAAAAAAAAAAAAAAAAAAAAAAAAAAAAAAAAAAAAAAAAAAAAAAAAAAAAAAAAAAAAAAAAAAAAAAAAAAAAAAAAAAAAAAAAAAAAAAAAAAAAAAAAAAAAAAAAAAAAAAAAAAAAAAAAAAAAAAAAAAAAAAAAAAAAAAAAAAAAAAAAAAAAAAAAAAAAAAAAAAAAAAAAAAAAAAAAAAAAAAAAAAAAAAAAAAAAAAAAAAAAAAAAAAAAAAAAAAAAAAAAAAAAAAAAAAAAAAAAAAAAAAAAAAAAAAAAAAAAAAAAAAAAAAAAAAAAAAAAAAAAAAAAAAAAAAAAAAAAAAAAAAAAAAAAAAAAAAAAAAAAAAAAAAAAAAAAAAAAAAAAAAAAAAAAAAAAAAAAAAAAAAAAAAAAAAAAAAAAAAAAAAAAAAAAAAAAAAAAAAAAAAAAAAAAAAAAAAAAAAAAAAAAAAAAAAAAAAAAAAAAAAAAAAAAAAAAAAAAAAAAAAAAAAAAAAAAAAAAAAAAAAAAAAAAAAAAAAAAAAAAAAAAAAAAAAAAAAAAAAAAAAAAAAAAAAAAAAAAAAAAAAAAAAAAAAAAAAAAAAAAAAAAAAAAAAAAAAAAAAAAAAAAAAAAAAAAAAAAAAAAAAAAAAAAAAAAAAAAAAAAAAAAAAAAAAAAAAAAAAAAAAAAAAAAAAAAAAAAAAAAAAAAAAAAAAAAAAAAAAAAAAAAAAAAAAAAAAAAAAAAAAAAAAAAAAAAAAAAAAAAAAAAAAAAAAAAAAAAAAAAAAAAAAAAAAAAAAAAAAAAAAAAAAAAAAAAAAAAAAAAAAAAAAAAAAAAAAAAAAAAAAAAAAAAAAAAAAAAAAAAAAAAAAAAAAAAAAAAAAAAAAAAAAAAAAAAAAAAAAAAAAAAAAAAAAAAAAAAAAAAAAAAAAAAAAAAAAAAAAAAAAAAAAAAAAAAAAAAAAAAAAAAAAAAAAAAAAAAAAAAAAAAAAAAAAAAAAAAAAAAAAAAAAAAAAAAAAAAAAAAAAAAAAAAAAAAAAAAAAAAAAAAAAAAAAAAAAAAAAAAAAAAAAAAAAAAAAAAAAAAAAAAAAAAAAAAAAAAAAAAAAAAAAAAAAAAAAAAAAAAAAAAAAAAAAAAAAAAAAAAAAAAAAAAAAAAAAAAAAAAAAAAAAAAAAAAAAAAAAAAAAAAAAAAAAAAAAAAAAAAAAAAAAAAAAAAAAAAAAAAAAAAAAAAAAAAAAAAAAAAAAAAAAAAAAAAAAAAAAAAAAAAAAAAAAAAAAAAAAAAAAAAAAAAAAAAAAAAAAAAAAAAAAAAAAAAAAAAAAAAAAAAAAAAAAAAAAAAAAAAAAAAAAAAAAAAAAAAAAAAAAAAAAAAAAAAAAAAAAAAAAAAAAAAAAAAAAAAAAAAAAAAAAAAAAAAAAAAAAAAAAAAAAAAAAAAAAAAAAAAAAAAAAAAAAAAAAAAAAAAAAAAAAAAAAAAAAAAAAAAAAAAAAAAAAAAAAAAAAAAAAAAAAAAAAAAAAAAAAAAAAAAAAAAAAAAAAAAAAAAAAAAAAAAAAAAAAAAAAAAAAAAAAAAAAAAAAAAAAAAAAAAAAAAAAAAAAAAAAAAAAAAAAAAAAAAAAAAAAAAAAAAAAAAAAAAAAAAAAAAAAAAAAAAAAAAAAAAAAAAAAAAAAAAAAAAAAAAAAAAAAAAAAAAAAAAAAAAAAAAAAAAAAAAAAAAAAAAAAAAAAAAAAAAAAAAAAAAAAAAAAAAAAAAAAAAAAAAAAAAAAAAAAAAAAAAAAAAAAAAAAAAAAAAAAAAAAAAAAAAAAAAAAAAAAAAAAAAAAAAAAAAAAAAAAAAAAAAAAAAAAAAAAAAAAAAAAAAAAAAAAAAAAAAAAAAAAAAAAAAAAAAAAAAAAAAAAAAAAAAAAAAAAAAAAAAAAAAAAAAAAAAAAAAAAAAAAAAAAAAAAAAAAAAAAAAAAAAAAAAAAAAAAAAAAAAAAAAAAAAAAAAAAAAAAAAAAAAAAAAAAAAAAAAAAAAAAAAAAAAAAAAAAAAAAAAAAAAAAAAAAAAAAAAAAAAAAAAAAAAAAAAAAAAAAAAAAAAAAAAAAAAAAAAAAAAAAAAAAAAAAAAAAAAAAAAAAAAAAAAAAAAAAAAAAAAAAAAAAAAAAAAAAAAAAAAAAAAAAAAAAAAAAAAAAAAAAAAAAAAAAAAAAAAAAAAAAAAAAAAAAAAAAAAAAAAAAAAAAAAAAAAAAAAAAAAAAAAAAAAAAAAAAAAAAAAAAAAAAAAAAAAAAAAAAAAAAAAAAAAAAAAAAAAAAAAAAAAAAAAAAAAAAAAAAAAAAAAAAAAAAAAAAAAAAAAAAAAAAAAAAAAAAAAAAAAAAAAAAAAAAAAAAAAAAAAAAAAAAAAAAAAAAAAAAAAAAAAAAAAAAAAAAAAAAAAAAAAAAAAAAAAAAAAAAAAAAAAAAAAAAAAAAAAAAAAAAAAAAAAAAAAAAAAAAAAAAAAAAAAAAAAAAAAAAAAAAAAAAAAAAAAAAAAAAAAAAAAAAAAAAAAAAAAAAAAAAAAAAAAAAAAAAAAAAAAAAAAAAAAAAAAAAAAAAAAAAAAAAAAAAAAAAAAAAAAAAAAAAAAAAAAAAAAAAAAAAAAAAAAAAAAAAAAAAAAAAAAAAAAAAAAAAAAAAAAAAAAAAAAAAAAAAAAAAAAAAAAAAAAAAAAAAAAAAAAAAAAAAAAAAAAAAAAAAAAAAAAAAAAAAAAAAAAAAAAAAAAAAAAAAAAAAAAAAAAAAAAAAAAAAAAAAAAAAAAAAAAAAAAAAAAAAAAAAAAAAAAAAAAAAAAAAAAAAAAAAAAAAAAAAAAAAAAAAAAAAAAAAAAAAAAAAAAAAAAAAAAAAAAAAAAAAAAAAAAAAAAAAAAAAAAAAAAAAAAAAAAAAAAAAAAAAAAAAAAAAAAAAAAAAAAAAAAAAAAAAAAAAAAAAAAAAAAAAAAAAAAAAAAAAAAAAAAAAAAAAAAAAAAAAAAAAAAAAAAAAAAAAAAAAAAAAAAAAAAAAAAAAAAAAAAAAAAAAAAAAAAAAAAAAAAAAAAAAAAAAAAAAAAAAAAAAAAAAAAAAAAAAAAAAAAAAAAAAAAAAAAAAAAAAAAAAAAAAAAAAAAAAAAAAAAAAAAAAAAAAAAAAAAAAAAAAAAAAAAAAAAAAAAAAAAAAAAAAAAAAAAAAAAAAAAAAAAAAAAAAAAAAAAAAAAAAAAAAAAAAAAAAAAAAAAAAAAAAAAAAAAAAAAAAAAAAAAAAAAAAAAAAAAAAAAAAAAAAAAAAAAAAAAAAAAAAAAAAAAAAAAAAAAAAAAAAAAAAAAAAAAAAAAAAAAAAAAAAAAAAAAAAAAAAAAAAAAAAAAAAAAAAAAAAAAAAAAAAAAAAAAAAAAAAAAAAAAAAAAAAAAAAAAAAAAAAAAAAAAAAAAAAAAAAAAAAAAAAAAAAAAAAAAAAAAAAAAAAAAAAAAAAAAAAAAAAAAAAAAAAAAAAAAAAAAAAAAAAAAAAAAAAAAAAAAAAAAAAAAAAAAAAAAAAAAAAAAAAAAAAAAAAAAAAAAAAAAAAAAAAAAAAAAAAAAAAAAAAAAAAAAAAAAAAAAAAAAAAAAAAAAAAAAAAAAAAAAAAAAAAAAAAAAAAAAAAAAAAAAAAAAAAAAAAAAAAAAAAAAAAAAAAAAAAAAAAAAAAAAAAAAAAAAAAAAAAAAAAAAAAAAAAAAAAAAAAAAAAAAAAAAAAAAAAAAAAAAAAAAAAAAAAAAAAAAAAAAAAAAAAAAAAAAAAAAAAAAAAAAAAAAAAAAAAAAAAAAAAAAAAAAAAAAAAAAAAAAAAAAAAAAAAAAAAAAAAAAAAAAAAAAAAAAAAAAAAAAAAAAAAAAAAAAAAAAAAAAAAAAAAAAAAAAAAAAAAAAAAAAAAAAAAAAAAAAAAAAAAAAAAAAAAAAAAAAAAAAAAAAAAAAAAAAAAAAAAAAAAAAAAAAAAAAAAAAAAAAAAAAAAAAAAAAAAAAAAAAAAAAAAAAAAAAAAAAAAAAAAAAAAAAAAAAAAAAAAAAAAAAAAAAAAAAAAAAAAAAAAAAAAAAAAAAAAAAAAAAAAAAAAAAAAAAAAAAAAAAAAAAAAAAAAAAAAAAAAAAAAAAAAAAAAAAAAAAAAAAAAAAAAAAAAAAAAAAAAAAAAAAAAAAAAAAAAAAAAAAAAAAAAAAAAAAAAAAAAAAAAAAAAAAAAAAAAAAAAAAAAAAAAAAAAAAAAAAAAAAAAAAAAAAAAAAAAAAAAAAAAAAAAAAAAAAAAAAAAAAAAAAAAAAAAAAAAAAAAAAAAAAAAAAAAAAAAAAAAAAAAAAAAAAAAAAAAAAAAAAAAAAAAAAAAAAAAAAAAAAAAAAAAAAAAAAAAAAAAAAAAAAAAAAAAAAAAAAAAAAAAAAAAAAAAAAAAAAAAAAAAAAAAAAAAAAAAAAAAAAAAAAAAAAAAAAAAAAAAAAAAAAAAAAAAAAAAAAAAAAAAAAAAAAAAAAAAAAAAAAAAAAAAAAAAAAAAAAAAAAAAAAAAAAAAAAAAAAAAAAAAAAAAAAAAAAAAAAAAAAAAAAAAAAAAAAAAAAAAAAAAAAAAAAAAAAAAAAAAAAAAAAAAAAAAAAAAAAAAAAAAAAAAAAAAAAAAAAAAAAAAAAAAAAAAAAAAAAAAAAAAAAAAAAAAAAAAAAAAAAAAAAAAAAAAAAAAAAAAAAAAAAAAAAAAAAAAAAAAAAAAAAAAAAAAAAAAAAAAAAAAAAAAAAAAAAAAAAAAAAAAAAAAAAAAAAAAAAAAAAAAAAAAAAAAAAAAAAAAAAAAAAAAAAAAAAAAAAAAAAAAAAAAAAAAAAAAAAAAAAAAAAAAAAAAAAAAAAAAAAAAAAAAAAAAAAAAAAAAAAAAAAAAAAAAAAAAAAAAAAAAAAAAAAAAAAAAAAAAAAAAAAAAAAAAAAAAAAAAAAAAAAAAAAAAAAAAAAAAAAAAAAAAAAAAAAAAAAAAAAAAAAAAAAAAAAAAAAAAAAAAAAAAAAAAAAAAAAAAAAAAAAAAAAAAAAAAAAAAAAAAAAAAAAAAAAAAAAAAAAAAAAAAAAAAAAAAAAAAAAAAAAAAAAAAAAAAAAAAAAAAAAAAAAAAAAAAAAAAAAAAAAAAAAAAAAAAAAAAAAAAAAAAAAAAAAAAAAAAAAAAAAAAAAAAAAAAAAAAAAAAAAAAAAAAAAAAAAAAAAAAAAAAAAAAAAAAAAAAAAAAAAAAAAAAAAAAAAAAAAAAAAAAAAAAAAAAAAAAAAAAAAAAAAAAAAAAAAAAAAAAAAAAAAAAAAAAAAAAAAAAAAAAAAAAAAAAAAAAAAAAAAAAAAAAAAAAAAAAAAAAAAAAAAAAAAAAAAAAAAAAAAAAAAAAAAAAAAAAAAAAAAAAAAAAAAAAAAAAAAAAAAAAAAAAAAAAAAAAAAAAAAAAAAAAAAAAAAAAAAAAAAAAAAAAAAAAAAAAAAAAAAAAAAAAAAAAAAAAAAAAAAAAAAAAAAAAAAAAAAAAAAAAAAAAAAAAAAAAAAAAAAAAAAAAAAAAAAAAAAAAAAAAAAAAAAAAAAAAAAAAAAAAAAAAAAAAAAAAAAAAAAAAAAAAAAAAAAAAAAAAAAAAAAAAAAAAAAAAAAAAAAAAAAAAAAAAAAAAAAAAAAAAAAAAAAAAAAAAAAAAAAAAAAAAAAAAAAAAAAAAAAAAAAAAAAAAAAAAAAAAAAAAAAAAAAAAAAAAAAAAAAAAAAAAAAAAAAAAAAAAAAAAAAAAAAAAAAAAAAAAAAAAAAAAAAAAAAAAAAAAAAAAAAAAAAAAAAAAAAAAAAAAAAAAAAAAAAAAAAAAAAAAAAAAAAAAAAAAAAAAAAAAAAAAAAAAAAAAAAAAAAAAAAAAAAAAAAAAAAAAAAAAAAAAAAAAAAAAAAAAAAAAAAAAAAAAAAAAAAAAAAAAAAAAAAAAAAAAAAAAAAAAAAAAAAAAAAAAAAAAAAAAAAAAAAAAAAAAAAAAAAAAAAAAAAAAAAAAAAAAAAAAAAAAAAAAAAAAAAAAAAAAAAAAAAAAAAAAAAAAAAAAAAAAAAAAAAAAAAAAAAAAAAAAAAAAAAAAAAAAAAAAAAAAAAAAAAAAAAAAAAAAAAAAAAAAAAAAAAAAAAAAAAAAAAAAAAAAAAAAAAAAAAAAAAAAAAAAAAAAAAAAAAAAAAAAAAAAAAAAAAAAAAAAAAAAAAAAAAAAAAAAAAAAAAAAAAAAAAAAAAAAAAAAAAAAAAAAAAAAAAAAAAAAAAAAAAAAAAAAAAAAAAAAAAAAAAAAAAAAAAAAAAAAAAAAAAAAAAAAAAAAAAAAAAAAAAAAAAAAAAAAAAAAAAAAAAAAAAAAAAAAAAAAAAAAAAAAAAAAAAAAAAAAAAAAAAAAAAAAAAAAAAAAAAAAAAAAAAAAAAAAAAAAAAAAAAAAAAAAAAAAAAAAAAAAAAAAAAAAAAAAAAAAAAAAAAAAAAAAAAAAAAAAAAAAAAAAAAAAAAAAAAAAAAAAAAAAAAAAAAAAAAAAAAAAAAAAAAAAAAAAAAAAAAAAAAAAAAAAAAAAAAAAAAAAAAAAAAAAAAAAAAAAAAAAAAAAAAAAAAAAAAAAAAAAAAAAAAAAAAAAAAAAAAAAAAAAAAAAAAAAAAAAAAAAAAAAAAAAAAAAAAAAAAAAAAAAAAAAAAAAAAAAAAAAAAAAAAAAAAAAAAAAAAAAAAAAAAAAAAAAAAAAAAAAAAAAAAAAAAAAAAAAAAAAAAAAAAAAAAAAAAAAAAAAAAAAAAAAAAAAAAAAAAAAAAAAAAAAAAAAAAAAAAAAAAAAAAAAAAAAAAAAAAAAAAAAAAAAAAAAAAAAAAAAAAAAAAAAAAAAAAAAAAAAAAAAAAAAAAAAAAAAAAAAAAAAAAAAAAAAAAAAAAAAAAAAAAAAAAAAAAAAAAAAAAAAAAAAAAAAAAAAAAAAAAAAAAAAAAAAAAAAAAAAAAAAAAAAAAAAAAAAAAAAAAAAAAAAAAAAAAAAAAAAAAAAAAAAAAAAAAAAAAAAAAAAAAAAAAAAAAAAAAAAAAAAAAAAAAAAAAAAAAAAAAAAAAAAAAAAAAAAAAAAAAAAAA==",
          "dtype": "f8",
          "shape": "1193, 1"
         },
         "hovertemplate": "MitreTechniques=%{x}<br>Count=%{text}<br>Percentage=%{customdata[0]}<extra></extra>",
         "legendgroup": "",
         "marker": {
          "color": "#636efa",
          "pattern": {
           "shape": ""
          }
         },
         "name": "",
         "orientation": "v",
         "showlegend": false,
         "text": {
          "bdata": "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",
          "dtype": "f8"
         },
         "textposition": "outside",
         "type": "bar",
         "x": [
          "T1078;T1078.004",
          "T1566.002",
          "T1566",
          "T1133",
          "T1566.001",
          "T1110;T1110.003;T1110.001",
          "T1087;T1087.002",
          "T1110",
          "T1078;T1098",
          "T1559;T1106;T1059.005",
          "T1046;T1071;T1210",
          "T1568;T1008",
          "T1110;T1078",
          "T1190;T1133",
          "T1046;T1030;T1071;T1071.001",
          "T1078",
          "T1003;T1012;T1552.002",
          "T1190",
          "T1071;T1048",
          "T1110;T1110.001;T1110.003",
          "T1595",
          "T1027;T1204.002",
          "T1059.003",
          "T1041",
          "T1046",
          "T1027;T1027.002;T1027.005;T1105;T1204.002",
          "T1030",
          "T1210",
          "T1059.001",
          "T1485",
          "T1586",
          "T1003;T1005;T1119;T1539;T1550.004;T1552.001;T1555.003;T1555.004",
          "T1568;T1573;T1008",
          "T1021",
          "T1189;T1071;T1203",
          "T1534",
          "T1059",
          "T1562",
          "T1005",
          "T1087",
          "T1528",
          "T1098",
          "T1059.001;T1059.005;T1059.007",
          "T1071;T1571",
          "T1078;T1110",
          "T1027.002;T1027.005;T1059.003;T1105",
          "T1055;T1105",
          "T1003",
          "T1569.002",
          "T1007;T1016;T1018;T1049;T1087;T1135",
          "T1071",
          "T1078.004",
          "T1053;T1053.005",
          "T1204.002",
          "T1087;T1110",
          "T1204.001",
          "T1550;T1550.003",
          "T1640",
          "T1057;T1059.001",
          "T1053.002;T1053.005",
          "T1007;T1059.001",
          "T1055;T1055.001;T1055.002;T1055.003;T1055.004;T1055.005;T1055.012",
          "T1189",
          "T1562.001;T1562.006",
          "T1098;T1078",
          "T1112;T1547.001",
          "T1021.002;T1078;T1078.002;T1105;T1570",
          "T1098;T1114",
          "T1047;T1057",
          "T1557.001",
          "T1485;T1565;T1491",
          "T1204",
          "T1110;T1110.003",
          "T1497.002",
          "T1537;T1567",
          "T1003;T1003.002;T1003.004;T1012;T1021;T1090.001;T1112;T1489;T1543.003;T1559;T1569.002",
          "T1566;T1193;T1566.001",
          "T1105;T1140;T1216;T1218;T1218.003;T1218.004;T1218.005;T1218.010;T1218.011;T1220",
          "T1055;T1055.001;T1055.002;T1055.003;T1055.004;T1055.012;T1059.001",
          "T1087;T1069;T1482;T1087.002;T1069.002",
          "T1543;T1543.003",
          "T1110;T1110.001",
          "T1007;T1016;T1018;T1049;T1082;T1087;T1135",
          "T1021.002;T1074.002;T1078;T1078.002;T1080;T1543.003;T1569.002;T1570",
          "T1056;T1056.001",
          "T1111;T1557",
          "T1047;T1059;T1053;T1569;T1059.001;T1053.002;T1053.005;T1569.002",
          "T1570",
          "T1047;T1082;T1497.001",
          "T1546.015;T1559.001",
          "T1558;T1558.003",
          "T1003;T1098",
          "T1498",
          "T1531",
          "T1087;T1069;T1087.002;T1069.002",
          "T1053;T1176",
          "T1021;T1021.004;T1043",
          "T1069.001;T1069.002",
          "T1003;T1003.006",
          "T1048;T1639;T1646",
          "T1541;T1546",
          "T1537",
          "T1048;T1048.003",
          "T1021.002;T1078;T1105;T1570",
          "T1213",
          "T1559;T0871;T0853;T0823;T0863",
          "T1567.002",
          "T1564;T1564.008",
          "T1102",
          "T1110.004;T1110.003",
          "T1539",
          "T1486",
          "T1021.002;T1039;T1074.002;T1078;T1080;T1486;T1570",
          "T1192;T1194;T1193;T1566;T1566.003;T1566.002;T1566.001",
          "T1027.002;T1027.005;T1059.001;T1059.005;T1059.007;T1105",
          "T1071.001",
          "T1007;T1016;T1018;T1049;T1057;T1059.001;T1087;T1135",
          "T1587;T1588;T1608;T1587.001;T1588.001;T1608.001",
          "T1586;T1584",
          "T1218.005",
          "T1547.001",
          "T1078;T1136;T1087",
          "T1003.001;T1550.002",
          "T1059;T1080;T1140;T1203;T1204;T1218",
          "T1496",
          "T1033;T1059.001;T1087.001",
          "T1569",
          "T0807",
          "T1546.008;T1546.012",
          "T1562;T1562.001;T1562.006",
          "T1055.001",
          "T1589;T1589.001",
          "T1068",
          "T1021.001;T1043",
          "T1048;T1011;T1567;T1567.002",
          "T1046;T1135;T1040",
          "T1016;T1047;T1497.001",
          "T1557;T1110;T1212;T1539",
          "T1074",
          "T1105;T1570",
          "T1057;T1082",
          "T1055;T1055.001;T1055.002;T1055.003;T1055.004;T1055.012;T1059.001;T1106",
          "T1098;T1136;T1136.002",
          "T1036;T1036.003",
          "T0820;T0816",
          "T1559",
          "T1105",
          "T1036.004;T1053.005",
          "T1218.011",
          "T1219",
          "T1218.002",
          "T1548;T1574.002",
          "T1136",
          "T1036",
          "T1570;T1021.002",
          "T1021;T1021.004;T1071;T1078;T1078.003;T1105;T1204;T1204.002",
          "T1036;T1036.004;T1543.003;T1569.002;T1574.011",
          "T1550",
          "T1136;T1136.001",
          "T1036;T1080;T1204;T1218;T1534;T1566.001;T1566.003",
          "T1003.001;T1021.002;T1550.002;T1570",
          "T1003;T1552.001",
          "T1566.002;T1204.001",
          "T1087.002",
          "T1016;T1049;T1059.001",
          "T1047",
          "T1546.012",
          "T1059;T1059.007",
          "T1007;T1016;T1018;T1047;T1049;T1082;T1087;T1135",
          "T1021.002;T1074.002;T1078;T1078.003;T1080;T1543.003;T1569.002;T1570",
          "T1046;T1018",
          "T1570;T1021;T1021.002;T1021.003;T1021.004;T1021.006",
          "T1007;T1016;T1018;T1047;T1049;T1087;T1135;T1497.001",
          "T1091",
          "T1564.008",
          "T1007;T1016;T1016.001;T1018;T1046;T1047;T1049;T1069.001;T1082;T1087;T1087.001;T1135;T1497.001;T1518.001",
          "T1490",
          "T1070",
          "T1047;T1518.001",
          "T1133;T1203;T1566",
          "T1562.001",
          "T1136;T1136.003",
          "T1543;T1543.002",
          "T1218",
          "T1566.001;T1204.002",
          "T1555",
          "T1489;T1543.003;T1569.002",
          "T1005;T1119;T1552.001",
          "T1136;T1068",
          "T1543.003;T1569.002",
          "T1074.001;T1560",
          "T1086;T1064",
          "T1018;T1033;T1069;T1087;T1087.002;T1135;T1558.003",
          "T1112",
          "T1007;T1016;T1018;T1049;T1069.001;T1087;T1087.001;T1135",
          "T1036.004;T1543.003;T1569.002;T1574.011",
          "T1021.002;T1047;T1550.002;T1569.002",
          "T1078;T0859",
          "T1548;T1203;T1190",
          "T1021;T1105;T1543.003;T1569.002",
          "T1021.002;T1036.004;T1047;T1059.003;T1543.003;T1569.002;T1574.011",
          "T1036.004",
          "T1595;T1046",
          "T1552",
          "T1113",
          "T1550;T1550.002",
          "T1541",
          "T1018",
          "T1018;T1033;T1069;T1069.002;T1087;T1087.002;T1135;T1558.003",
          "T1078.003;T1098;T1136;T1136.001",
          "T1135;T1559",
          "T1016;T1106",
          "T1003.001;T1055;T1055.001;T1055.002;T1055.003;T1055.012;T1106;T1550.002",
          "T1070.001",
          "T1543;T1543;T1543.003",
          "T1016;T1047;T1049",
          "T1098;T1548",
          "T1003;T1555",
          "T1052.001",
          "T1490;T1561.002",
          "T1189;T1566",
          "T1007;T1016;T1018;T1047;T1049;T1082;T1087;T1135;T1497.001",
          "T1010;T1059.001;T1518",
          "T1018;T1069;T1087;T1087.002;T1087.003;T1135;T1558.003",
          "T1222;T1222.002",
          "T1078;T1136;T1087;T1078.004;T1136.003;T1087.004",
          "T1021.002",
          "T1007;T1016;T1018;T1049;T1069.002;T1087;T1087.002;T1135;T1482",
          "T1036;T1055;T1055.012;T1569.002",
          "T1098;T1098.001",
          "T1021;T1036.004;T1105;T1543.003;T1569.002;T1574.011",
          "T1218.010",
          "T1547;T1112",
          "T1059.001;T1113",
          "T1555.003",
          "T1113;T0852",
          "T1007;T1016;T1018;T1027.002;T1027.005;T1049;T1087;T1105;T1135",
          "T1090.003",
          "T1200",
          "T1069.001;T1098",
          "T1082",
          "T1003;T1003.002;T1003.005;T1012",
          "T1543.003",
          "T1110.002",
          "T1027.002;T1027.005;T1059.001;T1105",
          "T1055;T1203",
          "T1021;T1021.004;T1105;T1204;T1204.002",
          "T1204.002;T1547.009;T1566.001",
          "T1003;T1003.002;T1003.004;T1012;T1021;T1090.001;T1112;T1559;T1569.002",
          "T1007;T1016;T1018;T1049;T1087;T1135;T1574.007",
          "T1007;T1016;T1018;T1047;T1049;T1087;T1135",
          "T1020",
          "T1060",
          "T1040",
          "T1119;T1213.002",
          "T1007;T1016;T1018;T1033;T1049;T1087;T1087.001;T1135",
          "T1203",
          "T1027.002;T1027.005;T1105;T1218.005",
          "T1053",
          "T1047;T1082;T1083;T1497.001",
          "T1003.001;T1112",
          "T1003;T1003.001;T1106;T1547.005",
          "T1021.002;T1047;T1059.003;T1543.003",
          "T1055.001;T1055.002;T1055.012;T1056;T1056.001",
          "T1003.001",
          "T1047;T1120;T1497.001",
          "T1057;T1059.001;T1106",
          "T1086",
          "T1018;T1069;T1087;T1087.002;T1135;T1558.003",
          "T1218.004",
          "T1059;T1203;T1559;T1106;T1053;T1129;T1072;T1569;T1204;T1047;T1071;T1092;T1132;T1001;T1568;T1008;T1105;T1104;T1095;T1571;T1572;T1090;T1219;T1205;T1102;T1548;T1134;T1197;T1612;T1140;T1610;T1006;T1484;T1211;T1564;T1574;T1562;T1070;T1202;T1036;T1556;T1112;T1601;T1027;T1542;T1055;T1207;T1218;T1216;T1553;T1221;T1127;T1550;T1078;T1497;T1600;T1220;T1210;T1563;T1021;T1091",
          "T1018;T1033;T1069;T1082;T1087;T1087.002;T1135;T1558.003",
          "T1057",
          "T1497.001;T1497.002;T1518.001",
          "T1021.002;T1039;T1074.002;T1078;T1078.002;T1080;T1486;T1570",
          "T1114;T1114.003",
          "T1212",
          "T1115;T1056.001",
          "T1568",
          "T1548.003",
          "T1516;T1595;T1046;T1418;T1421",
          "T1021;T1021.002;T1039;T1074.002;T1078;T1080;T1486;T1570",
          "T1036.003",
          "T1559;T1570",
          "T1021.002;T1039;T1074.002;T1078;T1080;T1570",
          "T1003.001;T1055.002;T1550.002",
          "T1027;T1027.003",
          "T1021.003;T1027;T1204.002",
          "T1129;T1218.001;T1218.003;T1218.010;T1218.011;T1620",
          "T1059;T1059.004",
          "T1114.003",
          "T1547.004",
          "T1567",
          "T1003.002;T1003.004;T1012;T1489;T1543.003",
          "T1489",
          "T1087;T1049;T1087.002",
          "T1003;T1201;T1552;T1555",
          "T1055;T1055.001;T1055.002;T1055.003;T1055.012",
          "T1137",
          "T1003.002;T1003.004;T1012;T1021;T1090.001;T1112;T1489;T1543.003;T1559;T1569.002",
          "T1003;T1003.002;T1003.004;T1012;T1489;T1543.003",
          "T1562.004",
          "T1087.002;T1190",
          "T1112;T1548.002",
          "T1557;T1539;T1598",
          "T1007;T1016;T1016.001;T1018;T1046;T1049;T1087;T1135",
          "T1007;T1047;T1543.003",
          "T1643",
          "T1021.003;T1021.006;T1059.001",
          "T1036.004;T1543.003",
          "T1564.005",
          "T1016;T1018;T1069;T1087;T1482",
          "T1033;T1047;T1087;T1087.001",
          "T1136.002",
          "T1003.003",
          "T1003;T1005;T1027.002;T1027.005;T1105;T1119;T1539;T1550.004;T1552.001;T1555.003;T1555.004",
          "T1098;T1136;T1136.001",
          "T1059;T1059.004;T1190;T1204;T1505;T1505.003",
          "T1499",
          "T1199;T1136;T1078;T1098",
          "T1558",
          "T1053.005",
          "T1059.007",
          "T1572;T1018",
          "T1078;T1059;T1204;T0807;T1548",
          "T1021;T1021.003;T1059.001",
          "T1018;T1059.001;T1069.002;T1087.002;T1087.003",
          "T1027",
          "T1021;T1036.004;T1105;T1489;T1543.003;T1569.002;T1574.011",
          "T1098;T1136;T1136.001;T1136.002",
          "T1074.001;T1560;T1560.001",
          "T1021.006",
          "T1055;T1055.001;T1055.002;T1055.012",
          "T1087;T1057;T1087.001;T1069.001;T1518.001",
          "T1202",
          "T1021;T1021.003;T1021.006;T1059",
          "T1595;T1190",
          "T1110.003",
          "T1078.003;T1078.002",
          "T1003;T1489;T1528;T1543.003",
          "T1021.002;T1059.003;T1074.002;T1078;T1078.002;T1080;T1543.003;T1570",
          "T1053.002",
          "T1048",
          "T1007;T1016;T1016.001;T1018;T1049;T1087;T1135",
          "T1135",
          "T1003;T1012;T1074.001",
          "T1003;T1005;T1555;T1555.003;T1555.004",
          "T1007;T1016;T1018;T1021.001;T1033;T1049;T1087;T1135",
          "T1072;T1047",
          "T1203;T1566.001",
          "T1546.001",
          "T1546.011",
          "T0865;T1566",
          "T1203;T1204",
          "T1548.004",
          "T1546.015",
          "T1059;T1059.003",
          "T1016;T1047;T1482",
          "T0863",
          "T1496;T1559",
          "T1007;T1016;T1018;T1049;T1087;T1135;T1518.001",
          "T1087;T1204.001",
          "T1003;T1003.002;T1003.005",
          "T1218.003;T1220",
          "T1598",
          "T1036;T0849;T1534",
          "T1555;T1078",
          "T1564.004",
          "T1036.005",
          "T1082;T1614;T1016;T1049;T1497.001",
          "T1027.004",
          "T1037;T1037.001",
          "T1059.001;T1069.001",
          "T1007;T1012;T1016;T1018;T1033;T1047;T1049;T1069;T1069.001;T1082;T1087;T1087.001;T1087.002;T1135;T1497.001;T1518.001",
          "T0865",
          "T1057;T1059.001;T1082",
          "T1573;T1105;T1104;T0885;T1567",
          "T1007;T1016;T1018;T1047;T1049;T1087;T1087.001;T1135",
          "T1564.003",
          "T1546.007",
          "T1114.002",
          "T1001;T1027;T1053;T1547.001",
          "T1027;T1047;T1204.002",
          "T1059.001;T1547.001",
          "T1059;T1027;T1140",
          "T1003.002",
          "T1021.002;T1059.001;T1074.002;T1078;T1078.002;T1080;T1543.003;T1570",
          "T1003.002;T1003.003;T1003.004",
          "T1007;T1016;T1018;T1049;T1057;T1059.001;T1087;T1106;T1135",
          "T1016;T1018;T1069;T1087;T1482;T1069.002;T1087.002",
          "T1016;T1082;T1087;T1482",
          "T1021.003;T1059.003",
          "T1021.003",
          "T1598;T1566",
          "T1106;T1134.004",
          "T1021.001",
          "T1590;T1046",
          "T1007;T1012;T1016;T1018;T1049;T1087;T1135",
          "T1189;T1190",
          "T1016;T1018;T1069.002;T1087.002;T1087.003;T1482",
          "T1016;T1059.001;T1106",
          "T0855",
          "T1003;T1003.002;T1003.004;T1012",
          "T1003;T1021.001;T1105;T1219;T1555",
          "T1021;T1021.003",
          "T1021;T1021.002;T1059;T1074.002;T1078;T1078.002;T1080;T1543.003;T1570",
          "T1090;T1219",
          "T1055;T1055.001;T1055.002;T1055.003;T1055.004;T1055.005;T1055.012;T1059.001",
          "T1183",
          "T1534;T1564.008",
          "T1595;T1590",
          "T1484",
          "T1482",
          "T1021.002;T1047;T1057;T1570",
          "T1598;T1586;T1114;T1566",
          "T1021;T1047;T1105;T1569.002",
          "T1003;T1005;T1047;T1119;T1539;T1550.004;T1552.001;T1555.003;T1555.004",
          "T1018;T1059.001",
          "T1055;T1055.001;T1055.002;T1055.003;T1055.004;T1055.005;T1055.012;T1059.001;T1106",
          "T1137;T1221",
          "T1055",
          "T1007;T1016;T1018;T1047;T1049;T1087;T1135;T1518",
          "T1007;T1016;T1018;T1049;T1087;T1135;T1201",
          "T1021.002;T1074.002;T1078;T1080;T1543.003;T1569.002;T1570",
          "T1525",
          "T1003.001;T1055.001;T1055.002;T1055.012;T1550.002",
          "T1018;T1021",
          "T1114;T1020",
          "T1055;T1057",
          "T1566;T1566.002",
          "T1021.006;T1218.011;T1220",
          "T1574.002",
          "T1016;T1033;T1047;T1049;T1087.001",
          "T1550.002",
          "T1018;T1112;T1486",
          "T1137.005",
          "T1005;T1011;T1020;T1041;T1048;T1048.003;T1074.001;T1560;T1567",
          "T1059.006",
          "T1572",
          "T1547",
          "T1574.001",
          "T1105;T1204;T1204.002",
          "T1059.005;T1059.007",
          "T1036.004;T1489;T1543.003;T1569.002;T1574.011",
          "T1005;T1087.003;T1114;T1114.001",
          "T0840",
          "T1036.004;T1059.003;T1543.003;T1569.002;T1574.011",
          "T1571",
          "T1007;T1016;T1018;T1049;T1057;T1087;T1135",
          "T1574.002;T1574.001",
          "T1546",
          "T1007;T1016;T1018;T1033;T1049;T1069;T1087;T1087.001;T1087.002;T1135",
          "T0838",
          "T1218.009",
          "T1529",
          "T1007;T1016;T1018;T1033;T1049;T1059.001;T1087;T1087.001;T1135",
          "T1574.001;T1574.002",
          "T1001;T1006;T1008;T1021;T1027;T1036;T1047;T1053;T1055;T1059;T1070;T1071;T1072;T1078;T1090;T1091;T1092;T1095;T1102;T1104;T1105;T1106;T1112;T1127;T1129;T1132;T1134;T1140;T1197;T1202;T1203;T1204;T1205;T1207;T1210;T1211;T1216;T1218;T1219;T1220;T1221;T1484;T1497;T1542;T1548;T1550;T1553;T1556;T1559;T1562;T1563;T1564;T1568;T1569;T1571;T1572;T1574;T1600;T1601;T1610;T1612",
          "T1547.001;T1547.009",
          "T1036;T1036.005",
          "T1046;T1498",
          "T1078;T1078.003",
          "T1007;T1016;T1018;T1049;T1069.001;T1069.002;T1087;T1087.001;T1135",
          "T1003;T1555;T1555.003;T1555.004",
          "T1505.003",
          "T1021;T1021.002;T1039;T1047;T1570",
          "T1036.001",
          "T1550;T1550.001",
          "T1036;T1218.011",
          "T1007;T1016;T1018;T1049;T1087;T1135;T1482",
          "T1114.003;T1137.005",
          "T1012;T1497.001",
          "T1016;T1016.001;T1047;T1082;T1190;T1505.003",
          "T1064",
          "T1059.001;T1543.003",
          "T1059;T1059.004;T1204;T1222;T1222.002",
          "T1021.002;T1543.003;T1569.002;T1570",
          "T1021.003;T1047;T1059.001",
          "T1021.002;T1204",
          "T1021.006;T1047",
          "T1007;T1016;T1016.001;T1018;T1046;T1049;T1069.001;T1087;T1087.001;T1135;T1518.001",
          "T1547.014",
          "T1041;T1567",
          "T1007;T1016;T1016.001;T1018;T1049;T1057;T1069.001;T1087;T1087.001;T1135;T1569.002",
          "T1037;T1543;T1546",
          "T1003.003;T1105;T1570",
          "T1558.003",
          "T1033;T1069.001;T1069.002;T1087;T1087.001;T1087.002",
          "T1059;T1035",
          "T0858",
          "T1052;T1567;T1537",
          "T1027;T1027.002;T1027.005;T1105;T1204.002;T1547.001",
          "T1110;T1212",
          "T1018;T1069;T1087;T1136;T1482",
          "T1036;T1055;T1055.001;T1055.002;T1055.003;T1055.012;T1106",
          "T1003;T1550.003",
          "T1003;T1003.002;T1003.004;T1003.005;T1012",
          "T1553",
          "T1016;T1059.001",
          "T1111;T1557;T1566",
          "T1018;T1057;T1016;T1087.001;T1087.002;T1069.001;T1069.002",
          "T1021;T1021.002;T1047;T1570",
          "T1547.009",
          "T1021.002;T1570",
          "T1560.001",
          "T1021;T1021.003;T1021.006;T1027.002;T1027.005;T1105",
          "T1059.003;T1082",
          "T1529;T0829;T0827",
          "T1003;T1087.002;T1098;T1649",
          "T1134",
          "T1036.005;T1574.001;T1574.002",
          "T1016;T1018;T1033;T1049;T1069.001;T1069.002;T1082;T1087;T1087.001;T1087.002;T1135;T1201",
          "T1562.003",
          "T1543;T1068",
          "T1213;T1213.002",
          "T1003;T1016;T1018;T1069.002;T1070.004;T1087.002;T1482",
          "T1021;T1059;T1543.003",
          "T1569;T1569.002",
          "T1547.010",
          "T1021.002;T1039;T1074.002;T1078;T1078.002;T1080;T1570",
          "T1562.010",
          "T1007;T1010;T1016;T1018;T1049;T1059.001;T1087;T1135;T1518",
          "T1070.004",
          "T1021;T1021.006",
          "T1021.002;T1036.004;T1059.003;T1543.003;T1569.002;T1570;T1574.011",
          "T1007;T1016;T1018;T1033;T1047;T1049;T1057;T1082;T1087;T1087.001;T1135;T1201;T1497.001",
          "T1003;T1003.002;T1003.004;T1012;T1021;T1090.001;T1112;T1559",
          "T1021.002;T1036;T1036.004;T1053;T1053.005;T1570",
          "T1552;T1552.004",
          "T1003;T1003.001",
          "T1003.005",
          "T1552.001",
          "T1012;T1071.003;T1114.001;T1552",
          "T1565",
          "T1098;T1556",
          "T1021;T1021.004;T1071;T1078;T1078.003;T1105;T1202;T1204",
          "T1053.002;T1059.001",
          "T1027;T1027.002;T1027.005;T1105;T1204.002;T1218.011",
          "T1055;T1055.003;T1055.012;T1071;T1106",
          "T1070;T1562",
          "T1007;T1016;T1018;T1049;T1059.001;T1069.002;T1087;T1087.002;T1087.003;T1135",
          "T1190;T1210",
          "T1003.002;T1003.004;T1012;T1021;T1090.001;T1112;T1559",
          "T1007;T1016;T1018;T1021.001;T1033;T1049;T1069.001;T1069.002;T1087;T1087.001;T1087.002;T1135;T1482;T1569.002",
          "T1199",
          "T1047;T1135",
          "T1566;T1078",
          "T1070.008",
          "T1059.001;T1095",
          "T1083;T1486;T1499",
          "T1033;T1059.001;T1106",
          "T1027;T1027.002;T1027.005;T1059.001;T1105;T1204.002",
          "T1059.001;T1562.001;T1562.006",
          "T1005;T1007;T1016;T1018;T1049;T1059.001;T1083;T1087;T1135",
          "T1059.001;T1083;T1119;T1552.001;T1552.002",
          "T1005;T1020;T1041;T1048;T1071;T1071.001;T1567;T1570",
          "T1546.003",
          "T1003;T1012;T1083;T1552.001;T1552.002",
          "T1007;T1016;T1018;T1049;T1087;T1135;T1614.001",
          "T1021.001;T1105;T1219;T1558.003",
          "T1030;T1041;T1071.004;T1132",
          "T1112;T1490;T1547.001",
          "T1033;T1106",
          "T1021;T1021.002;T1569.002",
          "T1021;T1021.002;T1053.002;T1053.005;T1090.001;T1559",
          "T0843;T0858;T0814",
          "T1064;T1204;T1059.001;T1569.002;T1059.004;T1059.003",
          "T1018;T1069;T1087;T1087.002;T1135;T1482;T1558.003",
          "T1007;T1016;T1018;T1047;T1049;T1069.001;T1082;T1087;T1087.001;T1135;T1497.001;T1518.001",
          "T1021.002;T1036.004;T1543.003;T1569.002;T1570;T1574.011",
          "T1055.012",
          "T1216",
          "T1530;T1213;T1020",
          "T1078.002",
          "T1589;T1078",
          "T1081;T1552",
          "T1007;T1016;T1018;T1047;T1049;T1069.002;T1087;T1087.002;T1135;T1482",
          "T1007;T1016;T1018;T1049;T1059.001;T1083;T1087;T1135",
          "T1059.001;T1486",
          "T1210;T0860;T0817;T0866;T1557",
          "T1059.003;T1543.003",
          "T1021.002;T1047;T1570",
          "T1546.008",
          "T1185",
          "T1016;T1018;T1021.001;T1033;T1059.001;T1069;T1082;T1087.002;T1484;T1555",
          "T1027.002;T1027.005;T1059.003;T1105;T1547.001",
          "T1114",
          "T1612",
          "T1021;T1105;T1550.002",
          "T1590",
          "T1218.003;T1548.002",
          "T1021;T1078",
          "T1021;T1036.004;T1489;T1543.003;T1569.002;T1574.011",
          "T1543.003;T1569.002;T1574.011",
          "T1205",
          "T1110;T1212;T1087",
          "T1566;T1098;T1559;T1055",
          "T1007;T1016;T1016.001;T1018;T1047;T1049;T1057;T1082;T1087;T1087.001;T1135;T1497.001",
          "T1059.001;T1087.002",
          "T1021.002;T1036.004;T1047;T1059.003;T1489;T1543.003;T1569.002;T1574.011",
          "T1003.002;T1003.004;T1012",
          "T1005;T1083",
          "T1003;T1003.002;T1003.004;T1012;T1021;T1090.001;T1112;T1489;T1543.003;T1559",
          "T1016;T1082;T1190;T1505.003",
          "T1021;T1036.004;T1543.003;T1569.002;T1574.011",
          "T1068;T1134;T1134.001",
          "T1021.002;T1047;T1059.003;T1543.003;T1569.002",
          "T1021;T1021.002;T1039;T1053.005;T1059.001;T1078;T1489;T1562.001;T1570",
          "T1021.003;T1047",
          "T1090;T1560",
          "T1187",
          "T1047;T1082;T1547.001",
          "T1003;T1059.001",
          "T1021.006;T1210",
          "T1007;T1016;T1016.001;T1018;T1033;T1046;T1047;T1049;T1069;T1069.001;T1082;T1087;T1087.001;T1087.002;T1135;T1497.001;T1518.001",
          "T1021.002;T1027.002;T1027.005;T1047;T1105;T1570",
          "T1021.004",
          "T1003;T1018;T1069.002;T1087.002;T1105;T1482;T1555;T1558.003;T1570",
          "T1078;T1078.002",
          "T1211;T1053",
          "T1021;T1021.004;T1071;T1078;T1078.003;T1105;T1204;T1204.002;T1570",
          "T1210;T1563;T1021;T1080;T1550",
          "T1049;T1106;T1135",
          "T1003;T1005;T1055.002;T1119;T1539;T1550.004;T1552.001;T1555.003;T1555.004",
          "T1574",
          "T1566;T1199;T1566.002;T1566.001",
          "T1020;T1048;T1041",
          "T1016;T1018;T1059.001",
          "T1071;T1566;T1078;T1204;T1534;T1190",
          "T1112;T1562.001;T1562.006",
          "T1074.002;T1113;T1115",
          "T1021.003;T1027.002;T1027.005;T1059.001;T1105",
          "T1036;T1055.012;T1218.011",
          "T1612;T1562;T1569;T0807",
          "T1566;T1199",
          "T1552.001;T1555.003;T1555.004",
          "T1057;T1106",
          "T1090.001;T1572",
          "T1027;T1027.002;T1027.005;T1105;T1204.002;T1546.008;T1546.012",
          "T1021.003;T1021.006;T1027;T1204.002",
          "T1047;T1124",
          "T1033;T1047;T1087",
          "T1191",
          "T1055;T1055.004;T1055.012;T1106",
          "T1003;T1003.008;T1005;T1074;T1074.001;T1087;T1087.001;T1119;T1528;T1552.001",
          "T1496;T1585",
          "T1047;T1082;T1087.001;T1135",
          "T1071;T1003",
          "T1102;T1190;T1133",
          "T1021;T1053.002;T1053.005;T1090.001;T1559",
          "T1087;T1087.001;T1069.001",
          "T1068;T1203;T1562",
          "T1547;T1547.005",
          "T1106;T1112",
          "T1203;T1189",
          "T1016;T1018;T1069;T1069.002;T1087;T1087.002;T1482",
          "T1003;T1003.002;T1003.004;T1012;T1489;T1543.003;T1569.002",
          "T1059;T1059.004;T1095",
          "T1021.002;T1039;T1053.005;T1059.001;T1078;T1489;T1562.001;T1570",
          "T1003;T1003.002",
          "T1020;T1041;T1048",
          "T1028;T1570;T1210;T1021.006;T1021.002",
          "T1021.006;T1059.003",
          "T1011;T1020;T1041;T1048;T1048.003;T1567",
          "T1213;T1530;T1039",
          "T1222;T1222.001",
          "T1005;T1083;T1552;T1552.001",
          "T1554",
          "T1078.001;T1078.003",
          "T1547;T1547.012",
          "T1204;T0863",
          "T1036.004;T1543.003;T1569.002;T1574.010;T1574.011",
          "T1007;T1016;T1018;T1049;T1087;T1106;T1135",
          "T1021;T1047",
          "T1543;T1219",
          "T1047;T1069.001",
          "T1046;T1595",
          "T1071.001;T1087.003;T1110.003;T1114.002",
          "T1016;T1018;T1069.002;T1087.002;T1482",
          "T1090",
          "T1021.003;T1490",
          "T1007;T1016;T1018;T1047;T1049;T1082;T1083;T1087;T1135;T1497.001",
          "T1095",
          "T1115",
          "T1021.006;T1047;T1059.001",
          "T1055;T1059",
          "T1059;T1078;T1070;T1490",
          "T1136.001",
          "T1007;T1016;T1018;T1049;T1059.003;T1083;T1087;T1135",
          "T1021;T1021.002;T1047;T1053.002;T1053.005;T1059.003;T1090.001;T1559",
          "T1021.003;T1036.003",
          "T1087;T1201;T1110;T1078",
          "T1007;T1016;T1018;T1049;T1083;T1087;T1135",
          "T1112;T1546.011",
          "T1007;T1016;T1018;T1049;T1059.001;T1087;T1135",
          "T1036;T1036.003;T1087;T1087.002",
          "T1505.004",
          "T0890",
          "T1055.002;T1056;T1056.001",
          "T1546.002",
          "T1566.003;T1566.001;T1566.002",
          "T1083;T1552.001;T1552.002",
          "T1546.013",
          "T1021;T1021.002;T1027.002;T1027.005;T1047;T1105;T1570",
          "T1566;T1193;T1192;T1566.002;T1566.001",
          "T1546;T1546.013",
          "T1546.010",
          "T1547.012",
          "T1070;T1070.004",
          "T1005;T1020;T1041;T1048;T1071;T1071.001;T1204.001;T1567;T1570",
          "T1564",
          "T1114;T1505.002",
          "T1219;T1572",
          "T1037.001",
          "T1036.005;T1053;T1543.003;T1547.001",
          "T1021.002;T1074.002;T1078;T1080;T1570",
          "T1557;T1539",
          "T1140",
          "T1053.005;T1059.001",
          "T1007;T1016;T1016.001;T1018;T1033;T1047;T1049;T1057;T1069.002;T1082;T1087;T1087.001;T1087.002;T1135;T1497.001;T1518.001;T1569.002;T1614;T1614.001",
          "T1218;T1216",
          "T1047;T1497.001",
          "T1059;T1059.001",
          "T1056.003",
          "T1021.001;T1563",
          "T1027.002;T1027.005;T1047;T1105",
          "T1021;T1021.002;T1039;T1053.005;T1059.001;T1570",
          "T1584;T1584.007",
          "T1064;T1204",
          "T1083;T1202",
          "T1027;T1059.001",
          "T1564.001",
          "T1071.001;T1203",
          "T1203;T0863",
          "T1003;T1003.002;T1003.004;T1012;T1021;T1021.002;T1039;T1090.001;T1112;T1489;T1543.003;T1559;T1569.002",
          "T1556;T1204;T1189",
          "T1007;T1012;T1016;T1018;T1049;T1087;T1135;T1497.001",
          "T1562;T0836;T1562.007",
          "T1021;T1053.005;T1059",
          "T1055;T1055.001;T1055.002;T1055.003;T1055.004;T1055.012;T1059.001;T1070.004",
          "T0863;T1546;T1133;T0889",
          "T1608",
          "T1005;T1007;T1016;T1018;T1049;T1083;T1087;T1119;T1135",
          "T1603",
          "T1564;T1564.006",
          "T1566;T1192;T1193",
          "T1011",
          "T1021.002;T1027.002;T1027.005;T1039;T1047;T1105;T1570",
          "T1222.001",
          "T1033",
          "T1016;T1018;T1033;T1049;T1069.001;T1069.002;T1087;T1087.001;T1087.002;T1135;T1201",
          "T1548",
          "T1027.009;T1056.001;T1082;T1204;T1216;T1218;T1222.001",
          "T1021.002;T1047;T1053.005;T1059.003",
          "T1557",
          "T1059;T1059.004;T1190;T1505;T1505.003",
          "T1070;T1070.004;T1204;T1204.002;T1562.004;T1562.006",
          "T1021;T1021.002;T1039;T1074.002;T1078;T1078.002;T1080;T1486;T1570",
          "T1007;T1016;T1018;T1049;T1087;T1135;T1558",
          "T1059;T1059.001;T1059.003",
          "T1110;T1110.003;T1110.002",
          "T1614;T1082;T1497.001",
          "T1547.006",
          "T1007;T1016;T1016.001;T1018;T1049;T1057;T1069.001;T1087;T1087.001;T1135;T1518.001;T1569.002",
          "T1021.002;T1543.003",
          "T1574.010",
          "T1059.001;T1087",
          "T1087.001",
          "T1018;T1059.001;T1087;T1119",
          "T1007;T1016;T1016.001;T1018;T1021.001;T1033;T1049;T1069.001;T1087;T1087.001;T1135;T1569.002",
          "T1021.002;T1036.004;T1074.002;T1078;T1078.002;T1080;T1543.003;T1569.002;T1570;T1574.011",
          "T1059.003;T1112;T1574.011",
          "T1078;T1517",
          "T1003;T1055",
          "T1007;T1016;T1018;T1033;T1047;T1049;T1057;T1082;T1087;T1087.001;T1135;T1497.001;T1518.001;T1543.003",
          "T1556",
          "T1021;T1021.002;T1036.004;T1543.003;T1569.002;T1570;T1574.011",
          "T1021.002;T1059.001;T1074",
          "T1056",
          "T1003;T1528",
          "T1036;T1543.003;T1569.002",
          "T1218.007",
          "T1016;T1057",
          "T1007;T1016;T1018;T1049;T1059.001;T1087;T1106;T1135;T1482",
          "T1059.001;T1106;T1482",
          "T1119",
          "T1071;T1203;T1189",
          "T1016",
          "T1018;T1069.002;T1087.002;T1105;T1482;T1570",
          "T1007;T1016;T1018;T1047;T1049;T1082;T1087;T1135;T1547.001",
          "T1041;T1071;T1071.001",
          "T1102;T1567",
          "T1021;T1486;T1570",
          "T1001;T1001.002;T1005;T1020;T1041;T1048;T1071;T1071.001;T1567;T1570",
          "T1003;T1018;T1068;T1069.002;T1087.002;T1105;T1482;T1555;T1570",
          "T1027;T1027.002;T1027.005;T1105;T1204.002;T1560",
          "T1110;T1078;T1110.004;T1110.003",
          "T1055;T1059.001",
          "T1046;T1095;T1571",
          "T1018;T1021.001;T1033;T1087;T1105;T1190;T1505.003;T1570",
          "T1027.002;T1027.005;T1047;T1059.003;T1105",
          "T1629",
          "T1021.003;T1021.006;T1059.003",
          "T1207",
          "T1112;T1562.001",
          "T1548.002",
          "T1003;T1055.001;T1055.002;T1055.012;T1134;T1528;T1556",
          "T1137;T1137.006",
          "T1021.006;T1027;T1204.002",
          "T1112;T1543.003;T1547.001",
          "T1039",
          "T1071;T1481",
          "T1211",
          "T1552.001;T1555.003",
          "T1027;T1204.002;T1543.003",
          "T1046;T1135;T1018",
          "T1053;T1053.002",
          "T1047;T1082;T1087.001",
          "T0820;T0853;T0807;T0866",
          "T1021;T1569.002",
          "T1053;T1546.015;T1559.001",
          "T1187;T1204.002;T1547.009;T1566.001",
          "T1068;T1528;T1552;T1555;T1558",
          "T1064;T1569;T1047;T1204.002;T1059.001",
          "T0859",
          "T1553.002",
          "T1027;T1053.005;T1204.002",
          "T1563;T1563.002",
          "T1021;T1021.003;T1027.002;T1027.005;T1059;T1105",
          "T1030;T1048.003",
          "T1621;T1078",
          "T1055;T1055.001;T1055.002;T1055.012;T1562.001;T1562.002",
          "T1043;T1071;T1071.001;T1568",
          "T1111;T1621",
          "T1021.002;T1059.001",
          "T1003;T1201;T1552;T1552.001;T1555",
          "T1033;T1083;T1018;T1069",
          "T1003.002;T1003.004;T1012;T1021;T1090.001;T1112;T1559;T1569.002",
          "T1218.013",
          "T1007;T1016;T1018;T1047;T1049;T1087;T1135;T1518.001",
          "T1021;T1136.001",
          "T1620",
          "T1070.001;T1562.002",
          "T1021.002;T1074.002;T1078;T1080;T1486;T1570",
          "T1069.002",
          "T1220",
          "T1550;T1550.002;T1550.003",
          "T1037.004;T1037.005;T1543.002",
          "T0859;T1078;T1098;T1586",
          "T1078;T1563",
          "T1003;T1005;T1055;T1055.003;T1055.012;T1106;T1119;T1539;T1550.004;T1552.001;T1555.003;T1555.004",
          "T1526;T1087;T1087.004;T1087.002;T1069.002;T1087.003",
          "T1083;T1190;T1505.003",
          "T1003;T1105;T1555;T1558.003;T1570",
          "T1208",
          "T1070.004;T1070.006",
          "T1104;T1059;T1204",
          "T1007;T1012;T1016;T1018;T1049;T1057;T1069.001;T1087;T1087.001;T1135",
          "T1212;T1098",
          "T1053;T1053.003",
          "T1021;T1021.003;T1047",
          "T1021.002;T1543.003;T1562.001;T1569.002;T1570",
          "T1087;T1105;T1133",
          "T1003.001;T1021.003;T1021.006;T1059.003",
          "T1007;T1016;T1018;T1033;T1047;T1049;T1087;T1087.001;T1135",
          "T1484;T0859",
          "T1078;T1543.003;T1569.002",
          "T1003;T1105;T1555;T1570",
          "T1059;T1059.004;T1082;T1204",
          "T0873",
          "T1033;T1047;T1082;T1087;T1087.001;T1135",
          "T1059;T1059.004;T1129",
          "T1550.001",
          "T1087.001;T1069.001;T1087.002",
          "T1027;T1027.002;T1027.005;T1105;T1204.002;T1219",
          "T1218;T1554",
          "T1574.011;T1547.001",
          "T1565;T1565.001",
          "T1005;T1016;T1049;T1059;T1059.004;T1083;T1204",
          "T1552.003",
          "T0807;T1204",
          "T1033;T1047;T1082;T1083;T1087;T1087.001;T1135;T1497.001",
          "T1111;T1557;T1566.002",
          "T1003;T1087.002;T1528",
          "T1003;T1018;T1046;T1105;T1555;T1570;T1595",
          "T1021;T1021.003;T1047;T1059",
          "T1018;T1033;T1069;T1087;T1087.002;T1087.003;T1135;T1558.003",
          "T0820;T1203;T1204",
          "T1047;T1059.001",
          "T1112;T1070",
          "T1003;T1078;T1555",
          "T1005;T1011;T1041;T1048;T1071;T1071.001;T1074;T1074.001;T1083;T1119;T1560;T1560.001;T1570",
          "T1203;T0853",
          "T1053.005;T1059.003",
          "T1055.001;T1055.002;T1055.012;T1078",
          "T1534;T1114;T1564;T1070",
          "T1059;T1059.002;T1204;T1567",
          "T1056;T1056.001;T1106",
          "T1021.002;T1053;T1570",
          "T1003.001;T1021.003;T1036;T1055;T1055.012;T1569.002",
          "T1204;T1204.002",
          "T1021.002;T1543.003;T1569.002",
          "T1027.002;T1027.005;T1036.004;T1105;T1543.003",
          "T1566;T1078;T1078.003;T1566.002;T1566.001",
          "T0836;T1562;T1562.001",
          "T1053;T1218.010",
          "T1111;T1098;T1078",
          "T1574.008",
          "T1560",
          "T1558;T1558.001",
          "T1018;T1069;T1069.002;T1087;T1087.002;T1482",
          "T1204;T1064;T1059.003;T1059.001;T1204.002",
          "T1007;T1016;T1016.001;T1018;T1046;T1049;T1087;T1135;T1518.001",
          "T1070.004;T1562.001;T1562.006",
          "T1059.001;T1087.001;T1106",
          "T1114;T1074",
          "T1003;T1134",
          "T1007;T1016;T1018;T1033;T1049;T1082;T1087;T1135",
          "T1078;T1219;T1558.003",
          "T0849;T1078;T1564",
          "T1078.003",
          "T1003.001;T1543.003",
          "T1001",
          "T1021.003;T1036;T1055;T1055.012;T1569.002",
          "T1485;T0828;T1562",
          "T0826",
          "T1003;T1003.002;T1003.004;T1012;T1021.002;T1039",
          "T1007;T1497.001",
          "T1548.001",
          "T1559.002",
          "T1018;T1059.001;T1135",
          "T1106;T1135",
          "T1566;T1189;T1566.002",
          "T1003;T1007;T1012;T1016;T1018;T1049;T1087;T1135;T1552.002",
          "T1059;T1059.004;T1204;T1546;T1546.005",
          "T0853;T0807",
          "T1566;T1566.002;T1566.003",
          "T1074;T1005;T1039",
          "T1018;T1069;T1069.002;T1087;T1087.002;T1136;T1482",
          "T1621",
          "T1078;T1059;T1651",
          "T1550.002;T1550.003",
          "T1007;T1016;T1018;T1033;T1049;T1057;T1069.001;T1087;T1087.001;T1135;T1518.001",
          "T1059.001;T1204",
          "T1007;T1047;T1082;T1087.001",
          "T1007;T1016;T1018;T1033;T1047;T1049;T1057;T1069.001;T1087;T1087.001;T1135",
          "T1033;T1069;T1082;T1083;T1087;T1087.001;T1087.002;T1190;T1505.003",
          "T1033;T1069;T1087;T1087.001;T1087.002;T1190;T1505.003",
          "T1046;T1105;T1219;T1570;T1595",
          "T1578;T1098",
          "T1134.004",
          "T1078;T1078.003;T1078.002",
          "T1059;T1574;T1087;T1082",
          "T1055;T1055.003;T1055.012;T1056;T1056.001;T1106",
          "T1007;T1016;T1018;T1033;T1049;T1082;T1087;T1087.001;T1087.002;T1135",
          "T1003.008",
          "T1020;T1567.002",
          "T1574;T1190",
          "T1014;T1574;T1574.006",
          "T1003;T1550.002;T1550.003",
          "T1608;T1222;T1199",
          "T1018;T1082",
          "T1018;T1069;T1087;T1135;T1558.003",
          "T0857",
          "T1078;T1136;T1136.001",
          "T1531;T1110",
          "T1003;T1005;T1055.001;T1055.002;T1055.012;T1119;T1539;T1550.004;T1552.001;T1555.003;T1555.004",
          "T1047;T1082;T1087.001;T1135;T1518",
          "T1098.001",
          "T1003;T1059.001;T1555",
          "T1027;T1027.002;T1027.005;T1105;T1204.002;T1543.003",
          "T1007;T1047;T1082;T1087.001;T1518",
          "T1586;T1556",
          "T1078;T1212;T1078.003",
          "T1021;T1047;T1105",
          "T1098;T1136",
          "T1016;T1018;T1033;T1049;T1069.001;T1069.002;T1087;T1087.001;T1087.002;T1135",
          "T1098;T1626;T1078;T1585;T1588",
          "T1578",
          "T1528;T1550",
          "T1204;T1578",
          "T1070;T1070.002;T1565.001",
          "T1078;T1110;T1021",
          "T1003;T1057",
          "T1055;T1055.002;T1055.003;T1055.012;T1071;T1106",
          "T1110;T1078;T1087",
          "T1033;T1069.001;T1069.002;T1087;T1087.001;T1087.002;T1135",
          "T1003;T1003.001;T1550.002",
          "T1140;T1204.002;T1548.002;T1566.001;T1566.002",
          "T1007;T1016;T1018;T1033;T1049;T1069.001;T1087;T1087.001;T1087.002;T1135",
          "T1556;T1558;T1578",
          "T1001.002",
          "T1021;T1053.002;T1053.005;T1078;T1090.001;T1559",
          "T1049;T1110;T1135",
          "T1055;T1055.001;T1055.002;T1055.012;T1071",
          "T1007;T1016;T1018;T1049;T1087;T1087.001;T1106;T1135",
          "T1012;T1083;T1552.001;T1552.002",
          "T1016;T1033;T1049;T1069.001;T1069.002;T1082;T1087;T1087.001;T1087.002;T1135;T1201",
          "T1036.004;T1036.008",
          "T1543",
          "T1018;T1033;T1069;T1069.002;T1082;T1087;T1087.002;T1135;T1558.003",
          "T1055;T1055.002;T1055.003;T1055.012;T1056;T1056.001;T1106",
          "T1059.005",
          "T1562.002",
          "T1056;T1059.001",
          "T1018;T1021;T1071.004",
          "T1021;T1021.002",
          "T1188",
          "T1069.001;T1087.001",
          "T1106;T1548;T1548.001",
          "T1020;T1041;T1048;T1071;T1071.001;T1564;T1564.001;T1567;T1567.002",
          "T1586;T1114",
          "T1078;T0890",
          "T1007;T1016;T1018;T1047;T1049;T1087;T1120;T1135;T1497.001",
          "T1489;T1543.003;T1562.001;T1562.006;T1569.002",
          "T1070.004;T1218.011",
          "T1027;T1059.001;T1059.005",
          "T1016;T1018;T1033;T1069.001;T1069.002;T1087;T1087.001;T1087.002;T1135;T1136;T1201",
          "T1078;T1490",
          "T1016;T1018;T1033;T1049;T1069.001;T1069.002;T1087;T1087.001;T1087.002;T1135;T1136;T1201",
          "T1021.006;T1055.001;T1055.002;T1055.012;T1218.011;T1220",
          "T0865;T1566;T1098;T1078",
          "T1535",
          "T1584",
          "T1016;T1033;T1069.001;T1069.002;T1082;T1087;T1087.001;T1087.002;T1201",
          "T1203;T1204;T1204.002",
          "T1003;T1016;T1018;T1069.002;T1087.002;T1482",
          "T1059.006;T1204.001",
          "T1071;T1218.011",
          "T1072",
          "T1033;T1047;T1082;T1087;T1087.001;T1497.001",
          "T1016;T1059;T1059.004;T1204;T1614",
          "T1563.002",
          "T1125",
          "T1616;T1090",
          "T1059.001;T1204.002",
          "T1059.001;T1110",
          "T1003;T1528;T1552.001",
          "T1547.002;T1547.005",
          "T1085",
          "T1069.001;T1069.002;T1087.001;T1087.002",
          "T1059;T1220",
          "T1190;T1046",
          "T1064;T1086;T1028;T1059.001;T1569.002",
          "T1053.005;T1218.011",
          "T1007",
          "T1007;T1016;T1033;T1057;T1082;T1083;T1120;T1222.001",
          "T1003;T1528;T1552;T1552.001",
          "T1055;T1055.002;T1055.003;T1055.012;T1059;T1059.001;T1106",
          "T1111",
          "T1061;T1059",
          "T1204;T1059.007;T1204.002;T1059.001",
          "T1098;T1003",
          "T1136.001;T1078.003",
          "T1007;T1016;T1018;T1049;T1057;T1087;T1106;T1135",
          "T1548;T1203;T1190;T1087",
          "T1059.001;T1070.004",
          "T1049;T1080;T1135",
          "T1078;T1098;T1136;T0859",
          "T1484;T1078.003",
          "T1005;T1018;T1074;T1074.001;T1083;T1119;T1135",
          "T1213.002",
          "T0863;T1204;T1569",
          "T1651",
          "T1005;T1083;T1552;T1552.001;T1555",
          "T1087;T1069",
          "T1583",
          "T1021;T1105",
          "T1199;T1566;T1133",
          "T1110;T1212;T1190;T1078",
          "T1562.009",
          "T1548;T1068",
          "T1211;T1531",
          "T1566;T1566.001",
          "T1087;T1087.001",
          "T1007;T1016;T1018;T1033;T1047;T1049;T1087;T1135",
          "T1059;T1059.005",
          "T1007;T1016;T1018;T1049;T1059.001;T1087;T1087.003;T1114.002;T1135",
          "T1046;T1087.002",
          "T1580",
          "T1552;T1552.001",
          "T1557;T1111;T1566",
          "T1105;T1071.001",
          "T1087;T1201;T1069;T1124;T1007;T1018",
          "T1098;T1087;T1585;T1078",
          "T1033;T1069.001;T1069.002;T1087;T1087.001;T1087.002;T1201",
          "T1218.008",
          "T1059.001;T1135",
          "T1003;T1003.004;T1070.001;T1550.003",
          "T1003.001;T1003.003;T1090;T1592",
          "T1016;T1057;T1059",
          "T1485;T1489;T1529",
          "T1052",
          "T1059.001;T1120",
          "T1068;T1569.002;T1574.002",
          "T1059;T1203;T1559;T1072;T0863;T0807",
          "T1069",
          "T1102;T1481;T1567;T1573;T1567.002",
          "T1557;T1557.001",
          "T1046;T1095",
          "T1489;T1543.003;T1562.001;T1562.006",
          "T1055.001;T1059.001",
          "T1007;T1016;T1018;T1049;T1082;T1087;T1135;T1615",
          "T1021;T1021.002;T1074.002;T1078;T1080;T1486;T1570",
          "T1003;T1055.002;T1134;T1528;T1556",
          "T1570;T1200",
          "T1087;T1010;T1482;T1083;T1615;T1201;T1033;T1082;T1049;T1135;T1087.002;T1069.002;T1069.001;T1087.001",
          "T1547.003",
          "T1005;T1083;T1552;T1552.004",
          "T1047;T1550.002",
          "T1586;T1585;T1114",
          "T1485;T1489",
          "T1043;T1071;T1071.001;T1573",
          "T1204.001;T1548.002",
          "T1007;T1047;T1087.001",
          "T1584;T1584.005",
          "T1016;T1033;T1057;T1064;T1082;T1083",
          "T1562.001;T1562.004",
          "T1018;T1033;T1069;T1082;T1087;T1087.002;T1135;T1201;T1558.003",
          "T1548;T1203;T1190;T1595;T1046",
          "T1105;T1027",
          "T1018;T1033;T1069;T1069.002;T1087;T1087.002;T1135;T1201;T1558.003",
          "T1059.001;T1482",
          "T1482;T1018;T1016",
          "T1613",
          "T1016;T1033;T1069;T1082;T1204.001;T1550.002;T1550.003",
          "T1069;T1087;T1069.001;T1069.002;T1087.001",
          "T1556;T1556.001",
          "T0814",
          "T1137;T1114",
          "T1090;T1572",
          "T1136;T1136.001;T1078.003",
          "T1087;T1078;T1136",
          "T1007;T1016;T1018;T1049;T1059.001;T1087;T1135;T1482",
          "T0863;T1052;T1052.001",
          "T1090;T1132;T1001;T1030;T1048;T1041;T1008;T1104;T1046;T1219;T1105;T1029;T1071;T1095;T1221;T1204;T1102",
          "T1482;T1021",
          "T1078;T1078.002;T1078.004",
          "T1566;T0865;T1650",
          "T0853;T1190",
          "T0816",
          "T1021;T1113",
          "T1217",
          "T1021;T1210",
          "T1059;T1204",
          "T1068;T1548",
          "T1072;T1651",
          "T1078;T1098;T0859",
          "T1189;T1203;T0853",
          "T1211;T1059;T1190;T0890",
          "T1040;T1557",
          "T1078;T1210",
          "T1016;T1033;T1069;T1087;T1087.001;T1087.002;T1190;T1505.003",
          "T1614.001",
          "T1484;T1484.002",
          "T1059;T0853",
          "T1098;T0890",
          "T1021;T1021.002;T1039;T1074.002;T1078;T1080;T1570",
          "T1195;T1570",
          "T1003.004;T1057",
          "T0886",
          "T1056.001;T1082;T1083",
          "T1529;T1489;T1499.004;T1499.003",
          "T1212;T1020",
          "T1068;T1547.002;T1546.002",
          "T1615",
          "T1200;T0859",
          "T1484;T1484.001",
          "T1021.002;T1204;T1570",
          "T1548;T1021",
          "T1003;T1056.001;T1057;T1082;T1083",
          "T1053;T1204",
          "T1021;T1021.002;T1039;T1074.002;T1078;T1078.002;T1080;T1570",
          "T0831;T0837",
          "T1595;T1464",
          "T1059;T1218;T1216",
          "T1548;T1078;T1078.002",
          "T1587;T1583;T1588",
          "T0831;T0858",
          "T1055;T1055.002;T1055.004;T1055.012;T1071;T1106",
          "T1567;T1105",
          "T1484.001",
          "T1194;T1566;T1566.003",
          "T0838;T0878",
          "T0814;T0816",
          "T1098;T1078;T0859",
          "T1556;T1098",
          "T1021;T1021.002;T1074.002;T1078;T1078.002;T1080;T1570",
          "T1084",
          "T1055;T1055.003;T1055.012;T1059;T1059.001;T1106",
          "T1003.001;T1055;T1055.003;T1055.012;T1106;T1550.002",
          "T1055;T1055.002;T1055.003;T1055.012;T1078;T1106",
          "T1078;T1078.001"
         ],
         "xaxis": "x",
         "y": {
          "bdata": "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",
          "dtype": "i4"
         },
         "yaxis": "y"
        }
       ],
       "layout": {
        "barmode": "relative",
        "height": 500,
        "legend": {
         "tracegroupgap": 0
        },
        "margin": {
         "b": 100
        },
        "showlegend": false,
        "template": {
         "data": {
          "bar": [
           {
            "error_x": {
             "color": "#2a3f5f"
            },
            "error_y": {
             "color": "#2a3f5f"
            },
            "marker": {
             "line": {
              "color": "white",
              "width": 0.5
             },
             "pattern": {
              "fillmode": "overlay",
              "size": 10,
              "solidity": 0.2
             }
            },
            "type": "bar"
           }
          ],
          "barpolar": [
           {
            "marker": {
             "line": {
              "color": "white",
              "width": 0.5
             },
             "pattern": {
              "fillmode": "overlay",
              "size": 10,
              "solidity": 0.2
             }
            },
            "type": "barpolar"
           }
          ],
          "carpet": [
           {
            "aaxis": {
             "endlinecolor": "#2a3f5f",
             "gridcolor": "#C8D4E3",
             "linecolor": "#C8D4E3",
             "minorgridcolor": "#C8D4E3",
             "startlinecolor": "#2a3f5f"
            },
            "baxis": {
             "endlinecolor": "#2a3f5f",
             "gridcolor": "#C8D4E3",
             "linecolor": "#C8D4E3",
             "minorgridcolor": "#C8D4E3",
             "startlinecolor": "#2a3f5f"
            },
            "type": "carpet"
           }
          ],
          "choropleth": [
           {
            "colorbar": {
             "outlinewidth": 0,
             "ticks": ""
            },
            "type": "choropleth"
           }
          ],
          "contour": [
           {
            "colorbar": {
             "outlinewidth": 0,
             "ticks": ""
            },
            "colorscale": [
             [
              0,
              "#0d0887"
             ],
             [
              0.1111111111111111,
              "#46039f"
             ],
             [
              0.2222222222222222,
              "#7201a8"
             ],
             [
              0.3333333333333333,
              "#9c179e"
             ],
             [
              0.4444444444444444,
              "#bd3786"
             ],
             [
              0.5555555555555556,
              "#d8576b"
             ],
             [
              0.6666666666666666,
              "#ed7953"
             ],
             [
              0.7777777777777778,
              "#fb9f3a"
             ],
             [
              0.8888888888888888,
              "#fdca26"
             ],
             [
              1,
              "#f0f921"
             ]
            ],
            "type": "contour"
           }
          ],
          "contourcarpet": [
           {
            "colorbar": {
             "outlinewidth": 0,
             "ticks": ""
            },
            "type": "contourcarpet"
           }
          ],
          "heatmap": [
           {
            "colorbar": {
             "outlinewidth": 0,
             "ticks": ""
            },
            "colorscale": [
             [
              0,
              "#0d0887"
             ],
             [
              0.1111111111111111,
              "#46039f"
             ],
             [
              0.2222222222222222,
              "#7201a8"
             ],
             [
              0.3333333333333333,
              "#9c179e"
             ],
             [
              0.4444444444444444,
              "#bd3786"
             ],
             [
              0.5555555555555556,
              "#d8576b"
             ],
             [
              0.6666666666666666,
              "#ed7953"
             ],
             [
              0.7777777777777778,
              "#fb9f3a"
             ],
             [
              0.8888888888888888,
              "#fdca26"
             ],
             [
              1,
              "#f0f921"
             ]
            ],
            "type": "heatmap"
           }
          ],
          "histogram": [
           {
            "marker": {
             "pattern": {
              "fillmode": "overlay",
              "size": 10,
              "solidity": 0.2
             }
            },
            "type": "histogram"
           }
          ],
          "histogram2d": [
           {
            "colorbar": {
             "outlinewidth": 0,
             "ticks": ""
            },
            "colorscale": [
             [
              0,
              "#0d0887"
             ],
             [
              0.1111111111111111,
              "#46039f"
             ],
             [
              0.2222222222222222,
              "#7201a8"
             ],
             [
              0.3333333333333333,
              "#9c179e"
             ],
             [
              0.4444444444444444,
              "#bd3786"
             ],
             [
              0.5555555555555556,
              "#d8576b"
             ],
             [
              0.6666666666666666,
              "#ed7953"
             ],
             [
              0.7777777777777778,
              "#fb9f3a"
             ],
             [
              0.8888888888888888,
              "#fdca26"
             ],
             [
              1,
              "#f0f921"
             ]
            ],
            "type": "histogram2d"
           }
          ],
          "histogram2dcontour": [
           {
            "colorbar": {
             "outlinewidth": 0,
             "ticks": ""
            },
            "colorscale": [
             [
              0,
              "#0d0887"
             ],
             [
              0.1111111111111111,
              "#46039f"
             ],
             [
              0.2222222222222222,
              "#7201a8"
             ],
             [
              0.3333333333333333,
              "#9c179e"
             ],
             [
              0.4444444444444444,
              "#bd3786"
             ],
             [
              0.5555555555555556,
              "#d8576b"
             ],
             [
              0.6666666666666666,
              "#ed7953"
             ],
             [
              0.7777777777777778,
              "#fb9f3a"
             ],
             [
              0.8888888888888888,
              "#fdca26"
             ],
             [
              1,
              "#f0f921"
             ]
            ],
            "type": "histogram2dcontour"
           }
          ],
          "mesh3d": [
           {
            "colorbar": {
             "outlinewidth": 0,
             "ticks": ""
            },
            "type": "mesh3d"
           }
          ],
          "parcoords": [
           {
            "line": {
             "colorbar": {
              "outlinewidth": 0,
              "ticks": ""
             }
            },
            "type": "parcoords"
           }
          ],
          "pie": [
           {
            "automargin": true,
            "type": "pie"
           }
          ],
          "scatter": [
           {
            "fillpattern": {
             "fillmode": "overlay",
             "size": 10,
             "solidity": 0.2
            },
            "type": "scatter"
           }
          ],
          "scatter3d": [
           {
            "line": {
             "colorbar": {
              "outlinewidth": 0,
              "ticks": ""
             }
            },
            "marker": {
             "colorbar": {
              "outlinewidth": 0,
              "ticks": ""
             }
            },
            "type": "scatter3d"
           }
          ],
          "scattercarpet": [
           {
            "marker": {
             "colorbar": {
              "outlinewidth": 0,
              "ticks": ""
             }
            },
            "type": "scattercarpet"
           }
          ],
          "scattergeo": [
           {
            "marker": {
             "colorbar": {
              "outlinewidth": 0,
              "ticks": ""
             }
            },
            "type": "scattergeo"
           }
          ],
          "scattergl": [
           {
            "marker": {
             "colorbar": {
              "outlinewidth": 0,
              "ticks": ""
             }
            },
            "type": "scattergl"
           }
          ],
          "scattermap": [
           {
            "marker": {
             "colorbar": {
              "outlinewidth": 0,
              "ticks": ""
             }
            },
            "type": "scattermap"
           }
          ],
          "scattermapbox": [
           {
            "marker": {
             "colorbar": {
              "outlinewidth": 0,
              "ticks": ""
             }
            },
            "type": "scattermapbox"
           }
          ],
          "scatterpolar": [
           {
            "marker": {
             "colorbar": {
              "outlinewidth": 0,
              "ticks": ""
             }
            },
            "type": "scatterpolar"
           }
          ],
          "scatterpolargl": [
           {
            "marker": {
             "colorbar": {
              "outlinewidth": 0,
              "ticks": ""
             }
            },
            "type": "scatterpolargl"
           }
          ],
          "scatterternary": [
           {
            "marker": {
             "colorbar": {
              "outlinewidth": 0,
              "ticks": ""
             }
            },
            "type": "scatterternary"
           }
          ],
          "surface": [
           {
            "colorbar": {
             "outlinewidth": 0,
             "ticks": ""
            },
            "colorscale": [
             [
              0,
              "#0d0887"
             ],
             [
              0.1111111111111111,
              "#46039f"
             ],
             [
              0.2222222222222222,
              "#7201a8"
             ],
             [
              0.3333333333333333,
              "#9c179e"
             ],
             [
              0.4444444444444444,
              "#bd3786"
             ],
             [
              0.5555555555555556,
              "#d8576b"
             ],
             [
              0.6666666666666666,
              "#ed7953"
             ],
             [
              0.7777777777777778,
              "#fb9f3a"
             ],
             [
              0.8888888888888888,
              "#fdca26"
             ],
             [
              1,
              "#f0f921"
             ]
            ],
            "type": "surface"
           }
          ],
          "table": [
           {
            "cells": {
             "fill": {
              "color": "#EBF0F8"
             },
             "line": {
              "color": "white"
             }
            },
            "header": {
             "fill": {
              "color": "#C8D4E3"
             },
             "line": {
              "color": "white"
             }
            },
            "type": "table"
           }
          ]
         },
         "layout": {
          "annotationdefaults": {
           "arrowcolor": "#2a3f5f",
           "arrowhead": 0,
           "arrowwidth": 1
          },
          "autotypenumbers": "strict",
          "coloraxis": {
           "colorbar": {
            "outlinewidth": 0,
            "ticks": ""
           }
          },
          "colorscale": {
           "diverging": [
            [
             0,
             "#8e0152"
            ],
            [
             0.1,
             "#c51b7d"
            ],
            [
             0.2,
             "#de77ae"
            ],
            [
             0.3,
             "#f1b6da"
            ],
            [
             0.4,
             "#fde0ef"
            ],
            [
             0.5,
             "#f7f7f7"
            ],
            [
             0.6,
             "#e6f5d0"
            ],
            [
             0.7,
             "#b8e186"
            ],
            [
             0.8,
             "#7fbc41"
            ],
            [
             0.9,
             "#4d9221"
            ],
            [
             1,
             "#276419"
            ]
           ],
           "sequential": [
            [
             0,
             "#0d0887"
            ],
            [
             0.1111111111111111,
             "#46039f"
            ],
            [
             0.2222222222222222,
             "#7201a8"
            ],
            [
             0.3333333333333333,
             "#9c179e"
            ],
            [
             0.4444444444444444,
             "#bd3786"
            ],
            [
             0.5555555555555556,
             "#d8576b"
            ],
            [
             0.6666666666666666,
             "#ed7953"
            ],
            [
             0.7777777777777778,
             "#fb9f3a"
            ],
            [
             0.8888888888888888,
             "#fdca26"
            ],
            [
             1,
             "#f0f921"
            ]
           ],
           "sequentialminus": [
            [
             0,
             "#0d0887"
            ],
            [
             0.1111111111111111,
             "#46039f"
            ],
            [
             0.2222222222222222,
             "#7201a8"
            ],
            [
             0.3333333333333333,
             "#9c179e"
            ],
            [
             0.4444444444444444,
             "#bd3786"
            ],
            [
             0.5555555555555556,
             "#d8576b"
            ],
            [
             0.6666666666666666,
             "#ed7953"
            ],
            [
             0.7777777777777778,
             "#fb9f3a"
            ],
            [
             0.8888888888888888,
             "#fdca26"
            ],
            [
             1,
             "#f0f921"
            ]
           ]
          },
          "colorway": [
           "#636efa",
           "#EF553B",
           "#00cc96",
           "#ab63fa",
           "#FFA15A",
           "#19d3f3",
           "#FF6692",
           "#B6E880",
           "#FF97FF",
           "#FECB52"
          ],
          "font": {
           "color": "#2a3f5f"
          },
          "geo": {
           "bgcolor": "white",
           "lakecolor": "white",
           "landcolor": "white",
           "showlakes": true,
           "showland": true,
           "subunitcolor": "#C8D4E3"
          },
          "hoverlabel": {
           "align": "left"
          },
          "hovermode": "closest",
          "mapbox": {
           "style": "light"
          },
          "paper_bgcolor": "white",
          "plot_bgcolor": "white",
          "polar": {
           "angularaxis": {
            "gridcolor": "#EBF0F8",
            "linecolor": "#EBF0F8",
            "ticks": ""
           },
           "bgcolor": "white",
           "radialaxis": {
            "gridcolor": "#EBF0F8",
            "linecolor": "#EBF0F8",
            "ticks": ""
           }
          },
          "scene": {
           "xaxis": {
            "backgroundcolor": "white",
            "gridcolor": "#DFE8F3",
            "gridwidth": 2,
            "linecolor": "#EBF0F8",
            "showbackground": true,
            "ticks": "",
            "zerolinecolor": "#EBF0F8"
           },
           "yaxis": {
            "backgroundcolor": "white",
            "gridcolor": "#DFE8F3",
            "gridwidth": 2,
            "linecolor": "#EBF0F8",
            "showbackground": true,
            "ticks": "",
            "zerolinecolor": "#EBF0F8"
           },
           "zaxis": {
            "backgroundcolor": "white",
            "gridcolor": "#DFE8F3",
            "gridwidth": 2,
            "linecolor": "#EBF0F8",
            "showbackground": true,
            "ticks": "",
            "zerolinecolor": "#EBF0F8"
           }
          },
          "shapedefaults": {
           "line": {
            "color": "#2a3f5f"
           }
          },
          "ternary": {
           "aaxis": {
            "gridcolor": "#DFE8F3",
            "linecolor": "#A2B1C6",
            "ticks": ""
           },
           "baxis": {
            "gridcolor": "#DFE8F3",
            "linecolor": "#A2B1C6",
            "ticks": ""
           },
           "bgcolor": "white",
           "caxis": {
            "gridcolor": "#DFE8F3",
            "linecolor": "#A2B1C6",
            "ticks": ""
           }
          },
          "title": {
           "x": 0.05
          },
          "xaxis": {
           "automargin": true,
           "gridcolor": "#EBF0F8",
           "linecolor": "#EBF0F8",
           "ticks": "",
           "title": {
            "standoff": 15
           },
           "zerolinecolor": "#EBF0F8",
           "zerolinewidth": 2
          },
          "yaxis": {
           "automargin": true,
           "gridcolor": "#EBF0F8",
           "linecolor": "#EBF0F8",
           "ticks": "",
           "title": {
            "standoff": 15
           },
           "zerolinecolor": "#EBF0F8",
           "zerolinewidth": 2
          }
         }
        },
        "title": {
         "text": "Distribution of MitreTechniques",
         "x": 0.5
        },
        "xaxis": {
         "anchor": "y",
         "domain": [
          0,
          1
         ],
         "tickangle": -45,
         "title": {}
        },
        "yaxis": {
         "anchor": "x",
         "domain": [
          0,
          1
         ],
         "title": {
          "text": "Count"
         }
        }
       }
      }
     },
     "metadata": {},
     "output_type": "display_data"
    },
    {
     "name": "stdout",
     "output_type": "stream",
     "text": [
      "\n",
      "MitreTechniques Distribution:\n",
      "                                                      Count  Percentage\n",
      "MitreTechniques                                                        \n",
      "NaN                                                 5468386       57.46\n",
      "T1078;T1078.004                                     1354904       14.24\n",
      "T1566.002                                            814308        8.56\n",
      "T1566                                                659591        6.93\n",
      "T1133                                                145579        1.53\n",
      "...                                                     ...         ...\n",
      "T1084                                                     1        0.00\n",
      "T1055;T1055.003;T1055.012;T1059;T1059.001;T1106           1        0.00\n",
      "T1003.001;T1055;T1055.003;T1055.012;T1106;T1550...        1        0.00\n",
      "T1055;T1055.002;T1055.003;T1055.012;T1078;T1106           1        0.00\n",
      "T1078;T1078.001                                           1        0.00\n",
      "\n",
      "[1194 rows x 2 columns]\n",
      "\n",
      "Total unique values: 1193\n",
      "Null values: 5468386 (57.46%)\n",
      "------------------------------------------------------------\n",
      "\n",
      "Correlation between Alert Level targets:\n"
     ]
    },
    {
     "data": {
      "application/vnd.plotly.v1+json": {
       "config": {
        "plotlyServerURL": "https://plot.ly"
       },
       "data": [
        {
         "coloraxis": "coloraxis",
         "hovertemplate": "x: %{x}<br>y: %{y}<br>color: %{z}<extra></extra>",
         "name": "0",
         "type": "heatmap",
         "x": [
          "Category",
          "MitreTechniques"
         ],
         "xaxis": "x",
         "y": [
          "Category",
          "MitreTechniques"
         ],
         "yaxis": "y",
         "z": [
          [
           1,
           0.8631044178477748
          ],
          [
           0.8631044178477748,
           1
          ]
         ]
        }
       ],
       "layout": {
        "coloraxis": {
         "colorscale": [
          [
           0,
           "rgb(103,0,31)"
          ],
          [
           0.1,
           "rgb(178,24,43)"
          ],
          [
           0.2,
           "rgb(214,96,77)"
          ],
          [
           0.3,
           "rgb(244,165,130)"
          ],
          [
           0.4,
           "rgb(253,219,199)"
          ],
          [
           0.5,
           "rgb(247,247,247)"
          ],
          [
           0.6,
           "rgb(209,229,240)"
          ],
          [
           0.7,
           "rgb(146,197,222)"
          ],
          [
           0.8,
           "rgb(67,147,195)"
          ],
          [
           0.9,
           "rgb(33,102,172)"
          ],
          [
           1,
           "rgb(5,48,97)"
          ]
         ]
        },
        "height": 600,
        "template": {
         "data": {
          "bar": [
           {
            "error_x": {
             "color": "#2a3f5f"
            },
            "error_y": {
             "color": "#2a3f5f"
            },
            "marker": {
             "line": {
              "color": "#E5ECF6",
              "width": 0.5
             },
             "pattern": {
              "fillmode": "overlay",
              "size": 10,
              "solidity": 0.2
             }
            },
            "type": "bar"
           }
          ],
          "barpolar": [
           {
            "marker": {
             "line": {
              "color": "#E5ECF6",
              "width": 0.5
             },
             "pattern": {
              "fillmode": "overlay",
              "size": 10,
              "solidity": 0.2
             }
            },
            "type": "barpolar"
           }
          ],
          "carpet": [
           {
            "aaxis": {
             "endlinecolor": "#2a3f5f",
             "gridcolor": "white",
             "linecolor": "white",
             "minorgridcolor": "white",
             "startlinecolor": "#2a3f5f"
            },
            "baxis": {
             "endlinecolor": "#2a3f5f",
             "gridcolor": "white",
             "linecolor": "white",
             "minorgridcolor": "white",
             "startlinecolor": "#2a3f5f"
            },
            "type": "carpet"
           }
          ],
          "choropleth": [
           {
            "colorbar": {
             "outlinewidth": 0,
             "ticks": ""
            },
            "type": "choropleth"
           }
          ],
          "contour": [
           {
            "colorbar": {
             "outlinewidth": 0,
             "ticks": ""
            },
            "colorscale": [
             [
              0,
              "#0d0887"
             ],
             [
              0.1111111111111111,
              "#46039f"
             ],
             [
              0.2222222222222222,
              "#7201a8"
             ],
             [
              0.3333333333333333,
              "#9c179e"
             ],
             [
              0.4444444444444444,
              "#bd3786"
             ],
             [
              0.5555555555555556,
              "#d8576b"
             ],
             [
              0.6666666666666666,
              "#ed7953"
             ],
             [
              0.7777777777777778,
              "#fb9f3a"
             ],
             [
              0.8888888888888888,
              "#fdca26"
             ],
             [
              1,
              "#f0f921"
             ]
            ],
            "type": "contour"
           }
          ],
          "contourcarpet": [
           {
            "colorbar": {
             "outlinewidth": 0,
             "ticks": ""
            },
            "type": "contourcarpet"
           }
          ],
          "heatmap": [
           {
            "colorbar": {
             "outlinewidth": 0,
             "ticks": ""
            },
            "colorscale": [
             [
              0,
              "#0d0887"
             ],
             [
              0.1111111111111111,
              "#46039f"
             ],
             [
              0.2222222222222222,
              "#7201a8"
             ],
             [
              0.3333333333333333,
              "#9c179e"
             ],
             [
              0.4444444444444444,
              "#bd3786"
             ],
             [
              0.5555555555555556,
              "#d8576b"
             ],
             [
              0.6666666666666666,
              "#ed7953"
             ],
             [
              0.7777777777777778,
              "#fb9f3a"
             ],
             [
              0.8888888888888888,
              "#fdca26"
             ],
             [
              1,
              "#f0f921"
             ]
            ],
            "type": "heatmap"
           }
          ],
          "histogram": [
           {
            "marker": {
             "pattern": {
              "fillmode": "overlay",
              "size": 10,
              "solidity": 0.2
             }
            },
            "type": "histogram"
           }
          ],
          "histogram2d": [
           {
            "colorbar": {
             "outlinewidth": 0,
             "ticks": ""
            },
            "colorscale": [
             [
              0,
              "#0d0887"
             ],
             [
              0.1111111111111111,
              "#46039f"
             ],
             [
              0.2222222222222222,
              "#7201a8"
             ],
             [
              0.3333333333333333,
              "#9c179e"
             ],
             [
              0.4444444444444444,
              "#bd3786"
             ],
             [
              0.5555555555555556,
              "#d8576b"
             ],
             [
              0.6666666666666666,
              "#ed7953"
             ],
             [
              0.7777777777777778,
              "#fb9f3a"
             ],
             [
              0.8888888888888888,
              "#fdca26"
             ],
             [
              1,
              "#f0f921"
             ]
            ],
            "type": "histogram2d"
           }
          ],
          "histogram2dcontour": [
           {
            "colorbar": {
             "outlinewidth": 0,
             "ticks": ""
            },
            "colorscale": [
             [
              0,
              "#0d0887"
             ],
             [
              0.1111111111111111,
              "#46039f"
             ],
             [
              0.2222222222222222,
              "#7201a8"
             ],
             [
              0.3333333333333333,
              "#9c179e"
             ],
             [
              0.4444444444444444,
              "#bd3786"
             ],
             [
              0.5555555555555556,
              "#d8576b"
             ],
             [
              0.6666666666666666,
              "#ed7953"
             ],
             [
              0.7777777777777778,
              "#fb9f3a"
             ],
             [
              0.8888888888888888,
              "#fdca26"
             ],
             [
              1,
              "#f0f921"
             ]
            ],
            "type": "histogram2dcontour"
           }
          ],
          "mesh3d": [
           {
            "colorbar": {
             "outlinewidth": 0,
             "ticks": ""
            },
            "type": "mesh3d"
           }
          ],
          "parcoords": [
           {
            "line": {
             "colorbar": {
              "outlinewidth": 0,
              "ticks": ""
             }
            },
            "type": "parcoords"
           }
          ],
          "pie": [
           {
            "automargin": true,
            "type": "pie"
           }
          ],
          "scatter": [
           {
            "fillpattern": {
             "fillmode": "overlay",
             "size": 10,
             "solidity": 0.2
            },
            "type": "scatter"
           }
          ],
          "scatter3d": [
           {
            "line": {
             "colorbar": {
              "outlinewidth": 0,
              "ticks": ""
             }
            },
            "marker": {
             "colorbar": {
              "outlinewidth": 0,
              "ticks": ""
             }
            },
            "type": "scatter3d"
           }
          ],
          "scattercarpet": [
           {
            "marker": {
             "colorbar": {
              "outlinewidth": 0,
              "ticks": ""
             }
            },
            "type": "scattercarpet"
           }
          ],
          "scattergeo": [
           {
            "marker": {
             "colorbar": {
              "outlinewidth": 0,
              "ticks": ""
             }
            },
            "type": "scattergeo"
           }
          ],
          "scattergl": [
           {
            "marker": {
             "colorbar": {
              "outlinewidth": 0,
              "ticks": ""
             }
            },
            "type": "scattergl"
           }
          ],
          "scattermap": [
           {
            "marker": {
             "colorbar": {
              "outlinewidth": 0,
              "ticks": ""
             }
            },
            "type": "scattermap"
           }
          ],
          "scattermapbox": [
           {
            "marker": {
             "colorbar": {
              "outlinewidth": 0,
              "ticks": ""
             }
            },
            "type": "scattermapbox"
           }
          ],
          "scatterpolar": [
           {
            "marker": {
             "colorbar": {
              "outlinewidth": 0,
              "ticks": ""
             }
            },
            "type": "scatterpolar"
           }
          ],
          "scatterpolargl": [
           {
            "marker": {
             "colorbar": {
              "outlinewidth": 0,
              "ticks": ""
             }
            },
            "type": "scatterpolargl"
           }
          ],
          "scatterternary": [
           {
            "marker": {
             "colorbar": {
              "outlinewidth": 0,
              "ticks": ""
             }
            },
            "type": "scatterternary"
           }
          ],
          "surface": [
           {
            "colorbar": {
             "outlinewidth": 0,
             "ticks": ""
            },
            "colorscale": [
             [
              0,
              "#0d0887"
             ],
             [
              0.1111111111111111,
              "#46039f"
             ],
             [
              0.2222222222222222,
              "#7201a8"
             ],
             [
              0.3333333333333333,
              "#9c179e"
             ],
             [
              0.4444444444444444,
              "#bd3786"
             ],
             [
              0.5555555555555556,
              "#d8576b"
             ],
             [
              0.6666666666666666,
              "#ed7953"
             ],
             [
              0.7777777777777778,
              "#fb9f3a"
             ],
             [
              0.8888888888888888,
              "#fdca26"
             ],
             [
              1,
              "#f0f921"
             ]
            ],
            "type": "surface"
           }
          ],
          "table": [
           {
            "cells": {
             "fill": {
              "color": "#EBF0F8"
             },
             "line": {
              "color": "white"
             }
            },
            "header": {
             "fill": {
              "color": "#C8D4E3"
             },
             "line": {
              "color": "white"
             }
            },
            "type": "table"
           }
          ]
         },
         "layout": {
          "annotationdefaults": {
           "arrowcolor": "#2a3f5f",
           "arrowhead": 0,
           "arrowwidth": 1
          },
          "autotypenumbers": "strict",
          "coloraxis": {
           "colorbar": {
            "outlinewidth": 0,
            "ticks": ""
           }
          },
          "colorscale": {
           "diverging": [
            [
             0,
             "#8e0152"
            ],
            [
             0.1,
             "#c51b7d"
            ],
            [
             0.2,
             "#de77ae"
            ],
            [
             0.3,
             "#f1b6da"
            ],
            [
             0.4,
             "#fde0ef"
            ],
            [
             0.5,
             "#f7f7f7"
            ],
            [
             0.6,
             "#e6f5d0"
            ],
            [
             0.7,
             "#b8e186"
            ],
            [
             0.8,
             "#7fbc41"
            ],
            [
             0.9,
             "#4d9221"
            ],
            [
             1,
             "#276419"
            ]
           ],
           "sequential": [
            [
             0,
             "#0d0887"
            ],
            [
             0.1111111111111111,
             "#46039f"
            ],
            [
             0.2222222222222222,
             "#7201a8"
            ],
            [
             0.3333333333333333,
             "#9c179e"
            ],
            [
             0.4444444444444444,
             "#bd3786"
            ],
            [
             0.5555555555555556,
             "#d8576b"
            ],
            [
             0.6666666666666666,
             "#ed7953"
            ],
            [
             0.7777777777777778,
             "#fb9f3a"
            ],
            [
             0.8888888888888888,
             "#fdca26"
            ],
            [
             1,
             "#f0f921"
            ]
           ],
           "sequentialminus": [
            [
             0,
             "#0d0887"
            ],
            [
             0.1111111111111111,
             "#46039f"
            ],
            [
             0.2222222222222222,
             "#7201a8"
            ],
            [
             0.3333333333333333,
             "#9c179e"
            ],
            [
             0.4444444444444444,
             "#bd3786"
            ],
            [
             0.5555555555555556,
             "#d8576b"
            ],
            [
             0.6666666666666666,
             "#ed7953"
            ],
            [
             0.7777777777777778,
             "#fb9f3a"
            ],
            [
             0.8888888888888888,
             "#fdca26"
            ],
            [
             1,
             "#f0f921"
            ]
           ]
          },
          "colorway": [
           "#636efa",
           "#EF553B",
           "#00cc96",
           "#ab63fa",
           "#FFA15A",
           "#19d3f3",
           "#FF6692",
           "#B6E880",
           "#FF97FF",
           "#FECB52"
          ],
          "font": {
           "color": "#2a3f5f"
          },
          "geo": {
           "bgcolor": "white",
           "lakecolor": "white",
           "landcolor": "#E5ECF6",
           "showlakes": true,
           "showland": true,
           "subunitcolor": "white"
          },
          "hoverlabel": {
           "align": "left"
          },
          "hovermode": "closest",
          "mapbox": {
           "style": "light"
          },
          "paper_bgcolor": "white",
          "plot_bgcolor": "#E5ECF6",
          "polar": {
           "angularaxis": {
            "gridcolor": "white",
            "linecolor": "white",
            "ticks": ""
           },
           "bgcolor": "#E5ECF6",
           "radialaxis": {
            "gridcolor": "white",
            "linecolor": "white",
            "ticks": ""
           }
          },
          "scene": {
           "xaxis": {
            "backgroundcolor": "#E5ECF6",
            "gridcolor": "white",
            "gridwidth": 2,
            "linecolor": "white",
            "showbackground": true,
            "ticks": "",
            "zerolinecolor": "white"
           },
           "yaxis": {
            "backgroundcolor": "#E5ECF6",
            "gridcolor": "white",
            "gridwidth": 2,
            "linecolor": "white",
            "showbackground": true,
            "ticks": "",
            "zerolinecolor": "white"
           },
           "zaxis": {
            "backgroundcolor": "#E5ECF6",
            "gridcolor": "white",
            "gridwidth": 2,
            "linecolor": "white",
            "showbackground": true,
            "ticks": "",
            "zerolinecolor": "white"
           }
          },
          "shapedefaults": {
           "line": {
            "color": "#2a3f5f"
           }
          },
          "ternary": {
           "aaxis": {
            "gridcolor": "white",
            "linecolor": "white",
            "ticks": ""
           },
           "baxis": {
            "gridcolor": "white",
            "linecolor": "white",
            "ticks": ""
           },
           "bgcolor": "#E5ECF6",
           "caxis": {
            "gridcolor": "white",
            "linecolor": "white",
            "ticks": ""
           }
          },
          "title": {
           "x": 0.05
          },
          "xaxis": {
           "automargin": true,
           "gridcolor": "white",
           "linecolor": "white",
           "ticks": "",
           "title": {
            "standoff": 15
           },
           "zerolinecolor": "white",
           "zerolinewidth": 2
          },
          "yaxis": {
           "automargin": true,
           "gridcolor": "white",
           "linecolor": "white",
           "ticks": "",
           "title": {
            "standoff": 15
           },
           "zerolinecolor": "white",
           "zerolinewidth": 2
          }
         }
        },
        "title": {
         "text": "Correlation Heatmap for Alert Level Targets",
         "x": 0.5
        },
        "width": 600,
        "xaxis": {
         "anchor": "y",
         "domain": [
          0,
          1
         ]
        },
        "yaxis": {
         "anchor": "x",
         "autorange": "reversed",
         "domain": [
          0,
          1
         ]
        }
       }
      }
     },
     "metadata": {},
     "output_type": "display_data"
    },
    {
     "name": "stdout",
     "output_type": "stream",
     "text": [
      "\n",
      "Correlation Matrix:\n",
      "                 Category MitreTechniques\n",
      "Category              1.0        0.863104\n",
      "MitreTechniques  0.863104             1.0\n",
      "============================================================\n",
      "\n",
      "==================== Entity Level Distributions ====================\n"
     ]
    },
    {
     "data": {
      "application/vnd.plotly.v1+json": {
       "config": {
        "plotlyServerURL": "https://plot.ly"
       },
       "data": [
        {
         "customdata": {
          "bdata": "7FG4HoXrNkCPwvUoXE80QClcj8L1qChAZmZmZmZmHUDsUbgehescQK5H4XoUrhxA16NwPQrXGkBSuB6F61EUQArXo3A9Cg1A4XoUrkfhAkA9CtejcD0CQNejcD0K1wFAuB6F61G4vj8K16NwPQq3P3sUrkfherQ/mpmZmZmZqT+4HoXrUbieP7gehetRuJ4/exSuR+F6lD8AAAAAAAAAAAAAAAAAAAAAAAAAAAAAAAAAAAAAAAAAAAAAAAAAAAAAAAAAAAAAAAAAAAAAAAAAAAAAAAAAAAAAAAAAAAAAAAAAAAAAAAAAAAAAAAAAAAAAAAAAAAAAAAAAAAAAAAAAAAAAAAAAAAAA",
          "dtype": "f8",
          "shape": "33, 1"
         },
         "hovertemplate": "EntityType=%{x}<br>Count=%{text}<br>Percentage=%{customdata[0]}<extra></extra>",
         "legendgroup": "",
         "marker": {
          "color": "#636efa",
          "pattern": {
           "shape": ""
          }
         },
         "name": "",
         "orientation": "v",
         "showlegend": false,
         "text": {
          "bdata": "AAAAACWkQEEAAAAAgHw9QQAAAACi5jFBAAAAAJBWJUEAAAAAJAIlQQAAAACk1CRBAAAAAMp8I0EAAAAAWH0dQQAAAAAQGhVBAAAAAGBtC0EAAAAAWHcKQQAAAADw7AlBAAAAAIDkxUAAAAAAAOa/QAAAAAAAbbxAAAAAAADGsEAAAAAAAEakQAAAAAAAKKRAAAAAAAC4l0AAAAAAACBzQAAAAAAAcHBAAAAAAABAbEAAAAAAAIBIQAAAAAAAAD9AAAAAAAAAJkAAAAAAAAAkQAAAAAAAABhAAAAAAAAAAEAAAAAAAAAAQAAAAAAAAABAAAAAAAAAAEAAAAAAAAAAQAAAAAAAAABA",
          "dtype": "f8"
         },
         "textposition": "outside",
         "type": "bar",
         "x": [
          "Ip",
          "User",
          "MailMessage",
          "Machine",
          "File",
          "Url",
          "CloudLogonRequest",
          "Mailbox",
          "Process",
          "MailCluster",
          "CloudApplication",
          "CloudLogonSession",
          "RegistryValue",
          "AzureResource",
          "RegistryKey",
          "GenericEntity",
          "OAuthApplication",
          "Malware",
          "SecurityGroup",
          "BlobContainer",
          "Blob",
          "MailboxConfiguration",
          "Nic",
          "IoTDevice",
          "ActiveDirectoryDomain",
          "GoogleCloudResource",
          "AmazonResource",
          "Container",
          "KubernetesCluster",
          "ContainerImage",
          "KubernetesNamespace",
          "KubernetesPod",
          "ContainerRegistry"
         ],
         "xaxis": "x",
         "y": {
          "bdata": "SkghAIB8HQCi5hEASKsKABKBCgBSagoAZb4JAFZfBwCERgUArG0DAOtOAwCePQMAySsAAOYfAABtHAAAxhAAACMKAAAUCgAA7gUAADIBAAAHAQAA4gAAADEAAAAfAAAACwAAAAoAAAAGAAAAAgAAAAIAAAACAAAAAgAAAAIAAAACAAAA",
          "dtype": "i4"
         },
         "yaxis": "y"
        }
       ],
       "layout": {
        "barmode": "relative",
        "height": 500,
        "legend": {
         "tracegroupgap": 0
        },
        "margin": {
         "b": 100
        },
        "showlegend": false,
        "template": {
         "data": {
          "bar": [
           {
            "error_x": {
             "color": "#2a3f5f"
            },
            "error_y": {
             "color": "#2a3f5f"
            },
            "marker": {
             "line": {
              "color": "white",
              "width": 0.5
             },
             "pattern": {
              "fillmode": "overlay",
              "size": 10,
              "solidity": 0.2
             }
            },
            "type": "bar"
           }
          ],
          "barpolar": [
           {
            "marker": {
             "line": {
              "color": "white",
              "width": 0.5
             },
             "pattern": {
              "fillmode": "overlay",
              "size": 10,
              "solidity": 0.2
             }
            },
            "type": "barpolar"
           }
          ],
          "carpet": [
           {
            "aaxis": {
             "endlinecolor": "#2a3f5f",
             "gridcolor": "#C8D4E3",
             "linecolor": "#C8D4E3",
             "minorgridcolor": "#C8D4E3",
             "startlinecolor": "#2a3f5f"
            },
            "baxis": {
             "endlinecolor": "#2a3f5f",
             "gridcolor": "#C8D4E3",
             "linecolor": "#C8D4E3",
             "minorgridcolor": "#C8D4E3",
             "startlinecolor": "#2a3f5f"
            },
            "type": "carpet"
           }
          ],
          "choropleth": [
           {
            "colorbar": {
             "outlinewidth": 0,
             "ticks": ""
            },
            "type": "choropleth"
           }
          ],
          "contour": [
           {
            "colorbar": {
             "outlinewidth": 0,
             "ticks": ""
            },
            "colorscale": [
             [
              0,
              "#0d0887"
             ],
             [
              0.1111111111111111,
              "#46039f"
             ],
             [
              0.2222222222222222,
              "#7201a8"
             ],
             [
              0.3333333333333333,
              "#9c179e"
             ],
             [
              0.4444444444444444,
              "#bd3786"
             ],
             [
              0.5555555555555556,
              "#d8576b"
             ],
             [
              0.6666666666666666,
              "#ed7953"
             ],
             [
              0.7777777777777778,
              "#fb9f3a"
             ],
             [
              0.8888888888888888,
              "#fdca26"
             ],
             [
              1,
              "#f0f921"
             ]
            ],
            "type": "contour"
           }
          ],
          "contourcarpet": [
           {
            "colorbar": {
             "outlinewidth": 0,
             "ticks": ""
            },
            "type": "contourcarpet"
           }
          ],
          "heatmap": [
           {
            "colorbar": {
             "outlinewidth": 0,
             "ticks": ""
            },
            "colorscale": [
             [
              0,
              "#0d0887"
             ],
             [
              0.1111111111111111,
              "#46039f"
             ],
             [
              0.2222222222222222,
              "#7201a8"
             ],
             [
              0.3333333333333333,
              "#9c179e"
             ],
             [
              0.4444444444444444,
              "#bd3786"
             ],
             [
              0.5555555555555556,
              "#d8576b"
             ],
             [
              0.6666666666666666,
              "#ed7953"
             ],
             [
              0.7777777777777778,
              "#fb9f3a"
             ],
             [
              0.8888888888888888,
              "#fdca26"
             ],
             [
              1,
              "#f0f921"
             ]
            ],
            "type": "heatmap"
           }
          ],
          "histogram": [
           {
            "marker": {
             "pattern": {
              "fillmode": "overlay",
              "size": 10,
              "solidity": 0.2
             }
            },
            "type": "histogram"
           }
          ],
          "histogram2d": [
           {
            "colorbar": {
             "outlinewidth": 0,
             "ticks": ""
            },
            "colorscale": [
             [
              0,
              "#0d0887"
             ],
             [
              0.1111111111111111,
              "#46039f"
             ],
             [
              0.2222222222222222,
              "#7201a8"
             ],
             [
              0.3333333333333333,
              "#9c179e"
             ],
             [
              0.4444444444444444,
              "#bd3786"
             ],
             [
              0.5555555555555556,
              "#d8576b"
             ],
             [
              0.6666666666666666,
              "#ed7953"
             ],
             [
              0.7777777777777778,
              "#fb9f3a"
             ],
             [
              0.8888888888888888,
              "#fdca26"
             ],
             [
              1,
              "#f0f921"
             ]
            ],
            "type": "histogram2d"
           }
          ],
          "histogram2dcontour": [
           {
            "colorbar": {
             "outlinewidth": 0,
             "ticks": ""
            },
            "colorscale": [
             [
              0,
              "#0d0887"
             ],
             [
              0.1111111111111111,
              "#46039f"
             ],
             [
              0.2222222222222222,
              "#7201a8"
             ],
             [
              0.3333333333333333,
              "#9c179e"
             ],
             [
              0.4444444444444444,
              "#bd3786"
             ],
             [
              0.5555555555555556,
              "#d8576b"
             ],
             [
              0.6666666666666666,
              "#ed7953"
             ],
             [
              0.7777777777777778,
              "#fb9f3a"
             ],
             [
              0.8888888888888888,
              "#fdca26"
             ],
             [
              1,
              "#f0f921"
             ]
            ],
            "type": "histogram2dcontour"
           }
          ],
          "mesh3d": [
           {
            "colorbar": {
             "outlinewidth": 0,
             "ticks": ""
            },
            "type": "mesh3d"
           }
          ],
          "parcoords": [
           {
            "line": {
             "colorbar": {
              "outlinewidth": 0,
              "ticks": ""
             }
            },
            "type": "parcoords"
           }
          ],
          "pie": [
           {
            "automargin": true,
            "type": "pie"
           }
          ],
          "scatter": [
           {
            "fillpattern": {
             "fillmode": "overlay",
             "size": 10,
             "solidity": 0.2
            },
            "type": "scatter"
           }
          ],
          "scatter3d": [
           {
            "line": {
             "colorbar": {
              "outlinewidth": 0,
              "ticks": ""
             }
            },
            "marker": {
             "colorbar": {
              "outlinewidth": 0,
              "ticks": ""
             }
            },
            "type": "scatter3d"
           }
          ],
          "scattercarpet": [
           {
            "marker": {
             "colorbar": {
              "outlinewidth": 0,
              "ticks": ""
             }
            },
            "type": "scattercarpet"
           }
          ],
          "scattergeo": [
           {
            "marker": {
             "colorbar": {
              "outlinewidth": 0,
              "ticks": ""
             }
            },
            "type": "scattergeo"
           }
          ],
          "scattergl": [
           {
            "marker": {
             "colorbar": {
              "outlinewidth": 0,
              "ticks": ""
             }
            },
            "type": "scattergl"
           }
          ],
          "scattermap": [
           {
            "marker": {
             "colorbar": {
              "outlinewidth": 0,
              "ticks": ""
             }
            },
            "type": "scattermap"
           }
          ],
          "scattermapbox": [
           {
            "marker": {
             "colorbar": {
              "outlinewidth": 0,
              "ticks": ""
             }
            },
            "type": "scattermapbox"
           }
          ],
          "scatterpolar": [
           {
            "marker": {
             "colorbar": {
              "outlinewidth": 0,
              "ticks": ""
             }
            },
            "type": "scatterpolar"
           }
          ],
          "scatterpolargl": [
           {
            "marker": {
             "colorbar": {
              "outlinewidth": 0,
              "ticks": ""
             }
            },
            "type": "scatterpolargl"
           }
          ],
          "scatterternary": [
           {
            "marker": {
             "colorbar": {
              "outlinewidth": 0,
              "ticks": ""
             }
            },
            "type": "scatterternary"
           }
          ],
          "surface": [
           {
            "colorbar": {
             "outlinewidth": 0,
             "ticks": ""
            },
            "colorscale": [
             [
              0,
              "#0d0887"
             ],
             [
              0.1111111111111111,
              "#46039f"
             ],
             [
              0.2222222222222222,
              "#7201a8"
             ],
             [
              0.3333333333333333,
              "#9c179e"
             ],
             [
              0.4444444444444444,
              "#bd3786"
             ],
             [
              0.5555555555555556,
              "#d8576b"
             ],
             [
              0.6666666666666666,
              "#ed7953"
             ],
             [
              0.7777777777777778,
              "#fb9f3a"
             ],
             [
              0.8888888888888888,
              "#fdca26"
             ],
             [
              1,
              "#f0f921"
             ]
            ],
            "type": "surface"
           }
          ],
          "table": [
           {
            "cells": {
             "fill": {
              "color": "#EBF0F8"
             },
             "line": {
              "color": "white"
             }
            },
            "header": {
             "fill": {
              "color": "#C8D4E3"
             },
             "line": {
              "color": "white"
             }
            },
            "type": "table"
           }
          ]
         },
         "layout": {
          "annotationdefaults": {
           "arrowcolor": "#2a3f5f",
           "arrowhead": 0,
           "arrowwidth": 1
          },
          "autotypenumbers": "strict",
          "coloraxis": {
           "colorbar": {
            "outlinewidth": 0,
            "ticks": ""
           }
          },
          "colorscale": {
           "diverging": [
            [
             0,
             "#8e0152"
            ],
            [
             0.1,
             "#c51b7d"
            ],
            [
             0.2,
             "#de77ae"
            ],
            [
             0.3,
             "#f1b6da"
            ],
            [
             0.4,
             "#fde0ef"
            ],
            [
             0.5,
             "#f7f7f7"
            ],
            [
             0.6,
             "#e6f5d0"
            ],
            [
             0.7,
             "#b8e186"
            ],
            [
             0.8,
             "#7fbc41"
            ],
            [
             0.9,
             "#4d9221"
            ],
            [
             1,
             "#276419"
            ]
           ],
           "sequential": [
            [
             0,
             "#0d0887"
            ],
            [
             0.1111111111111111,
             "#46039f"
            ],
            [
             0.2222222222222222,
             "#7201a8"
            ],
            [
             0.3333333333333333,
             "#9c179e"
            ],
            [
             0.4444444444444444,
             "#bd3786"
            ],
            [
             0.5555555555555556,
             "#d8576b"
            ],
            [
             0.6666666666666666,
             "#ed7953"
            ],
            [
             0.7777777777777778,
             "#fb9f3a"
            ],
            [
             0.8888888888888888,
             "#fdca26"
            ],
            [
             1,
             "#f0f921"
            ]
           ],
           "sequentialminus": [
            [
             0,
             "#0d0887"
            ],
            [
             0.1111111111111111,
             "#46039f"
            ],
            [
             0.2222222222222222,
             "#7201a8"
            ],
            [
             0.3333333333333333,
             "#9c179e"
            ],
            [
             0.4444444444444444,
             "#bd3786"
            ],
            [
             0.5555555555555556,
             "#d8576b"
            ],
            [
             0.6666666666666666,
             "#ed7953"
            ],
            [
             0.7777777777777778,
             "#fb9f3a"
            ],
            [
             0.8888888888888888,
             "#fdca26"
            ],
            [
             1,
             "#f0f921"
            ]
           ]
          },
          "colorway": [
           "#636efa",
           "#EF553B",
           "#00cc96",
           "#ab63fa",
           "#FFA15A",
           "#19d3f3",
           "#FF6692",
           "#B6E880",
           "#FF97FF",
           "#FECB52"
          ],
          "font": {
           "color": "#2a3f5f"
          },
          "geo": {
           "bgcolor": "white",
           "lakecolor": "white",
           "landcolor": "white",
           "showlakes": true,
           "showland": true,
           "subunitcolor": "#C8D4E3"
          },
          "hoverlabel": {
           "align": "left"
          },
          "hovermode": "closest",
          "mapbox": {
           "style": "light"
          },
          "paper_bgcolor": "white",
          "plot_bgcolor": "white",
          "polar": {
           "angularaxis": {
            "gridcolor": "#EBF0F8",
            "linecolor": "#EBF0F8",
            "ticks": ""
           },
           "bgcolor": "white",
           "radialaxis": {
            "gridcolor": "#EBF0F8",
            "linecolor": "#EBF0F8",
            "ticks": ""
           }
          },
          "scene": {
           "xaxis": {
            "backgroundcolor": "white",
            "gridcolor": "#DFE8F3",
            "gridwidth": 2,
            "linecolor": "#EBF0F8",
            "showbackground": true,
            "ticks": "",
            "zerolinecolor": "#EBF0F8"
           },
           "yaxis": {
            "backgroundcolor": "white",
            "gridcolor": "#DFE8F3",
            "gridwidth": 2,
            "linecolor": "#EBF0F8",
            "showbackground": true,
            "ticks": "",
            "zerolinecolor": "#EBF0F8"
           },
           "zaxis": {
            "backgroundcolor": "white",
            "gridcolor": "#DFE8F3",
            "gridwidth": 2,
            "linecolor": "#EBF0F8",
            "showbackground": true,
            "ticks": "",
            "zerolinecolor": "#EBF0F8"
           }
          },
          "shapedefaults": {
           "line": {
            "color": "#2a3f5f"
           }
          },
          "ternary": {
           "aaxis": {
            "gridcolor": "#DFE8F3",
            "linecolor": "#A2B1C6",
            "ticks": ""
           },
           "baxis": {
            "gridcolor": "#DFE8F3",
            "linecolor": "#A2B1C6",
            "ticks": ""
           },
           "bgcolor": "white",
           "caxis": {
            "gridcolor": "#DFE8F3",
            "linecolor": "#A2B1C6",
            "ticks": ""
           }
          },
          "title": {
           "x": 0.05
          },
          "xaxis": {
           "automargin": true,
           "gridcolor": "#EBF0F8",
           "linecolor": "#EBF0F8",
           "ticks": "",
           "title": {
            "standoff": 15
           },
           "zerolinecolor": "#EBF0F8",
           "zerolinewidth": 2
          },
          "yaxis": {
           "automargin": true,
           "gridcolor": "#EBF0F8",
           "linecolor": "#EBF0F8",
           "ticks": "",
           "title": {
            "standoff": 15
           },
           "zerolinecolor": "#EBF0F8",
           "zerolinewidth": 2
          }
         }
        },
        "title": {
         "text": "Distribution of EntityType",
         "x": 0.5
        },
        "xaxis": {
         "anchor": "y",
         "domain": [
          0,
          1
         ],
         "tickangle": -45,
         "title": {}
        },
        "yaxis": {
         "anchor": "x",
         "domain": [
          0,
          1
         ],
         "title": {
          "text": "Count"
         }
        }
       }
      }
     },
     "metadata": {},
     "output_type": "display_data"
    },
    {
     "name": "stdout",
     "output_type": "stream",
     "text": [
      "\n",
      "EntityType Distribution:\n",
      "                         Count  Percentage\n",
      "EntityType                                \n",
      "Ip                     2181194       22.92\n",
      "User                   1932416       20.31\n",
      "MailMessage            1173154       12.33\n",
      "Machine                 699208        7.35\n",
      "File                    688402        7.23\n",
      "Url                     682578        7.17\n",
      "CloudLogonRequest       638565        6.71\n",
      "Mailbox                 483158        5.08\n",
      "Process                 345732        3.63\n",
      "MailCluster             224684        2.36\n",
      "CloudApplication        216811        2.28\n",
      "CloudLogonSession       212382        2.23\n",
      "RegistryValue            11209        0.12\n",
      "AzureResource             8166        0.09\n",
      "RegistryKey               7277        0.08\n",
      "GenericEntity             4294        0.05\n",
      "OAuthApplication          2595        0.03\n",
      "Malware                   2580        0.03\n",
      "SecurityGroup             1518        0.02\n",
      "BlobContainer              306        0.00\n",
      "Blob                       263        0.00\n",
      "MailboxConfiguration       226        0.00\n",
      "Nic                         49        0.00\n",
      "IoTDevice                   31        0.00\n",
      "ActiveDirectoryDomain       11        0.00\n",
      "GoogleCloudResource         10        0.00\n",
      "AmazonResource               6        0.00\n",
      "Container                    2        0.00\n",
      "KubernetesCluster            2        0.00\n",
      "ContainerImage               2        0.00\n",
      "KubernetesNamespace          2        0.00\n",
      "KubernetesPod                2        0.00\n",
      "ContainerRegistry            2        0.00\n",
      "\n",
      "Total unique values: 33\n",
      "Null values: 0 (0.00%)\n",
      "------------------------------------------------------------\n"
     ]
    },
    {
     "data": {
      "application/vnd.plotly.v1+json": {
       "config": {
        "plotlyServerURL": "https://plot.ly"
       },
       "data": [
        {
         "customdata": {
          "bdata": "PQrXo3BdS0DD9Shcj6JGQA==",
          "dtype": "f8",
          "shape": "2, 1"
         },
         "hovertemplate": "EvidenceRole=%{x}<br>Count=%{text}<br>Percentage=%{customdata[0]}<extra></extra>",
         "legendgroup": "",
         "marker": {
          "color": "#636efa",
          "pattern": {
           "shape": ""
          }
         },
         "name": "",
         "orientation": "v",
         "showlegend": false,
         "text": {
          "bdata": "AAAAAJHeU0EAAABAOG9QQQ==",
          "dtype": "f8"
         },
         "textposition": "outside",
         "type": "bar",
         "x": [
          "Related",
          "Impacted"
         ],
         "xaxis": "x",
         "y": {
          "bdata": "RHpPAOG8QQA=",
          "dtype": "i4"
         },
         "yaxis": "y"
        }
       ],
       "layout": {
        "barmode": "relative",
        "height": 500,
        "legend": {
         "tracegroupgap": 0
        },
        "showlegend": false,
        "template": {
         "data": {
          "bar": [
           {
            "error_x": {
             "color": "#2a3f5f"
            },
            "error_y": {
             "color": "#2a3f5f"
            },
            "marker": {
             "line": {
              "color": "white",
              "width": 0.5
             },
             "pattern": {
              "fillmode": "overlay",
              "size": 10,
              "solidity": 0.2
             }
            },
            "type": "bar"
           }
          ],
          "barpolar": [
           {
            "marker": {
             "line": {
              "color": "white",
              "width": 0.5
             },
             "pattern": {
              "fillmode": "overlay",
              "size": 10,
              "solidity": 0.2
             }
            },
            "type": "barpolar"
           }
          ],
          "carpet": [
           {
            "aaxis": {
             "endlinecolor": "#2a3f5f",
             "gridcolor": "#C8D4E3",
             "linecolor": "#C8D4E3",
             "minorgridcolor": "#C8D4E3",
             "startlinecolor": "#2a3f5f"
            },
            "baxis": {
             "endlinecolor": "#2a3f5f",
             "gridcolor": "#C8D4E3",
             "linecolor": "#C8D4E3",
             "minorgridcolor": "#C8D4E3",
             "startlinecolor": "#2a3f5f"
            },
            "type": "carpet"
           }
          ],
          "choropleth": [
           {
            "colorbar": {
             "outlinewidth": 0,
             "ticks": ""
            },
            "type": "choropleth"
           }
          ],
          "contour": [
           {
            "colorbar": {
             "outlinewidth": 0,
             "ticks": ""
            },
            "colorscale": [
             [
              0,
              "#0d0887"
             ],
             [
              0.1111111111111111,
              "#46039f"
             ],
             [
              0.2222222222222222,
              "#7201a8"
             ],
             [
              0.3333333333333333,
              "#9c179e"
             ],
             [
              0.4444444444444444,
              "#bd3786"
             ],
             [
              0.5555555555555556,
              "#d8576b"
             ],
             [
              0.6666666666666666,
              "#ed7953"
             ],
             [
              0.7777777777777778,
              "#fb9f3a"
             ],
             [
              0.8888888888888888,
              "#fdca26"
             ],
             [
              1,
              "#f0f921"
             ]
            ],
            "type": "contour"
           }
          ],
          "contourcarpet": [
           {
            "colorbar": {
             "outlinewidth": 0,
             "ticks": ""
            },
            "type": "contourcarpet"
           }
          ],
          "heatmap": [
           {
            "colorbar": {
             "outlinewidth": 0,
             "ticks": ""
            },
            "colorscale": [
             [
              0,
              "#0d0887"
             ],
             [
              0.1111111111111111,
              "#46039f"
             ],
             [
              0.2222222222222222,
              "#7201a8"
             ],
             [
              0.3333333333333333,
              "#9c179e"
             ],
             [
              0.4444444444444444,
              "#bd3786"
             ],
             [
              0.5555555555555556,
              "#d8576b"
             ],
             [
              0.6666666666666666,
              "#ed7953"
             ],
             [
              0.7777777777777778,
              "#fb9f3a"
             ],
             [
              0.8888888888888888,
              "#fdca26"
             ],
             [
              1,
              "#f0f921"
             ]
            ],
            "type": "heatmap"
           }
          ],
          "histogram": [
           {
            "marker": {
             "pattern": {
              "fillmode": "overlay",
              "size": 10,
              "solidity": 0.2
             }
            },
            "type": "histogram"
           }
          ],
          "histogram2d": [
           {
            "colorbar": {
             "outlinewidth": 0,
             "ticks": ""
            },
            "colorscale": [
             [
              0,
              "#0d0887"
             ],
             [
              0.1111111111111111,
              "#46039f"
             ],
             [
              0.2222222222222222,
              "#7201a8"
             ],
             [
              0.3333333333333333,
              "#9c179e"
             ],
             [
              0.4444444444444444,
              "#bd3786"
             ],
             [
              0.5555555555555556,
              "#d8576b"
             ],
             [
              0.6666666666666666,
              "#ed7953"
             ],
             [
              0.7777777777777778,
              "#fb9f3a"
             ],
             [
              0.8888888888888888,
              "#fdca26"
             ],
             [
              1,
              "#f0f921"
             ]
            ],
            "type": "histogram2d"
           }
          ],
          "histogram2dcontour": [
           {
            "colorbar": {
             "outlinewidth": 0,
             "ticks": ""
            },
            "colorscale": [
             [
              0,
              "#0d0887"
             ],
             [
              0.1111111111111111,
              "#46039f"
             ],
             [
              0.2222222222222222,
              "#7201a8"
             ],
             [
              0.3333333333333333,
              "#9c179e"
             ],
             [
              0.4444444444444444,
              "#bd3786"
             ],
             [
              0.5555555555555556,
              "#d8576b"
             ],
             [
              0.6666666666666666,
              "#ed7953"
             ],
             [
              0.7777777777777778,
              "#fb9f3a"
             ],
             [
              0.8888888888888888,
              "#fdca26"
             ],
             [
              1,
              "#f0f921"
             ]
            ],
            "type": "histogram2dcontour"
           }
          ],
          "mesh3d": [
           {
            "colorbar": {
             "outlinewidth": 0,
             "ticks": ""
            },
            "type": "mesh3d"
           }
          ],
          "parcoords": [
           {
            "line": {
             "colorbar": {
              "outlinewidth": 0,
              "ticks": ""
             }
            },
            "type": "parcoords"
           }
          ],
          "pie": [
           {
            "automargin": true,
            "type": "pie"
           }
          ],
          "scatter": [
           {
            "fillpattern": {
             "fillmode": "overlay",
             "size": 10,
             "solidity": 0.2
            },
            "type": "scatter"
           }
          ],
          "scatter3d": [
           {
            "line": {
             "colorbar": {
              "outlinewidth": 0,
              "ticks": ""
             }
            },
            "marker": {
             "colorbar": {
              "outlinewidth": 0,
              "ticks": ""
             }
            },
            "type": "scatter3d"
           }
          ],
          "scattercarpet": [
           {
            "marker": {
             "colorbar": {
              "outlinewidth": 0,
              "ticks": ""
             }
            },
            "type": "scattercarpet"
           }
          ],
          "scattergeo": [
           {
            "marker": {
             "colorbar": {
              "outlinewidth": 0,
              "ticks": ""
             }
            },
            "type": "scattergeo"
           }
          ],
          "scattergl": [
           {
            "marker": {
             "colorbar": {
              "outlinewidth": 0,
              "ticks": ""
             }
            },
            "type": "scattergl"
           }
          ],
          "scattermap": [
           {
            "marker": {
             "colorbar": {
              "outlinewidth": 0,
              "ticks": ""
             }
            },
            "type": "scattermap"
           }
          ],
          "scattermapbox": [
           {
            "marker": {
             "colorbar": {
              "outlinewidth": 0,
              "ticks": ""
             }
            },
            "type": "scattermapbox"
           }
          ],
          "scatterpolar": [
           {
            "marker": {
             "colorbar": {
              "outlinewidth": 0,
              "ticks": ""
             }
            },
            "type": "scatterpolar"
           }
          ],
          "scatterpolargl": [
           {
            "marker": {
             "colorbar": {
              "outlinewidth": 0,
              "ticks": ""
             }
            },
            "type": "scatterpolargl"
           }
          ],
          "scatterternary": [
           {
            "marker": {
             "colorbar": {
              "outlinewidth": 0,
              "ticks": ""
             }
            },
            "type": "scatterternary"
           }
          ],
          "surface": [
           {
            "colorbar": {
             "outlinewidth": 0,
             "ticks": ""
            },
            "colorscale": [
             [
              0,
              "#0d0887"
             ],
             [
              0.1111111111111111,
              "#46039f"
             ],
             [
              0.2222222222222222,
              "#7201a8"
             ],
             [
              0.3333333333333333,
              "#9c179e"
             ],
             [
              0.4444444444444444,
              "#bd3786"
             ],
             [
              0.5555555555555556,
              "#d8576b"
             ],
             [
              0.6666666666666666,
              "#ed7953"
             ],
             [
              0.7777777777777778,
              "#fb9f3a"
             ],
             [
              0.8888888888888888,
              "#fdca26"
             ],
             [
              1,
              "#f0f921"
             ]
            ],
            "type": "surface"
           }
          ],
          "table": [
           {
            "cells": {
             "fill": {
              "color": "#EBF0F8"
             },
             "line": {
              "color": "white"
             }
            },
            "header": {
             "fill": {
              "color": "#C8D4E3"
             },
             "line": {
              "color": "white"
             }
            },
            "type": "table"
           }
          ]
         },
         "layout": {
          "annotationdefaults": {
           "arrowcolor": "#2a3f5f",
           "arrowhead": 0,
           "arrowwidth": 1
          },
          "autotypenumbers": "strict",
          "coloraxis": {
           "colorbar": {
            "outlinewidth": 0,
            "ticks": ""
           }
          },
          "colorscale": {
           "diverging": [
            [
             0,
             "#8e0152"
            ],
            [
             0.1,
             "#c51b7d"
            ],
            [
             0.2,
             "#de77ae"
            ],
            [
             0.3,
             "#f1b6da"
            ],
            [
             0.4,
             "#fde0ef"
            ],
            [
             0.5,
             "#f7f7f7"
            ],
            [
             0.6,
             "#e6f5d0"
            ],
            [
             0.7,
             "#b8e186"
            ],
            [
             0.8,
             "#7fbc41"
            ],
            [
             0.9,
             "#4d9221"
            ],
            [
             1,
             "#276419"
            ]
           ],
           "sequential": [
            [
             0,
             "#0d0887"
            ],
            [
             0.1111111111111111,
             "#46039f"
            ],
            [
             0.2222222222222222,
             "#7201a8"
            ],
            [
             0.3333333333333333,
             "#9c179e"
            ],
            [
             0.4444444444444444,
             "#bd3786"
            ],
            [
             0.5555555555555556,
             "#d8576b"
            ],
            [
             0.6666666666666666,
             "#ed7953"
            ],
            [
             0.7777777777777778,
             "#fb9f3a"
            ],
            [
             0.8888888888888888,
             "#fdca26"
            ],
            [
             1,
             "#f0f921"
            ]
           ],
           "sequentialminus": [
            [
             0,
             "#0d0887"
            ],
            [
             0.1111111111111111,
             "#46039f"
            ],
            [
             0.2222222222222222,
             "#7201a8"
            ],
            [
             0.3333333333333333,
             "#9c179e"
            ],
            [
             0.4444444444444444,
             "#bd3786"
            ],
            [
             0.5555555555555556,
             "#d8576b"
            ],
            [
             0.6666666666666666,
             "#ed7953"
            ],
            [
             0.7777777777777778,
             "#fb9f3a"
            ],
            [
             0.8888888888888888,
             "#fdca26"
            ],
            [
             1,
             "#f0f921"
            ]
           ]
          },
          "colorway": [
           "#636efa",
           "#EF553B",
           "#00cc96",
           "#ab63fa",
           "#FFA15A",
           "#19d3f3",
           "#FF6692",
           "#B6E880",
           "#FF97FF",
           "#FECB52"
          ],
          "font": {
           "color": "#2a3f5f"
          },
          "geo": {
           "bgcolor": "white",
           "lakecolor": "white",
           "landcolor": "white",
           "showlakes": true,
           "showland": true,
           "subunitcolor": "#C8D4E3"
          },
          "hoverlabel": {
           "align": "left"
          },
          "hovermode": "closest",
          "mapbox": {
           "style": "light"
          },
          "paper_bgcolor": "white",
          "plot_bgcolor": "white",
          "polar": {
           "angularaxis": {
            "gridcolor": "#EBF0F8",
            "linecolor": "#EBF0F8",
            "ticks": ""
           },
           "bgcolor": "white",
           "radialaxis": {
            "gridcolor": "#EBF0F8",
            "linecolor": "#EBF0F8",
            "ticks": ""
           }
          },
          "scene": {
           "xaxis": {
            "backgroundcolor": "white",
            "gridcolor": "#DFE8F3",
            "gridwidth": 2,
            "linecolor": "#EBF0F8",
            "showbackground": true,
            "ticks": "",
            "zerolinecolor": "#EBF0F8"
           },
           "yaxis": {
            "backgroundcolor": "white",
            "gridcolor": "#DFE8F3",
            "gridwidth": 2,
            "linecolor": "#EBF0F8",
            "showbackground": true,
            "ticks": "",
            "zerolinecolor": "#EBF0F8"
           },
           "zaxis": {
            "backgroundcolor": "white",
            "gridcolor": "#DFE8F3",
            "gridwidth": 2,
            "linecolor": "#EBF0F8",
            "showbackground": true,
            "ticks": "",
            "zerolinecolor": "#EBF0F8"
           }
          },
          "shapedefaults": {
           "line": {
            "color": "#2a3f5f"
           }
          },
          "ternary": {
           "aaxis": {
            "gridcolor": "#DFE8F3",
            "linecolor": "#A2B1C6",
            "ticks": ""
           },
           "baxis": {
            "gridcolor": "#DFE8F3",
            "linecolor": "#A2B1C6",
            "ticks": ""
           },
           "bgcolor": "white",
           "caxis": {
            "gridcolor": "#DFE8F3",
            "linecolor": "#A2B1C6",
            "ticks": ""
           }
          },
          "title": {
           "x": 0.05
          },
          "xaxis": {
           "automargin": true,
           "gridcolor": "#EBF0F8",
           "linecolor": "#EBF0F8",
           "ticks": "",
           "title": {
            "standoff": 15
           },
           "zerolinecolor": "#EBF0F8",
           "zerolinewidth": 2
          },
          "yaxis": {
           "automargin": true,
           "gridcolor": "#EBF0F8",
           "linecolor": "#EBF0F8",
           "ticks": "",
           "title": {
            "standoff": 15
           },
           "zerolinecolor": "#EBF0F8",
           "zerolinewidth": 2
          }
         }
        },
        "title": {
         "text": "Distribution of EvidenceRole",
         "x": 0.5
        },
        "xaxis": {
         "anchor": "y",
         "domain": [
          0,
          1
         ],
         "title": {}
        },
        "yaxis": {
         "anchor": "x",
         "domain": [
          0,
          1
         ],
         "title": {
          "text": "Count"
         }
        }
       }
      }
     },
     "metadata": {},
     "output_type": "display_data"
    },
    {
     "name": "stdout",
     "output_type": "stream",
     "text": [
      "\n",
      "EvidenceRole Distribution:\n",
      "                Count  Percentage\n",
      "EvidenceRole                     \n",
      "Related       5208644       54.73\n",
      "Impacted      4308193       45.27\n",
      "\n",
      "Total unique values: 2\n",
      "Null values: 0 (0.00%)\n",
      "------------------------------------------------------------\n"
     ]
    },
    {
     "data": {
      "application/vnd.plotly.v1+json": {
       "config": {
        "plotlyServerURL": "https://plot.ly"
       },
       "data": [
        {
         "customdata": {
          "bdata": "mpmZmZn5WECamZmZmZm5Pw==",
          "dtype": "f8",
          "shape": "2, 1"
         },
         "hovertemplate": "SuspicionLevel=%{x}<br>Count=%{text}<br>Percentage=%{customdata[0]}<extra></extra>",
         "legendgroup": "",
         "marker": {
          "color": "#636efa",
          "pattern": {
           "shape": ""
          }
         },
         "name": "",
         "orientation": "v",
         "showlegend": false,
         "text": {
          "bdata": "AAAAADYDNkEAAAAAAKyXQA==",
          "dtype": "f8"
         },
         "textposition": "outside",
         "type": "bar",
         "x": [
          "Suspicious",
          "Incriminated"
         ],
         "xaxis": "x",
         "y": {
          "bdata": "NgMWAOsFAAA=",
          "dtype": "i4"
         },
         "yaxis": "y"
        }
       ],
       "layout": {
        "barmode": "relative",
        "height": 500,
        "legend": {
         "tracegroupgap": 0
        },
        "showlegend": false,
        "template": {
         "data": {
          "bar": [
           {
            "error_x": {
             "color": "#2a3f5f"
            },
            "error_y": {
             "color": "#2a3f5f"
            },
            "marker": {
             "line": {
              "color": "white",
              "width": 0.5
             },
             "pattern": {
              "fillmode": "overlay",
              "size": 10,
              "solidity": 0.2
             }
            },
            "type": "bar"
           }
          ],
          "barpolar": [
           {
            "marker": {
             "line": {
              "color": "white",
              "width": 0.5
             },
             "pattern": {
              "fillmode": "overlay",
              "size": 10,
              "solidity": 0.2
             }
            },
            "type": "barpolar"
           }
          ],
          "carpet": [
           {
            "aaxis": {
             "endlinecolor": "#2a3f5f",
             "gridcolor": "#C8D4E3",
             "linecolor": "#C8D4E3",
             "minorgridcolor": "#C8D4E3",
             "startlinecolor": "#2a3f5f"
            },
            "baxis": {
             "endlinecolor": "#2a3f5f",
             "gridcolor": "#C8D4E3",
             "linecolor": "#C8D4E3",
             "minorgridcolor": "#C8D4E3",
             "startlinecolor": "#2a3f5f"
            },
            "type": "carpet"
           }
          ],
          "choropleth": [
           {
            "colorbar": {
             "outlinewidth": 0,
             "ticks": ""
            },
            "type": "choropleth"
           }
          ],
          "contour": [
           {
            "colorbar": {
             "outlinewidth": 0,
             "ticks": ""
            },
            "colorscale": [
             [
              0,
              "#0d0887"
             ],
             [
              0.1111111111111111,
              "#46039f"
             ],
             [
              0.2222222222222222,
              "#7201a8"
             ],
             [
              0.3333333333333333,
              "#9c179e"
             ],
             [
              0.4444444444444444,
              "#bd3786"
             ],
             [
              0.5555555555555556,
              "#d8576b"
             ],
             [
              0.6666666666666666,
              "#ed7953"
             ],
             [
              0.7777777777777778,
              "#fb9f3a"
             ],
             [
              0.8888888888888888,
              "#fdca26"
             ],
             [
              1,
              "#f0f921"
             ]
            ],
            "type": "contour"
           }
          ],
          "contourcarpet": [
           {
            "colorbar": {
             "outlinewidth": 0,
             "ticks": ""
            },
            "type": "contourcarpet"
           }
          ],
          "heatmap": [
           {
            "colorbar": {
             "outlinewidth": 0,
             "ticks": ""
            },
            "colorscale": [
             [
              0,
              "#0d0887"
             ],
             [
              0.1111111111111111,
              "#46039f"
             ],
             [
              0.2222222222222222,
              "#7201a8"
             ],
             [
              0.3333333333333333,
              "#9c179e"
             ],
             [
              0.4444444444444444,
              "#bd3786"
             ],
             [
              0.5555555555555556,
              "#d8576b"
             ],
             [
              0.6666666666666666,
              "#ed7953"
             ],
             [
              0.7777777777777778,
              "#fb9f3a"
             ],
             [
              0.8888888888888888,
              "#fdca26"
             ],
             [
              1,
              "#f0f921"
             ]
            ],
            "type": "heatmap"
           }
          ],
          "histogram": [
           {
            "marker": {
             "pattern": {
              "fillmode": "overlay",
              "size": 10,
              "solidity": 0.2
             }
            },
            "type": "histogram"
           }
          ],
          "histogram2d": [
           {
            "colorbar": {
             "outlinewidth": 0,
             "ticks": ""
            },
            "colorscale": [
             [
              0,
              "#0d0887"
             ],
             [
              0.1111111111111111,
              "#46039f"
             ],
             [
              0.2222222222222222,
              "#7201a8"
             ],
             [
              0.3333333333333333,
              "#9c179e"
             ],
             [
              0.4444444444444444,
              "#bd3786"
             ],
             [
              0.5555555555555556,
              "#d8576b"
             ],
             [
              0.6666666666666666,
              "#ed7953"
             ],
             [
              0.7777777777777778,
              "#fb9f3a"
             ],
             [
              0.8888888888888888,
              "#fdca26"
             ],
             [
              1,
              "#f0f921"
             ]
            ],
            "type": "histogram2d"
           }
          ],
          "histogram2dcontour": [
           {
            "colorbar": {
             "outlinewidth": 0,
             "ticks": ""
            },
            "colorscale": [
             [
              0,
              "#0d0887"
             ],
             [
              0.1111111111111111,
              "#46039f"
             ],
             [
              0.2222222222222222,
              "#7201a8"
             ],
             [
              0.3333333333333333,
              "#9c179e"
             ],
             [
              0.4444444444444444,
              "#bd3786"
             ],
             [
              0.5555555555555556,
              "#d8576b"
             ],
             [
              0.6666666666666666,
              "#ed7953"
             ],
             [
              0.7777777777777778,
              "#fb9f3a"
             ],
             [
              0.8888888888888888,
              "#fdca26"
             ],
             [
              1,
              "#f0f921"
             ]
            ],
            "type": "histogram2dcontour"
           }
          ],
          "mesh3d": [
           {
            "colorbar": {
             "outlinewidth": 0,
             "ticks": ""
            },
            "type": "mesh3d"
           }
          ],
          "parcoords": [
           {
            "line": {
             "colorbar": {
              "outlinewidth": 0,
              "ticks": ""
             }
            },
            "type": "parcoords"
           }
          ],
          "pie": [
           {
            "automargin": true,
            "type": "pie"
           }
          ],
          "scatter": [
           {
            "fillpattern": {
             "fillmode": "overlay",
             "size": 10,
             "solidity": 0.2
            },
            "type": "scatter"
           }
          ],
          "scatter3d": [
           {
            "line": {
             "colorbar": {
              "outlinewidth": 0,
              "ticks": ""
             }
            },
            "marker": {
             "colorbar": {
              "outlinewidth": 0,
              "ticks": ""
             }
            },
            "type": "scatter3d"
           }
          ],
          "scattercarpet": [
           {
            "marker": {
             "colorbar": {
              "outlinewidth": 0,
              "ticks": ""
             }
            },
            "type": "scattercarpet"
           }
          ],
          "scattergeo": [
           {
            "marker": {
             "colorbar": {
              "outlinewidth": 0,
              "ticks": ""
             }
            },
            "type": "scattergeo"
           }
          ],
          "scattergl": [
           {
            "marker": {
             "colorbar": {
              "outlinewidth": 0,
              "ticks": ""
             }
            },
            "type": "scattergl"
           }
          ],
          "scattermap": [
           {
            "marker": {
             "colorbar": {
              "outlinewidth": 0,
              "ticks": ""
             }
            },
            "type": "scattermap"
           }
          ],
          "scattermapbox": [
           {
            "marker": {
             "colorbar": {
              "outlinewidth": 0,
              "ticks": ""
             }
            },
            "type": "scattermapbox"
           }
          ],
          "scatterpolar": [
           {
            "marker": {
             "colorbar": {
              "outlinewidth": 0,
              "ticks": ""
             }
            },
            "type": "scatterpolar"
           }
          ],
          "scatterpolargl": [
           {
            "marker": {
             "colorbar": {
              "outlinewidth": 0,
              "ticks": ""
             }
            },
            "type": "scatterpolargl"
           }
          ],
          "scatterternary": [
           {
            "marker": {
             "colorbar": {
              "outlinewidth": 0,
              "ticks": ""
             }
            },
            "type": "scatterternary"
           }
          ],
          "surface": [
           {
            "colorbar": {
             "outlinewidth": 0,
             "ticks": ""
            },
            "colorscale": [
             [
              0,
              "#0d0887"
             ],
             [
              0.1111111111111111,
              "#46039f"
             ],
             [
              0.2222222222222222,
              "#7201a8"
             ],
             [
              0.3333333333333333,
              "#9c179e"
             ],
             [
              0.4444444444444444,
              "#bd3786"
             ],
             [
              0.5555555555555556,
              "#d8576b"
             ],
             [
              0.6666666666666666,
              "#ed7953"
             ],
             [
              0.7777777777777778,
              "#fb9f3a"
             ],
             [
              0.8888888888888888,
              "#fdca26"
             ],
             [
              1,
              "#f0f921"
             ]
            ],
            "type": "surface"
           }
          ],
          "table": [
           {
            "cells": {
             "fill": {
              "color": "#EBF0F8"
             },
             "line": {
              "color": "white"
             }
            },
            "header": {
             "fill": {
              "color": "#C8D4E3"
             },
             "line": {
              "color": "white"
             }
            },
            "type": "table"
           }
          ]
         },
         "layout": {
          "annotationdefaults": {
           "arrowcolor": "#2a3f5f",
           "arrowhead": 0,
           "arrowwidth": 1
          },
          "autotypenumbers": "strict",
          "coloraxis": {
           "colorbar": {
            "outlinewidth": 0,
            "ticks": ""
           }
          },
          "colorscale": {
           "diverging": [
            [
             0,
             "#8e0152"
            ],
            [
             0.1,
             "#c51b7d"
            ],
            [
             0.2,
             "#de77ae"
            ],
            [
             0.3,
             "#f1b6da"
            ],
            [
             0.4,
             "#fde0ef"
            ],
            [
             0.5,
             "#f7f7f7"
            ],
            [
             0.6,
             "#e6f5d0"
            ],
            [
             0.7,
             "#b8e186"
            ],
            [
             0.8,
             "#7fbc41"
            ],
            [
             0.9,
             "#4d9221"
            ],
            [
             1,
             "#276419"
            ]
           ],
           "sequential": [
            [
             0,
             "#0d0887"
            ],
            [
             0.1111111111111111,
             "#46039f"
            ],
            [
             0.2222222222222222,
             "#7201a8"
            ],
            [
             0.3333333333333333,
             "#9c179e"
            ],
            [
             0.4444444444444444,
             "#bd3786"
            ],
            [
             0.5555555555555556,
             "#d8576b"
            ],
            [
             0.6666666666666666,
             "#ed7953"
            ],
            [
             0.7777777777777778,
             "#fb9f3a"
            ],
            [
             0.8888888888888888,
             "#fdca26"
            ],
            [
             1,
             "#f0f921"
            ]
           ],
           "sequentialminus": [
            [
             0,
             "#0d0887"
            ],
            [
             0.1111111111111111,
             "#46039f"
            ],
            [
             0.2222222222222222,
             "#7201a8"
            ],
            [
             0.3333333333333333,
             "#9c179e"
            ],
            [
             0.4444444444444444,
             "#bd3786"
            ],
            [
             0.5555555555555556,
             "#d8576b"
            ],
            [
             0.6666666666666666,
             "#ed7953"
            ],
            [
             0.7777777777777778,
             "#fb9f3a"
            ],
            [
             0.8888888888888888,
             "#fdca26"
            ],
            [
             1,
             "#f0f921"
            ]
           ]
          },
          "colorway": [
           "#636efa",
           "#EF553B",
           "#00cc96",
           "#ab63fa",
           "#FFA15A",
           "#19d3f3",
           "#FF6692",
           "#B6E880",
           "#FF97FF",
           "#FECB52"
          ],
          "font": {
           "color": "#2a3f5f"
          },
          "geo": {
           "bgcolor": "white",
           "lakecolor": "white",
           "landcolor": "white",
           "showlakes": true,
           "showland": true,
           "subunitcolor": "#C8D4E3"
          },
          "hoverlabel": {
           "align": "left"
          },
          "hovermode": "closest",
          "mapbox": {
           "style": "light"
          },
          "paper_bgcolor": "white",
          "plot_bgcolor": "white",
          "polar": {
           "angularaxis": {
            "gridcolor": "#EBF0F8",
            "linecolor": "#EBF0F8",
            "ticks": ""
           },
           "bgcolor": "white",
           "radialaxis": {
            "gridcolor": "#EBF0F8",
            "linecolor": "#EBF0F8",
            "ticks": ""
           }
          },
          "scene": {
           "xaxis": {
            "backgroundcolor": "white",
            "gridcolor": "#DFE8F3",
            "gridwidth": 2,
            "linecolor": "#EBF0F8",
            "showbackground": true,
            "ticks": "",
            "zerolinecolor": "#EBF0F8"
           },
           "yaxis": {
            "backgroundcolor": "white",
            "gridcolor": "#DFE8F3",
            "gridwidth": 2,
            "linecolor": "#EBF0F8",
            "showbackground": true,
            "ticks": "",
            "zerolinecolor": "#EBF0F8"
           },
           "zaxis": {
            "backgroundcolor": "white",
            "gridcolor": "#DFE8F3",
            "gridwidth": 2,
            "linecolor": "#EBF0F8",
            "showbackground": true,
            "ticks": "",
            "zerolinecolor": "#EBF0F8"
           }
          },
          "shapedefaults": {
           "line": {
            "color": "#2a3f5f"
           }
          },
          "ternary": {
           "aaxis": {
            "gridcolor": "#DFE8F3",
            "linecolor": "#A2B1C6",
            "ticks": ""
           },
           "baxis": {
            "gridcolor": "#DFE8F3",
            "linecolor": "#A2B1C6",
            "ticks": ""
           },
           "bgcolor": "white",
           "caxis": {
            "gridcolor": "#DFE8F3",
            "linecolor": "#A2B1C6",
            "ticks": ""
           }
          },
          "title": {
           "x": 0.05
          },
          "xaxis": {
           "automargin": true,
           "gridcolor": "#EBF0F8",
           "linecolor": "#EBF0F8",
           "ticks": "",
           "title": {
            "standoff": 15
           },
           "zerolinecolor": "#EBF0F8",
           "zerolinewidth": 2
          },
          "yaxis": {
           "automargin": true,
           "gridcolor": "#EBF0F8",
           "linecolor": "#EBF0F8",
           "ticks": "",
           "title": {
            "standoff": 15
           },
           "zerolinecolor": "#EBF0F8",
           "zerolinewidth": 2
          }
         }
        },
        "title": {
         "text": "Distribution of SuspicionLevel",
         "x": 0.5
        },
        "xaxis": {
         "anchor": "y",
         "domain": [
          0,
          1
         ],
         "title": {}
        },
        "yaxis": {
         "anchor": "x",
         "domain": [
          0,
          1
         ],
         "title": {
          "text": "Count"
         }
        }
       }
      }
     },
     "metadata": {},
     "output_type": "display_data"
    },
    {
     "name": "stdout",
     "output_type": "stream",
     "text": [
      "\n",
      "SuspicionLevel Distribution:\n",
      "                  Count  Percentage\n",
      "SuspicionLevel                     \n",
      "NaN             8072708       84.83\n",
      "Suspicious      1442614       15.16\n",
      "Incriminated       1515        0.02\n",
      "\n",
      "Total unique values: 2\n",
      "Null values: 8072708 (84.83%)\n",
      "------------------------------------------------------------\n"
     ]
    },
    {
     "data": {
      "application/vnd.plotly.v1+json": {
       "config": {
        "plotlyServerURL": "https://plot.ly"
       },
       "data": [
        {
         "customdata": {
          "bdata": "hetRuB5lT0BmZmZmZmYzQM3MzMzMzDFAexSuR+F6hD8AAAAAAAAAAA==",
          "dtype": "f8",
          "shape": "5, 1"
         },
         "hovertemplate": "LastVerdict=%{x}<br>Count=%{text}<br>Percentage=%{customdata[0]}<extra></extra>",
         "legendgroup": "",
         "marker": {
          "color": "#636efa",
          "pattern": {
           "shape": ""
          }
         },
         "name": "",
         "orientation": "v",
         "showlegend": false,
         "text": {
          "bdata": "AAAAAHVoNUEAAAAAPHMaQQAAAABYRhhBAAAAAAAAYEAAAAAAAIBPQA==",
          "dtype": "f8"
         },
         "textposition": "outside",
         "type": "bar",
         "x": [
          "Suspicious",
          "Malicious",
          "NoThreatsFound",
          "DomainPII_50d8b4a941c26b89482c94ab324b5a274f9ced66",
          "DomainPII_9207384283ce115db5a590dd9ca5de21e5e99df2"
         ],
         "xaxis": "x",
         "y": {
          "bdata": "dWgVAM+cBgCWEQYAgAAAAD8AAAA=",
          "dtype": "i4"
         },
         "yaxis": "y"
        }
       ],
       "layout": {
        "barmode": "relative",
        "height": 500,
        "legend": {
         "tracegroupgap": 0
        },
        "showlegend": false,
        "template": {
         "data": {
          "bar": [
           {
            "error_x": {
             "color": "#2a3f5f"
            },
            "error_y": {
             "color": "#2a3f5f"
            },
            "marker": {
             "line": {
              "color": "white",
              "width": 0.5
             },
             "pattern": {
              "fillmode": "overlay",
              "size": 10,
              "solidity": 0.2
             }
            },
            "type": "bar"
           }
          ],
          "barpolar": [
           {
            "marker": {
             "line": {
              "color": "white",
              "width": 0.5
             },
             "pattern": {
              "fillmode": "overlay",
              "size": 10,
              "solidity": 0.2
             }
            },
            "type": "barpolar"
           }
          ],
          "carpet": [
           {
            "aaxis": {
             "endlinecolor": "#2a3f5f",
             "gridcolor": "#C8D4E3",
             "linecolor": "#C8D4E3",
             "minorgridcolor": "#C8D4E3",
             "startlinecolor": "#2a3f5f"
            },
            "baxis": {
             "endlinecolor": "#2a3f5f",
             "gridcolor": "#C8D4E3",
             "linecolor": "#C8D4E3",
             "minorgridcolor": "#C8D4E3",
             "startlinecolor": "#2a3f5f"
            },
            "type": "carpet"
           }
          ],
          "choropleth": [
           {
            "colorbar": {
             "outlinewidth": 0,
             "ticks": ""
            },
            "type": "choropleth"
           }
          ],
          "contour": [
           {
            "colorbar": {
             "outlinewidth": 0,
             "ticks": ""
            },
            "colorscale": [
             [
              0,
              "#0d0887"
             ],
             [
              0.1111111111111111,
              "#46039f"
             ],
             [
              0.2222222222222222,
              "#7201a8"
             ],
             [
              0.3333333333333333,
              "#9c179e"
             ],
             [
              0.4444444444444444,
              "#bd3786"
             ],
             [
              0.5555555555555556,
              "#d8576b"
             ],
             [
              0.6666666666666666,
              "#ed7953"
             ],
             [
              0.7777777777777778,
              "#fb9f3a"
             ],
             [
              0.8888888888888888,
              "#fdca26"
             ],
             [
              1,
              "#f0f921"
             ]
            ],
            "type": "contour"
           }
          ],
          "contourcarpet": [
           {
            "colorbar": {
             "outlinewidth": 0,
             "ticks": ""
            },
            "type": "contourcarpet"
           }
          ],
          "heatmap": [
           {
            "colorbar": {
             "outlinewidth": 0,
             "ticks": ""
            },
            "colorscale": [
             [
              0,
              "#0d0887"
             ],
             [
              0.1111111111111111,
              "#46039f"
             ],
             [
              0.2222222222222222,
              "#7201a8"
             ],
             [
              0.3333333333333333,
              "#9c179e"
             ],
             [
              0.4444444444444444,
              "#bd3786"
             ],
             [
              0.5555555555555556,
              "#d8576b"
             ],
             [
              0.6666666666666666,
              "#ed7953"
             ],
             [
              0.7777777777777778,
              "#fb9f3a"
             ],
             [
              0.8888888888888888,
              "#fdca26"
             ],
             [
              1,
              "#f0f921"
             ]
            ],
            "type": "heatmap"
           }
          ],
          "histogram": [
           {
            "marker": {
             "pattern": {
              "fillmode": "overlay",
              "size": 10,
              "solidity": 0.2
             }
            },
            "type": "histogram"
           }
          ],
          "histogram2d": [
           {
            "colorbar": {
             "outlinewidth": 0,
             "ticks": ""
            },
            "colorscale": [
             [
              0,
              "#0d0887"
             ],
             [
              0.1111111111111111,
              "#46039f"
             ],
             [
              0.2222222222222222,
              "#7201a8"
             ],
             [
              0.3333333333333333,
              "#9c179e"
             ],
             [
              0.4444444444444444,
              "#bd3786"
             ],
             [
              0.5555555555555556,
              "#d8576b"
             ],
             [
              0.6666666666666666,
              "#ed7953"
             ],
             [
              0.7777777777777778,
              "#fb9f3a"
             ],
             [
              0.8888888888888888,
              "#fdca26"
             ],
             [
              1,
              "#f0f921"
             ]
            ],
            "type": "histogram2d"
           }
          ],
          "histogram2dcontour": [
           {
            "colorbar": {
             "outlinewidth": 0,
             "ticks": ""
            },
            "colorscale": [
             [
              0,
              "#0d0887"
             ],
             [
              0.1111111111111111,
              "#46039f"
             ],
             [
              0.2222222222222222,
              "#7201a8"
             ],
             [
              0.3333333333333333,
              "#9c179e"
             ],
             [
              0.4444444444444444,
              "#bd3786"
             ],
             [
              0.5555555555555556,
              "#d8576b"
             ],
             [
              0.6666666666666666,
              "#ed7953"
             ],
             [
              0.7777777777777778,
              "#fb9f3a"
             ],
             [
              0.8888888888888888,
              "#fdca26"
             ],
             [
              1,
              "#f0f921"
             ]
            ],
            "type": "histogram2dcontour"
           }
          ],
          "mesh3d": [
           {
            "colorbar": {
             "outlinewidth": 0,
             "ticks": ""
            },
            "type": "mesh3d"
           }
          ],
          "parcoords": [
           {
            "line": {
             "colorbar": {
              "outlinewidth": 0,
              "ticks": ""
             }
            },
            "type": "parcoords"
           }
          ],
          "pie": [
           {
            "automargin": true,
            "type": "pie"
           }
          ],
          "scatter": [
           {
            "fillpattern": {
             "fillmode": "overlay",
             "size": 10,
             "solidity": 0.2
            },
            "type": "scatter"
           }
          ],
          "scatter3d": [
           {
            "line": {
             "colorbar": {
              "outlinewidth": 0,
              "ticks": ""
             }
            },
            "marker": {
             "colorbar": {
              "outlinewidth": 0,
              "ticks": ""
             }
            },
            "type": "scatter3d"
           }
          ],
          "scattercarpet": [
           {
            "marker": {
             "colorbar": {
              "outlinewidth": 0,
              "ticks": ""
             }
            },
            "type": "scattercarpet"
           }
          ],
          "scattergeo": [
           {
            "marker": {
             "colorbar": {
              "outlinewidth": 0,
              "ticks": ""
             }
            },
            "type": "scattergeo"
           }
          ],
          "scattergl": [
           {
            "marker": {
             "colorbar": {
              "outlinewidth": 0,
              "ticks": ""
             }
            },
            "type": "scattergl"
           }
          ],
          "scattermap": [
           {
            "marker": {
             "colorbar": {
              "outlinewidth": 0,
              "ticks": ""
             }
            },
            "type": "scattermap"
           }
          ],
          "scattermapbox": [
           {
            "marker": {
             "colorbar": {
              "outlinewidth": 0,
              "ticks": ""
             }
            },
            "type": "scattermapbox"
           }
          ],
          "scatterpolar": [
           {
            "marker": {
             "colorbar": {
              "outlinewidth": 0,
              "ticks": ""
             }
            },
            "type": "scatterpolar"
           }
          ],
          "scatterpolargl": [
           {
            "marker": {
             "colorbar": {
              "outlinewidth": 0,
              "ticks": ""
             }
            },
            "type": "scatterpolargl"
           }
          ],
          "scatterternary": [
           {
            "marker": {
             "colorbar": {
              "outlinewidth": 0,
              "ticks": ""
             }
            },
            "type": "scatterternary"
           }
          ],
          "surface": [
           {
            "colorbar": {
             "outlinewidth": 0,
             "ticks": ""
            },
            "colorscale": [
             [
              0,
              "#0d0887"
             ],
             [
              0.1111111111111111,
              "#46039f"
             ],
             [
              0.2222222222222222,
              "#7201a8"
             ],
             [
              0.3333333333333333,
              "#9c179e"
             ],
             [
              0.4444444444444444,
              "#bd3786"
             ],
             [
              0.5555555555555556,
              "#d8576b"
             ],
             [
              0.6666666666666666,
              "#ed7953"
             ],
             [
              0.7777777777777778,
              "#fb9f3a"
             ],
             [
              0.8888888888888888,
              "#fdca26"
             ],
             [
              1,
              "#f0f921"
             ]
            ],
            "type": "surface"
           }
          ],
          "table": [
           {
            "cells": {
             "fill": {
              "color": "#EBF0F8"
             },
             "line": {
              "color": "white"
             }
            },
            "header": {
             "fill": {
              "color": "#C8D4E3"
             },
             "line": {
              "color": "white"
             }
            },
            "type": "table"
           }
          ]
         },
         "layout": {
          "annotationdefaults": {
           "arrowcolor": "#2a3f5f",
           "arrowhead": 0,
           "arrowwidth": 1
          },
          "autotypenumbers": "strict",
          "coloraxis": {
           "colorbar": {
            "outlinewidth": 0,
            "ticks": ""
           }
          },
          "colorscale": {
           "diverging": [
            [
             0,
             "#8e0152"
            ],
            [
             0.1,
             "#c51b7d"
            ],
            [
             0.2,
             "#de77ae"
            ],
            [
             0.3,
             "#f1b6da"
            ],
            [
             0.4,
             "#fde0ef"
            ],
            [
             0.5,
             "#f7f7f7"
            ],
            [
             0.6,
             "#e6f5d0"
            ],
            [
             0.7,
             "#b8e186"
            ],
            [
             0.8,
             "#7fbc41"
            ],
            [
             0.9,
             "#4d9221"
            ],
            [
             1,
             "#276419"
            ]
           ],
           "sequential": [
            [
             0,
             "#0d0887"
            ],
            [
             0.1111111111111111,
             "#46039f"
            ],
            [
             0.2222222222222222,
             "#7201a8"
            ],
            [
             0.3333333333333333,
             "#9c179e"
            ],
            [
             0.4444444444444444,
             "#bd3786"
            ],
            [
             0.5555555555555556,
             "#d8576b"
            ],
            [
             0.6666666666666666,
             "#ed7953"
            ],
            [
             0.7777777777777778,
             "#fb9f3a"
            ],
            [
             0.8888888888888888,
             "#fdca26"
            ],
            [
             1,
             "#f0f921"
            ]
           ],
           "sequentialminus": [
            [
             0,
             "#0d0887"
            ],
            [
             0.1111111111111111,
             "#46039f"
            ],
            [
             0.2222222222222222,
             "#7201a8"
            ],
            [
             0.3333333333333333,
             "#9c179e"
            ],
            [
             0.4444444444444444,
             "#bd3786"
            ],
            [
             0.5555555555555556,
             "#d8576b"
            ],
            [
             0.6666666666666666,
             "#ed7953"
            ],
            [
             0.7777777777777778,
             "#fb9f3a"
            ],
            [
             0.8888888888888888,
             "#fdca26"
            ],
            [
             1,
             "#f0f921"
            ]
           ]
          },
          "colorway": [
           "#636efa",
           "#EF553B",
           "#00cc96",
           "#ab63fa",
           "#FFA15A",
           "#19d3f3",
           "#FF6692",
           "#B6E880",
           "#FF97FF",
           "#FECB52"
          ],
          "font": {
           "color": "#2a3f5f"
          },
          "geo": {
           "bgcolor": "white",
           "lakecolor": "white",
           "landcolor": "white",
           "showlakes": true,
           "showland": true,
           "subunitcolor": "#C8D4E3"
          },
          "hoverlabel": {
           "align": "left"
          },
          "hovermode": "closest",
          "mapbox": {
           "style": "light"
          },
          "paper_bgcolor": "white",
          "plot_bgcolor": "white",
          "polar": {
           "angularaxis": {
            "gridcolor": "#EBF0F8",
            "linecolor": "#EBF0F8",
            "ticks": ""
           },
           "bgcolor": "white",
           "radialaxis": {
            "gridcolor": "#EBF0F8",
            "linecolor": "#EBF0F8",
            "ticks": ""
           }
          },
          "scene": {
           "xaxis": {
            "backgroundcolor": "white",
            "gridcolor": "#DFE8F3",
            "gridwidth": 2,
            "linecolor": "#EBF0F8",
            "showbackground": true,
            "ticks": "",
            "zerolinecolor": "#EBF0F8"
           },
           "yaxis": {
            "backgroundcolor": "white",
            "gridcolor": "#DFE8F3",
            "gridwidth": 2,
            "linecolor": "#EBF0F8",
            "showbackground": true,
            "ticks": "",
            "zerolinecolor": "#EBF0F8"
           },
           "zaxis": {
            "backgroundcolor": "white",
            "gridcolor": "#DFE8F3",
            "gridwidth": 2,
            "linecolor": "#EBF0F8",
            "showbackground": true,
            "ticks": "",
            "zerolinecolor": "#EBF0F8"
           }
          },
          "shapedefaults": {
           "line": {
            "color": "#2a3f5f"
           }
          },
          "ternary": {
           "aaxis": {
            "gridcolor": "#DFE8F3",
            "linecolor": "#A2B1C6",
            "ticks": ""
           },
           "baxis": {
            "gridcolor": "#DFE8F3",
            "linecolor": "#A2B1C6",
            "ticks": ""
           },
           "bgcolor": "white",
           "caxis": {
            "gridcolor": "#DFE8F3",
            "linecolor": "#A2B1C6",
            "ticks": ""
           }
          },
          "title": {
           "x": 0.05
          },
          "xaxis": {
           "automargin": true,
           "gridcolor": "#EBF0F8",
           "linecolor": "#EBF0F8",
           "ticks": "",
           "title": {
            "standoff": 15
           },
           "zerolinecolor": "#EBF0F8",
           "zerolinewidth": 2
          },
          "yaxis": {
           "automargin": true,
           "gridcolor": "#EBF0F8",
           "linecolor": "#EBF0F8",
           "ticks": "",
           "title": {
            "standoff": 15
           },
           "zerolinecolor": "#EBF0F8",
           "zerolinewidth": 2
          }
         }
        },
        "title": {
         "text": "Distribution of LastVerdict",
         "x": 0.5
        },
        "xaxis": {
         "anchor": "y",
         "domain": [
          0,
          1
         ],
         "title": {}
        },
        "yaxis": {
         "anchor": "x",
         "domain": [
          0,
          1
         ],
         "title": {
          "text": "Count"
         }
        }
       }
      }
     },
     "metadata": {},
     "output_type": "display_data"
    },
    {
     "name": "stdout",
     "output_type": "stream",
     "text": [
      "\n",
      "LastVerdict Distribution:\n",
      "                                                      Count  Percentage\n",
      "LastVerdict                                                            \n",
      "NaN                                                 7282572       76.52\n",
      "Suspicious                                          1402997       14.74\n",
      "Malicious                                            433359        4.55\n",
      "NoThreatsFound                                       397718        4.18\n",
      "DomainPII_50d8b4a941c26b89482c94ab324b5a274f9ced66      128        0.00\n",
      "DomainPII_9207384283ce115db5a590dd9ca5de21e5e99df2       63        0.00\n",
      "\n",
      "Total unique values: 5\n",
      "Null values: 7282572 (76.52%)\n",
      "------------------------------------------------------------\n",
      "\n",
      "Correlation between Entity Level targets:\n"
     ]
    },
    {
     "data": {
      "application/vnd.plotly.v1+json": {
       "config": {
        "plotlyServerURL": "https://plot.ly"
       },
       "data": [
        {
         "coloraxis": "coloraxis",
         "hovertemplate": "x: %{x}<br>y: %{y}<br>color: %{z}<extra></extra>",
         "name": "0",
         "type": "heatmap",
         "x": [
          "EntityType",
          "EvidenceRole",
          "SuspicionLevel",
          "LastVerdict"
         ],
         "xaxis": "x",
         "y": [
          "EntityType",
          "EvidenceRole",
          "SuspicionLevel",
          "LastVerdict"
         ],
         "yaxis": "y",
         "z": [
          [
           1,
           0.8796758989489443,
           0.05462079942960527,
           0.4613846311095302
          ],
          [
           0.8796758989489443,
           1,
           0.023665379370815177,
           0.19521931561434258
          ],
          [
           0.054620799429605266,
           0.023665379370815174,
           1,
           0.13765786590188017
          ],
          [
           0.46138463110953015,
           0.19521931561434258,
           0.13765786590188017,
           1
          ]
         ]
        }
       ],
       "layout": {
        "coloraxis": {
         "colorscale": [
          [
           0,
           "rgb(103,0,31)"
          ],
          [
           0.1,
           "rgb(178,24,43)"
          ],
          [
           0.2,
           "rgb(214,96,77)"
          ],
          [
           0.3,
           "rgb(244,165,130)"
          ],
          [
           0.4,
           "rgb(253,219,199)"
          ],
          [
           0.5,
           "rgb(247,247,247)"
          ],
          [
           0.6,
           "rgb(209,229,240)"
          ],
          [
           0.7,
           "rgb(146,197,222)"
          ],
          [
           0.8,
           "rgb(67,147,195)"
          ],
          [
           0.9,
           "rgb(33,102,172)"
          ],
          [
           1,
           "rgb(5,48,97)"
          ]
         ]
        },
        "height": 600,
        "template": {
         "data": {
          "bar": [
           {
            "error_x": {
             "color": "#2a3f5f"
            },
            "error_y": {
             "color": "#2a3f5f"
            },
            "marker": {
             "line": {
              "color": "#E5ECF6",
              "width": 0.5
             },
             "pattern": {
              "fillmode": "overlay",
              "size": 10,
              "solidity": 0.2
             }
            },
            "type": "bar"
           }
          ],
          "barpolar": [
           {
            "marker": {
             "line": {
              "color": "#E5ECF6",
              "width": 0.5
             },
             "pattern": {
              "fillmode": "overlay",
              "size": 10,
              "solidity": 0.2
             }
            },
            "type": "barpolar"
           }
          ],
          "carpet": [
           {
            "aaxis": {
             "endlinecolor": "#2a3f5f",
             "gridcolor": "white",
             "linecolor": "white",
             "minorgridcolor": "white",
             "startlinecolor": "#2a3f5f"
            },
            "baxis": {
             "endlinecolor": "#2a3f5f",
             "gridcolor": "white",
             "linecolor": "white",
             "minorgridcolor": "white",
             "startlinecolor": "#2a3f5f"
            },
            "type": "carpet"
           }
          ],
          "choropleth": [
           {
            "colorbar": {
             "outlinewidth": 0,
             "ticks": ""
            },
            "type": "choropleth"
           }
          ],
          "contour": [
           {
            "colorbar": {
             "outlinewidth": 0,
             "ticks": ""
            },
            "colorscale": [
             [
              0,
              "#0d0887"
             ],
             [
              0.1111111111111111,
              "#46039f"
             ],
             [
              0.2222222222222222,
              "#7201a8"
             ],
             [
              0.3333333333333333,
              "#9c179e"
             ],
             [
              0.4444444444444444,
              "#bd3786"
             ],
             [
              0.5555555555555556,
              "#d8576b"
             ],
             [
              0.6666666666666666,
              "#ed7953"
             ],
             [
              0.7777777777777778,
              "#fb9f3a"
             ],
             [
              0.8888888888888888,
              "#fdca26"
             ],
             [
              1,
              "#f0f921"
             ]
            ],
            "type": "contour"
           }
          ],
          "contourcarpet": [
           {
            "colorbar": {
             "outlinewidth": 0,
             "ticks": ""
            },
            "type": "contourcarpet"
           }
          ],
          "heatmap": [
           {
            "colorbar": {
             "outlinewidth": 0,
             "ticks": ""
            },
            "colorscale": [
             [
              0,
              "#0d0887"
             ],
             [
              0.1111111111111111,
              "#46039f"
             ],
             [
              0.2222222222222222,
              "#7201a8"
             ],
             [
              0.3333333333333333,
              "#9c179e"
             ],
             [
              0.4444444444444444,
              "#bd3786"
             ],
             [
              0.5555555555555556,
              "#d8576b"
             ],
             [
              0.6666666666666666,
              "#ed7953"
             ],
             [
              0.7777777777777778,
              "#fb9f3a"
             ],
             [
              0.8888888888888888,
              "#fdca26"
             ],
             [
              1,
              "#f0f921"
             ]
            ],
            "type": "heatmap"
           }
          ],
          "histogram": [
           {
            "marker": {
             "pattern": {
              "fillmode": "overlay",
              "size": 10,
              "solidity": 0.2
             }
            },
            "type": "histogram"
           }
          ],
          "histogram2d": [
           {
            "colorbar": {
             "outlinewidth": 0,
             "ticks": ""
            },
            "colorscale": [
             [
              0,
              "#0d0887"
             ],
             [
              0.1111111111111111,
              "#46039f"
             ],
             [
              0.2222222222222222,
              "#7201a8"
             ],
             [
              0.3333333333333333,
              "#9c179e"
             ],
             [
              0.4444444444444444,
              "#bd3786"
             ],
             [
              0.5555555555555556,
              "#d8576b"
             ],
             [
              0.6666666666666666,
              "#ed7953"
             ],
             [
              0.7777777777777778,
              "#fb9f3a"
             ],
             [
              0.8888888888888888,
              "#fdca26"
             ],
             [
              1,
              "#f0f921"
             ]
            ],
            "type": "histogram2d"
           }
          ],
          "histogram2dcontour": [
           {
            "colorbar": {
             "outlinewidth": 0,
             "ticks": ""
            },
            "colorscale": [
             [
              0,
              "#0d0887"
             ],
             [
              0.1111111111111111,
              "#46039f"
             ],
             [
              0.2222222222222222,
              "#7201a8"
             ],
             [
              0.3333333333333333,
              "#9c179e"
             ],
             [
              0.4444444444444444,
              "#bd3786"
             ],
             [
              0.5555555555555556,
              "#d8576b"
             ],
             [
              0.6666666666666666,
              "#ed7953"
             ],
             [
              0.7777777777777778,
              "#fb9f3a"
             ],
             [
              0.8888888888888888,
              "#fdca26"
             ],
             [
              1,
              "#f0f921"
             ]
            ],
            "type": "histogram2dcontour"
           }
          ],
          "mesh3d": [
           {
            "colorbar": {
             "outlinewidth": 0,
             "ticks": ""
            },
            "type": "mesh3d"
           }
          ],
          "parcoords": [
           {
            "line": {
             "colorbar": {
              "outlinewidth": 0,
              "ticks": ""
             }
            },
            "type": "parcoords"
           }
          ],
          "pie": [
           {
            "automargin": true,
            "type": "pie"
           }
          ],
          "scatter": [
           {
            "fillpattern": {
             "fillmode": "overlay",
             "size": 10,
             "solidity": 0.2
            },
            "type": "scatter"
           }
          ],
          "scatter3d": [
           {
            "line": {
             "colorbar": {
              "outlinewidth": 0,
              "ticks": ""
             }
            },
            "marker": {
             "colorbar": {
              "outlinewidth": 0,
              "ticks": ""
             }
            },
            "type": "scatter3d"
           }
          ],
          "scattercarpet": [
           {
            "marker": {
             "colorbar": {
              "outlinewidth": 0,
              "ticks": ""
             }
            },
            "type": "scattercarpet"
           }
          ],
          "scattergeo": [
           {
            "marker": {
             "colorbar": {
              "outlinewidth": 0,
              "ticks": ""
             }
            },
            "type": "scattergeo"
           }
          ],
          "scattergl": [
           {
            "marker": {
             "colorbar": {
              "outlinewidth": 0,
              "ticks": ""
             }
            },
            "type": "scattergl"
           }
          ],
          "scattermap": [
           {
            "marker": {
             "colorbar": {
              "outlinewidth": 0,
              "ticks": ""
             }
            },
            "type": "scattermap"
           }
          ],
          "scattermapbox": [
           {
            "marker": {
             "colorbar": {
              "outlinewidth": 0,
              "ticks": ""
             }
            },
            "type": "scattermapbox"
           }
          ],
          "scatterpolar": [
           {
            "marker": {
             "colorbar": {
              "outlinewidth": 0,
              "ticks": ""
             }
            },
            "type": "scatterpolar"
           }
          ],
          "scatterpolargl": [
           {
            "marker": {
             "colorbar": {
              "outlinewidth": 0,
              "ticks": ""
             }
            },
            "type": "scatterpolargl"
           }
          ],
          "scatterternary": [
           {
            "marker": {
             "colorbar": {
              "outlinewidth": 0,
              "ticks": ""
             }
            },
            "type": "scatterternary"
           }
          ],
          "surface": [
           {
            "colorbar": {
             "outlinewidth": 0,
             "ticks": ""
            },
            "colorscale": [
             [
              0,
              "#0d0887"
             ],
             [
              0.1111111111111111,
              "#46039f"
             ],
             [
              0.2222222222222222,
              "#7201a8"
             ],
             [
              0.3333333333333333,
              "#9c179e"
             ],
             [
              0.4444444444444444,
              "#bd3786"
             ],
             [
              0.5555555555555556,
              "#d8576b"
             ],
             [
              0.6666666666666666,
              "#ed7953"
             ],
             [
              0.7777777777777778,
              "#fb9f3a"
             ],
             [
              0.8888888888888888,
              "#fdca26"
             ],
             [
              1,
              "#f0f921"
             ]
            ],
            "type": "surface"
           }
          ],
          "table": [
           {
            "cells": {
             "fill": {
              "color": "#EBF0F8"
             },
             "line": {
              "color": "white"
             }
            },
            "header": {
             "fill": {
              "color": "#C8D4E3"
             },
             "line": {
              "color": "white"
             }
            },
            "type": "table"
           }
          ]
         },
         "layout": {
          "annotationdefaults": {
           "arrowcolor": "#2a3f5f",
           "arrowhead": 0,
           "arrowwidth": 1
          },
          "autotypenumbers": "strict",
          "coloraxis": {
           "colorbar": {
            "outlinewidth": 0,
            "ticks": ""
           }
          },
          "colorscale": {
           "diverging": [
            [
             0,
             "#8e0152"
            ],
            [
             0.1,
             "#c51b7d"
            ],
            [
             0.2,
             "#de77ae"
            ],
            [
             0.3,
             "#f1b6da"
            ],
            [
             0.4,
             "#fde0ef"
            ],
            [
             0.5,
             "#f7f7f7"
            ],
            [
             0.6,
             "#e6f5d0"
            ],
            [
             0.7,
             "#b8e186"
            ],
            [
             0.8,
             "#7fbc41"
            ],
            [
             0.9,
             "#4d9221"
            ],
            [
             1,
             "#276419"
            ]
           ],
           "sequential": [
            [
             0,
             "#0d0887"
            ],
            [
             0.1111111111111111,
             "#46039f"
            ],
            [
             0.2222222222222222,
             "#7201a8"
            ],
            [
             0.3333333333333333,
             "#9c179e"
            ],
            [
             0.4444444444444444,
             "#bd3786"
            ],
            [
             0.5555555555555556,
             "#d8576b"
            ],
            [
             0.6666666666666666,
             "#ed7953"
            ],
            [
             0.7777777777777778,
             "#fb9f3a"
            ],
            [
             0.8888888888888888,
             "#fdca26"
            ],
            [
             1,
             "#f0f921"
            ]
           ],
           "sequentialminus": [
            [
             0,
             "#0d0887"
            ],
            [
             0.1111111111111111,
             "#46039f"
            ],
            [
             0.2222222222222222,
             "#7201a8"
            ],
            [
             0.3333333333333333,
             "#9c179e"
            ],
            [
             0.4444444444444444,
             "#bd3786"
            ],
            [
             0.5555555555555556,
             "#d8576b"
            ],
            [
             0.6666666666666666,
             "#ed7953"
            ],
            [
             0.7777777777777778,
             "#fb9f3a"
            ],
            [
             0.8888888888888888,
             "#fdca26"
            ],
            [
             1,
             "#f0f921"
            ]
           ]
          },
          "colorway": [
           "#636efa",
           "#EF553B",
           "#00cc96",
           "#ab63fa",
           "#FFA15A",
           "#19d3f3",
           "#FF6692",
           "#B6E880",
           "#FF97FF",
           "#FECB52"
          ],
          "font": {
           "color": "#2a3f5f"
          },
          "geo": {
           "bgcolor": "white",
           "lakecolor": "white",
           "landcolor": "#E5ECF6",
           "showlakes": true,
           "showland": true,
           "subunitcolor": "white"
          },
          "hoverlabel": {
           "align": "left"
          },
          "hovermode": "closest",
          "mapbox": {
           "style": "light"
          },
          "paper_bgcolor": "white",
          "plot_bgcolor": "#E5ECF6",
          "polar": {
           "angularaxis": {
            "gridcolor": "white",
            "linecolor": "white",
            "ticks": ""
           },
           "bgcolor": "#E5ECF6",
           "radialaxis": {
            "gridcolor": "white",
            "linecolor": "white",
            "ticks": ""
           }
          },
          "scene": {
           "xaxis": {
            "backgroundcolor": "#E5ECF6",
            "gridcolor": "white",
            "gridwidth": 2,
            "linecolor": "white",
            "showbackground": true,
            "ticks": "",
            "zerolinecolor": "white"
           },
           "yaxis": {
            "backgroundcolor": "#E5ECF6",
            "gridcolor": "white",
            "gridwidth": 2,
            "linecolor": "white",
            "showbackground": true,
            "ticks": "",
            "zerolinecolor": "white"
           },
           "zaxis": {
            "backgroundcolor": "#E5ECF6",
            "gridcolor": "white",
            "gridwidth": 2,
            "linecolor": "white",
            "showbackground": true,
            "ticks": "",
            "zerolinecolor": "white"
           }
          },
          "shapedefaults": {
           "line": {
            "color": "#2a3f5f"
           }
          },
          "ternary": {
           "aaxis": {
            "gridcolor": "white",
            "linecolor": "white",
            "ticks": ""
           },
           "baxis": {
            "gridcolor": "white",
            "linecolor": "white",
            "ticks": ""
           },
           "bgcolor": "#E5ECF6",
           "caxis": {
            "gridcolor": "white",
            "linecolor": "white",
            "ticks": ""
           }
          },
          "title": {
           "x": 0.05
          },
          "xaxis": {
           "automargin": true,
           "gridcolor": "white",
           "linecolor": "white",
           "ticks": "",
           "title": {
            "standoff": 15
           },
           "zerolinecolor": "white",
           "zerolinewidth": 2
          },
          "yaxis": {
           "automargin": true,
           "gridcolor": "white",
           "linecolor": "white",
           "ticks": "",
           "title": {
            "standoff": 15
           },
           "zerolinecolor": "white",
           "zerolinewidth": 2
          }
         }
        },
        "title": {
         "text": "Correlation Heatmap for Entity Level Targets",
         "x": 0.5
        },
        "width": 600,
        "xaxis": {
         "anchor": "y",
         "domain": [
          0,
          1
         ]
        },
        "yaxis": {
         "anchor": "x",
         "autorange": "reversed",
         "domain": [
          0,
          1
         ]
        }
       }
      }
     },
     "metadata": {},
     "output_type": "display_data"
    },
    {
     "name": "stdout",
     "output_type": "stream",
     "text": [
      "\n",
      "Correlation Matrix:\n",
      "               EntityType EvidenceRole SuspicionLevel LastVerdict\n",
      "EntityType            1.0     0.879676       0.054621    0.461385\n",
      "EvidenceRole     0.879676          1.0       0.023665    0.195219\n",
      "SuspicionLevel   0.054621     0.023665            1.0    0.137658\n",
      "LastVerdict      0.461385     0.195219       0.137658         1.0\n",
      "============================================================\n",
      "\n",
      "==================== Action Level Distributions ====================\n"
     ]
    },
    {
     "data": {
      "application/vnd.plotly.v1+json": {
       "config": {
        "plotlyServerURL": "https://plot.ly"
       },
       "data": [
        {
         "customdata": {
          "bdata": "KVyPwvX4V0DsUbgehesPQLgehetRuL4/",
          "dtype": "f8",
          "shape": "3, 1"
         },
         "hovertemplate": "ActionGrouped=%{x}<br>Count=%{text}<br>Percentage=%{customdata[0]}<extra></extra>",
         "legendgroup": "",
         "marker": {
          "color": "#636efa",
          "pattern": {
           "shape": ""
          }
         },
         "name": "",
         "orientation": "v",
         "showlegend": false,
         "text": {
          "bdata": "AAAAAABA6kAAAAAAAHqhQAAAAAAAwFBA",
          "dtype": "f8"
         },
         "textposition": "outside",
         "type": "bar",
         "x": [
          "ContainAccount",
          "IsolateDevice",
          "Stop Virtual Machines"
         ],
         "xaxis": "x",
         "y": {
          "bdata": "ANIAAL0IAABDAAAA",
          "dtype": "i4"
         },
         "yaxis": "y"
        }
       ],
       "layout": {
        "barmode": "relative",
        "height": 500,
        "legend": {
         "tracegroupgap": 0
        },
        "showlegend": false,
        "template": {
         "data": {
          "bar": [
           {
            "error_x": {
             "color": "#2a3f5f"
            },
            "error_y": {
             "color": "#2a3f5f"
            },
            "marker": {
             "line": {
              "color": "white",
              "width": 0.5
             },
             "pattern": {
              "fillmode": "overlay",
              "size": 10,
              "solidity": 0.2
             }
            },
            "type": "bar"
           }
          ],
          "barpolar": [
           {
            "marker": {
             "line": {
              "color": "white",
              "width": 0.5
             },
             "pattern": {
              "fillmode": "overlay",
              "size": 10,
              "solidity": 0.2
             }
            },
            "type": "barpolar"
           }
          ],
          "carpet": [
           {
            "aaxis": {
             "endlinecolor": "#2a3f5f",
             "gridcolor": "#C8D4E3",
             "linecolor": "#C8D4E3",
             "minorgridcolor": "#C8D4E3",
             "startlinecolor": "#2a3f5f"
            },
            "baxis": {
             "endlinecolor": "#2a3f5f",
             "gridcolor": "#C8D4E3",
             "linecolor": "#C8D4E3",
             "minorgridcolor": "#C8D4E3",
             "startlinecolor": "#2a3f5f"
            },
            "type": "carpet"
           }
          ],
          "choropleth": [
           {
            "colorbar": {
             "outlinewidth": 0,
             "ticks": ""
            },
            "type": "choropleth"
           }
          ],
          "contour": [
           {
            "colorbar": {
             "outlinewidth": 0,
             "ticks": ""
            },
            "colorscale": [
             [
              0,
              "#0d0887"
             ],
             [
              0.1111111111111111,
              "#46039f"
             ],
             [
              0.2222222222222222,
              "#7201a8"
             ],
             [
              0.3333333333333333,
              "#9c179e"
             ],
             [
              0.4444444444444444,
              "#bd3786"
             ],
             [
              0.5555555555555556,
              "#d8576b"
             ],
             [
              0.6666666666666666,
              "#ed7953"
             ],
             [
              0.7777777777777778,
              "#fb9f3a"
             ],
             [
              0.8888888888888888,
              "#fdca26"
             ],
             [
              1,
              "#f0f921"
             ]
            ],
            "type": "contour"
           }
          ],
          "contourcarpet": [
           {
            "colorbar": {
             "outlinewidth": 0,
             "ticks": ""
            },
            "type": "contourcarpet"
           }
          ],
          "heatmap": [
           {
            "colorbar": {
             "outlinewidth": 0,
             "ticks": ""
            },
            "colorscale": [
             [
              0,
              "#0d0887"
             ],
             [
              0.1111111111111111,
              "#46039f"
             ],
             [
              0.2222222222222222,
              "#7201a8"
             ],
             [
              0.3333333333333333,
              "#9c179e"
             ],
             [
              0.4444444444444444,
              "#bd3786"
             ],
             [
              0.5555555555555556,
              "#d8576b"
             ],
             [
              0.6666666666666666,
              "#ed7953"
             ],
             [
              0.7777777777777778,
              "#fb9f3a"
             ],
             [
              0.8888888888888888,
              "#fdca26"
             ],
             [
              1,
              "#f0f921"
             ]
            ],
            "type": "heatmap"
           }
          ],
          "histogram": [
           {
            "marker": {
             "pattern": {
              "fillmode": "overlay",
              "size": 10,
              "solidity": 0.2
             }
            },
            "type": "histogram"
           }
          ],
          "histogram2d": [
           {
            "colorbar": {
             "outlinewidth": 0,
             "ticks": ""
            },
            "colorscale": [
             [
              0,
              "#0d0887"
             ],
             [
              0.1111111111111111,
              "#46039f"
             ],
             [
              0.2222222222222222,
              "#7201a8"
             ],
             [
              0.3333333333333333,
              "#9c179e"
             ],
             [
              0.4444444444444444,
              "#bd3786"
             ],
             [
              0.5555555555555556,
              "#d8576b"
             ],
             [
              0.6666666666666666,
              "#ed7953"
             ],
             [
              0.7777777777777778,
              "#fb9f3a"
             ],
             [
              0.8888888888888888,
              "#fdca26"
             ],
             [
              1,
              "#f0f921"
             ]
            ],
            "type": "histogram2d"
           }
          ],
          "histogram2dcontour": [
           {
            "colorbar": {
             "outlinewidth": 0,
             "ticks": ""
            },
            "colorscale": [
             [
              0,
              "#0d0887"
             ],
             [
              0.1111111111111111,
              "#46039f"
             ],
             [
              0.2222222222222222,
              "#7201a8"
             ],
             [
              0.3333333333333333,
              "#9c179e"
             ],
             [
              0.4444444444444444,
              "#bd3786"
             ],
             [
              0.5555555555555556,
              "#d8576b"
             ],
             [
              0.6666666666666666,
              "#ed7953"
             ],
             [
              0.7777777777777778,
              "#fb9f3a"
             ],
             [
              0.8888888888888888,
              "#fdca26"
             ],
             [
              1,
              "#f0f921"
             ]
            ],
            "type": "histogram2dcontour"
           }
          ],
          "mesh3d": [
           {
            "colorbar": {
             "outlinewidth": 0,
             "ticks": ""
            },
            "type": "mesh3d"
           }
          ],
          "parcoords": [
           {
            "line": {
             "colorbar": {
              "outlinewidth": 0,
              "ticks": ""
             }
            },
            "type": "parcoords"
           }
          ],
          "pie": [
           {
            "automargin": true,
            "type": "pie"
           }
          ],
          "scatter": [
           {
            "fillpattern": {
             "fillmode": "overlay",
             "size": 10,
             "solidity": 0.2
            },
            "type": "scatter"
           }
          ],
          "scatter3d": [
           {
            "line": {
             "colorbar": {
              "outlinewidth": 0,
              "ticks": ""
             }
            },
            "marker": {
             "colorbar": {
              "outlinewidth": 0,
              "ticks": ""
             }
            },
            "type": "scatter3d"
           }
          ],
          "scattercarpet": [
           {
            "marker": {
             "colorbar": {
              "outlinewidth": 0,
              "ticks": ""
             }
            },
            "type": "scattercarpet"
           }
          ],
          "scattergeo": [
           {
            "marker": {
             "colorbar": {
              "outlinewidth": 0,
              "ticks": ""
             }
            },
            "type": "scattergeo"
           }
          ],
          "scattergl": [
           {
            "marker": {
             "colorbar": {
              "outlinewidth": 0,
              "ticks": ""
             }
            },
            "type": "scattergl"
           }
          ],
          "scattermap": [
           {
            "marker": {
             "colorbar": {
              "outlinewidth": 0,
              "ticks": ""
             }
            },
            "type": "scattermap"
           }
          ],
          "scattermapbox": [
           {
            "marker": {
             "colorbar": {
              "outlinewidth": 0,
              "ticks": ""
             }
            },
            "type": "scattermapbox"
           }
          ],
          "scatterpolar": [
           {
            "marker": {
             "colorbar": {
              "outlinewidth": 0,
              "ticks": ""
             }
            },
            "type": "scatterpolar"
           }
          ],
          "scatterpolargl": [
           {
            "marker": {
             "colorbar": {
              "outlinewidth": 0,
              "ticks": ""
             }
            },
            "type": "scatterpolargl"
           }
          ],
          "scatterternary": [
           {
            "marker": {
             "colorbar": {
              "outlinewidth": 0,
              "ticks": ""
             }
            },
            "type": "scatterternary"
           }
          ],
          "surface": [
           {
            "colorbar": {
             "outlinewidth": 0,
             "ticks": ""
            },
            "colorscale": [
             [
              0,
              "#0d0887"
             ],
             [
              0.1111111111111111,
              "#46039f"
             ],
             [
              0.2222222222222222,
              "#7201a8"
             ],
             [
              0.3333333333333333,
              "#9c179e"
             ],
             [
              0.4444444444444444,
              "#bd3786"
             ],
             [
              0.5555555555555556,
              "#d8576b"
             ],
             [
              0.6666666666666666,
              "#ed7953"
             ],
             [
              0.7777777777777778,
              "#fb9f3a"
             ],
             [
              0.8888888888888888,
              "#fdca26"
             ],
             [
              1,
              "#f0f921"
             ]
            ],
            "type": "surface"
           }
          ],
          "table": [
           {
            "cells": {
             "fill": {
              "color": "#EBF0F8"
             },
             "line": {
              "color": "white"
             }
            },
            "header": {
             "fill": {
              "color": "#C8D4E3"
             },
             "line": {
              "color": "white"
             }
            },
            "type": "table"
           }
          ]
         },
         "layout": {
          "annotationdefaults": {
           "arrowcolor": "#2a3f5f",
           "arrowhead": 0,
           "arrowwidth": 1
          },
          "autotypenumbers": "strict",
          "coloraxis": {
           "colorbar": {
            "outlinewidth": 0,
            "ticks": ""
           }
          },
          "colorscale": {
           "diverging": [
            [
             0,
             "#8e0152"
            ],
            [
             0.1,
             "#c51b7d"
            ],
            [
             0.2,
             "#de77ae"
            ],
            [
             0.3,
             "#f1b6da"
            ],
            [
             0.4,
             "#fde0ef"
            ],
            [
             0.5,
             "#f7f7f7"
            ],
            [
             0.6,
             "#e6f5d0"
            ],
            [
             0.7,
             "#b8e186"
            ],
            [
             0.8,
             "#7fbc41"
            ],
            [
             0.9,
             "#4d9221"
            ],
            [
             1,
             "#276419"
            ]
           ],
           "sequential": [
            [
             0,
             "#0d0887"
            ],
            [
             0.1111111111111111,
             "#46039f"
            ],
            [
             0.2222222222222222,
             "#7201a8"
            ],
            [
             0.3333333333333333,
             "#9c179e"
            ],
            [
             0.4444444444444444,
             "#bd3786"
            ],
            [
             0.5555555555555556,
             "#d8576b"
            ],
            [
             0.6666666666666666,
             "#ed7953"
            ],
            [
             0.7777777777777778,
             "#fb9f3a"
            ],
            [
             0.8888888888888888,
             "#fdca26"
            ],
            [
             1,
             "#f0f921"
            ]
           ],
           "sequentialminus": [
            [
             0,
             "#0d0887"
            ],
            [
             0.1111111111111111,
             "#46039f"
            ],
            [
             0.2222222222222222,
             "#7201a8"
            ],
            [
             0.3333333333333333,
             "#9c179e"
            ],
            [
             0.4444444444444444,
             "#bd3786"
            ],
            [
             0.5555555555555556,
             "#d8576b"
            ],
            [
             0.6666666666666666,
             "#ed7953"
            ],
            [
             0.7777777777777778,
             "#fb9f3a"
            ],
            [
             0.8888888888888888,
             "#fdca26"
            ],
            [
             1,
             "#f0f921"
            ]
           ]
          },
          "colorway": [
           "#636efa",
           "#EF553B",
           "#00cc96",
           "#ab63fa",
           "#FFA15A",
           "#19d3f3",
           "#FF6692",
           "#B6E880",
           "#FF97FF",
           "#FECB52"
          ],
          "font": {
           "color": "#2a3f5f"
          },
          "geo": {
           "bgcolor": "white",
           "lakecolor": "white",
           "landcolor": "white",
           "showlakes": true,
           "showland": true,
           "subunitcolor": "#C8D4E3"
          },
          "hoverlabel": {
           "align": "left"
          },
          "hovermode": "closest",
          "mapbox": {
           "style": "light"
          },
          "paper_bgcolor": "white",
          "plot_bgcolor": "white",
          "polar": {
           "angularaxis": {
            "gridcolor": "#EBF0F8",
            "linecolor": "#EBF0F8",
            "ticks": ""
           },
           "bgcolor": "white",
           "radialaxis": {
            "gridcolor": "#EBF0F8",
            "linecolor": "#EBF0F8",
            "ticks": ""
           }
          },
          "scene": {
           "xaxis": {
            "backgroundcolor": "white",
            "gridcolor": "#DFE8F3",
            "gridwidth": 2,
            "linecolor": "#EBF0F8",
            "showbackground": true,
            "ticks": "",
            "zerolinecolor": "#EBF0F8"
           },
           "yaxis": {
            "backgroundcolor": "white",
            "gridcolor": "#DFE8F3",
            "gridwidth": 2,
            "linecolor": "#EBF0F8",
            "showbackground": true,
            "ticks": "",
            "zerolinecolor": "#EBF0F8"
           },
           "zaxis": {
            "backgroundcolor": "white",
            "gridcolor": "#DFE8F3",
            "gridwidth": 2,
            "linecolor": "#EBF0F8",
            "showbackground": true,
            "ticks": "",
            "zerolinecolor": "#EBF0F8"
           }
          },
          "shapedefaults": {
           "line": {
            "color": "#2a3f5f"
           }
          },
          "ternary": {
           "aaxis": {
            "gridcolor": "#DFE8F3",
            "linecolor": "#A2B1C6",
            "ticks": ""
           },
           "baxis": {
            "gridcolor": "#DFE8F3",
            "linecolor": "#A2B1C6",
            "ticks": ""
           },
           "bgcolor": "white",
           "caxis": {
            "gridcolor": "#DFE8F3",
            "linecolor": "#A2B1C6",
            "ticks": ""
           }
          },
          "title": {
           "x": 0.05
          },
          "xaxis": {
           "automargin": true,
           "gridcolor": "#EBF0F8",
           "linecolor": "#EBF0F8",
           "ticks": "",
           "title": {
            "standoff": 15
           },
           "zerolinecolor": "#EBF0F8",
           "zerolinewidth": 2
          },
          "yaxis": {
           "automargin": true,
           "gridcolor": "#EBF0F8",
           "linecolor": "#EBF0F8",
           "ticks": "",
           "title": {
            "standoff": 15
           },
           "zerolinecolor": "#EBF0F8",
           "zerolinewidth": 2
          }
         }
        },
        "title": {
         "text": "Distribution of ActionGrouped",
         "x": 0.5
        },
        "xaxis": {
         "anchor": "y",
         "domain": [
          0,
          1
         ],
         "title": {}
        },
        "yaxis": {
         "anchor": "x",
         "domain": [
          0,
          1
         ],
         "title": {
          "text": "Count"
         }
        }
       }
      }
     },
     "metadata": {},
     "output_type": "display_data"
    },
    {
     "name": "stdout",
     "output_type": "stream",
     "text": [
      "\n",
      "ActionGrouped Distribution:\n",
      "                         Count  Percentage\n",
      "ActionGrouped                             \n",
      "NaN                    9460773       99.41\n",
      "ContainAccount           53760        0.56\n",
      "IsolateDevice             2237        0.02\n",
      "Stop Virtual Machines       67        0.00\n",
      "\n",
      "Total unique values: 3\n",
      "Null values: 9460773 (99.41%)\n",
      "------------------------------------------------------------\n"
     ]
    },
    {
     "data": {
      "application/vnd.plotly.v1+json": {
       "config": {
        "plotlyServerURL": "https://plot.ly"
       },
       "data": [
        {
         "customdata": {
          "bdata": "FK5H4XoUQ0AUrkfhehQ5QM3MzMzMTDhAH4XrUbgeDUBmZmZmZmYMQFK4HoXrUQBASOF6FK5H+T/hehSuR+HaP2ZmZmZmZtY/pHA9Ctej0D9SuB6F61HIP+xRuB6F68E/uB6F61G4vj+amZmZmZm5P7gehetRuK4/exSuR+F6hD8=",
          "dtype": "f8",
          "shape": "16, 1"
         },
         "hovertemplate": "ActionGranular=%{x}<br>Count=%{text}<br>Percentage=%{customdata[0]}<extra></extra>",
         "legendgroup": "",
         "marker": {
          "color": "#636efa",
          "pattern": {
           "shape": ""
          }
         },
         "name": "",
         "orientation": "v",
         "showlegend": false,
         "text": {
          "bdata": "AAAAAEDk1EAAAAAAgHXLQAAAAACAm8pAAAAAAADsn0AAAAAAAByfQAAAAAAA3JFAAAAAAACwi0AAAAAAAEBtQAAAAAAAQGhAAAAAAABAYkAAAAAAAMBaQAAAAAAAQFRAAAAAAADAUEAAAAAAAIBLQAAAAAAAgEFAAAAAAAAAHEA=",
          "dtype": "f8"
         },
         "textposition": "outside",
         "type": "bar",
         "x": [
          "update stsrefreshtokenvalidfrom timestamp.",
          "account password changed",
          "change user password.",
          "isolateresponse",
          "account disabled",
          "disable account.",
          "reset user password.",
          "forcepasswordresetremediation",
          "quarantinefile",
          "msecidentitiesconfirmusercompromised",
          "disableuser",
          "msecidentitiessuspenduser",
          "delete virtualmachines",
          "account deleted",
          "delete user.",
          "set force change user password."
         ],
         "xaxis": "x",
         "y": {
          "bdata": "kVPrNjc1+wfHB3cEdgPqAMIAkgBrAFEAQwA3ACMABwA=",
          "dtype": "i2"
         },
         "yaxis": "y"
        }
       ],
       "layout": {
        "barmode": "relative",
        "height": 500,
        "legend": {
         "tracegroupgap": 0
        },
        "margin": {
         "b": 100
        },
        "showlegend": false,
        "template": {
         "data": {
          "bar": [
           {
            "error_x": {
             "color": "#2a3f5f"
            },
            "error_y": {
             "color": "#2a3f5f"
            },
            "marker": {
             "line": {
              "color": "white",
              "width": 0.5
             },
             "pattern": {
              "fillmode": "overlay",
              "size": 10,
              "solidity": 0.2
             }
            },
            "type": "bar"
           }
          ],
          "barpolar": [
           {
            "marker": {
             "line": {
              "color": "white",
              "width": 0.5
             },
             "pattern": {
              "fillmode": "overlay",
              "size": 10,
              "solidity": 0.2
             }
            },
            "type": "barpolar"
           }
          ],
          "carpet": [
           {
            "aaxis": {
             "endlinecolor": "#2a3f5f",
             "gridcolor": "#C8D4E3",
             "linecolor": "#C8D4E3",
             "minorgridcolor": "#C8D4E3",
             "startlinecolor": "#2a3f5f"
            },
            "baxis": {
             "endlinecolor": "#2a3f5f",
             "gridcolor": "#C8D4E3",
             "linecolor": "#C8D4E3",
             "minorgridcolor": "#C8D4E3",
             "startlinecolor": "#2a3f5f"
            },
            "type": "carpet"
           }
          ],
          "choropleth": [
           {
            "colorbar": {
             "outlinewidth": 0,
             "ticks": ""
            },
            "type": "choropleth"
           }
          ],
          "contour": [
           {
            "colorbar": {
             "outlinewidth": 0,
             "ticks": ""
            },
            "colorscale": [
             [
              0,
              "#0d0887"
             ],
             [
              0.1111111111111111,
              "#46039f"
             ],
             [
              0.2222222222222222,
              "#7201a8"
             ],
             [
              0.3333333333333333,
              "#9c179e"
             ],
             [
              0.4444444444444444,
              "#bd3786"
             ],
             [
              0.5555555555555556,
              "#d8576b"
             ],
             [
              0.6666666666666666,
              "#ed7953"
             ],
             [
              0.7777777777777778,
              "#fb9f3a"
             ],
             [
              0.8888888888888888,
              "#fdca26"
             ],
             [
              1,
              "#f0f921"
             ]
            ],
            "type": "contour"
           }
          ],
          "contourcarpet": [
           {
            "colorbar": {
             "outlinewidth": 0,
             "ticks": ""
            },
            "type": "contourcarpet"
           }
          ],
          "heatmap": [
           {
            "colorbar": {
             "outlinewidth": 0,
             "ticks": ""
            },
            "colorscale": [
             [
              0,
              "#0d0887"
             ],
             [
              0.1111111111111111,
              "#46039f"
             ],
             [
              0.2222222222222222,
              "#7201a8"
             ],
             [
              0.3333333333333333,
              "#9c179e"
             ],
             [
              0.4444444444444444,
              "#bd3786"
             ],
             [
              0.5555555555555556,
              "#d8576b"
             ],
             [
              0.6666666666666666,
              "#ed7953"
             ],
             [
              0.7777777777777778,
              "#fb9f3a"
             ],
             [
              0.8888888888888888,
              "#fdca26"
             ],
             [
              1,
              "#f0f921"
             ]
            ],
            "type": "heatmap"
           }
          ],
          "histogram": [
           {
            "marker": {
             "pattern": {
              "fillmode": "overlay",
              "size": 10,
              "solidity": 0.2
             }
            },
            "type": "histogram"
           }
          ],
          "histogram2d": [
           {
            "colorbar": {
             "outlinewidth": 0,
             "ticks": ""
            },
            "colorscale": [
             [
              0,
              "#0d0887"
             ],
             [
              0.1111111111111111,
              "#46039f"
             ],
             [
              0.2222222222222222,
              "#7201a8"
             ],
             [
              0.3333333333333333,
              "#9c179e"
             ],
             [
              0.4444444444444444,
              "#bd3786"
             ],
             [
              0.5555555555555556,
              "#d8576b"
             ],
             [
              0.6666666666666666,
              "#ed7953"
             ],
             [
              0.7777777777777778,
              "#fb9f3a"
             ],
             [
              0.8888888888888888,
              "#fdca26"
             ],
             [
              1,
              "#f0f921"
             ]
            ],
            "type": "histogram2d"
           }
          ],
          "histogram2dcontour": [
           {
            "colorbar": {
             "outlinewidth": 0,
             "ticks": ""
            },
            "colorscale": [
             [
              0,
              "#0d0887"
             ],
             [
              0.1111111111111111,
              "#46039f"
             ],
             [
              0.2222222222222222,
              "#7201a8"
             ],
             [
              0.3333333333333333,
              "#9c179e"
             ],
             [
              0.4444444444444444,
              "#bd3786"
             ],
             [
              0.5555555555555556,
              "#d8576b"
             ],
             [
              0.6666666666666666,
              "#ed7953"
             ],
             [
              0.7777777777777778,
              "#fb9f3a"
             ],
             [
              0.8888888888888888,
              "#fdca26"
             ],
             [
              1,
              "#f0f921"
             ]
            ],
            "type": "histogram2dcontour"
           }
          ],
          "mesh3d": [
           {
            "colorbar": {
             "outlinewidth": 0,
             "ticks": ""
            },
            "type": "mesh3d"
           }
          ],
          "parcoords": [
           {
            "line": {
             "colorbar": {
              "outlinewidth": 0,
              "ticks": ""
             }
            },
            "type": "parcoords"
           }
          ],
          "pie": [
           {
            "automargin": true,
            "type": "pie"
           }
          ],
          "scatter": [
           {
            "fillpattern": {
             "fillmode": "overlay",
             "size": 10,
             "solidity": 0.2
            },
            "type": "scatter"
           }
          ],
          "scatter3d": [
           {
            "line": {
             "colorbar": {
              "outlinewidth": 0,
              "ticks": ""
             }
            },
            "marker": {
             "colorbar": {
              "outlinewidth": 0,
              "ticks": ""
             }
            },
            "type": "scatter3d"
           }
          ],
          "scattercarpet": [
           {
            "marker": {
             "colorbar": {
              "outlinewidth": 0,
              "ticks": ""
             }
            },
            "type": "scattercarpet"
           }
          ],
          "scattergeo": [
           {
            "marker": {
             "colorbar": {
              "outlinewidth": 0,
              "ticks": ""
             }
            },
            "type": "scattergeo"
           }
          ],
          "scattergl": [
           {
            "marker": {
             "colorbar": {
              "outlinewidth": 0,
              "ticks": ""
             }
            },
            "type": "scattergl"
           }
          ],
          "scattermap": [
           {
            "marker": {
             "colorbar": {
              "outlinewidth": 0,
              "ticks": ""
             }
            },
            "type": "scattermap"
           }
          ],
          "scattermapbox": [
           {
            "marker": {
             "colorbar": {
              "outlinewidth": 0,
              "ticks": ""
             }
            },
            "type": "scattermapbox"
           }
          ],
          "scatterpolar": [
           {
            "marker": {
             "colorbar": {
              "outlinewidth": 0,
              "ticks": ""
             }
            },
            "type": "scatterpolar"
           }
          ],
          "scatterpolargl": [
           {
            "marker": {
             "colorbar": {
              "outlinewidth": 0,
              "ticks": ""
             }
            },
            "type": "scatterpolargl"
           }
          ],
          "scatterternary": [
           {
            "marker": {
             "colorbar": {
              "outlinewidth": 0,
              "ticks": ""
             }
            },
            "type": "scatterternary"
           }
          ],
          "surface": [
           {
            "colorbar": {
             "outlinewidth": 0,
             "ticks": ""
            },
            "colorscale": [
             [
              0,
              "#0d0887"
             ],
             [
              0.1111111111111111,
              "#46039f"
             ],
             [
              0.2222222222222222,
              "#7201a8"
             ],
             [
              0.3333333333333333,
              "#9c179e"
             ],
             [
              0.4444444444444444,
              "#bd3786"
             ],
             [
              0.5555555555555556,
              "#d8576b"
             ],
             [
              0.6666666666666666,
              "#ed7953"
             ],
             [
              0.7777777777777778,
              "#fb9f3a"
             ],
             [
              0.8888888888888888,
              "#fdca26"
             ],
             [
              1,
              "#f0f921"
             ]
            ],
            "type": "surface"
           }
          ],
          "table": [
           {
            "cells": {
             "fill": {
              "color": "#EBF0F8"
             },
             "line": {
              "color": "white"
             }
            },
            "header": {
             "fill": {
              "color": "#C8D4E3"
             },
             "line": {
              "color": "white"
             }
            },
            "type": "table"
           }
          ]
         },
         "layout": {
          "annotationdefaults": {
           "arrowcolor": "#2a3f5f",
           "arrowhead": 0,
           "arrowwidth": 1
          },
          "autotypenumbers": "strict",
          "coloraxis": {
           "colorbar": {
            "outlinewidth": 0,
            "ticks": ""
           }
          },
          "colorscale": {
           "diverging": [
            [
             0,
             "#8e0152"
            ],
            [
             0.1,
             "#c51b7d"
            ],
            [
             0.2,
             "#de77ae"
            ],
            [
             0.3,
             "#f1b6da"
            ],
            [
             0.4,
             "#fde0ef"
            ],
            [
             0.5,
             "#f7f7f7"
            ],
            [
             0.6,
             "#e6f5d0"
            ],
            [
             0.7,
             "#b8e186"
            ],
            [
             0.8,
             "#7fbc41"
            ],
            [
             0.9,
             "#4d9221"
            ],
            [
             1,
             "#276419"
            ]
           ],
           "sequential": [
            [
             0,
             "#0d0887"
            ],
            [
             0.1111111111111111,
             "#46039f"
            ],
            [
             0.2222222222222222,
             "#7201a8"
            ],
            [
             0.3333333333333333,
             "#9c179e"
            ],
            [
             0.4444444444444444,
             "#bd3786"
            ],
            [
             0.5555555555555556,
             "#d8576b"
            ],
            [
             0.6666666666666666,
             "#ed7953"
            ],
            [
             0.7777777777777778,
             "#fb9f3a"
            ],
            [
             0.8888888888888888,
             "#fdca26"
            ],
            [
             1,
             "#f0f921"
            ]
           ],
           "sequentialminus": [
            [
             0,
             "#0d0887"
            ],
            [
             0.1111111111111111,
             "#46039f"
            ],
            [
             0.2222222222222222,
             "#7201a8"
            ],
            [
             0.3333333333333333,
             "#9c179e"
            ],
            [
             0.4444444444444444,
             "#bd3786"
            ],
            [
             0.5555555555555556,
             "#d8576b"
            ],
            [
             0.6666666666666666,
             "#ed7953"
            ],
            [
             0.7777777777777778,
             "#fb9f3a"
            ],
            [
             0.8888888888888888,
             "#fdca26"
            ],
            [
             1,
             "#f0f921"
            ]
           ]
          },
          "colorway": [
           "#636efa",
           "#EF553B",
           "#00cc96",
           "#ab63fa",
           "#FFA15A",
           "#19d3f3",
           "#FF6692",
           "#B6E880",
           "#FF97FF",
           "#FECB52"
          ],
          "font": {
           "color": "#2a3f5f"
          },
          "geo": {
           "bgcolor": "white",
           "lakecolor": "white",
           "landcolor": "white",
           "showlakes": true,
           "showland": true,
           "subunitcolor": "#C8D4E3"
          },
          "hoverlabel": {
           "align": "left"
          },
          "hovermode": "closest",
          "mapbox": {
           "style": "light"
          },
          "paper_bgcolor": "white",
          "plot_bgcolor": "white",
          "polar": {
           "angularaxis": {
            "gridcolor": "#EBF0F8",
            "linecolor": "#EBF0F8",
            "ticks": ""
           },
           "bgcolor": "white",
           "radialaxis": {
            "gridcolor": "#EBF0F8",
            "linecolor": "#EBF0F8",
            "ticks": ""
           }
          },
          "scene": {
           "xaxis": {
            "backgroundcolor": "white",
            "gridcolor": "#DFE8F3",
            "gridwidth": 2,
            "linecolor": "#EBF0F8",
            "showbackground": true,
            "ticks": "",
            "zerolinecolor": "#EBF0F8"
           },
           "yaxis": {
            "backgroundcolor": "white",
            "gridcolor": "#DFE8F3",
            "gridwidth": 2,
            "linecolor": "#EBF0F8",
            "showbackground": true,
            "ticks": "",
            "zerolinecolor": "#EBF0F8"
           },
           "zaxis": {
            "backgroundcolor": "white",
            "gridcolor": "#DFE8F3",
            "gridwidth": 2,
            "linecolor": "#EBF0F8",
            "showbackground": true,
            "ticks": "",
            "zerolinecolor": "#EBF0F8"
           }
          },
          "shapedefaults": {
           "line": {
            "color": "#2a3f5f"
           }
          },
          "ternary": {
           "aaxis": {
            "gridcolor": "#DFE8F3",
            "linecolor": "#A2B1C6",
            "ticks": ""
           },
           "baxis": {
            "gridcolor": "#DFE8F3",
            "linecolor": "#A2B1C6",
            "ticks": ""
           },
           "bgcolor": "white",
           "caxis": {
            "gridcolor": "#DFE8F3",
            "linecolor": "#A2B1C6",
            "ticks": ""
           }
          },
          "title": {
           "x": 0.05
          },
          "xaxis": {
           "automargin": true,
           "gridcolor": "#EBF0F8",
           "linecolor": "#EBF0F8",
           "ticks": "",
           "title": {
            "standoff": 15
           },
           "zerolinecolor": "#EBF0F8",
           "zerolinewidth": 2
          },
          "yaxis": {
           "automargin": true,
           "gridcolor": "#EBF0F8",
           "linecolor": "#EBF0F8",
           "ticks": "",
           "title": {
            "standoff": 15
           },
           "zerolinecolor": "#EBF0F8",
           "zerolinewidth": 2
          }
         }
        },
        "title": {
         "text": "Distribution of ActionGranular",
         "x": 0.5
        },
        "xaxis": {
         "anchor": "y",
         "domain": [
          0,
          1
         ],
         "tickangle": -45,
         "title": {}
        },
        "yaxis": {
         "anchor": "x",
         "domain": [
          0,
          1
         ],
         "title": {
          "text": "Count"
         }
        }
       }
      }
     },
     "metadata": {},
     "output_type": "display_data"
    },
    {
     "name": "stdout",
     "output_type": "stream",
     "text": [
      "\n",
      "ActionGranular Distribution:\n",
      "                                              Count  Percentage\n",
      "ActionGranular                                                 \n",
      "NaN                                         9460773       99.41\n",
      "update stsrefreshtokenvalidfrom timestamp.    21393        0.22\n",
      "account password changed                      14059        0.15\n",
      "change user password.                         13623        0.14\n",
      "isolateresponse                                2043        0.02\n",
      "account disabled                               1991        0.02\n",
      "disable account.                               1143        0.01\n",
      "reset user password.                            886        0.01\n",
      "forcepasswordresetremediation                   234        0.00\n",
      "quarantinefile                                  194        0.00\n",
      "msecidentitiesconfirmusercompromised            146        0.00\n",
      "disableuser                                     107        0.00\n",
      "msecidentitiessuspenduser                        81        0.00\n",
      "delete virtualmachines                           67        0.00\n",
      "account deleted                                  55        0.00\n",
      "delete user.                                     35        0.00\n",
      "set force change user password.                   7        0.00\n",
      "\n",
      "Total unique values: 16\n",
      "Null values: 9460773 (99.41%)\n",
      "------------------------------------------------------------\n",
      "\n",
      "Correlation between Action Level targets:\n"
     ]
    },
    {
     "data": {
      "application/vnd.plotly.v1+json": {
       "config": {
        "plotlyServerURL": "https://plot.ly"
       },
       "data": [
        {
         "coloraxis": "coloraxis",
         "hovertemplate": "x: %{x}<br>y: %{y}<br>color: %{z}<extra></extra>",
         "name": "0",
         "type": "heatmap",
         "x": [
          "ActionGrouped",
          "ActionGranular"
         ],
         "xaxis": "x",
         "y": [
          "ActionGrouped",
          "ActionGranular"
         ],
         "yaxis": "y",
         "z": [
          [
           1,
           1
          ],
          [
           1,
           1
          ]
         ]
        }
       ],
       "layout": {
        "coloraxis": {
         "colorscale": [
          [
           0,
           "rgb(103,0,31)"
          ],
          [
           0.1,
           "rgb(178,24,43)"
          ],
          [
           0.2,
           "rgb(214,96,77)"
          ],
          [
           0.3,
           "rgb(244,165,130)"
          ],
          [
           0.4,
           "rgb(253,219,199)"
          ],
          [
           0.5,
           "rgb(247,247,247)"
          ],
          [
           0.6,
           "rgb(209,229,240)"
          ],
          [
           0.7,
           "rgb(146,197,222)"
          ],
          [
           0.8,
           "rgb(67,147,195)"
          ],
          [
           0.9,
           "rgb(33,102,172)"
          ],
          [
           1,
           "rgb(5,48,97)"
          ]
         ]
        },
        "height": 600,
        "template": {
         "data": {
          "bar": [
           {
            "error_x": {
             "color": "#2a3f5f"
            },
            "error_y": {
             "color": "#2a3f5f"
            },
            "marker": {
             "line": {
              "color": "#E5ECF6",
              "width": 0.5
             },
             "pattern": {
              "fillmode": "overlay",
              "size": 10,
              "solidity": 0.2
             }
            },
            "type": "bar"
           }
          ],
          "barpolar": [
           {
            "marker": {
             "line": {
              "color": "#E5ECF6",
              "width": 0.5
             },
             "pattern": {
              "fillmode": "overlay",
              "size": 10,
              "solidity": 0.2
             }
            },
            "type": "barpolar"
           }
          ],
          "carpet": [
           {
            "aaxis": {
             "endlinecolor": "#2a3f5f",
             "gridcolor": "white",
             "linecolor": "white",
             "minorgridcolor": "white",
             "startlinecolor": "#2a3f5f"
            },
            "baxis": {
             "endlinecolor": "#2a3f5f",
             "gridcolor": "white",
             "linecolor": "white",
             "minorgridcolor": "white",
             "startlinecolor": "#2a3f5f"
            },
            "type": "carpet"
           }
          ],
          "choropleth": [
           {
            "colorbar": {
             "outlinewidth": 0,
             "ticks": ""
            },
            "type": "choropleth"
           }
          ],
          "contour": [
           {
            "colorbar": {
             "outlinewidth": 0,
             "ticks": ""
            },
            "colorscale": [
             [
              0,
              "#0d0887"
             ],
             [
              0.1111111111111111,
              "#46039f"
             ],
             [
              0.2222222222222222,
              "#7201a8"
             ],
             [
              0.3333333333333333,
              "#9c179e"
             ],
             [
              0.4444444444444444,
              "#bd3786"
             ],
             [
              0.5555555555555556,
              "#d8576b"
             ],
             [
              0.6666666666666666,
              "#ed7953"
             ],
             [
              0.7777777777777778,
              "#fb9f3a"
             ],
             [
              0.8888888888888888,
              "#fdca26"
             ],
             [
              1,
              "#f0f921"
             ]
            ],
            "type": "contour"
           }
          ],
          "contourcarpet": [
           {
            "colorbar": {
             "outlinewidth": 0,
             "ticks": ""
            },
            "type": "contourcarpet"
           }
          ],
          "heatmap": [
           {
            "colorbar": {
             "outlinewidth": 0,
             "ticks": ""
            },
            "colorscale": [
             [
              0,
              "#0d0887"
             ],
             [
              0.1111111111111111,
              "#46039f"
             ],
             [
              0.2222222222222222,
              "#7201a8"
             ],
             [
              0.3333333333333333,
              "#9c179e"
             ],
             [
              0.4444444444444444,
              "#bd3786"
             ],
             [
              0.5555555555555556,
              "#d8576b"
             ],
             [
              0.6666666666666666,
              "#ed7953"
             ],
             [
              0.7777777777777778,
              "#fb9f3a"
             ],
             [
              0.8888888888888888,
              "#fdca26"
             ],
             [
              1,
              "#f0f921"
             ]
            ],
            "type": "heatmap"
           }
          ],
          "histogram": [
           {
            "marker": {
             "pattern": {
              "fillmode": "overlay",
              "size": 10,
              "solidity": 0.2
             }
            },
            "type": "histogram"
           }
          ],
          "histogram2d": [
           {
            "colorbar": {
             "outlinewidth": 0,
             "ticks": ""
            },
            "colorscale": [
             [
              0,
              "#0d0887"
             ],
             [
              0.1111111111111111,
              "#46039f"
             ],
             [
              0.2222222222222222,
              "#7201a8"
             ],
             [
              0.3333333333333333,
              "#9c179e"
             ],
             [
              0.4444444444444444,
              "#bd3786"
             ],
             [
              0.5555555555555556,
              "#d8576b"
             ],
             [
              0.6666666666666666,
              "#ed7953"
             ],
             [
              0.7777777777777778,
              "#fb9f3a"
             ],
             [
              0.8888888888888888,
              "#fdca26"
             ],
             [
              1,
              "#f0f921"
             ]
            ],
            "type": "histogram2d"
           }
          ],
          "histogram2dcontour": [
           {
            "colorbar": {
             "outlinewidth": 0,
             "ticks": ""
            },
            "colorscale": [
             [
              0,
              "#0d0887"
             ],
             [
              0.1111111111111111,
              "#46039f"
             ],
             [
              0.2222222222222222,
              "#7201a8"
             ],
             [
              0.3333333333333333,
              "#9c179e"
             ],
             [
              0.4444444444444444,
              "#bd3786"
             ],
             [
              0.5555555555555556,
              "#d8576b"
             ],
             [
              0.6666666666666666,
              "#ed7953"
             ],
             [
              0.7777777777777778,
              "#fb9f3a"
             ],
             [
              0.8888888888888888,
              "#fdca26"
             ],
             [
              1,
              "#f0f921"
             ]
            ],
            "type": "histogram2dcontour"
           }
          ],
          "mesh3d": [
           {
            "colorbar": {
             "outlinewidth": 0,
             "ticks": ""
            },
            "type": "mesh3d"
           }
          ],
          "parcoords": [
           {
            "line": {
             "colorbar": {
              "outlinewidth": 0,
              "ticks": ""
             }
            },
            "type": "parcoords"
           }
          ],
          "pie": [
           {
            "automargin": true,
            "type": "pie"
           }
          ],
          "scatter": [
           {
            "fillpattern": {
             "fillmode": "overlay",
             "size": 10,
             "solidity": 0.2
            },
            "type": "scatter"
           }
          ],
          "scatter3d": [
           {
            "line": {
             "colorbar": {
              "outlinewidth": 0,
              "ticks": ""
             }
            },
            "marker": {
             "colorbar": {
              "outlinewidth": 0,
              "ticks": ""
             }
            },
            "type": "scatter3d"
           }
          ],
          "scattercarpet": [
           {
            "marker": {
             "colorbar": {
              "outlinewidth": 0,
              "ticks": ""
             }
            },
            "type": "scattercarpet"
           }
          ],
          "scattergeo": [
           {
            "marker": {
             "colorbar": {
              "outlinewidth": 0,
              "ticks": ""
             }
            },
            "type": "scattergeo"
           }
          ],
          "scattergl": [
           {
            "marker": {
             "colorbar": {
              "outlinewidth": 0,
              "ticks": ""
             }
            },
            "type": "scattergl"
           }
          ],
          "scattermap": [
           {
            "marker": {
             "colorbar": {
              "outlinewidth": 0,
              "ticks": ""
             }
            },
            "type": "scattermap"
           }
          ],
          "scattermapbox": [
           {
            "marker": {
             "colorbar": {
              "outlinewidth": 0,
              "ticks": ""
             }
            },
            "type": "scattermapbox"
           }
          ],
          "scatterpolar": [
           {
            "marker": {
             "colorbar": {
              "outlinewidth": 0,
              "ticks": ""
             }
            },
            "type": "scatterpolar"
           }
          ],
          "scatterpolargl": [
           {
            "marker": {
             "colorbar": {
              "outlinewidth": 0,
              "ticks": ""
             }
            },
            "type": "scatterpolargl"
           }
          ],
          "scatterternary": [
           {
            "marker": {
             "colorbar": {
              "outlinewidth": 0,
              "ticks": ""
             }
            },
            "type": "scatterternary"
           }
          ],
          "surface": [
           {
            "colorbar": {
             "outlinewidth": 0,
             "ticks": ""
            },
            "colorscale": [
             [
              0,
              "#0d0887"
             ],
             [
              0.1111111111111111,
              "#46039f"
             ],
             [
              0.2222222222222222,
              "#7201a8"
             ],
             [
              0.3333333333333333,
              "#9c179e"
             ],
             [
              0.4444444444444444,
              "#bd3786"
             ],
             [
              0.5555555555555556,
              "#d8576b"
             ],
             [
              0.6666666666666666,
              "#ed7953"
             ],
             [
              0.7777777777777778,
              "#fb9f3a"
             ],
             [
              0.8888888888888888,
              "#fdca26"
             ],
             [
              1,
              "#f0f921"
             ]
            ],
            "type": "surface"
           }
          ],
          "table": [
           {
            "cells": {
             "fill": {
              "color": "#EBF0F8"
             },
             "line": {
              "color": "white"
             }
            },
            "header": {
             "fill": {
              "color": "#C8D4E3"
             },
             "line": {
              "color": "white"
             }
            },
            "type": "table"
           }
          ]
         },
         "layout": {
          "annotationdefaults": {
           "arrowcolor": "#2a3f5f",
           "arrowhead": 0,
           "arrowwidth": 1
          },
          "autotypenumbers": "strict",
          "coloraxis": {
           "colorbar": {
            "outlinewidth": 0,
            "ticks": ""
           }
          },
          "colorscale": {
           "diverging": [
            [
             0,
             "#8e0152"
            ],
            [
             0.1,
             "#c51b7d"
            ],
            [
             0.2,
             "#de77ae"
            ],
            [
             0.3,
             "#f1b6da"
            ],
            [
             0.4,
             "#fde0ef"
            ],
            [
             0.5,
             "#f7f7f7"
            ],
            [
             0.6,
             "#e6f5d0"
            ],
            [
             0.7,
             "#b8e186"
            ],
            [
             0.8,
             "#7fbc41"
            ],
            [
             0.9,
             "#4d9221"
            ],
            [
             1,
             "#276419"
            ]
           ],
           "sequential": [
            [
             0,
             "#0d0887"
            ],
            [
             0.1111111111111111,
             "#46039f"
            ],
            [
             0.2222222222222222,
             "#7201a8"
            ],
            [
             0.3333333333333333,
             "#9c179e"
            ],
            [
             0.4444444444444444,
             "#bd3786"
            ],
            [
             0.5555555555555556,
             "#d8576b"
            ],
            [
             0.6666666666666666,
             "#ed7953"
            ],
            [
             0.7777777777777778,
             "#fb9f3a"
            ],
            [
             0.8888888888888888,
             "#fdca26"
            ],
            [
             1,
             "#f0f921"
            ]
           ],
           "sequentialminus": [
            [
             0,
             "#0d0887"
            ],
            [
             0.1111111111111111,
             "#46039f"
            ],
            [
             0.2222222222222222,
             "#7201a8"
            ],
            [
             0.3333333333333333,
             "#9c179e"
            ],
            [
             0.4444444444444444,
             "#bd3786"
            ],
            [
             0.5555555555555556,
             "#d8576b"
            ],
            [
             0.6666666666666666,
             "#ed7953"
            ],
            [
             0.7777777777777778,
             "#fb9f3a"
            ],
            [
             0.8888888888888888,
             "#fdca26"
            ],
            [
             1,
             "#f0f921"
            ]
           ]
          },
          "colorway": [
           "#636efa",
           "#EF553B",
           "#00cc96",
           "#ab63fa",
           "#FFA15A",
           "#19d3f3",
           "#FF6692",
           "#B6E880",
           "#FF97FF",
           "#FECB52"
          ],
          "font": {
           "color": "#2a3f5f"
          },
          "geo": {
           "bgcolor": "white",
           "lakecolor": "white",
           "landcolor": "#E5ECF6",
           "showlakes": true,
           "showland": true,
           "subunitcolor": "white"
          },
          "hoverlabel": {
           "align": "left"
          },
          "hovermode": "closest",
          "mapbox": {
           "style": "light"
          },
          "paper_bgcolor": "white",
          "plot_bgcolor": "#E5ECF6",
          "polar": {
           "angularaxis": {
            "gridcolor": "white",
            "linecolor": "white",
            "ticks": ""
           },
           "bgcolor": "#E5ECF6",
           "radialaxis": {
            "gridcolor": "white",
            "linecolor": "white",
            "ticks": ""
           }
          },
          "scene": {
           "xaxis": {
            "backgroundcolor": "#E5ECF6",
            "gridcolor": "white",
            "gridwidth": 2,
            "linecolor": "white",
            "showbackground": true,
            "ticks": "",
            "zerolinecolor": "white"
           },
           "yaxis": {
            "backgroundcolor": "#E5ECF6",
            "gridcolor": "white",
            "gridwidth": 2,
            "linecolor": "white",
            "showbackground": true,
            "ticks": "",
            "zerolinecolor": "white"
           },
           "zaxis": {
            "backgroundcolor": "#E5ECF6",
            "gridcolor": "white",
            "gridwidth": 2,
            "linecolor": "white",
            "showbackground": true,
            "ticks": "",
            "zerolinecolor": "white"
           }
          },
          "shapedefaults": {
           "line": {
            "color": "#2a3f5f"
           }
          },
          "ternary": {
           "aaxis": {
            "gridcolor": "white",
            "linecolor": "white",
            "ticks": ""
           },
           "baxis": {
            "gridcolor": "white",
            "linecolor": "white",
            "ticks": ""
           },
           "bgcolor": "#E5ECF6",
           "caxis": {
            "gridcolor": "white",
            "linecolor": "white",
            "ticks": ""
           }
          },
          "title": {
           "x": 0.05
          },
          "xaxis": {
           "automargin": true,
           "gridcolor": "white",
           "linecolor": "white",
           "ticks": "",
           "title": {
            "standoff": 15
           },
           "zerolinecolor": "white",
           "zerolinewidth": 2
          },
          "yaxis": {
           "automargin": true,
           "gridcolor": "white",
           "linecolor": "white",
           "ticks": "",
           "title": {
            "standoff": 15
           },
           "zerolinecolor": "white",
           "zerolinewidth": 2
          }
         }
        },
        "title": {
         "text": "Correlation Heatmap for Action Level Targets",
         "x": 0.5
        },
        "width": 600,
        "xaxis": {
         "anchor": "y",
         "domain": [
          0,
          1
         ]
        },
        "yaxis": {
         "anchor": "x",
         "autorange": "reversed",
         "domain": [
          0,
          1
         ]
        }
       }
      }
     },
     "metadata": {},
     "output_type": "display_data"
    },
    {
     "name": "stdout",
     "output_type": "stream",
     "text": [
      "\n",
      "Correlation Matrix:\n",
      "               ActionGrouped ActionGranular\n",
      "ActionGrouped            1.0            1.0\n",
      "ActionGranular           1.0            1.0\n",
      "============================================================\n"
     ]
    }
   ],
   "source": [
    "def plot_target_distributions(df):\n",
    "    # Import required libraries\n",
    "    import pandas as pd\n",
    "    import plotly.express as px\n",
    "    from plotly.subplots import make_subplots\n",
    "    import plotly.graph_objects as go\n",
    "    from scipy.stats import chi2_contingency\n",
    "    import numpy as np\n",
    "    \n",
    "    # Define all target variables\n",
    "    targets = {\n",
    "        'Incident Level': ['IncidentGrade'],\n",
    "        'Alert Level': ['Category', 'MitreTechniques'],\n",
    "        'Entity Level': ['EntityType', 'EvidenceRole', 'SuspicionLevel', 'LastVerdict'],\n",
    "        'Action Level': ['ActionGrouped', 'ActionGranular']\n",
    "    }\n",
    "    \n",
    "    # Process each target group\n",
    "    for group_name, columns in targets.items():\n",
    "        print(f\"\\n{'='*20} {group_name} Distributions {'='*20}\")\n",
    "        \n",
    "        for col in columns:\n",
    "            # Get value counts\n",
    "            counts = df[col].value_counts().reset_index()\n",
    "            counts.columns = [col, 'Count']\n",
    "            \n",
    "            # Calculate percentage\n",
    "            total = counts['Count'].sum()\n",
    "            counts['Percentage'] = (counts['Count'] / total * 100).round(2)\n",
    "            \n",
    "            # Create bar plot\n",
    "            fig = px.bar(\n",
    "                counts,\n",
    "                x=col,\n",
    "                y='Count',\n",
    "                title=f'Distribution of {col}',\n",
    "                text='Count',  # Show count on bars\n",
    "                hover_data=['Percentage']  # Show percentage on hover\n",
    "            )\n",
    "            \n",
    "            # Update layout\n",
    "            fig.update_traces(textposition='outside')\n",
    "            fig.update_layout(\n",
    "                template='plotly_white',\n",
    "                title_x=0.5,\n",
    "                xaxis_title=None,\n",
    "                height=500,  # Increase height for better readability\n",
    "                showlegend=False\n",
    "            )\n",
    "            \n",
    "            # Rotate x-axis labels if there are many categories\n",
    "            if len(counts) > 10:\n",
    "                fig.update_layout(\n",
    "                    xaxis_tickangle=-45,\n",
    "                    margin=dict(b=100)  # Increase bottom margin for rotated labels\n",
    "                )\n",
    "            \n",
    "            # Show plot\n",
    "            fig.show()\n",
    "            \n",
    "            # Print statistics\n",
    "            print(f\"\\n{col} Distribution:\")\n",
    "            stats = pd.DataFrame({\n",
    "                'Count': df[col].value_counts(dropna=False),\n",
    "                'Percentage': df[col].value_counts(normalize=True, dropna=False).mul(100).round(2)\n",
    "            })\n",
    "            print(stats)\n",
    "            \n",
    "            # Additional statistics\n",
    "            print(f\"\\nTotal unique values: {df[col].nunique()}\")\n",
    "            print(f\"Null values: {df[col].isnull().sum()} ({(df[col].isnull().sum()/len(df)*100):.2f}%)\")\n",
    "            print(\"-\" * 60)\n",
    "            \n",
    "        # Create correlation heatmap for targets within the group\n",
    "        if len(columns) > 1:\n",
    "            print(f\"\\nCorrelation between {group_name} targets:\")\n",
    "            \n",
    "            # Calculate Cramer's V correlation matrix\n",
    "            corr_matrix = pd.DataFrame(index=columns, columns=columns)\n",
    "            for col1 in columns:\n",
    "                for col2 in columns:\n",
    "                    if col1 != col2:\n",
    "                        # Create contingency table\n",
    "                        contingency = pd.crosstab(df[col1], df[col2])\n",
    "                        # Calculate Cramer's V\n",
    "                        chi2 = chi2_contingency(contingency)[0]\n",
    "                        n = contingency.sum().sum()\n",
    "                        min_dim = min(contingency.shape) - 1\n",
    "                        cramers_v = np.sqrt(chi2 / (n * min_dim)) if min_dim > 0 else 0\n",
    "                        corr_matrix.loc[col1, col2] = cramers_v\n",
    "                    else:\n",
    "                        corr_matrix.loc[col1, col2] = 1.0\n",
    "            \n",
    "            # Plot correlation heatmap\n",
    "            fig = px.imshow(\n",
    "                corr_matrix,\n",
    "                title=f'Correlation Heatmap for {group_name} Targets',\n",
    "                color_continuous_scale='RdBu',\n",
    "                aspect='auto'\n",
    "            )\n",
    "            fig.update_layout(\n",
    "                title_x=0.5,\n",
    "                width=600,\n",
    "                height=600\n",
    "            )\n",
    "            fig.show()\n",
    "            \n",
    "            print(\"\\nCorrelation Matrix:\")\n",
    "            print(corr_matrix.round(4))\n",
    "            print(\"=\" * 60)\n",
    "\n",
    "# Run the analysis\n",
    "plot_target_distributions(df)"
   ]
  },
  {
   "cell_type": "markdown",
   "metadata": {},
   "source": [
    "# Lets look at the nulls in the dataset"
   ]
  },
  {
   "cell_type": "code",
   "execution_count": 26,
   "metadata": {},
   "outputs": [
    {
     "data": {
      "text/plain": [
       "Id                          0\n",
       "OrgId                       0\n",
       "IncidentId                  0\n",
       "AlertId                     0\n",
       "Timestamp                   0\n",
       "DetectorId                  0\n",
       "AlertTitle                  0\n",
       "Category                    0\n",
       "MitreTechniques       5468386\n",
       "IncidentGrade           51340\n",
       "ActionGrouped         9460773\n",
       "ActionGranular        9460773\n",
       "EntityType                  0\n",
       "EvidenceRole                0\n",
       "DeviceId                    0\n",
       "Sha256                      0\n",
       "IpAddress                   0\n",
       "Url                         0\n",
       "AccountSid                  0\n",
       "AccountUpn                  0\n",
       "AccountObjectId             0\n",
       "AccountName                 0\n",
       "DeviceName                  0\n",
       "NetworkMessageId            0\n",
       "EmailClusterId        9420025\n",
       "RegistryKey                 0\n",
       "RegistryValueName           0\n",
       "RegistryValueData           0\n",
       "ApplicationId               0\n",
       "ApplicationName             0\n",
       "OAuthApplicationId          0\n",
       "ThreatFamily          9441956\n",
       "FileName                    0\n",
       "FolderPath                  0\n",
       "ResourceIdName              0\n",
       "ResourceType          9509762\n",
       "Roles                 9298686\n",
       "OSFamily                    0\n",
       "OSVersion                   0\n",
       "AntispamDirection     9339535\n",
       "SuspicionLevel        8072708\n",
       "LastVerdict           7282572\n",
       "CountryCode                 0\n",
       "State                       0\n",
       "City                        0\n",
       "dtype: int64"
      ]
     },
     "execution_count": 26,
     "metadata": {},
     "output_type": "execute_result"
    }
   ],
   "source": [
    "df.isnull().sum()"
   ]
  },
  {
   "cell_type": "markdown",
   "metadata": {},
   "source": [
    "# Unique values count for columns having nulls"
   ]
  },
  {
   "cell_type": "code",
   "execution_count": 28,
   "metadata": {},
   "outputs": [
    {
     "name": "stdout",
     "output_type": "stream",
     "text": [
      "\n",
      "==================================================\n",
      "Column: MitreTechniques\n",
      "Null Count: 5,468,386\n",
      "Null Percentage: 57.46%\n",
      "Number of Unique Values: 1,193\n",
      "\n",
      "Top 5 Values:\n",
      "MitreTechniques\n",
      "T1078;T1078.004    1354904\n",
      "T1566.002           814308\n",
      "T1566               659591\n",
      "T1133               145579\n",
      "T1566.001           136892\n",
      "Name: count, dtype: int64\n",
      "\n",
      "==================================================\n",
      "Column: IncidentGrade\n",
      "Null Count: 51,340\n",
      "Null Percentage: 0.54%\n",
      "Number of Unique Values: 3\n",
      "\n",
      "Top 5 Values:\n",
      "IncidentGrade\n",
      "BenignPositive    4110817\n",
      "TruePositive      3322713\n",
      "FalsePositive     2031967\n",
      "Name: count, dtype: int64\n",
      "\n",
      "==================================================\n",
      "Column: ActionGrouped\n",
      "Null Count: 9,460,773\n",
      "Null Percentage: 99.41%\n",
      "Number of Unique Values: 3\n",
      "\n",
      "Top 5 Values:\n",
      "ActionGrouped\n",
      "ContainAccount           53760\n",
      "IsolateDevice             2237\n",
      "Stop Virtual Machines       67\n",
      "Name: count, dtype: int64\n",
      "\n",
      "==================================================\n",
      "Column: ActionGranular\n",
      "Null Count: 9,460,773\n",
      "Null Percentage: 99.41%\n",
      "Number of Unique Values: 16\n",
      "\n",
      "Top 5 Values:\n",
      "ActionGranular\n",
      "update stsrefreshtokenvalidfrom timestamp.    21393\n",
      "account password changed                      14059\n",
      "change user password.                         13623\n",
      "isolateresponse                                2043\n",
      "account disabled                               1991\n",
      "Name: count, dtype: int64\n",
      "\n",
      "==================================================\n",
      "Column: EmailClusterId\n",
      "Null Count: 9,420,025\n",
      "Null Percentage: 98.98%\n",
      "Number of Unique Values: 26,474\n",
      "\n",
      "Top 5 Values:\n",
      "EmailClusterId\n",
      "4.218787e+09    1990\n",
      "4.023350e+09    1904\n",
      "4.140628e+09    1736\n",
      "1.962111e+09     824\n",
      "2.834093e+09     595\n",
      "Name: count, dtype: int64\n",
      "\n",
      "==================================================\n",
      "Column: ThreatFamily\n",
      "Null Count: 9,441,956\n",
      "Null Percentage: 99.21%\n",
      "Number of Unique Values: 1,745\n",
      "\n",
      "Top 5 Values:\n",
      "ThreatFamily\n",
      "Phish                        3526\n",
      "Malgent                      2636\n",
      "Donoff                       2519\n",
      "CustomEnterpriseBlock        2145\n",
      "CustomEnterpriseBlockOnly    2139\n",
      "Name: count, dtype: int64\n",
      "\n",
      "==================================================\n",
      "Column: ResourceType\n",
      "Null Count: 9,509,762\n",
      "Null Percentage: 99.93%\n",
      "Number of Unique Values: 25\n",
      "\n",
      "Top 5 Values:\n",
      "ResourceType\n",
      "Virtual Machine      4146\n",
      "Key Vault             480\n",
      "App Service           404\n",
      "Azure Arc machine     373\n",
      "Storage Account       366\n",
      "Name: count, dtype: int64\n",
      "\n",
      "==================================================\n",
      "Column: Roles\n",
      "Null Count: 9,298,686\n",
      "Null Percentage: 97.71%\n",
      "Number of Unique Values: 10\n",
      "\n",
      "Top 5 Values:\n",
      "Roles\n",
      "Contextual     130528\n",
      "Destination     34324\n",
      "Suspicious      28952\n",
      "Attacker        13096\n",
      "Source           7171\n",
      "Name: count, dtype: int64\n",
      "\n",
      "==================================================\n",
      "Column: AntispamDirection\n",
      "Null Count: 9,339,535\n",
      "Null Percentage: 98.14%\n",
      "Number of Unique Values: 5\n",
      "\n",
      "Top 5 Values:\n",
      "AntispamDirection\n",
      "Inbound                                               161111\n",
      "Intraorg                                               15308\n",
      "Outbound                                                 868\n",
      "DomainPII_50d8b4a941c26b89482c94ab324b5a274f9ced66        10\n",
      "DomainPII_df80ab894e01e375bf55d12ba315c04029d3e32d         5\n",
      "Name: count, dtype: int64\n",
      "\n",
      "==================================================\n",
      "Column: SuspicionLevel\n",
      "Null Count: 8,072,708\n",
      "Null Percentage: 84.83%\n",
      "Number of Unique Values: 2\n",
      "\n",
      "Top 5 Values:\n",
      "SuspicionLevel\n",
      "Suspicious      1442614\n",
      "Incriminated       1515\n",
      "Name: count, dtype: int64\n",
      "\n",
      "==================================================\n",
      "Column: LastVerdict\n",
      "Null Count: 7,282,572\n",
      "Null Percentage: 76.52%\n",
      "Number of Unique Values: 5\n",
      "\n",
      "Top 5 Values:\n",
      "LastVerdict\n",
      "Suspicious                                            1402997\n",
      "Malicious                                              433359\n",
      "NoThreatsFound                                         397718\n",
      "DomainPII_50d8b4a941c26b89482c94ab324b5a274f9ced66        128\n",
      "DomainPII_9207384283ce115db5a590dd9ca5de21e5e99df2         63\n",
      "Name: count, dtype: int64\n"
     ]
    }
   ],
   "source": [
    "# Get columns with nulls and their null counts\n",
    "null_cols = df.isnull().sum()\n",
    "null_cols = null_cols[null_cols > 0]\n",
    "\n",
    "# Fast way to get unique counts for these columns\n",
    "unique_counts = {\n",
    "    col: {\n",
    "        'null_count': null_cols[col],\n",
    "        'null_percentage': f\"{(null_cols[col]/len(df))*100:.2f}%\",\n",
    "        'unique_values': df[col].nunique(dropna=True),  # Count unique non-null values\n",
    "        'value_counts': df[col].value_counts().head()  # Top 5 values\n",
    "    }\n",
    "    for col in null_cols.index\n",
    "}\n",
    "\n",
    "# Print results in a readable format\n",
    "for col, stats in unique_counts.items():\n",
    "    print(f\"\\n{'='*50}\")\n",
    "    print(f\"Column: {col}\")\n",
    "    print(f\"Null Count: {stats['null_count']:,}\")\n",
    "    print(f\"Null Percentage: {stats['null_percentage']}\")\n",
    "    print(f\"Number of Unique Values: {stats['unique_values']:,}\")\n",
    "    print(\"\\nTop 5 Values:\")\n",
    "    print(stats['value_counts'])"
   ]
  },
  {
   "cell_type": "markdown",
   "metadata": {},
   "source": [
    "# Edited column segregation based on basic analysis"
   ]
  },
  {
   "cell_type": "code",
   "execution_count": 35,
   "metadata": {},
   "outputs": [],
   "source": [
    "# Incident Level\n",
    "incident_columns = {\n",
    "    'id_columns': [\n",
    "        'Id',          # System-generated identifier\n",
    "        'OrgId',       # \"Organization identifier\"\n",
    "        'IncidentId'   # \"Organizationally unique incident identifier\"\n",
    "    ],\n",
    "    'num_features': [],\n",
    "    'cat_features': [],\n",
    "    'target': [\n",
    "        'IncidentGrade'  # \"SOC grade assigned to the incident\"\n",
    "                        # BenignPositive: 43.20%\n",
    "                        # TruePositive: 34.91%\n",
    "                        # FalsePositive: 21.35%\n",
    "    ]\n",
    "}\n",
    "\n",
    "# Alert Level\n",
    "alert_columns = {\n",
    "    'id_columns': [\n",
    "        'AlertId'      # \"Unique identifier for an alert\"\n",
    "    ],\n",
    "    'num_features': [\n",
    "        'Timestamp'    # \"Time the alert was created\"\n",
    "    ],\n",
    "    'cat_features': [\n",
    "        # Low Null Rate Features\n",
    "        'DetectorId',      # \"Unique ID for the alert generating detector\"\n",
    "        'AlertTitle',      # \"Title of the alert\"\n",
    "        'Category',        # \"Category of the alert\"\n",
    "        \n",
    "        # Moderate Null Rate Features\n",
    "        'MitreTechniques'  # \"MITRE ATT&CK techniques involved in alert\"\n",
    "    ],\n",
    "    'target': [\n",
    "        'ActionGrouped',   # \"SOC alert remediation action (high level)\"\n",
    "        'ActionGranular'   # \"SOC alert remediation action (fine-grain)\"\n",
    "    ]\n",
    "}\n",
    "\n",
    "# Evidence Level\n",
    "evidence_columns = {\n",
    "    'id_columns': [\n",
    "        'DeviceId',           # \"Unique identifier for the device\"\n",
    "        'NetworkMessageId'    # \"Org-level identifier for email message\"\n",
    "    ],\n",
    "    'num_features': [\n",
    "        'OSVersion',          # \"Version of the operating system\"\n",
    "        'CountryCode',        # \"Country code evidence appears in\"\n",
    "        'State',              # \"State of evidence appears in\"\n",
    "        'City'               # \"City evidence appears in\"\n",
    "    ],\n",
    "    'cat_features': [\n",
    "        # Low Null Rate Features (<20%)\n",
    "        'EntityType',         # \"Type of entity involved in the alert\"\n",
    "        'EvidenceRole',       # \"Role of the evidence in the investigation\"\n",
    "        'OSFamily',           # \"Family of the operating system\"\n",
    "        'DeviceName',         # \"Name of the device\"\n",
    "        'AccountName',        # Account display name\n",
    "        'IpAddress',          # \"IP address involved\"\n",
    "        \n",
    "        # Medium Null Rate Features (20-50%)\n",
    "        'Url',               # \"URL involved\"\n",
    "        'AccountUpn',        # \"Email account identifier\"\n",
    "        'Sha256',            # \"SHA-256 hash of the file\"\n",
    "        'ApplicationName',    # \"Name of the application\"\n",
    "        \n",
    "        # High Null Rate Features (>90%)\n",
    "        'EmailClusterId',     # \"Unique identifier for the email cluster\"\n",
    "        'ThreatFamily',       # \"Malware family associated with a file\"\n",
    "        'ResourceType',       # \"Type of Azure resource\"\n",
    "        'Roles',             # \"Additional metadata on evidence role in alert\"\n",
    "        'AntispamDirection',  # \"Direction of the antispam filter\"\n",
    "        'RegistryKey',        # \"Registry key involved\"\n",
    "        'RegistryValueName',  # \"Name of the registry value\"\n",
    "        'RegistryValueData',  # \"Data of the registry value\"\n",
    "        'FileName',          # \"Name of the file\"\n",
    "        'FolderPath',        # \"Path of the file folder\"\n",
    "        'ResourceIdName'     # \"Name of the Azure resource\"\n",
    "    ],\n",
    "    'target': [\n",
    "        'SuspicionLevel',   # \"Level of suspicion\"\n",
    "        'LastVerdict'      # \"Final verdict of threat analysis\"\n",
    "    ]\n",
    "}"
   ]
  },
  {
   "cell_type": "code",
   "execution_count": 34,
   "metadata": {},
   "outputs": [
    {
     "data": {
      "text/html": [
       "<div>\n",
       "<style scoped>\n",
       "    .dataframe tbody tr th:only-of-type {\n",
       "        vertical-align: middle;\n",
       "    }\n",
       "\n",
       "    .dataframe tbody tr th {\n",
       "        vertical-align: top;\n",
       "    }\n",
       "\n",
       "    .dataframe thead th {\n",
       "        text-align: right;\n",
       "    }\n",
       "</style>\n",
       "<table border=\"1\" class=\"dataframe\">\n",
       "  <thead>\n",
       "    <tr style=\"text-align: right;\">\n",
       "      <th></th>\n",
       "      <th>Id</th>\n",
       "      <th>OrgId</th>\n",
       "      <th>IncidentId</th>\n",
       "      <th>AlertId</th>\n",
       "      <th>Timestamp</th>\n",
       "      <th>DetectorId</th>\n",
       "      <th>AlertTitle</th>\n",
       "      <th>Category</th>\n",
       "      <th>MitreTechniques</th>\n",
       "      <th>IncidentGrade</th>\n",
       "      <th>ActionGrouped</th>\n",
       "      <th>ActionGranular</th>\n",
       "      <th>EntityType</th>\n",
       "      <th>EvidenceRole</th>\n",
       "      <th>DeviceId</th>\n",
       "      <th>Sha256</th>\n",
       "      <th>IpAddress</th>\n",
       "      <th>Url</th>\n",
       "      <th>AccountSid</th>\n",
       "      <th>AccountUpn</th>\n",
       "      <th>AccountObjectId</th>\n",
       "      <th>AccountName</th>\n",
       "      <th>DeviceName</th>\n",
       "      <th>NetworkMessageId</th>\n",
       "      <th>EmailClusterId</th>\n",
       "      <th>RegistryKey</th>\n",
       "      <th>RegistryValueName</th>\n",
       "      <th>RegistryValueData</th>\n",
       "      <th>ApplicationId</th>\n",
       "      <th>ApplicationName</th>\n",
       "      <th>OAuthApplicationId</th>\n",
       "      <th>ThreatFamily</th>\n",
       "      <th>FileName</th>\n",
       "      <th>FolderPath</th>\n",
       "      <th>ResourceIdName</th>\n",
       "      <th>ResourceType</th>\n",
       "      <th>Roles</th>\n",
       "      <th>OSFamily</th>\n",
       "      <th>OSVersion</th>\n",
       "      <th>AntispamDirection</th>\n",
       "      <th>SuspicionLevel</th>\n",
       "      <th>LastVerdict</th>\n",
       "      <th>CountryCode</th>\n",
       "      <th>State</th>\n",
       "      <th>City</th>\n",
       "    </tr>\n",
       "  </thead>\n",
       "  <tbody>\n",
       "    <tr>\n",
       "      <th>0</th>\n",
       "      <td>180388628218</td>\n",
       "      <td>0</td>\n",
       "      <td>612</td>\n",
       "      <td>123247</td>\n",
       "      <td>2024-06-04T06:05:15.000Z</td>\n",
       "      <td>7</td>\n",
       "      <td>6</td>\n",
       "      <td>InitialAccess</td>\n",
       "      <td>NaN</td>\n",
       "      <td>TruePositive</td>\n",
       "      <td>NaN</td>\n",
       "      <td>NaN</td>\n",
       "      <td>Ip</td>\n",
       "      <td>Related</td>\n",
       "      <td>98799</td>\n",
       "      <td>138268</td>\n",
       "      <td>27</td>\n",
       "      <td>160396</td>\n",
       "      <td>441377</td>\n",
       "      <td>673934</td>\n",
       "      <td>425863</td>\n",
       "      <td>453297</td>\n",
       "      <td>153085</td>\n",
       "      <td>529644</td>\n",
       "      <td>NaN</td>\n",
       "      <td>1631</td>\n",
       "      <td>635</td>\n",
       "      <td>860</td>\n",
       "      <td>2251</td>\n",
       "      <td>3421</td>\n",
       "      <td>881</td>\n",
       "      <td>NaN</td>\n",
       "      <td>289573</td>\n",
       "      <td>117668</td>\n",
       "      <td>3586</td>\n",
       "      <td>NaN</td>\n",
       "      <td>NaN</td>\n",
       "      <td>5</td>\n",
       "      <td>66</td>\n",
       "      <td>NaN</td>\n",
       "      <td>NaN</td>\n",
       "      <td>NaN</td>\n",
       "      <td>31</td>\n",
       "      <td>6</td>\n",
       "      <td>3</td>\n",
       "    </tr>\n",
       "    <tr>\n",
       "      <th>1</th>\n",
       "      <td>455266534868</td>\n",
       "      <td>88</td>\n",
       "      <td>326</td>\n",
       "      <td>210035</td>\n",
       "      <td>2024-06-14T03:01:25.000Z</td>\n",
       "      <td>58</td>\n",
       "      <td>43</td>\n",
       "      <td>Exfiltration</td>\n",
       "      <td>NaN</td>\n",
       "      <td>FalsePositive</td>\n",
       "      <td>NaN</td>\n",
       "      <td>NaN</td>\n",
       "      <td>User</td>\n",
       "      <td>Impacted</td>\n",
       "      <td>98799</td>\n",
       "      <td>138268</td>\n",
       "      <td>360606</td>\n",
       "      <td>160396</td>\n",
       "      <td>22406</td>\n",
       "      <td>23032</td>\n",
       "      <td>22795</td>\n",
       "      <td>24887</td>\n",
       "      <td>153085</td>\n",
       "      <td>529644</td>\n",
       "      <td>NaN</td>\n",
       "      <td>1631</td>\n",
       "      <td>635</td>\n",
       "      <td>860</td>\n",
       "      <td>2251</td>\n",
       "      <td>3421</td>\n",
       "      <td>881</td>\n",
       "      <td>NaN</td>\n",
       "      <td>289573</td>\n",
       "      <td>117668</td>\n",
       "      <td>3586</td>\n",
       "      <td>NaN</td>\n",
       "      <td>NaN</td>\n",
       "      <td>5</td>\n",
       "      <td>66</td>\n",
       "      <td>NaN</td>\n",
       "      <td>NaN</td>\n",
       "      <td>NaN</td>\n",
       "      <td>242</td>\n",
       "      <td>1445</td>\n",
       "      <td>10630</td>\n",
       "    </tr>\n",
       "    <tr>\n",
       "      <th>2</th>\n",
       "      <td>1056561957389</td>\n",
       "      <td>809</td>\n",
       "      <td>58352</td>\n",
       "      <td>712507</td>\n",
       "      <td>2024-06-13T04:52:55.000Z</td>\n",
       "      <td>423</td>\n",
       "      <td>298</td>\n",
       "      <td>InitialAccess</td>\n",
       "      <td>T1189</td>\n",
       "      <td>FalsePositive</td>\n",
       "      <td>NaN</td>\n",
       "      <td>NaN</td>\n",
       "      <td>Url</td>\n",
       "      <td>Related</td>\n",
       "      <td>98799</td>\n",
       "      <td>138268</td>\n",
       "      <td>360606</td>\n",
       "      <td>68652</td>\n",
       "      <td>441377</td>\n",
       "      <td>673934</td>\n",
       "      <td>425863</td>\n",
       "      <td>453297</td>\n",
       "      <td>153085</td>\n",
       "      <td>529644</td>\n",
       "      <td>NaN</td>\n",
       "      <td>1631</td>\n",
       "      <td>635</td>\n",
       "      <td>860</td>\n",
       "      <td>2251</td>\n",
       "      <td>3421</td>\n",
       "      <td>881</td>\n",
       "      <td>NaN</td>\n",
       "      <td>289573</td>\n",
       "      <td>117668</td>\n",
       "      <td>3586</td>\n",
       "      <td>NaN</td>\n",
       "      <td>NaN</td>\n",
       "      <td>5</td>\n",
       "      <td>66</td>\n",
       "      <td>NaN</td>\n",
       "      <td>Suspicious</td>\n",
       "      <td>Suspicious</td>\n",
       "      <td>242</td>\n",
       "      <td>1445</td>\n",
       "      <td>10630</td>\n",
       "    </tr>\n",
       "    <tr>\n",
       "      <th>3</th>\n",
       "      <td>1279900258736</td>\n",
       "      <td>92</td>\n",
       "      <td>32992</td>\n",
       "      <td>774301</td>\n",
       "      <td>2024-06-10T16:39:36.000Z</td>\n",
       "      <td>2</td>\n",
       "      <td>2</td>\n",
       "      <td>CommandAndControl</td>\n",
       "      <td>NaN</td>\n",
       "      <td>BenignPositive</td>\n",
       "      <td>NaN</td>\n",
       "      <td>NaN</td>\n",
       "      <td>Url</td>\n",
       "      <td>Related</td>\n",
       "      <td>98799</td>\n",
       "      <td>138268</td>\n",
       "      <td>360606</td>\n",
       "      <td>13</td>\n",
       "      <td>441377</td>\n",
       "      <td>673934</td>\n",
       "      <td>425863</td>\n",
       "      <td>453297</td>\n",
       "      <td>153085</td>\n",
       "      <td>529644</td>\n",
       "      <td>NaN</td>\n",
       "      <td>1631</td>\n",
       "      <td>635</td>\n",
       "      <td>860</td>\n",
       "      <td>2251</td>\n",
       "      <td>3421</td>\n",
       "      <td>881</td>\n",
       "      <td>NaN</td>\n",
       "      <td>289573</td>\n",
       "      <td>117668</td>\n",
       "      <td>3586</td>\n",
       "      <td>NaN</td>\n",
       "      <td>NaN</td>\n",
       "      <td>5</td>\n",
       "      <td>66</td>\n",
       "      <td>NaN</td>\n",
       "      <td>Suspicious</td>\n",
       "      <td>Suspicious</td>\n",
       "      <td>242</td>\n",
       "      <td>1445</td>\n",
       "      <td>10630</td>\n",
       "    </tr>\n",
       "    <tr>\n",
       "      <th>4</th>\n",
       "      <td>214748368522</td>\n",
       "      <td>148</td>\n",
       "      <td>4359</td>\n",
       "      <td>188041</td>\n",
       "      <td>2024-06-15T01:08:07.000Z</td>\n",
       "      <td>9</td>\n",
       "      <td>74</td>\n",
       "      <td>Execution</td>\n",
       "      <td>NaN</td>\n",
       "      <td>TruePositive</td>\n",
       "      <td>NaN</td>\n",
       "      <td>NaN</td>\n",
       "      <td>User</td>\n",
       "      <td>Impacted</td>\n",
       "      <td>98799</td>\n",
       "      <td>138268</td>\n",
       "      <td>360606</td>\n",
       "      <td>160396</td>\n",
       "      <td>449</td>\n",
       "      <td>592</td>\n",
       "      <td>440</td>\n",
       "      <td>479</td>\n",
       "      <td>153085</td>\n",
       "      <td>529644</td>\n",
       "      <td>NaN</td>\n",
       "      <td>1631</td>\n",
       "      <td>635</td>\n",
       "      <td>860</td>\n",
       "      <td>2251</td>\n",
       "      <td>3421</td>\n",
       "      <td>881</td>\n",
       "      <td>NaN</td>\n",
       "      <td>289573</td>\n",
       "      <td>117668</td>\n",
       "      <td>3586</td>\n",
       "      <td>NaN</td>\n",
       "      <td>NaN</td>\n",
       "      <td>5</td>\n",
       "      <td>66</td>\n",
       "      <td>NaN</td>\n",
       "      <td>NaN</td>\n",
       "      <td>NaN</td>\n",
       "      <td>242</td>\n",
       "      <td>1445</td>\n",
       "      <td>10630</td>\n",
       "    </tr>\n",
       "    <tr>\n",
       "      <th>...</th>\n",
       "      <td>...</td>\n",
       "      <td>...</td>\n",
       "      <td>...</td>\n",
       "      <td>...</td>\n",
       "      <td>...</td>\n",
       "      <td>...</td>\n",
       "      <td>...</td>\n",
       "      <td>...</td>\n",
       "      <td>...</td>\n",
       "      <td>...</td>\n",
       "      <td>...</td>\n",
       "      <td>...</td>\n",
       "      <td>...</td>\n",
       "      <td>...</td>\n",
       "      <td>...</td>\n",
       "      <td>...</td>\n",
       "      <td>...</td>\n",
       "      <td>...</td>\n",
       "      <td>...</td>\n",
       "      <td>...</td>\n",
       "      <td>...</td>\n",
       "      <td>...</td>\n",
       "      <td>...</td>\n",
       "      <td>...</td>\n",
       "      <td>...</td>\n",
       "      <td>...</td>\n",
       "      <td>...</td>\n",
       "      <td>...</td>\n",
       "      <td>...</td>\n",
       "      <td>...</td>\n",
       "      <td>...</td>\n",
       "      <td>...</td>\n",
       "      <td>...</td>\n",
       "      <td>...</td>\n",
       "      <td>...</td>\n",
       "      <td>...</td>\n",
       "      <td>...</td>\n",
       "      <td>...</td>\n",
       "      <td>...</td>\n",
       "      <td>...</td>\n",
       "      <td>...</td>\n",
       "      <td>...</td>\n",
       "      <td>...</td>\n",
       "      <td>...</td>\n",
       "      <td>...</td>\n",
       "    </tr>\n",
       "    <tr>\n",
       "      <th>495</th>\n",
       "      <td>1159641172864</td>\n",
       "      <td>75</td>\n",
       "      <td>48</td>\n",
       "      <td>805091</td>\n",
       "      <td>2024-06-09T13:25:34.000Z</td>\n",
       "      <td>511</td>\n",
       "      <td>329</td>\n",
       "      <td>CredentialAccess</td>\n",
       "      <td>T1110.004;T1110.003</td>\n",
       "      <td>TruePositive</td>\n",
       "      <td>NaN</td>\n",
       "      <td>NaN</td>\n",
       "      <td>User</td>\n",
       "      <td>Impacted</td>\n",
       "      <td>98799</td>\n",
       "      <td>138268</td>\n",
       "      <td>360606</td>\n",
       "      <td>160396</td>\n",
       "      <td>3900</td>\n",
       "      <td>5261</td>\n",
       "      <td>3903</td>\n",
       "      <td>4086</td>\n",
       "      <td>153085</td>\n",
       "      <td>529644</td>\n",
       "      <td>NaN</td>\n",
       "      <td>1631</td>\n",
       "      <td>635</td>\n",
       "      <td>860</td>\n",
       "      <td>2251</td>\n",
       "      <td>3421</td>\n",
       "      <td>881</td>\n",
       "      <td>NaN</td>\n",
       "      <td>289573</td>\n",
       "      <td>117668</td>\n",
       "      <td>3586</td>\n",
       "      <td>NaN</td>\n",
       "      <td>Compromised</td>\n",
       "      <td>5</td>\n",
       "      <td>66</td>\n",
       "      <td>NaN</td>\n",
       "      <td>NaN</td>\n",
       "      <td>Malicious</td>\n",
       "      <td>242</td>\n",
       "      <td>1445</td>\n",
       "      <td>10630</td>\n",
       "    </tr>\n",
       "    <tr>\n",
       "      <th>496</th>\n",
       "      <td>481036338894</td>\n",
       "      <td>0</td>\n",
       "      <td>239</td>\n",
       "      <td>495820</td>\n",
       "      <td>2024-06-07T19:21:37.000Z</td>\n",
       "      <td>0</td>\n",
       "      <td>0</td>\n",
       "      <td>InitialAccess</td>\n",
       "      <td>T1078;T1078.004</td>\n",
       "      <td>TruePositive</td>\n",
       "      <td>NaN</td>\n",
       "      <td>NaN</td>\n",
       "      <td>Ip</td>\n",
       "      <td>Related</td>\n",
       "      <td>98799</td>\n",
       "      <td>138268</td>\n",
       "      <td>198</td>\n",
       "      <td>160396</td>\n",
       "      <td>441377</td>\n",
       "      <td>673934</td>\n",
       "      <td>425863</td>\n",
       "      <td>453297</td>\n",
       "      <td>153085</td>\n",
       "      <td>529644</td>\n",
       "      <td>NaN</td>\n",
       "      <td>1631</td>\n",
       "      <td>635</td>\n",
       "      <td>860</td>\n",
       "      <td>2251</td>\n",
       "      <td>3421</td>\n",
       "      <td>881</td>\n",
       "      <td>NaN</td>\n",
       "      <td>289573</td>\n",
       "      <td>117668</td>\n",
       "      <td>3586</td>\n",
       "      <td>NaN</td>\n",
       "      <td>NaN</td>\n",
       "      <td>5</td>\n",
       "      <td>66</td>\n",
       "      <td>NaN</td>\n",
       "      <td>NaN</td>\n",
       "      <td>NaN</td>\n",
       "      <td>1</td>\n",
       "      <td>0</td>\n",
       "      <td>0</td>\n",
       "    </tr>\n",
       "    <tr>\n",
       "      <th>497</th>\n",
       "      <td>996432412673</td>\n",
       "      <td>25</td>\n",
       "      <td>425</td>\n",
       "      <td>5525</td>\n",
       "      <td>2024-06-12T08:47:41.000Z</td>\n",
       "      <td>30</td>\n",
       "      <td>3410</td>\n",
       "      <td>Exfiltration</td>\n",
       "      <td>NaN</td>\n",
       "      <td>BenignPositive</td>\n",
       "      <td>NaN</td>\n",
       "      <td>NaN</td>\n",
       "      <td>MailMessage</td>\n",
       "      <td>Impacted</td>\n",
       "      <td>98799</td>\n",
       "      <td>138268</td>\n",
       "      <td>360606</td>\n",
       "      <td>160396</td>\n",
       "      <td>441377</td>\n",
       "      <td>275841</td>\n",
       "      <td>425863</td>\n",
       "      <td>453297</td>\n",
       "      <td>153085</td>\n",
       "      <td>19100</td>\n",
       "      <td>NaN</td>\n",
       "      <td>1631</td>\n",
       "      <td>635</td>\n",
       "      <td>860</td>\n",
       "      <td>2251</td>\n",
       "      <td>3421</td>\n",
       "      <td>881</td>\n",
       "      <td>NaN</td>\n",
       "      <td>289573</td>\n",
       "      <td>117668</td>\n",
       "      <td>3586</td>\n",
       "      <td>NaN</td>\n",
       "      <td>NaN</td>\n",
       "      <td>5</td>\n",
       "      <td>66</td>\n",
       "      <td>NaN</td>\n",
       "      <td>NaN</td>\n",
       "      <td>NaN</td>\n",
       "      <td>242</td>\n",
       "      <td>1445</td>\n",
       "      <td>10630</td>\n",
       "    </tr>\n",
       "    <tr>\n",
       "      <th>498</th>\n",
       "      <td>1675037248270</td>\n",
       "      <td>255</td>\n",
       "      <td>736</td>\n",
       "      <td>271918</td>\n",
       "      <td>2024-06-03T18:32:11.000Z</td>\n",
       "      <td>2</td>\n",
       "      <td>2</td>\n",
       "      <td>CommandAndControl</td>\n",
       "      <td>NaN</td>\n",
       "      <td>TruePositive</td>\n",
       "      <td>NaN</td>\n",
       "      <td>NaN</td>\n",
       "      <td>Machine</td>\n",
       "      <td>Impacted</td>\n",
       "      <td>13273</td>\n",
       "      <td>138268</td>\n",
       "      <td>360606</td>\n",
       "      <td>160396</td>\n",
       "      <td>441377</td>\n",
       "      <td>673934</td>\n",
       "      <td>425863</td>\n",
       "      <td>453297</td>\n",
       "      <td>18653</td>\n",
       "      <td>529644</td>\n",
       "      <td>NaN</td>\n",
       "      <td>1631</td>\n",
       "      <td>635</td>\n",
       "      <td>860</td>\n",
       "      <td>2251</td>\n",
       "      <td>3421</td>\n",
       "      <td>881</td>\n",
       "      <td>NaN</td>\n",
       "      <td>289573</td>\n",
       "      <td>117668</td>\n",
       "      <td>3586</td>\n",
       "      <td>NaN</td>\n",
       "      <td>NaN</td>\n",
       "      <td>0</td>\n",
       "      <td>0</td>\n",
       "      <td>NaN</td>\n",
       "      <td>Suspicious</td>\n",
       "      <td>Suspicious</td>\n",
       "      <td>242</td>\n",
       "      <td>1445</td>\n",
       "      <td>10630</td>\n",
       "    </tr>\n",
       "    <tr>\n",
       "      <th>499</th>\n",
       "      <td>1056561957093</td>\n",
       "      <td>52</td>\n",
       "      <td>40429</td>\n",
       "      <td>1153332</td>\n",
       "      <td>2024-06-04T05:55:17.000Z</td>\n",
       "      <td>215</td>\n",
       "      <td>88</td>\n",
       "      <td>CredentialAccess</td>\n",
       "      <td>T1110</td>\n",
       "      <td>BenignPositive</td>\n",
       "      <td>NaN</td>\n",
       "      <td>NaN</td>\n",
       "      <td>Machine</td>\n",
       "      <td>Impacted</td>\n",
       "      <td>98799</td>\n",
       "      <td>138268</td>\n",
       "      <td>360606</td>\n",
       "      <td>160396</td>\n",
       "      <td>441377</td>\n",
       "      <td>673934</td>\n",
       "      <td>425863</td>\n",
       "      <td>453297</td>\n",
       "      <td>37</td>\n",
       "      <td>529644</td>\n",
       "      <td>NaN</td>\n",
       "      <td>1631</td>\n",
       "      <td>635</td>\n",
       "      <td>860</td>\n",
       "      <td>2251</td>\n",
       "      <td>3421</td>\n",
       "      <td>881</td>\n",
       "      <td>NaN</td>\n",
       "      <td>289573</td>\n",
       "      <td>117668</td>\n",
       "      <td>3586</td>\n",
       "      <td>NaN</td>\n",
       "      <td>NaN</td>\n",
       "      <td>5</td>\n",
       "      <td>66</td>\n",
       "      <td>NaN</td>\n",
       "      <td>NaN</td>\n",
       "      <td>NaN</td>\n",
       "      <td>242</td>\n",
       "      <td>1445</td>\n",
       "      <td>10630</td>\n",
       "    </tr>\n",
       "  </tbody>\n",
       "</table>\n",
       "<p>500 rows × 45 columns</p>\n",
       "</div>"
      ],
      "text/plain": [
       "                Id  OrgId  IncidentId  AlertId                 Timestamp  \\\n",
       "0     180388628218      0         612   123247  2024-06-04T06:05:15.000Z   \n",
       "1     455266534868     88         326   210035  2024-06-14T03:01:25.000Z   \n",
       "2    1056561957389    809       58352   712507  2024-06-13T04:52:55.000Z   \n",
       "3    1279900258736     92       32992   774301  2024-06-10T16:39:36.000Z   \n",
       "4     214748368522    148        4359   188041  2024-06-15T01:08:07.000Z   \n",
       "..             ...    ...         ...      ...                       ...   \n",
       "495  1159641172864     75          48   805091  2024-06-09T13:25:34.000Z   \n",
       "496   481036338894      0         239   495820  2024-06-07T19:21:37.000Z   \n",
       "497   996432412673     25         425     5525  2024-06-12T08:47:41.000Z   \n",
       "498  1675037248270    255         736   271918  2024-06-03T18:32:11.000Z   \n",
       "499  1056561957093     52       40429  1153332  2024-06-04T05:55:17.000Z   \n",
       "\n",
       "     DetectorId  AlertTitle           Category      MitreTechniques  \\\n",
       "0             7           6      InitialAccess                  NaN   \n",
       "1            58          43       Exfiltration                  NaN   \n",
       "2           423         298      InitialAccess                T1189   \n",
       "3             2           2  CommandAndControl                  NaN   \n",
       "4             9          74          Execution                  NaN   \n",
       "..          ...         ...                ...                  ...   \n",
       "495         511         329   CredentialAccess  T1110.004;T1110.003   \n",
       "496           0           0      InitialAccess      T1078;T1078.004   \n",
       "497          30        3410       Exfiltration                  NaN   \n",
       "498           2           2  CommandAndControl                  NaN   \n",
       "499         215          88   CredentialAccess                T1110   \n",
       "\n",
       "      IncidentGrade ActionGrouped ActionGranular   EntityType EvidenceRole  \\\n",
       "0      TruePositive           NaN            NaN           Ip      Related   \n",
       "1     FalsePositive           NaN            NaN         User     Impacted   \n",
       "2     FalsePositive           NaN            NaN          Url      Related   \n",
       "3    BenignPositive           NaN            NaN          Url      Related   \n",
       "4      TruePositive           NaN            NaN         User     Impacted   \n",
       "..              ...           ...            ...          ...          ...   \n",
       "495    TruePositive           NaN            NaN         User     Impacted   \n",
       "496    TruePositive           NaN            NaN           Ip      Related   \n",
       "497  BenignPositive           NaN            NaN  MailMessage     Impacted   \n",
       "498    TruePositive           NaN            NaN      Machine     Impacted   \n",
       "499  BenignPositive           NaN            NaN      Machine     Impacted   \n",
       "\n",
       "     DeviceId  Sha256  IpAddress     Url  AccountSid  AccountUpn  \\\n",
       "0       98799  138268         27  160396      441377      673934   \n",
       "1       98799  138268     360606  160396       22406       23032   \n",
       "2       98799  138268     360606   68652      441377      673934   \n",
       "3       98799  138268     360606      13      441377      673934   \n",
       "4       98799  138268     360606  160396         449         592   \n",
       "..        ...     ...        ...     ...         ...         ...   \n",
       "495     98799  138268     360606  160396        3900        5261   \n",
       "496     98799  138268        198  160396      441377      673934   \n",
       "497     98799  138268     360606  160396      441377      275841   \n",
       "498     13273  138268     360606  160396      441377      673934   \n",
       "499     98799  138268     360606  160396      441377      673934   \n",
       "\n",
       "     AccountObjectId  AccountName  DeviceName  NetworkMessageId  \\\n",
       "0             425863       453297      153085            529644   \n",
       "1              22795        24887      153085            529644   \n",
       "2             425863       453297      153085            529644   \n",
       "3             425863       453297      153085            529644   \n",
       "4                440          479      153085            529644   \n",
       "..               ...          ...         ...               ...   \n",
       "495             3903         4086      153085            529644   \n",
       "496           425863       453297      153085            529644   \n",
       "497           425863       453297      153085             19100   \n",
       "498           425863       453297       18653            529644   \n",
       "499           425863       453297          37            529644   \n",
       "\n",
       "     EmailClusterId  RegistryKey  RegistryValueName  RegistryValueData  \\\n",
       "0               NaN         1631                635                860   \n",
       "1               NaN         1631                635                860   \n",
       "2               NaN         1631                635                860   \n",
       "3               NaN         1631                635                860   \n",
       "4               NaN         1631                635                860   \n",
       "..              ...          ...                ...                ...   \n",
       "495             NaN         1631                635                860   \n",
       "496             NaN         1631                635                860   \n",
       "497             NaN         1631                635                860   \n",
       "498             NaN         1631                635                860   \n",
       "499             NaN         1631                635                860   \n",
       "\n",
       "     ApplicationId  ApplicationName  OAuthApplicationId ThreatFamily  \\\n",
       "0             2251             3421                 881          NaN   \n",
       "1             2251             3421                 881          NaN   \n",
       "2             2251             3421                 881          NaN   \n",
       "3             2251             3421                 881          NaN   \n",
       "4             2251             3421                 881          NaN   \n",
       "..             ...              ...                 ...          ...   \n",
       "495           2251             3421                 881          NaN   \n",
       "496           2251             3421                 881          NaN   \n",
       "497           2251             3421                 881          NaN   \n",
       "498           2251             3421                 881          NaN   \n",
       "499           2251             3421                 881          NaN   \n",
       "\n",
       "     FileName  FolderPath  ResourceIdName ResourceType        Roles  OSFamily  \\\n",
       "0      289573      117668            3586          NaN          NaN         5   \n",
       "1      289573      117668            3586          NaN          NaN         5   \n",
       "2      289573      117668            3586          NaN          NaN         5   \n",
       "3      289573      117668            3586          NaN          NaN         5   \n",
       "4      289573      117668            3586          NaN          NaN         5   \n",
       "..        ...         ...             ...          ...          ...       ...   \n",
       "495    289573      117668            3586          NaN  Compromised         5   \n",
       "496    289573      117668            3586          NaN          NaN         5   \n",
       "497    289573      117668            3586          NaN          NaN         5   \n",
       "498    289573      117668            3586          NaN          NaN         0   \n",
       "499    289573      117668            3586          NaN          NaN         5   \n",
       "\n",
       "     OSVersion AntispamDirection SuspicionLevel LastVerdict  CountryCode  \\\n",
       "0           66               NaN            NaN         NaN           31   \n",
       "1           66               NaN            NaN         NaN          242   \n",
       "2           66               NaN     Suspicious  Suspicious          242   \n",
       "3           66               NaN     Suspicious  Suspicious          242   \n",
       "4           66               NaN            NaN         NaN          242   \n",
       "..         ...               ...            ...         ...          ...   \n",
       "495         66               NaN            NaN   Malicious          242   \n",
       "496         66               NaN            NaN         NaN            1   \n",
       "497         66               NaN            NaN         NaN          242   \n",
       "498          0               NaN     Suspicious  Suspicious          242   \n",
       "499         66               NaN            NaN         NaN          242   \n",
       "\n",
       "     State   City  \n",
       "0        6      3  \n",
       "1     1445  10630  \n",
       "2     1445  10630  \n",
       "3     1445  10630  \n",
       "4     1445  10630  \n",
       "..     ...    ...  \n",
       "495   1445  10630  \n",
       "496      0      0  \n",
       "497   1445  10630  \n",
       "498   1445  10630  \n",
       "499   1445  10630  \n",
       "\n",
       "[500 rows x 45 columns]"
      ]
     },
     "execution_count": 34,
     "metadata": {},
     "output_type": "execute_result"
    }
   ],
   "source": [
    "df.head(500)"
   ]
  },
  {
   "cell_type": "markdown",
   "metadata": {},
   "source": [
    "# Unique values for all targets"
   ]
  },
  {
   "cell_type": "code",
   "execution_count": 36,
   "metadata": {},
   "outputs": [
    {
     "name": "stdout",
     "output_type": "stream",
     "text": [
      "\n",
      "=== Incident Level Targets ===\n",
      "\n",
      "IncidentGrade:\n",
      "                  Count  Percentage\n",
      "IncidentGrade                      \n",
      "BenignPositive  4110817       43.20\n",
      "TruePositive    3322713       34.91\n",
      "FalsePositive   2031967       21.35\n",
      "NaN               51340        0.54\n",
      "\n",
      "=== Alert Level Targets ===\n",
      "\n",
      "ActionGrouped:\n",
      "                         Count  Percentage\n",
      "ActionGrouped                             \n",
      "NaN                    9460773       99.41\n",
      "ContainAccount           53760        0.56\n",
      "IsolateDevice             2237        0.02\n",
      "Stop Virtual Machines       67        0.00\n",
      "\n",
      "ActionGranular:\n",
      "                                              Count  Percentage\n",
      "ActionGranular                                                 \n",
      "NaN                                         9460773       99.41\n",
      "update stsrefreshtokenvalidfrom timestamp.    21393        0.22\n",
      "account password changed                      14059        0.15\n",
      "change user password.                         13623        0.14\n",
      "isolateresponse                                2043        0.02\n",
      "account disabled                               1991        0.02\n",
      "disable account.                               1143        0.01\n",
      "reset user password.                            886        0.01\n",
      "forcepasswordresetremediation                   234        0.00\n",
      "quarantinefile                                  194        0.00\n",
      "msecidentitiesconfirmusercompromised            146        0.00\n",
      "disableuser                                     107        0.00\n",
      "msecidentitiessuspenduser                        81        0.00\n",
      "delete virtualmachines                           67        0.00\n",
      "account deleted                                  55        0.00\n",
      "delete user.                                     35        0.00\n",
      "set force change user password.                   7        0.00\n",
      "\n",
      "=== Evidence Level Targets ===\n",
      "\n",
      "SuspicionLevel:\n",
      "                  Count  Percentage\n",
      "SuspicionLevel                     \n",
      "NaN             8072708       84.83\n",
      "Suspicious      1442614       15.16\n",
      "Incriminated       1515        0.02\n",
      "\n",
      "LastVerdict:\n",
      "                                                      Count  Percentage\n",
      "LastVerdict                                                            \n",
      "NaN                                                 7282572       76.52\n",
      "Suspicious                                          1402997       14.74\n",
      "Malicious                                            433359        4.55\n",
      "NoThreatsFound                                       397718        4.18\n",
      "DomainPII_50d8b4a941c26b89482c94ab324b5a274f9ced66      128        0.00\n",
      "DomainPII_9207384283ce115db5a590dd9ca5de21e5e99df2       63        0.00\n"
     ]
    }
   ],
   "source": [
    "# List all target variables across different levels\n",
    "all_targets = {\n",
    "    'Incident Level': ['IncidentGrade'],\n",
    "    'Alert Level': ['ActionGrouped', 'ActionGranular'],\n",
    "    'Evidence Level': ['SuspicionLevel', 'LastVerdict']\n",
    "}\n",
    "\n",
    "# Print unique values for each target\n",
    "for level, targets in all_targets.items():\n",
    "    print(f\"\\n=== {level} Targets ===\")\n",
    "    for target in targets:\n",
    "        print(f\"\\n{target}:\")\n",
    "        # Get value counts including nulls\n",
    "        value_counts = df[target].value_counts(dropna=False)\n",
    "        # Calculate percentages\n",
    "        percentages = df[target].value_counts(normalize=True, dropna=False) * 100\n",
    "        \n",
    "        # Combine counts and percentages\n",
    "        summary = pd.DataFrame({\n",
    "            'Count': value_counts,\n",
    "            'Percentage': percentages.round(2)\n",
    "        })\n",
    "        print(summary)"
   ]
  },
  {
   "cell_type": "markdown",
   "metadata": {},
   "source": [
    "# Alert counts in each incident"
   ]
  },
  {
   "cell_type": "code",
   "execution_count": 42,
   "metadata": {},
   "outputs": [
    {
     "name": "stdout",
     "output_type": "stream",
     "text": [
      "\n",
      "Incidents and their Alert Counts:\n",
      "     IncidentId  TotalAlertCount  UniqueAlertCount   IncidentGrade\n",
      "2             2            20525              5372    TruePositive\n",
      "1             2            20525              5372  BenignPositive\n",
      "174         173             9921              3160    TruePositive\n",
      "102          82            10000              3150    TruePositive\n",
      "175         174             9917              3148    TruePositive\n",
      "145         143             9996              3123    TruePositive\n",
      "108          90            10000              3085    TruePositive\n",
      "56           44            10010              3085  BenignPositive\n",
      "55           44            10010              3085    TruePositive\n",
      "124         114             9999              3065    TruePositive\n",
      "\n",
      "Summary Statistics of Alert Counts:\n",
      "\n",
      "Total Alert Counts:\n",
      "count    591161.000000\n",
      "mean         25.650873\n",
      "std         229.065092\n",
      "min           1.000000\n",
      "25%           4.000000\n",
      "50%           7.000000\n",
      "75%          17.000000\n",
      "max       29997.000000\n",
      "Name: TotalAlertCount, dtype: float64\n",
      "\n",
      "Unique Alert Counts:\n",
      "count    591161.000000\n",
      "mean          4.202919\n",
      "std          52.218151\n",
      "min           1.000000\n",
      "25%           1.000000\n",
      "50%           2.000000\n",
      "75%           3.000000\n",
      "max        5372.000000\n",
      "Name: UniqueAlertCount, dtype: float64\n"
     ]
    }
   ],
   "source": [
    "# Create DataFrame with incident IDs and their alert counts\n",
    "incident_alert_counts = df.groupby('IncidentId').agg({\n",
    "    'AlertId': ['count', 'nunique']  # count for total, nunique for unique\n",
    "}).reset_index()\n",
    "\n",
    "# Rename columns for clarity\n",
    "incident_alert_counts.columns = ['IncidentId', 'TotalAlertCount', 'UniqueAlertCount']\n",
    "\n",
    "# Add IncidentGrade to the DataFrame (optional)\n",
    "incident_grades = df[['IncidentId', 'IncidentGrade']].drop_duplicates()\n",
    "incident_alert_counts = incident_alert_counts.merge(incident_grades, on='IncidentId', how='left')\n",
    "\n",
    "# Sort by UniqueAlertCount in descending order\n",
    "incident_alert_counts = incident_alert_counts.sort_values('UniqueAlertCount', ascending=False)\n",
    "\n",
    "# Display first few rows\n",
    "print(\"\\nIncidents and their Alert Counts:\")\n",
    "print(incident_alert_counts.head(10))\n",
    "\n",
    "# Basic statistics\n",
    "print(\"\\nSummary Statistics of Alert Counts:\")\n",
    "print(\"\\nTotal Alert Counts:\")\n",
    "print(incident_alert_counts['TotalAlertCount'].describe())\n",
    "print(\"\\nUnique Alert Counts:\")\n",
    "print(incident_alert_counts['UniqueAlertCount'].describe())\n",
    "\n",
    "# Add a column for duplicate ratio\n",
    "incident_alert_counts['DuplicateRatio'] = (incident_alert_counts['TotalAlertCount'] - \n",
    "                                         incident_alert_counts['UniqueAlertCount']) / incident_alert_counts['TotalAlertCount']\n",
    "\n",
    "# Save to CSV (optional)\n",
    "# incident_alert_counts.to_csv('incident_alert_counts.csv', index=False)"
   ]
  },
  {
   "cell_type": "code",
   "execution_count": 47,
   "metadata": {},
   "outputs": [
    {
     "name": "stdout",
     "output_type": "stream",
     "text": [
      "\n",
      "Incident Summary:\n",
      "     IncidentId  TotalAlertCount  UniqueAlertCount  EvidenceCount  \\\n",
      "1             2            20525              5372          20525   \n",
      "125         173             9921              3160           9921   \n",
      "63           82            10000              3150          10000   \n",
      "126         174             9917              3148           9917   \n",
      "106         143             9996              3123           9996   \n",
      "69           90            10000              3085          10000   \n",
      "32           44            10010              3085          10010   \n",
      "85          114             9999              3065           9999   \n",
      "36           48            10014              3056          10014   \n",
      "26           37            10016              3045          10016   \n",
      "0             0            29997              3027          29997   \n",
      "14           24            10042              3019          10042   \n",
      "13           21            10116              3015          10116   \n",
      "112         157             9979              3012           9979   \n",
      "95          129             9998              3010           9998   \n",
      "103         139             9998              3010           9998   \n",
      "118         163             9952              3004           9952   \n",
      "102         138             9998              3001           9998   \n",
      "90          120             9999              2999           9999   \n",
      "128         176             9909              2996           9909   \n",
      "\n",
      "                                    IncidentGrades  \\\n",
      "1                   [BenignPositive, TruePositive]   \n",
      "125                                 [TruePositive]   \n",
      "63                                  [TruePositive]   \n",
      "126                                 [TruePositive]   \n",
      "106                                 [TruePositive]   \n",
      "69                                  [TruePositive]   \n",
      "32                  [TruePositive, BenignPositive]   \n",
      "85                                  [TruePositive]   \n",
      "36   [TruePositive, BenignPositive, FalsePositive]   \n",
      "26                                  [TruePositive]   \n",
      "0                                   [TruePositive]   \n",
      "14   [TruePositive, BenignPositive, FalsePositive]   \n",
      "13                                  [TruePositive]   \n",
      "112                                 [TruePositive]   \n",
      "95                                  [TruePositive]   \n",
      "103                                 [TruePositive]   \n",
      "118                                 [TruePositive]   \n",
      "102                                 [TruePositive]   \n",
      "90                                  [TruePositive]   \n",
      "128                                 [TruePositive]   \n",
      "\n",
      "                                            Categories  \n",
      "1    [Execution, Malware, Ransomware, DefenseEvasio...  \n",
      "125                  [CredentialAccess, InitialAccess]  \n",
      "63                   [CredentialAccess, InitialAccess]  \n",
      "126  [InitialAccess, CredentialAccess, SuspiciousAc...  \n",
      "106  [CredentialAccess, InitialAccess, LateralMovem...  \n",
      "69   [InitialAccess, CredentialAccess, SuspiciousAc...  \n",
      "32   [InitialAccess, CredentialAccess, SuspiciousAc...  \n",
      "85   [InitialAccess, CredentialAccess, SuspiciousAc...  \n",
      "36   [CredentialAccess, InitialAccess, SuspiciousAc...  \n",
      "26   [InitialAccess, CredentialAccess, SuspiciousAc...  \n",
      "0                    [InitialAccess, CredentialAccess]  \n",
      "14                  [InitialAccess, CommandAndControl]  \n",
      "13   [InitialAccess, CredentialAccess, SuspiciousAc...  \n",
      "112                  [InitialAccess, CredentialAccess]  \n",
      "95   [InitialAccess, CredentialAccess, DefenseEvasi...  \n",
      "103                  [InitialAccess, CredentialAccess]  \n",
      "118                  [InitialAccess, CredentialAccess]  \n",
      "102  [InitialAccess, CredentialAccess, SuspiciousAc...  \n",
      "90                   [InitialAccess, CredentialAccess]  \n",
      "128  [InitialAccess, CredentialAccess, SuspiciousAc...  \n",
      "\n",
      "Number of incidents with multiple grades: 100157\n",
      "\n",
      "Example incidents with multiple grades:\n",
      "    IncidentId  TotalAlertCount  UniqueAlertCount  EvidenceCount  \\\n",
      "1            2            20525              5372          20525   \n",
      "32          44            10010              3085          10010   \n",
      "36          48            10014              3056          10014   \n",
      "14          24            10042              3019          10042   \n",
      "19          30            10020              2993          10020   \n",
      "\n",
      "                                   IncidentGrades  \\\n",
      "1                  [BenignPositive, TruePositive]   \n",
      "32                 [TruePositive, BenignPositive]   \n",
      "36  [TruePositive, BenignPositive, FalsePositive]   \n",
      "14  [TruePositive, BenignPositive, FalsePositive]   \n",
      "19                 [TruePositive, BenignPositive]   \n",
      "\n",
      "                                           Categories  \n",
      "1   [Execution, Malware, Ransomware, DefenseEvasio...  \n",
      "32  [InitialAccess, CredentialAccess, SuspiciousAc...  \n",
      "36  [CredentialAccess, InitialAccess, SuspiciousAc...  \n",
      "14                 [InitialAccess, CommandAndControl]  \n",
      "19                  [InitialAccess, CredentialAccess]  \n",
      "\n",
      "Category Analysis:\n",
      "\n",
      "Number of unique categories per incident:\n",
      "CategoryCount\n",
      "1     347316\n",
      "2      78590\n",
      "3      28021\n",
      "4       8829\n",
      "5       2416\n",
      "6        629\n",
      "7        209\n",
      "8         73\n",
      "9         32\n",
      "10        16\n",
      "11        11\n",
      "12         1\n",
      "13         2\n",
      "14         2\n",
      "15         2\n",
      "16         2\n",
      "Name: count, dtype: int64\n",
      "\n",
      "Number of incidents with multiple categories: 118835\n",
      "\n",
      "Example incidents with multiple categories:\n",
      "     IncidentId                                         Categories  \\\n",
      "1             2  [Execution, Malware, Ransomware, DefenseEvasio...   \n",
      "125         173                  [CredentialAccess, InitialAccess]   \n",
      "63           82                  [CredentialAccess, InitialAccess]   \n",
      "126         174  [InitialAccess, CredentialAccess, SuspiciousAc...   \n",
      "106         143  [CredentialAccess, InitialAccess, LateralMovem...   \n",
      "\n",
      "                     IncidentGrades  \n",
      "1    [BenignPositive, TruePositive]  \n",
      "125                  [TruePositive]  \n",
      "63                   [TruePositive]  \n",
      "126                  [TruePositive]  \n",
      "106                  [TruePositive]  \n"
     ]
    }
   ],
   "source": [
    "# Create DataFrame with incident details\n",
    "incident_summary = df.groupby('IncidentId').agg({\n",
    "    'AlertId': ['count', 'nunique'],  # Total and unique alert counts\n",
    "    'Id': 'count',                    # Total evidence count\n",
    "    'IncidentGrade': lambda x: list(x.unique()),  # List of unique grades\n",
    "    'Category': lambda x: list(x.unique())  # List of unique categories\n",
    "}).reset_index()\n",
    "\n",
    "# Rename columns for clarity\n",
    "incident_summary.columns = ['IncidentId', 'TotalAlertCount', 'UniqueAlertCount', \n",
    "                          'EvidenceCount', 'IncidentGrades', 'Categories']\n",
    "\n",
    "# Sort by UniqueAlertCount in descending order\n",
    "incident_summary = incident_summary.sort_values('UniqueAlertCount', ascending=False)\n",
    "\n",
    "# Display first few rows\n",
    "print(\"\\nIncident Summary:\")\n",
    "print(incident_summary.head(20))\n",
    "\n",
    "# Show statistics about incidents with multiple grades\n",
    "multiple_grades = incident_summary[incident_summary['IncidentGrades'].str.len() > 1]\n",
    "print(f\"\\nNumber of incidents with multiple grades: {len(multiple_grades)}\")\n",
    "if len(multiple_grades) > 0:\n",
    "    print(\"\\nExample incidents with multiple grades:\")\n",
    "    print(multiple_grades.head())\n",
    "\n",
    "# Additional analysis of categories\n",
    "print(\"\\nCategory Analysis:\")\n",
    "print(\"\\nNumber of unique categories per incident:\")\n",
    "incident_summary['CategoryCount'] = incident_summary['Categories'].str.len()\n",
    "print(incident_summary['CategoryCount'].value_counts().sort_index())\n",
    "\n",
    "# Show incidents with multiple categories\n",
    "multiple_categories = incident_summary[incident_summary['CategoryCount'] > 1]\n",
    "print(f\"\\nNumber of incidents with multiple categories: {len(multiple_categories)}\")\n",
    "if len(multiple_categories) > 0:\n",
    "    print(\"\\nExample incidents with multiple categories:\")\n",
    "    print(multiple_categories[['IncidentId', 'Categories', 'IncidentGrades']].head())"
   ]
  },
  {
   "cell_type": "markdown",
   "metadata": {},
   "source": [
    "# Category distribution"
   ]
  },
  {
   "cell_type": "code",
   "execution_count": 48,
   "metadata": {},
   "outputs": [
    {
     "data": {
      "text/plain": [
       "Counter({'InitialAccess': 4293041,\n",
       "         'Exfiltration': 1577965,\n",
       "         'SuspiciousActivity': 1003933,\n",
       "         'CommandAndControl': 826691,\n",
       "         'Impact': 750885,\n",
       "         'CredentialAccess': 300518,\n",
       "         'Execution': 267594,\n",
       "         'Malware': 144081,\n",
       "         'Discovery': 129342,\n",
       "         'Persistence': 72682,\n",
       "         'DefenseEvasion': 46662,\n",
       "         'LateralMovement': 41754,\n",
       "         'Ransomware': 18974,\n",
       "         'UnwantedSoftware': 18211,\n",
       "         'Collection': 14753,\n",
       "         'PrivilegeEscalation': 4671,\n",
       "         'Exploit': 4648,\n",
       "         'CredentialStealing': 388,\n",
       "         'WebExploit': 38,\n",
       "         'Weaponization': 6})"
      ]
     },
     "execution_count": 48,
     "metadata": {},
     "output_type": "execute_result"
    }
   ],
   "source": [
    "from collections import Counter as C\n",
    "C(df['Category'])"
   ]
  },
  {
   "cell_type": "markdown",
   "metadata": {},
   "source": [
    "# Entity type distribution"
   ]
  },
  {
   "cell_type": "code",
   "execution_count": 57,
   "metadata": {},
   "outputs": [
    {
     "data": {
      "text/plain": [
       "Counter({'Ip': 2181194,\n",
       "         'User': 1932416,\n",
       "         'MailMessage': 1173154,\n",
       "         'Machine': 699208,\n",
       "         'File': 688402,\n",
       "         'Url': 682578,\n",
       "         'CloudLogonRequest': 638565,\n",
       "         'Mailbox': 483158,\n",
       "         'Process': 345732,\n",
       "         'MailCluster': 224684,\n",
       "         'CloudApplication': 216811,\n",
       "         'CloudLogonSession': 212382,\n",
       "         'RegistryValue': 11209,\n",
       "         'AzureResource': 8166,\n",
       "         'RegistryKey': 7277,\n",
       "         'GenericEntity': 4294,\n",
       "         'OAuthApplication': 2595,\n",
       "         'Malware': 2580,\n",
       "         'SecurityGroup': 1518,\n",
       "         'BlobContainer': 306,\n",
       "         'Blob': 263,\n",
       "         'MailboxConfiguration': 226,\n",
       "         'Nic': 49,\n",
       "         'IoTDevice': 31,\n",
       "         'ActiveDirectoryDomain': 11,\n",
       "         'GoogleCloudResource': 10,\n",
       "         'AmazonResource': 6,\n",
       "         'Container': 2,\n",
       "         'KubernetesCluster': 2,\n",
       "         'ContainerImage': 2,\n",
       "         'KubernetesNamespace': 2,\n",
       "         'KubernetesPod': 2,\n",
       "         'ContainerRegistry': 2})"
      ]
     },
     "execution_count": 57,
     "metadata": {},
     "output_type": "execute_result"
    }
   ],
   "source": [
    "C(df['EntityType'])"
   ]
  },
  {
   "cell_type": "markdown",
   "metadata": {},
   "source": [
    "# Evidence role distribution"
   ]
  },
  {
   "cell_type": "code",
   "execution_count": 59,
   "metadata": {},
   "outputs": [
    {
     "data": {
      "text/plain": [
       "Counter({'Related': 5208644, 'Impacted': 4308193})"
      ]
     },
     "execution_count": 59,
     "metadata": {},
     "output_type": "execute_result"
    }
   ],
   "source": [
    "C(df['EvidenceRole'])"
   ]
  },
  {
   "cell_type": "markdown",
   "metadata": {},
   "source": [
    "# Investigating alertid category mapping"
   ]
  },
  {
   "cell_type": "code",
   "execution_count": 49,
   "metadata": {},
   "outputs": [
    {
     "name": "stdout",
     "output_type": "stream",
     "text": [
      "\n",
      "=== Alert-Category Analysis ===\n",
      "Total unique AlertIds: 1265644\n",
      "Total rows in dataset: 9516837\n",
      "\n",
      "Alerts with multiple categories:\n",
      "Count: 0\n",
      "\n",
      "=== Example Alert 123247 ===\n",
      "Records for this alert:\n",
      "         AlertId       Category         EntityType             Id\n",
      "0         123247  InitialAccess                 Ip   180388628218\n",
      "1734124   123247  InitialAccess               User  1357209667315\n",
      "2664035   123247  InitialAccess  CloudLogonRequest   103079216827\n",
      "4315653   123247  InitialAccess                 Ip  1357209667315\n",
      "4392684   123247  InitialAccess               User   180388628218\n",
      "\n",
      "Category distribution in raw data:\n",
      "Category\n",
      "InitialAccess         4293041\n",
      "Exfiltration          1577965\n",
      "SuspiciousActivity    1003933\n",
      "CommandAndControl      826691\n",
      "Impact                 750885\n",
      "Name: count, dtype: int64\n",
      "\n",
      "Unique alerts per category:\n",
      "Category\n",
      "Collection              2421\n",
      "CommandAndControl     108274\n",
      "CredentialAccess       46329\n",
      "CredentialStealing        19\n",
      "DefenseEvasion          7947\n",
      "Name: AlertId, dtype: int64\n",
      "\n",
      "Number of categories per AlertId:\n",
      "1    1265644\n",
      "Name: count, dtype: int64\n"
     ]
    }
   ],
   "source": [
    "def investigate_alert_category_relationship():\n",
    "    # 1. First, verify unique AlertIds and their categories\n",
    "    alert_categories = df.groupby('AlertId')['Category'].nunique()\n",
    "    \n",
    "    print(\"\\n=== Alert-Category Analysis ===\")\n",
    "    print(f\"Total unique AlertIds: {df['AlertId'].nunique()}\")\n",
    "    print(f\"Total rows in dataset: {len(df)}\")\n",
    "    \n",
    "    # Check if alerts have multiple categories\n",
    "    print(\"\\nAlerts with multiple categories:\")\n",
    "    multiple_categories = alert_categories[alert_categories > 1]\n",
    "    print(f\"Count: {len(multiple_categories)}\")\n",
    "    \n",
    "    # 2. Look at an example alert in detail\n",
    "    example_alert = df['AlertId'].iloc[0]\n",
    "    alert_data = df[df['AlertId'] == example_alert]\n",
    "    \n",
    "    print(f\"\\n=== Example Alert {example_alert} ===\")\n",
    "    print(\"Records for this alert:\")\n",
    "    print(alert_data[['AlertId', 'Category', 'EntityType', 'Id']].head())\n",
    "    \n",
    "    # 3. Count distribution\n",
    "    print(\"\\nCategory distribution in raw data:\")\n",
    "    print(df['Category'].value_counts().head())\n",
    "    \n",
    "    print(\"\\nUnique alerts per category:\")\n",
    "    alerts_per_category = df.groupby('Category')['AlertId'].nunique()\n",
    "    print(alerts_per_category.head())\n",
    "    \n",
    "    # 4. Check if same AlertId appears with different categories\n",
    "    alert_category_pairs = df.groupby(['AlertId', 'Category']).size().reset_index()\n",
    "    alerts_with_multiple = alert_category_pairs.groupby('AlertId').size()\n",
    "    print(\"\\nNumber of categories per AlertId:\")\n",
    "    print(alerts_with_multiple.value_counts().sort_index())\n",
    "\n",
    "investigate_alert_category_relationship()"
   ]
  },
  {
   "cell_type": "markdown",
   "metadata": {},
   "source": [
    "# Lets use alert category to find out how does it relate to some of the features"
   ]
  },
  {
   "cell_type": "code",
   "execution_count": 58,
   "metadata": {},
   "outputs": [
    {
     "name": "stdout",
     "output_type": "stream",
     "text": [
      "\n",
      "=== Category Combinations with Grade Distribution ===\n",
      "                                                    total_incidents  \\\n",
      "category_combination                                                  \n",
      "(InitialAccess,)                                             127905   \n",
      "(SuspiciousActivity,)                                         76597   \n",
      "(Exfiltration,)                                               60310   \n",
      "(CommandAndControl,)                                          39648   \n",
      "(Execution,)                                                  23838   \n",
      "(InitialAccess, SuspiciousActivity)                           14956   \n",
      "(Exfiltration, InitialAccess)                                 14049   \n",
      "(CommandAndControl, SuspiciousActivity)                        8067   \n",
      "(CommandAndControl, InitialAccess)                             7904   \n",
      "(CredentialAccess,)                                            5281   \n",
      "(Exfiltration, SuspiciousActivity)                             4699   \n",
      "(Malware,)                                                     4060   \n",
      "(Exfiltration, InitialAccess, SuspiciousActivity)              3808   \n",
      "(CommandAndControl, InitialAccess, SuspiciousAc...             3718   \n",
      "(Execution, InitialAccess)                                     3544   \n",
      "(CredentialAccess, InitialAccess)                              3523   \n",
      "(Discovery,)                                                   2758   \n",
      "(Execution, Exfiltration)                                      2248   \n",
      "(CredentialAccess, InitialAccess, SuspiciousAct...             1962   \n",
      "(CommandAndControl, Exfiltration)                              1786   \n",
      "\n",
      "                                                    true_positive  \\\n",
      "category_combination                                                \n",
      "(InitialAccess,)                                            27450   \n",
      "(SuspiciousActivity,)                                       28565   \n",
      "(Exfiltration,)                                              4189   \n",
      "(CommandAndControl,)                                         4995   \n",
      "(Execution,)                                                 3315   \n",
      "(InitialAccess, SuspiciousActivity)                          3856   \n",
      "(Exfiltration, InitialAccess)                                1887   \n",
      "(CommandAndControl, SuspiciousActivity)                      1609   \n",
      "(CommandAndControl, InitialAccess)                           1912   \n",
      "(CredentialAccess,)                                          1413   \n",
      "(Exfiltration, SuspiciousActivity)                           1086   \n",
      "(Malware,)                                                   1091   \n",
      "(Exfiltration, InitialAccess, SuspiciousActivity)             712   \n",
      "(CommandAndControl, InitialAccess, SuspiciousAc...            810   \n",
      "(Execution, InitialAccess)                                    497   \n",
      "(CredentialAccess, InitialAccess)                            1150   \n",
      "(Discovery,)                                                  210   \n",
      "(Execution, Exfiltration)                                     199   \n",
      "(CredentialAccess, InitialAccess, SuspiciousAct...            565   \n",
      "(CommandAndControl, Exfiltration)                             198   \n",
      "\n",
      "                                                    benign_positive  \\\n",
      "category_combination                                                  \n",
      "(InitialAccess,)                                              39197   \n",
      "(SuspiciousActivity,)                                         36757   \n",
      "(Exfiltration,)                                               26189   \n",
      "(CommandAndControl,)                                          31354   \n",
      "(Execution,)                                                   6695   \n",
      "(InitialAccess, SuspiciousActivity)                            6632   \n",
      "(Exfiltration, InitialAccess)                                  8576   \n",
      "(CommandAndControl, SuspiciousActivity)                        5872   \n",
      "(CommandAndControl, InitialAccess)                             3948   \n",
      "(CredentialAccess,)                                            3058   \n",
      "(Exfiltration, SuspiciousActivity)                             3011   \n",
      "(Malware,)                                                     1384   \n",
      "(Exfiltration, InitialAccess, SuspiciousActivity)              2164   \n",
      "(CommandAndControl, InitialAccess, SuspiciousAc...             2013   \n",
      "(Execution, InitialAccess)                                     2301   \n",
      "(CredentialAccess, InitialAccess)                              1375   \n",
      "(Discovery,)                                                   2297   \n",
      "(Execution, Exfiltration)                                      1246   \n",
      "(CredentialAccess, InitialAccess, SuspiciousAct...              720   \n",
      "(CommandAndControl, Exfiltration)                              1158   \n",
      "\n",
      "                                                    false_positive  \n",
      "category_combination                                                \n",
      "(InitialAccess,)                                             59856  \n",
      "(SuspiciousActivity,)                                         9305  \n",
      "(Exfiltration,)                                              17228  \n",
      "(CommandAndControl,)                                          2953  \n",
      "(Execution,)                                                 13761  \n",
      "(InitialAccess, SuspiciousActivity)                           4459  \n",
      "(Exfiltration, InitialAccess)                                 3586  \n",
      "(CommandAndControl, SuspiciousActivity)                        519  \n",
      "(CommandAndControl, InitialAccess)                            2044  \n",
      "(CredentialAccess,)                                            719  \n",
      "(Exfiltration, SuspiciousActivity)                             592  \n",
      "(Malware,)                                                    1524  \n",
      "(Exfiltration, InitialAccess, SuspiciousActivity)              932  \n",
      "(CommandAndControl, InitialAccess, SuspiciousAc...             895  \n",
      "(Execution, InitialAccess)                                     746  \n",
      "(CredentialAccess, InitialAccess)                              989  \n",
      "(Discovery,)                                                   194  \n",
      "(Execution, Exfiltration)                                      803  \n",
      "(CredentialAccess, InitialAccess, SuspiciousAct...             677  \n",
      "(CommandAndControl, Exfiltration)                              423  \n",
      "\n",
      "=== MITRE Technique Combinations with Grade Distribution ===\n",
      "                                              total_incidents  true_positive  \\\n",
      "mitre_combination                                                              \n",
      "()                                                     283099          60788   \n",
      "(T1078;T1078.004,)                                      66515           9156   \n",
      "(T1566,)                                                24229           5352   \n",
      "(T1566.002,)                                            20231           6110   \n",
      "(T1078;T1078.004, T1566)                                 4750            960   \n",
      "(T1566.001,)                                             4603            717   \n",
      "(T1078;T1078.004, T1566.002)                             3043            769   \n",
      "(T1110;T1110.003;T1110.001,)                             2412           1440   \n",
      "(T1566, T1566.002)                                       2347            622   \n",
      "(T1078,)                                                 2008            264   \n",
      "(T1110,)                                                 1910            347   \n",
      "(T1559;T1106;T1059.005,)                                 1906             73   \n",
      "(T1046,)                                                  876              8   \n",
      "(T1087;T1087.002,)                                        823             23   \n",
      "(T1078;T1078.004, T1566, T1566.002)                       811            214   \n",
      "(T1078;T1078.004, T1566.001)                              810            223   \n",
      "(T1210,)                                                  697             48   \n",
      "(T1566, T1566.001)                                        655            166   \n",
      "(T1078;T1078.004, T1110;T1110.003;T1110.001)              612            355   \n",
      "(T1568;T1008,)                                            580             80   \n",
      "\n",
      "                                              benign_positive  false_positive  \n",
      "mitre_combination                                                              \n",
      "()                                                     142397           64066  \n",
      "(T1078;T1078.004,)                                       8563           48581  \n",
      "(T1566,)                                                14407            3931  \n",
      "(T1566.002,)                                            12186            1879  \n",
      "(T1078;T1078.004, T1566)                                 2052            1738  \n",
      "(T1566.001,)                                             3583             300  \n",
      "(T1078;T1078.004, T1566.002)                             1529             745  \n",
      "(T1110;T1110.003;T1110.001,)                              495             475  \n",
      "(T1566, T1566.002)                                       1348             377  \n",
      "(T1078,)                                                 1143             583  \n",
      "(T1110,)                                                 1352             204  \n",
      "(T1559;T1106;T1059.005,)                                 1770              63  \n",
      "(T1046,)                                                  841              27  \n",
      "(T1087;T1087.002,)                                        678             118  \n",
      "(T1078;T1078.004, T1566, T1566.002)                       388             209  \n",
      "(T1078;T1078.004, T1566.001)                              373             214  \n",
      "(T1210,)                                                  526             123  \n",
      "(T1566, T1566.001)                                        386             103  \n",
      "(T1078;T1078.004, T1110;T1110.003;T1110.001)              104             152  \n",
      "(T1568;T1008,)                                            367             133  \n"
     ]
    }
   ],
   "source": [
    "def analyze_incident_combinations():\n",
    "    # First get category combinations per incident\n",
    "    incident_categories = df.groupby('IncidentId')['Category'].agg(\n",
    "        lambda x: tuple(sorted(set(x)))  # Get unique categories per incident as tuple\n",
    "    )\n",
    "    \n",
    "    # Get incident grades\n",
    "    incident_grades = df.groupby('IncidentId')['IncidentGrade'].first()  # Each incident has one grade\n",
    "    \n",
    "    # Combine categories and grades\n",
    "    incident_data = pd.DataFrame({\n",
    "        'category_combination': incident_categories,\n",
    "        'grade': incident_grades\n",
    "    })\n",
    "    \n",
    "    # Now get counts for each category combination\n",
    "    combination_grades = incident_data.groupby('category_combination').agg([\n",
    "        ('total_incidents', 'size'),\n",
    "        ('true_positive', lambda x: (x == 'TruePositive').sum()),\n",
    "        ('benign_positive', lambda x: (x == 'BenignPositive').sum()),\n",
    "        ('false_positive', lambda x: (x == 'FalsePositive').sum())\n",
    "    ])['grade'].sort_values('total_incidents', ascending=False)\n",
    "    \n",
    "    print(\"\\n=== Category Combinations with Grade Distribution ===\")\n",
    "    print(combination_grades.head(20))\n",
    "    \n",
    "    # Same for MITRE techniques\n",
    "    incident_mitre = df.groupby('IncidentId')['MitreTechniques'].agg(\n",
    "        lambda x: tuple(sorted(set(t for t in x if pd.notna(t))))  # Handle NaN values\n",
    "    )\n",
    "    \n",
    "    mitre_data = pd.DataFrame({\n",
    "        'mitre_combination': incident_mitre,\n",
    "        'grade': incident_grades\n",
    "    })\n",
    "    \n",
    "    mitre_grades = mitre_data.groupby('mitre_combination').agg([\n",
    "        ('total_incidents', 'size'),\n",
    "        ('true_positive', lambda x: (x == 'TruePositive').sum()),\n",
    "        ('benign_positive', lambda x: (x == 'BenignPositive').sum()),\n",
    "        ('false_positive', lambda x: (x == 'FalsePositive').sum())\n",
    "    ])['grade'].sort_values('total_incidents', ascending=False)\n",
    "    \n",
    "    print(\"\\n=== MITRE Technique Combinations with Grade Distribution ===\")\n",
    "    print(mitre_grades.head(20))\n",
    "\n",
    "analyze_incident_combinations()"
   ]
  },
  {
   "cell_type": "markdown",
   "metadata": {},
   "source": [
    "# Can we drop columns that have a lot of nulls?"
   ]
  },
  {
   "cell_type": "code",
   "execution_count": 60,
   "metadata": {},
   "outputs": [
    {
     "data": {
      "text/plain": [
       "Id                          0\n",
       "OrgId                       0\n",
       "IncidentId                  0\n",
       "AlertId                     0\n",
       "Timestamp                   0\n",
       "DetectorId                  0\n",
       "AlertTitle                  0\n",
       "Category                    0\n",
       "MitreTechniques       5468386\n",
       "IncidentGrade           51340\n",
       "ActionGrouped         9460773\n",
       "ActionGranular        9460773\n",
       "EntityType                  0\n",
       "EvidenceRole                0\n",
       "DeviceId                    0\n",
       "Sha256                      0\n",
       "IpAddress                   0\n",
       "Url                         0\n",
       "AccountSid                  0\n",
       "AccountUpn                  0\n",
       "AccountObjectId             0\n",
       "AccountName                 0\n",
       "DeviceName                  0\n",
       "NetworkMessageId            0\n",
       "EmailClusterId        9420025\n",
       "RegistryKey                 0\n",
       "RegistryValueName           0\n",
       "RegistryValueData           0\n",
       "ApplicationId               0\n",
       "ApplicationName             0\n",
       "OAuthApplicationId          0\n",
       "ThreatFamily          9441956\n",
       "FileName                    0\n",
       "FolderPath                  0\n",
       "ResourceIdName              0\n",
       "ResourceType          9509762\n",
       "Roles                 9298686\n",
       "OSFamily                    0\n",
       "OSVersion                   0\n",
       "AntispamDirection     9339535\n",
       "SuspicionLevel        8072708\n",
       "LastVerdict           7282572\n",
       "CountryCode                 0\n",
       "State                       0\n",
       "City                        0\n",
       "dtype: int64"
      ]
     },
     "execution_count": 60,
     "metadata": {},
     "output_type": "execute_result"
    }
   ],
   "source": [
    "df.isnull().sum()"
   ]
  },
  {
   "cell_type": "markdown",
   "metadata": {},
   "source": [
    "# Finding Correlation"
   ]
  },
  {
   "cell_type": "code",
   "execution_count": 67,
   "metadata": {},
   "outputs": [
    {
     "name": "stdout",
     "output_type": "stream",
     "text": [
      "\n",
      "==================== Correlations with IncidentGrade ====================\n"
     ]
    },
    {
     "name": "stderr",
     "output_type": "stream",
     "text": [
      "Analyzing features for IncidentGrade: 100%|██████████| 30/30 [00:59<00:00,  1.99s/it]\n"
     ]
    },
    {
     "name": "stdout",
     "output_type": "stream",
     "text": [
      "\n",
      "Top 20 Correlated Features:\n",
      "============================================================\n",
      "\n",
      "Feature: EmailClusterId\n",
      "Cramer's V: 0.8737\n",
      "Null Rate: 98.98%\n",
      "Unique Values: 26,474\n",
      "Valid Rows: 96,812\n",
      "Coverage: 1.02%\n",
      "----------------------------------------\n",
      "\n",
      "Feature: Timestamp\n",
      "Cramer's V: 0.8648\n",
      "Null Rate: 0.00%\n",
      "Unique Values: 760,944\n",
      "Valid Rows: 9,465,497\n",
      "Coverage: 99.46%\n",
      "----------------------------------------\n",
      "\n",
      "Feature: AlertTitle\n",
      "Cramer's V: 0.7174\n",
      "Null Rate: 0.00%\n",
      "Unique Values: 86,149\n",
      "Valid Rows: 9,465,497\n",
      "Coverage: 99.46%\n",
      "----------------------------------------\n",
      "\n",
      "Feature: DetectorId\n",
      "Cramer's V: 0.7012\n",
      "Null Rate: 0.00%\n",
      "Unique Values: 8,428\n",
      "Valid Rows: 9,465,497\n",
      "Coverage: 99.46%\n",
      "----------------------------------------\n",
      "\n",
      "Feature: ThreatFamily\n",
      "Cramer's V: 0.6656\n",
      "Null Rate: 99.21%\n",
      "Unique Values: 1,745\n",
      "Valid Rows: 74,881\n",
      "Coverage: 0.79%\n",
      "----------------------------------------\n",
      "\n",
      "Feature: AccountUpn\n",
      "Cramer's V: 0.5810\n",
      "Null Rate: 0.00%\n",
      "Unique Values: 530,183\n",
      "Valid Rows: 9,465,497\n",
      "Coverage: 99.46%\n",
      "----------------------------------------\n",
      "\n",
      "Feature: MitreTechniques\n",
      "Cramer's V: 0.5456\n",
      "Null Rate: 57.46%\n",
      "Unique Values: 1,193\n",
      "Valid Rows: 4,037,984\n",
      "Coverage: 42.43%\n",
      "----------------------------------------\n",
      "\n",
      "Feature: AccountName\n",
      "Cramer's V: 0.4744\n",
      "Null Rate: 0.00%\n",
      "Unique Values: 368,250\n",
      "Valid Rows: 9,465,497\n",
      "Coverage: 99.46%\n",
      "----------------------------------------\n",
      "\n",
      "Feature: ResourceType\n",
      "Cramer's V: 0.4141\n",
      "Null Rate: 99.93%\n",
      "Unique Values: 25\n",
      "Valid Rows: 7,015\n",
      "Coverage: 0.07%\n",
      "----------------------------------------\n",
      "\n",
      "Feature: IpAddress\n",
      "Cramer's V: 0.3989\n",
      "Null Rate: 0.00%\n",
      "Unique Values: 285,957\n",
      "Valid Rows: 9,465,497\n",
      "Coverage: 99.46%\n",
      "----------------------------------------\n",
      "\n",
      "Feature: EntityType\n",
      "Cramer's V: 0.3076\n",
      "Null Rate: 0.00%\n",
      "Unique Values: 33\n",
      "Valid Rows: 9,465,497\n",
      "Coverage: 99.46%\n",
      "----------------------------------------\n",
      "\n",
      "Feature: Category\n",
      "Cramer's V: 0.3068\n",
      "Null Rate: 0.00%\n",
      "Unique Values: 20\n",
      "Valid Rows: 9,465,497\n",
      "Coverage: 99.46%\n",
      "----------------------------------------\n",
      "\n",
      "Feature: Roles\n",
      "Cramer's V: 0.3037\n",
      "Null Rate: 97.71%\n",
      "Unique Values: 10\n",
      "Valid Rows: 217,855\n",
      "Coverage: 2.29%\n",
      "----------------------------------------\n",
      "\n",
      "Feature: FileName\n",
      "Cramer's V: 0.2756\n",
      "Null Rate: 0.00%\n",
      "Unique Values: 222,085\n",
      "Valid Rows: 9,465,497\n",
      "Coverage: 99.46%\n",
      "----------------------------------------\n",
      "\n",
      "Feature: DeviceName\n",
      "Cramer's V: 0.2680\n",
      "Null Rate: 0.00%\n",
      "Unique Values: 114,541\n",
      "Valid Rows: 9,465,497\n",
      "Coverage: 99.46%\n",
      "----------------------------------------\n",
      "\n",
      "Feature: City\n",
      "Cramer's V: 0.2335\n",
      "Null Rate: 0.00%\n",
      "Unique Values: 9,342\n",
      "Valid Rows: 9,465,497\n",
      "Coverage: 99.46%\n",
      "----------------------------------------\n",
      "\n",
      "Feature: Sha256\n",
      "Cramer's V: 0.2282\n",
      "Null Rate: 0.00%\n",
      "Unique Values: 106,416\n",
      "Valid Rows: 9,465,497\n",
      "Coverage: 99.46%\n",
      "----------------------------------------\n",
      "\n",
      "Feature: FolderPath\n",
      "Cramer's V: 0.2282\n",
      "Null Rate: 0.00%\n",
      "Unique Values: 87,832\n",
      "Valid Rows: 9,465,497\n",
      "Coverage: 99.46%\n",
      "----------------------------------------\n",
      "\n",
      "Feature: CountryCode\n",
      "Cramer's V: 0.2247\n",
      "Null Rate: 0.00%\n",
      "Unique Values: 236\n",
      "Valid Rows: 9,465,497\n",
      "Coverage: 99.46%\n",
      "----------------------------------------\n",
      "\n",
      "Feature: State\n",
      "Cramer's V: 0.2196\n",
      "Null Rate: 0.00%\n",
      "Unique Values: 1,368\n",
      "Valid Rows: 9,465,497\n",
      "Coverage: 99.46%\n",
      "----------------------------------------\n",
      "\n",
      "Detailed results saved to: correlation_results_IncidentGrade.csv\n",
      "\n",
      "Summary Statistics:\n",
      "Average Correlation: 0.3179\n",
      "Median Correlation: 0.2507\n",
      "Features with Correlation > 0.3: 13\n",
      "Features with Correlation > 0.5: 7\n",
      "\n",
      "Correlation Distribution:\n",
      "(0.0, 0.1]: 8 features\n",
      "(0.1, 0.2]: 1 features\n",
      "(0.2, 0.3]: 8 features\n",
      "(0.3, 0.4]: 4 features\n",
      "(0.4, 0.5]: 2 features\n",
      "(0.5, 0.6]: 2 features\n",
      "(0.6, 0.7]: 1 features\n",
      "(0.7, 0.8]: 2 features\n",
      "(0.8, 0.9]: 2 features\n",
      "(0.9, 1.0]: 0 features\n",
      "\n",
      "============================================================\n",
      "\n",
      "\n",
      "==================== Correlations with ActionGrouped ====================\n"
     ]
    },
    {
     "name": "stderr",
     "output_type": "stream",
     "text": [
      "Analyzing features for ActionGrouped: 100%|██████████| 30/30 [00:13<00:00,  2.28it/s]\n"
     ]
    },
    {
     "name": "stdout",
     "output_type": "stream",
     "text": [
      "\n",
      "Top 20 Correlated Features:\n",
      "============================================================\n",
      "\n",
      "Feature: Timestamp\n",
      "Cramer's V: 0.9893\n",
      "Null Rate: 0.00%\n",
      "Unique Values: 760,944\n",
      "Valid Rows: 56,064\n",
      "Coverage: 0.59%\n",
      "----------------------------------------\n",
      "\n",
      "Feature: EntityType\n",
      "Cramer's V: 0.9729\n",
      "Null Rate: 0.00%\n",
      "Unique Values: 33\n",
      "Valid Rows: 56,064\n",
      "Coverage: 0.59%\n",
      "----------------------------------------\n",
      "\n",
      "Feature: AlertTitle\n",
      "Cramer's V: 0.9583\n",
      "Null Rate: 0.00%\n",
      "Unique Values: 86,149\n",
      "Valid Rows: 56,064\n",
      "Coverage: 0.59%\n",
      "----------------------------------------\n",
      "\n",
      "Feature: DetectorId\n",
      "Cramer's V: 0.9508\n",
      "Null Rate: 0.00%\n",
      "Unique Values: 8,428\n",
      "Valid Rows: 56,064\n",
      "Coverage: 0.59%\n",
      "----------------------------------------\n",
      "\n",
      "Feature: DeviceName\n",
      "Cramer's V: 0.7726\n",
      "Null Rate: 0.00%\n",
      "Unique Values: 114,541\n",
      "Valid Rows: 56,064\n",
      "Coverage: 0.59%\n",
      "----------------------------------------\n",
      "\n",
      "Feature: MitreTechniques\n",
      "Cramer's V: 0.7316\n",
      "Null Rate: 57.46%\n",
      "Unique Values: 1,193\n",
      "Valid Rows: 12,618\n",
      "Coverage: 0.13%\n",
      "----------------------------------------\n",
      "\n",
      "Feature: AccountName\n",
      "Cramer's V: 0.7071\n",
      "Null Rate: 0.00%\n",
      "Unique Values: 368,250\n",
      "Valid Rows: 56,064\n",
      "Coverage: 0.59%\n",
      "----------------------------------------\n",
      "\n",
      "Feature: AccountUpn\n",
      "Cramer's V: 0.7019\n",
      "Null Rate: 0.00%\n",
      "Unique Values: 530,183\n",
      "Valid Rows: 56,064\n",
      "Coverage: 0.59%\n",
      "----------------------------------------\n",
      "\n",
      "Feature: ResourceIdName\n",
      "Cramer's V: 0.6748\n",
      "Null Rate: 0.00%\n",
      "Unique Values: 2,309\n",
      "Valid Rows: 56,064\n",
      "Coverage: 0.59%\n",
      "----------------------------------------\n",
      "\n",
      "Feature: OSFamily\n",
      "Cramer's V: 0.6477\n",
      "Null Rate: 0.00%\n",
      "Unique Values: 6\n",
      "Valid Rows: 56,064\n",
      "Coverage: 0.59%\n",
      "----------------------------------------\n",
      "\n",
      "Feature: OSVersion\n",
      "Cramer's V: 0.6477\n",
      "Null Rate: 0.00%\n",
      "Unique Values: 58\n",
      "Valid Rows: 56,064\n",
      "Coverage: 0.59%\n",
      "----------------------------------------\n",
      "\n",
      "Feature: Category\n",
      "Cramer's V: 0.4465\n",
      "Null Rate: 0.00%\n",
      "Unique Values: 20\n",
      "Valid Rows: 56,064\n",
      "Coverage: 0.59%\n",
      "----------------------------------------\n",
      "\n",
      "Feature: EvidenceRole\n",
      "Cramer's V: 0.0053\n",
      "Null Rate: 0.00%\n",
      "Unique Values: 2\n",
      "Valid Rows: 56,064\n",
      "Coverage: 0.59%\n",
      "----------------------------------------\n",
      "\n",
      "Feature: RegistryValueData\n",
      "Cramer's V: 0.0000\n",
      "Null Rate: 0.00%\n",
      "Unique Values: 699\n",
      "Valid Rows: 56,064\n",
      "Coverage: 0.59%\n",
      "----------------------------------------\n",
      "\n",
      "Feature: State\n",
      "Cramer's V: 0.0000\n",
      "Null Rate: 0.00%\n",
      "Unique Values: 1,368\n",
      "Valid Rows: 56,064\n",
      "Coverage: 0.59%\n",
      "----------------------------------------\n",
      "\n",
      "Feature: CountryCode\n",
      "Cramer's V: 0.0000\n",
      "Null Rate: 0.00%\n",
      "Unique Values: 236\n",
      "Valid Rows: 56,064\n",
      "Coverage: 0.59%\n",
      "----------------------------------------\n",
      "\n",
      "Feature: FolderPath\n",
      "Cramer's V: 0.0000\n",
      "Null Rate: 0.00%\n",
      "Unique Values: 87,832\n",
      "Valid Rows: 56,064\n",
      "Coverage: 0.59%\n",
      "----------------------------------------\n",
      "\n",
      "Feature: FileName\n",
      "Cramer's V: 0.0000\n",
      "Null Rate: 0.00%\n",
      "Unique Values: 222,085\n",
      "Valid Rows: 56,064\n",
      "Coverage: 0.59%\n",
      "----------------------------------------\n",
      "\n",
      "Feature: Sha256\n",
      "Cramer's V: 0.0000\n",
      "Null Rate: 0.00%\n",
      "Unique Values: 106,416\n",
      "Valid Rows: 56,064\n",
      "Coverage: 0.59%\n",
      "----------------------------------------\n",
      "\n",
      "Feature: RegistryValueName\n",
      "Cramer's V: 0.0000\n",
      "Null Rate: 0.00%\n",
      "Unique Values: 525\n",
      "Valid Rows: 56,064\n",
      "Coverage: 0.59%\n",
      "----------------------------------------\n",
      "\n",
      "Detailed results saved to: correlation_results_ActionGrouped.csv\n",
      "\n",
      "Summary Statistics:\n",
      "Average Correlation: 0.3410\n",
      "Median Correlation: 0.0000\n",
      "Features with Correlation > 0.3: 12\n",
      "Features with Correlation > 0.5: 11\n",
      "\n",
      "Correlation Distribution:\n",
      "(0.0, 0.1]: 1 features\n",
      "(0.1, 0.2]: 0 features\n",
      "(0.2, 0.3]: 0 features\n",
      "(0.3, 0.4]: 0 features\n",
      "(0.4, 0.5]: 1 features\n",
      "(0.5, 0.6]: 0 features\n",
      "(0.6, 0.7]: 3 features\n",
      "(0.7, 0.8]: 4 features\n",
      "(0.8, 0.9]: 0 features\n",
      "(0.9, 1.0]: 4 features\n",
      "\n",
      "============================================================\n",
      "\n",
      "\n",
      "==================== Correlations with ActionGranular ====================\n"
     ]
    },
    {
     "name": "stderr",
     "output_type": "stream",
     "text": [
      "Analyzing features for ActionGranular: 100%|██████████| 30/30 [00:13<00:00,  2.31it/s]\n"
     ]
    },
    {
     "name": "stdout",
     "output_type": "stream",
     "text": [
      "\n",
      "Top 20 Correlated Features:\n",
      "============================================================\n",
      "\n",
      "Feature: Timestamp\n",
      "Cramer's V: 0.9199\n",
      "Null Rate: 0.00%\n",
      "Unique Values: 760,944\n",
      "Valid Rows: 56,064\n",
      "Coverage: 0.59%\n",
      "----------------------------------------\n",
      "\n",
      "Feature: AccountName\n",
      "Cramer's V: 0.8613\n",
      "Null Rate: 0.00%\n",
      "Unique Values: 368,250\n",
      "Valid Rows: 56,064\n",
      "Coverage: 0.59%\n",
      "----------------------------------------\n",
      "\n",
      "Feature: AccountUpn\n",
      "Cramer's V: 0.8493\n",
      "Null Rate: 0.00%\n",
      "Unique Values: 530,183\n",
      "Valid Rows: 56,064\n",
      "Coverage: 0.59%\n",
      "----------------------------------------\n",
      "\n",
      "Feature: EntityType\n",
      "Cramer's V: 0.7969\n",
      "Null Rate: 0.00%\n",
      "Unique Values: 33\n",
      "Valid Rows: 56,064\n",
      "Coverage: 0.59%\n",
      "----------------------------------------\n",
      "\n",
      "Feature: AlertTitle\n",
      "Cramer's V: 0.6799\n",
      "Null Rate: 0.00%\n",
      "Unique Values: 86,149\n",
      "Valid Rows: 56,064\n",
      "Coverage: 0.59%\n",
      "----------------------------------------\n",
      "\n",
      "Feature: DetectorId\n",
      "Cramer's V: 0.6016\n",
      "Null Rate: 0.00%\n",
      "Unique Values: 8,428\n",
      "Valid Rows: 56,064\n",
      "Coverage: 0.59%\n",
      "----------------------------------------\n",
      "\n",
      "Feature: OSFamily\n",
      "Cramer's V: 0.5359\n",
      "Null Rate: 0.00%\n",
      "Unique Values: 6\n",
      "Valid Rows: 56,064\n",
      "Coverage: 0.59%\n",
      "----------------------------------------\n",
      "\n",
      "Feature: MitreTechniques\n",
      "Cramer's V: 0.4521\n",
      "Null Rate: 57.46%\n",
      "Unique Values: 1,193\n",
      "Valid Rows: 12,618\n",
      "Coverage: 0.13%\n",
      "----------------------------------------\n",
      "\n",
      "Feature: DeviceName\n",
      "Cramer's V: 0.3801\n",
      "Null Rate: 0.00%\n",
      "Unique Values: 114,541\n",
      "Valid Rows: 56,064\n",
      "Coverage: 0.59%\n",
      "----------------------------------------\n",
      "\n",
      "Feature: Category\n",
      "Cramer's V: 0.3068\n",
      "Null Rate: 0.00%\n",
      "Unique Values: 20\n",
      "Valid Rows: 56,064\n",
      "Coverage: 0.59%\n",
      "----------------------------------------\n",
      "\n",
      "Feature: OSVersion\n",
      "Cramer's V: 0.2966\n",
      "Null Rate: 0.00%\n",
      "Unique Values: 58\n",
      "Valid Rows: 56,064\n",
      "Coverage: 0.59%\n",
      "----------------------------------------\n",
      "\n",
      "Feature: Roles\n",
      "Cramer's V: 0.2781\n",
      "Null Rate: 97.71%\n",
      "Unique Values: 10\n",
      "Valid Rows: 411\n",
      "Coverage: 0.00%\n",
      "----------------------------------------\n",
      "\n",
      "Feature: ResourceIdName\n",
      "Cramer's V: 0.2464\n",
      "Null Rate: 0.00%\n",
      "Unique Values: 2,309\n",
      "Valid Rows: 56,064\n",
      "Coverage: 0.59%\n",
      "----------------------------------------\n",
      "\n",
      "Feature: EvidenceRole\n",
      "Cramer's V: 0.0382\n",
      "Null Rate: 0.00%\n",
      "Unique Values: 2\n",
      "Valid Rows: 56,064\n",
      "Coverage: 0.59%\n",
      "----------------------------------------\n",
      "\n",
      "Feature: RegistryValueData\n",
      "Cramer's V: 0.0000\n",
      "Null Rate: 0.00%\n",
      "Unique Values: 699\n",
      "Valid Rows: 56,064\n",
      "Coverage: 0.59%\n",
      "----------------------------------------\n",
      "\n",
      "Feature: State\n",
      "Cramer's V: 0.0000\n",
      "Null Rate: 0.00%\n",
      "Unique Values: 1,368\n",
      "Valid Rows: 56,064\n",
      "Coverage: 0.59%\n",
      "----------------------------------------\n",
      "\n",
      "Feature: CountryCode\n",
      "Cramer's V: 0.0000\n",
      "Null Rate: 0.00%\n",
      "Unique Values: 236\n",
      "Valid Rows: 56,064\n",
      "Coverage: 0.59%\n",
      "----------------------------------------\n",
      "\n",
      "Feature: FolderPath\n",
      "Cramer's V: 0.0000\n",
      "Null Rate: 0.00%\n",
      "Unique Values: 87,832\n",
      "Valid Rows: 56,064\n",
      "Coverage: 0.59%\n",
      "----------------------------------------\n",
      "\n",
      "Feature: FileName\n",
      "Cramer's V: 0.0000\n",
      "Null Rate: 0.00%\n",
      "Unique Values: 222,085\n",
      "Valid Rows: 56,064\n",
      "Coverage: 0.59%\n",
      "----------------------------------------\n",
      "\n",
      "Feature: Sha256\n",
      "Cramer's V: 0.0000\n",
      "Null Rate: 0.00%\n",
      "Unique Values: 106,416\n",
      "Valid Rows: 56,064\n",
      "Coverage: 0.59%\n",
      "----------------------------------------\n",
      "\n",
      "Detailed results saved to: correlation_results_ActionGranular.csv\n",
      "\n",
      "Summary Statistics:\n",
      "Average Correlation: 0.2683\n",
      "Median Correlation: 0.0382\n",
      "Features with Correlation > 0.3: 10\n",
      "Features with Correlation > 0.5: 7\n",
      "\n",
      "Correlation Distribution:\n",
      "(0.0, 0.1]: 1 features\n",
      "(0.1, 0.2]: 0 features\n",
      "(0.2, 0.3]: 3 features\n",
      "(0.3, 0.4]: 2 features\n",
      "(0.4, 0.5]: 1 features\n",
      "(0.5, 0.6]: 1 features\n",
      "(0.6, 0.7]: 2 features\n",
      "(0.7, 0.8]: 1 features\n",
      "(0.8, 0.9]: 2 features\n",
      "(0.9, 1.0]: 1 features\n",
      "\n",
      "============================================================\n",
      "\n",
      "\n",
      "==================== Correlations with SuspicionLevel ====================\n"
     ]
    },
    {
     "name": "stderr",
     "output_type": "stream",
     "text": [
      "Analyzing features for SuspicionLevel: 100%|██████████| 30/30 [00:20<00:00,  1.49it/s]\n"
     ]
    },
    {
     "name": "stdout",
     "output_type": "stream",
     "text": [
      "\n",
      "Top 20 Correlated Features:\n",
      "============================================================\n",
      "\n",
      "Feature: MitreTechniques\n",
      "Cramer's V: 0.7280\n",
      "Null Rate: 57.46%\n",
      "Unique Values: 1,193\n",
      "Valid Rows: 210,714\n",
      "Coverage: 2.21%\n",
      "----------------------------------------\n",
      "\n",
      "Feature: AlertTitle\n",
      "Cramer's V: 0.6987\n",
      "Null Rate: 0.00%\n",
      "Unique Values: 86,149\n",
      "Valid Rows: 1,444,129\n",
      "Coverage: 15.17%\n",
      "----------------------------------------\n",
      "\n",
      "Feature: Timestamp\n",
      "Cramer's V: 0.6958\n",
      "Null Rate: 0.00%\n",
      "Unique Values: 760,944\n",
      "Valid Rows: 1,444,129\n",
      "Coverage: 15.17%\n",
      "----------------------------------------\n",
      "\n",
      "Feature: DetectorId\n",
      "Cramer's V: 0.6812\n",
      "Null Rate: 0.00%\n",
      "Unique Values: 8,428\n",
      "Valid Rows: 1,444,129\n",
      "Coverage: 15.17%\n",
      "----------------------------------------\n",
      "\n",
      "Feature: AccountUpn\n",
      "Cramer's V: 0.6486\n",
      "Null Rate: 0.00%\n",
      "Unique Values: 530,183\n",
      "Valid Rows: 1,444,129\n",
      "Coverage: 15.17%\n",
      "----------------------------------------\n",
      "\n",
      "Feature: AccountName\n",
      "Cramer's V: 0.6482\n",
      "Null Rate: 0.00%\n",
      "Unique Values: 368,250\n",
      "Valid Rows: 1,444,129\n",
      "Coverage: 15.17%\n",
      "----------------------------------------\n",
      "\n",
      "Feature: FileName\n",
      "Cramer's V: 0.3038\n",
      "Null Rate: 0.00%\n",
      "Unique Values: 222,085\n",
      "Valid Rows: 1,444,129\n",
      "Coverage: 15.17%\n",
      "----------------------------------------\n",
      "\n",
      "Feature: Sha256\n",
      "Cramer's V: 0.2943\n",
      "Null Rate: 0.00%\n",
      "Unique Values: 106,416\n",
      "Valid Rows: 1,444,129\n",
      "Coverage: 15.17%\n",
      "----------------------------------------\n",
      "\n",
      "Feature: FolderPath\n",
      "Cramer's V: 0.2632\n",
      "Null Rate: 0.00%\n",
      "Unique Values: 87,832\n",
      "Valid Rows: 1,444,129\n",
      "Coverage: 15.17%\n",
      "----------------------------------------\n",
      "\n",
      "Feature: Category\n",
      "Cramer's V: 0.2038\n",
      "Null Rate: 0.00%\n",
      "Unique Values: 20\n",
      "Valid Rows: 1,444,129\n",
      "Coverage: 15.17%\n",
      "----------------------------------------\n",
      "\n",
      "Feature: ThreatFamily\n",
      "Cramer's V: 0.1849\n",
      "Null Rate: 99.21%\n",
      "Unique Values: 1,745\n",
      "Valid Rows: 74,881\n",
      "Coverage: 0.79%\n",
      "----------------------------------------\n",
      "\n",
      "Feature: EntityType\n",
      "Cramer's V: 0.0546\n",
      "Null Rate: 0.00%\n",
      "Unique Values: 33\n",
      "Valid Rows: 1,444,129\n",
      "Coverage: 15.17%\n",
      "----------------------------------------\n",
      "\n",
      "Feature: IpAddress\n",
      "Cramer's V: 0.0262\n",
      "Null Rate: 0.00%\n",
      "Unique Values: 285,957\n",
      "Valid Rows: 1,444,129\n",
      "Coverage: 15.17%\n",
      "----------------------------------------\n",
      "\n",
      "Feature: EvidenceRole\n",
      "Cramer's V: 0.0237\n",
      "Null Rate: 0.00%\n",
      "Unique Values: 2\n",
      "Valid Rows: 1,444,129\n",
      "Coverage: 15.17%\n",
      "----------------------------------------\n",
      "\n",
      "Feature: DeviceName\n",
      "Cramer's V: 0.0163\n",
      "Null Rate: 0.00%\n",
      "Unique Values: 114,541\n",
      "Valid Rows: 1,444,129\n",
      "Coverage: 15.17%\n",
      "----------------------------------------\n",
      "\n",
      "Feature: Url\n",
      "Cramer's V: 0.0163\n",
      "Null Rate: 0.00%\n",
      "Unique Values: 123,252\n",
      "Valid Rows: 1,444,129\n",
      "Coverage: 15.17%\n",
      "----------------------------------------\n",
      "\n",
      "Feature: OSVersion\n",
      "Cramer's V: 0.0128\n",
      "Null Rate: 0.00%\n",
      "Unique Values: 58\n",
      "Valid Rows: 1,444,129\n",
      "Coverage: 15.17%\n",
      "----------------------------------------\n",
      "\n",
      "Feature: OSFamily\n",
      "Cramer's V: 0.0128\n",
      "Null Rate: 0.00%\n",
      "Unique Values: 6\n",
      "Valid Rows: 1,444,129\n",
      "Coverage: 15.17%\n",
      "----------------------------------------\n",
      "\n",
      "Feature: RegistryKey\n",
      "Cramer's V: 0.0035\n",
      "Null Rate: 0.00%\n",
      "Unique Values: 1,341\n",
      "Valid Rows: 1,444,129\n",
      "Coverage: 15.17%\n",
      "----------------------------------------\n",
      "\n",
      "Feature: RegistryValueData\n",
      "Cramer's V: 0.0016\n",
      "Null Rate: 0.00%\n",
      "Unique Values: 699\n",
      "Valid Rows: 1,444,129\n",
      "Coverage: 15.17%\n",
      "----------------------------------------\n",
      "\n",
      "Detailed results saved to: correlation_results_SuspicionLevel.csv\n",
      "\n",
      "Summary Statistics:\n",
      "Average Correlation: 0.2123\n",
      "Median Correlation: 0.0249\n",
      "Features with Correlation > 0.3: 7\n",
      "Features with Correlation > 0.5: 6\n",
      "\n",
      "Correlation Distribution:\n",
      "(0.0, 0.1]: 10 features\n",
      "(0.1, 0.2]: 1 features\n",
      "(0.2, 0.3]: 3 features\n",
      "(0.3, 0.4]: 1 features\n",
      "(0.4, 0.5]: 0 features\n",
      "(0.5, 0.6]: 0 features\n",
      "(0.6, 0.7]: 5 features\n",
      "(0.7, 0.8]: 1 features\n",
      "(0.8, 0.9]: 0 features\n",
      "(0.9, 1.0]: 0 features\n",
      "\n",
      "============================================================\n",
      "\n",
      "\n",
      "==================== Correlations with LastVerdict ====================\n"
     ]
    },
    {
     "name": "stderr",
     "output_type": "stream",
     "text": [
      "Analyzing features for LastVerdict: 100%|██████████| 30/30 [00:25<00:00,  1.19it/s]"
     ]
    },
    {
     "name": "stdout",
     "output_type": "stream",
     "text": [
      "\n",
      "Top 20 Correlated Features:\n",
      "============================================================\n",
      "\n",
      "Feature: ThreatFamily\n",
      "Cramer's V: 0.9859\n",
      "Null Rate: 99.21%\n",
      "Unique Values: 1,745\n",
      "Valid Rows: 74,881\n",
      "Coverage: 0.79%\n",
      "----------------------------------------\n",
      "\n",
      "Feature: EmailClusterId\n",
      "Cramer's V: 0.9433\n",
      "Null Rate: 98.98%\n",
      "Unique Values: 26,474\n",
      "Valid Rows: 86,119\n",
      "Coverage: 0.90%\n",
      "----------------------------------------\n",
      "\n",
      "Feature: Timestamp\n",
      "Cramer's V: 0.8031\n",
      "Null Rate: 0.00%\n",
      "Unique Values: 760,944\n",
      "Valid Rows: 2,234,265\n",
      "Coverage: 23.48%\n",
      "----------------------------------------\n",
      "\n",
      "Feature: AlertTitle\n",
      "Cramer's V: 0.7867\n",
      "Null Rate: 0.00%\n",
      "Unique Values: 86,149\n",
      "Valid Rows: 2,234,265\n",
      "Coverage: 23.48%\n",
      "----------------------------------------\n",
      "\n",
      "Feature: DetectorId\n",
      "Cramer's V: 0.7691\n",
      "Null Rate: 0.00%\n",
      "Unique Values: 8,428\n",
      "Valid Rows: 2,234,265\n",
      "Coverage: 23.48%\n",
      "----------------------------------------\n",
      "\n",
      "Feature: MitreTechniques\n",
      "Cramer's V: 0.6617\n",
      "Null Rate: 57.46%\n",
      "Unique Values: 1,193\n",
      "Valid Rows: 991,966\n",
      "Coverage: 10.42%\n",
      "----------------------------------------\n",
      "\n",
      "Feature: Url\n",
      "Cramer's V: 0.6061\n",
      "Null Rate: 0.00%\n",
      "Unique Values: 123,252\n",
      "Valid Rows: 2,234,265\n",
      "Coverage: 23.48%\n",
      "----------------------------------------\n",
      "\n",
      "Feature: AntispamDirection\n",
      "Cramer's V: 0.5782\n",
      "Null Rate: 98.14%\n",
      "Unique Values: 5\n",
      "Valid Rows: 169,653\n",
      "Coverage: 1.78%\n",
      "----------------------------------------\n",
      "\n",
      "Feature: Category\n",
      "Cramer's V: 0.4642\n",
      "Null Rate: 0.00%\n",
      "Unique Values: 20\n",
      "Valid Rows: 2,234,265\n",
      "Coverage: 23.48%\n",
      "----------------------------------------\n",
      "\n",
      "Feature: EntityType\n",
      "Cramer's V: 0.4614\n",
      "Null Rate: 0.00%\n",
      "Unique Values: 33\n",
      "Valid Rows: 2,234,265\n",
      "Coverage: 23.48%\n",
      "----------------------------------------\n",
      "\n",
      "Feature: AccountUpn\n",
      "Cramer's V: 0.3799\n",
      "Null Rate: 0.00%\n",
      "Unique Values: 530,183\n",
      "Valid Rows: 2,234,265\n",
      "Coverage: 23.48%\n",
      "----------------------------------------\n",
      "\n",
      "Feature: IpAddress\n",
      "Cramer's V: 0.3176\n",
      "Null Rate: 0.00%\n",
      "Unique Values: 285,957\n",
      "Valid Rows: 2,234,265\n",
      "Coverage: 23.48%\n",
      "----------------------------------------\n",
      "\n",
      "Feature: AccountName\n",
      "Cramer's V: 0.3081\n",
      "Null Rate: 0.00%\n",
      "Unique Values: 368,250\n",
      "Valid Rows: 2,234,265\n",
      "Coverage: 23.48%\n",
      "----------------------------------------\n",
      "\n",
      "Feature: FileName\n",
      "Cramer's V: 0.2487\n",
      "Null Rate: 0.00%\n",
      "Unique Values: 222,085\n",
      "Valid Rows: 2,234,265\n",
      "Coverage: 23.48%\n",
      "----------------------------------------\n",
      "\n",
      "Feature: Sha256\n",
      "Cramer's V: 0.2449\n",
      "Null Rate: 0.00%\n",
      "Unique Values: 106,416\n",
      "Valid Rows: 2,234,265\n",
      "Coverage: 23.48%\n",
      "----------------------------------------\n",
      "\n",
      "Feature: FolderPath\n",
      "Cramer's V: 0.2358\n",
      "Null Rate: 0.00%\n",
      "Unique Values: 87,832\n",
      "Valid Rows: 2,234,265\n",
      "Coverage: 23.48%\n",
      "----------------------------------------\n",
      "\n",
      "Feature: ApplicationName\n",
      "Cramer's V: 0.2253\n",
      "Null Rate: 0.00%\n",
      "Unique Values: 2,681\n",
      "Valid Rows: 2,234,265\n",
      "Coverage: 23.48%\n",
      "----------------------------------------\n",
      "\n",
      "Feature: EvidenceRole\n",
      "Cramer's V: 0.1952\n",
      "Null Rate: 0.00%\n",
      "Unique Values: 2\n",
      "Valid Rows: 2,234,265\n",
      "Coverage: 23.48%\n",
      "----------------------------------------\n",
      "\n",
      "Feature: DeviceName\n",
      "Cramer's V: 0.1490\n",
      "Null Rate: 0.00%\n",
      "Unique Values: 114,541\n",
      "Valid Rows: 2,234,265\n",
      "Coverage: 23.48%\n",
      "----------------------------------------\n",
      "\n",
      "Feature: OSFamily\n",
      "Cramer's V: 0.1187\n",
      "Null Rate: 0.00%\n",
      "Unique Values: 6\n",
      "Valid Rows: 2,234,265\n",
      "Coverage: 23.48%\n",
      "----------------------------------------\n",
      "\n",
      "Detailed results saved to: correlation_results_LastVerdict.csv\n",
      "\n",
      "Summary Statistics:\n",
      "Average Correlation: 0.3353\n",
      "Median Correlation: 0.2449\n",
      "Features with Correlation > 0.3: 13\n",
      "Features with Correlation > 0.5: 8\n",
      "\n",
      "Correlation Distribution:\n",
      "(0.0, 0.1]: 4 features\n",
      "(0.1, 0.2]: 4 features\n",
      "(0.2, 0.3]: 4 features\n",
      "(0.3, 0.4]: 3 features\n",
      "(0.4, 0.5]: 2 features\n",
      "(0.5, 0.6]: 1 features\n",
      "(0.6, 0.7]: 2 features\n",
      "(0.7, 0.8]: 2 features\n",
      "(0.8, 0.9]: 1 features\n",
      "(0.9, 1.0]: 2 features\n",
      "\n",
      "============================================================\n",
      "\n"
     ]
    },
    {
     "name": "stderr",
     "output_type": "stream",
     "text": [
      "\n"
     ]
    }
   ],
   "source": [
    "def analyze_all_correlations():\n",
    "    from scipy.stats import chi2_contingency\n",
    "    import numpy as np\n",
    "    from tqdm import tqdm\n",
    "    \n",
    "    def cramers_v(confusion_matrix):\n",
    "        \"\"\"\n",
    "        Calculate Cramer's V statistic for categorical correlation.\n",
    "        \n",
    "        Parameters:\n",
    "        -----------\n",
    "        confusion_matrix : pandas.DataFrame\n",
    "            Cross-tabulation of two categorical variables\n",
    "            \n",
    "        Returns:\n",
    "        --------\n",
    "        float\n",
    "            Cramer's V statistic (between 0 and 1)\n",
    "        \"\"\"\n",
    "        chi2 = chi2_contingency(confusion_matrix)[0]\n",
    "        n = confusion_matrix.sum().sum()\n",
    "        min_dim = min(confusion_matrix.shape) - 1\n",
    "        return np.sqrt(chi2 / (n * min_dim)) if min_dim > 0 else 0\n",
    "    \n",
    "    # Combine all features - treating everything as categorical\n",
    "    all_features = (\n",
    "        alert_columns['cat_features'] + \n",
    "        alert_columns['num_features'] +  # These are actually categorical\n",
    "        evidence_columns['cat_features'] +\n",
    "        evidence_columns['num_features']  # These are actually categorical\n",
    "    )\n",
    "    \n",
    "    # Target variables we're interested in\n",
    "    targets = ['IncidentGrade', 'ActionGrouped', 'ActionGranular', 'SuspicionLevel', 'LastVerdict']\n",
    "    \n",
    "    # Process each target variable\n",
    "    for target in targets:\n",
    "        print(f\"\\n{'='*20} Correlations with {target} {'='*20}\")\n",
    "        results = []\n",
    "        \n",
    "        # Process each feature\n",
    "        for feature in tqdm(all_features, desc=f\"Analyzing features for {target}\"):\n",
    "            try:\n",
    "                # Get feature statistics\n",
    "                null_count = df[feature].isnull().sum()\n",
    "                total_count = len(df)\n",
    "                null_rate = (null_count / total_count) * 100\n",
    "                unique_count = df[feature].nunique()\n",
    "                \n",
    "                # Handle non-null values only\n",
    "                valid_data = df[[feature, target]].dropna()\n",
    "                \n",
    "                if len(valid_data) > 0:\n",
    "                    # Create contingency table\n",
    "                    confusion_matrix = pd.crosstab(valid_data[feature], valid_data[target])\n",
    "                    \n",
    "                    # Calculate Cramer's V\n",
    "                    correlation = cramers_v(confusion_matrix)\n",
    "                    \n",
    "                    # Store results\n",
    "                    results.append({\n",
    "                        'feature': feature,\n",
    "                        'correlation': correlation,\n",
    "                        'null_rate': null_rate,\n",
    "                        'unique_values': unique_count,\n",
    "                        'valid_rows': len(valid_data),\n",
    "                        'total_rows': total_count,\n",
    "                        'null_count': null_count\n",
    "                    })\n",
    "                    \n",
    "            except Exception as e:\n",
    "                print(f\"\\nError processing {feature}: {str(e)}\")\n",
    "                continue\n",
    "        \n",
    "        # Convert results to DataFrame and sort\n",
    "        if results:\n",
    "            results_df = pd.DataFrame(results)\n",
    "            results_df = results_df.sort_values('correlation', ascending=False)\n",
    "            \n",
    "            # Print summary statistics\n",
    "            print(\"\\nTop 20 Correlated Features:\")\n",
    "            print(\"=\" * 60)\n",
    "            for _, row in results_df.head(20).iterrows():\n",
    "                print(f\"\\nFeature: {row['feature']}\")\n",
    "                print(f\"Cramer's V: {row['correlation']:.4f}\")\n",
    "                print(f\"Null Rate: {row['null_rate']:.2f}%\")\n",
    "                print(f\"Unique Values: {row['unique_values']:,}\")\n",
    "                print(f\"Valid Rows: {row['valid_rows']:,}\")\n",
    "                print(f\"Coverage: {(row['valid_rows']/row['total_rows']*100):.2f}%\")\n",
    "                print(\"-\" * 40)\n",
    "            \n",
    "            # Save detailed results to CSV\n",
    "            output_file = f'correlation_results_{target}.csv'\n",
    "            results_df.to_csv(output_file, index=False)\n",
    "            print(f\"\\nDetailed results saved to: {output_file}\")\n",
    "            \n",
    "            # Print summary statistics\n",
    "            print(\"\\nSummary Statistics:\")\n",
    "            print(f\"Average Correlation: {results_df['correlation'].mean():.4f}\")\n",
    "            print(f\"Median Correlation: {results_df['correlation'].median():.4f}\")\n",
    "            print(f\"Features with Correlation > 0.3: {len(results_df[results_df['correlation'] > 0.3])}\")\n",
    "            print(f\"Features with Correlation > 0.5: {len(results_df[results_df['correlation'] > 0.5])}\")\n",
    "            \n",
    "            # Distribution of correlations\n",
    "            print(\"\\nCorrelation Distribution:\")\n",
    "            bins = [0, 0.1, 0.2, 0.3, 0.4, 0.5, 0.6, 0.7, 0.8, 0.9, 1.0]\n",
    "            dist = pd.cut(results_df['correlation'], bins=bins).value_counts().sort_index()\n",
    "            for interval, count in dist.items():\n",
    "                print(f\"{interval}: {count} features\")\n",
    "        \n",
    "        print(\"\\n\" + \"=\"*60 + \"\\n\")\n",
    "\n",
    "# Run the analysis\n",
    "analyze_all_correlations()"
   ]
  },
  {
   "cell_type": "code",
   "execution_count": null,
   "metadata": {},
   "outputs": [],
   "source": []
  },
  {
   "cell_type": "code",
   "execution_count": null,
   "metadata": {},
   "outputs": [],
   "source": []
  },
  {
   "cell_type": "code",
   "execution_count": null,
   "metadata": {},
   "outputs": [],
   "source": []
  },
  {
   "cell_type": "code",
   "execution_count": null,
   "metadata": {},
   "outputs": [],
   "source": []
  },
  {
   "cell_type": "code",
   "execution_count": null,
   "metadata": {},
   "outputs": [],
   "source": [
    "def create_features(df):\n",
    "    # Time-based features\n",
    "    df['hour'] = pd.to_datetime(df['Timestamp']).dt.hour\n",
    "    df['is_business_hours'] = df['hour'].between(9, 17)\n",
    "    \n",
    "    # Location-based features\n",
    "    df['is_foreign_ip'] = df['CountryCode'] != 'US'  # assuming US-based org\n",
    "    \n",
    "    # Aggregation features\n",
    "    df['alerts_per_device'] = df.groupby('DeviceId')['AlertId'].transform('count')\n",
    "    \n",
    "    # Categorical encoding\n",
    "    df['entity_type_encoded'] = pd.get_dummies(df['EntityType'])\n",
    "    \n",
    "    # Suspicious patterns\n",
    "    df['multiple_countries'] = df.groupby('AlertId')['CountryCode'].transform('nunique') > 1\n",
    "    \n",
    "    return df"
   ]
  },
  {
   "cell_type": "code",
   "execution_count": 31,
   "metadata": {},
   "outputs": [],
   "source": [
    "df.head(50).to_csv(\"df_head_50.csv\", index=False)"
   ]
  },
  {
   "cell_type": "code",
   "execution_count": 45,
   "metadata": {},
   "outputs": [
    {
     "data": {
      "text/plain": [
       "0"
      ]
     },
     "execution_count": 45,
     "metadata": {},
     "output_type": "execute_result"
    }
   ],
   "source": [
    "df['Timestamp'].isnull().sum()"
   ]
  },
  {
   "cell_type": "code",
   "execution_count": 46,
   "metadata": {},
   "outputs": [
    {
     "data": {
      "text/plain": [
       "Id                          0\n",
       "OrgId                       0\n",
       "IncidentId                  0\n",
       "AlertId                     0\n",
       "Timestamp                   0\n",
       "DetectorId                  0\n",
       "AlertTitle                  0\n",
       "Category                    0\n",
       "MitreTechniques       5468386\n",
       "IncidentGrade           51340\n",
       "ActionGrouped         9460773\n",
       "ActionGranular        9460773\n",
       "EntityType                  0\n",
       "EvidenceRole                0\n",
       "DeviceId                    0\n",
       "Sha256                      0\n",
       "IpAddress                   0\n",
       "Url                         0\n",
       "AccountSid                  0\n",
       "AccountUpn                  0\n",
       "AccountObjectId             0\n",
       "AccountName                 0\n",
       "DeviceName                  0\n",
       "NetworkMessageId            0\n",
       "EmailClusterId        9420025\n",
       "RegistryKey                 0\n",
       "RegistryValueName           0\n",
       "RegistryValueData           0\n",
       "ApplicationId               0\n",
       "ApplicationName             0\n",
       "OAuthApplicationId          0\n",
       "ThreatFamily          9441956\n",
       "FileName                    0\n",
       "FolderPath                  0\n",
       "ResourceIdName              0\n",
       "ResourceType          9509762\n",
       "Roles                 9298686\n",
       "OSFamily                    0\n",
       "OSVersion                   0\n",
       "AntispamDirection     9339535\n",
       "SuspicionLevel        8072708\n",
       "LastVerdict           7282572\n",
       "CountryCode                 0\n",
       "State                       0\n",
       "City                        0\n",
       "dtype: int64"
      ]
     },
     "execution_count": 46,
     "metadata": {},
     "output_type": "execute_result"
    }
   ],
   "source": [
    "df.isnull().sum()"
   ]
  },
  {
   "cell_type": "markdown",
   "metadata": {},
   "source": [
    "Here's the markdown explanation:\n",
    "\n",
    "# Machine Learning Model Selection for Incident Grade Prediction\n",
    "\n",
    "## Dataset Characteristics\n",
    "Our analysis revealed that our dataset is entirely categorical in nature:\n",
    "- Columns that appear numeric (IDs, versions, counts) are actually categorical codes\n",
    "- No true continuous numeric features exist\n",
    "- All features represent discrete categories or labels\n",
    "\n",
    "## Suitable ML Models for Categorical Data\n",
    "\n",
    "### 1. Tree-Based Models\n",
    "- **Decision Trees**\n",
    "  - Naturally handles categorical data\n",
    "  - No encoding necessary (though can benefit from it)\n",
    "  - Highly interpretable\n",
    "\n",
    "- **Random Forest**\n",
    "  - Ensemble of decision trees\n",
    "  - Better generalization than single trees\n",
    "  - Good handling of categorical features\n",
    "\n",
    "- **Gradient Boosting (LightGBM/XGBoost)**\n",
    "  - Optimized for categorical features\n",
    "  - High performance on tabular data\n",
    "  - Built-in categorical feature support\n",
    "\n",
    "### 2. Probabilistic Models\n",
    "- **Categorical Naive Bayes**\n",
    "  - Specifically designed for categorical features\n",
    "  - Works well with high-dimensional categorical data\n",
    "  - Probabilistic predictions\n",
    "\n",
    "### 3. Other Suitable Models\n",
    "- **CatBoost**\n",
    "  - Specifically designed for categorical features\n",
    "  - Handles categorical features without preprocessing\n",
    "  - Built-in encoding mechanisms\n",
    "\n",
    "## Data Preprocessing Requirements\n",
    "1. **Label Encoding**\n",
    "   - Convert categorical strings to numeric codes\n",
    "   - Preserve categorical nature of features\n",
    "   - Required for most ML libraries\n",
    "\n",
    "2. **Missing Value Handling**\n",
    "   - Special category for missing values\n",
    "   - Maintain categorical nature of data\n",
    "\n",
    "3. **Feature Selection**\n",
    "   - Based on Cramer's V correlation\n",
    "   - Chi-square tests for feature importance\n",
    "   - Information gain metrics\n",
    "\n",
    "## Evaluation Metrics\n",
    "For categorical target (Incident Grade):\n",
    "1. **Classification Metrics**\n",
    "   - Accuracy\n",
    "   - Precision/Recall\n",
    "   - F1-Score\n",
    "   - ROC-AUC\n",
    "\n",
    "2. **Confusion Matrix**\n",
    "   - Class-wise performance\n",
    "   - Error analysis\n",
    "\n",
    "Would you like me to:\n",
    "1. Add implementation details for each model?\n",
    "2. Include code examples?\n",
    "3. Add performance comparison metrics?\n",
    "4. Elaborate on any specific aspect?\n"
   ]
  },
  {
   "cell_type": "code",
   "execution_count": 2,
   "metadata": {},
   "outputs": [
    {
     "data": {
      "text/plain": [
       "Index(['Id', 'OrgId', 'IncidentId', 'AlertId', 'Timestamp', 'DetectorId',\n",
       "       'AlertTitle', 'Category', 'MitreTechniques', 'IncidentGrade',\n",
       "       'ActionGrouped', 'ActionGranular', 'EntityType', 'EvidenceRole',\n",
       "       'DeviceId', 'Sha256', 'IpAddress', 'Url', 'AccountSid', 'AccountUpn',\n",
       "       'AccountObjectId', 'AccountName', 'DeviceName', 'NetworkMessageId',\n",
       "       'EmailClusterId', 'RegistryKey', 'RegistryValueName',\n",
       "       'RegistryValueData', 'ApplicationId', 'ApplicationName',\n",
       "       'OAuthApplicationId', 'ThreatFamily', 'FileName', 'FolderPath',\n",
       "       'ResourceIdName', 'ResourceType', 'Roles', 'OSFamily', 'OSVersion',\n",
       "       'AntispamDirection', 'SuspicionLevel', 'LastVerdict', 'CountryCode',\n",
       "       'State', 'City'],\n",
       "      dtype='object')"
      ]
     },
     "execution_count": 2,
     "metadata": {},
     "output_type": "execute_result"
    }
   ],
   "source": [
    "df.columns"
   ]
  },
  {
   "cell_type": "code",
   "execution_count": 3,
   "metadata": {},
   "outputs": [
    {
     "name": "stdout",
     "output_type": "stream",
     "text": [
      "Number of AlertIds with multiple IncidentGrades: 1897\n",
      "\n",
      "Distribution of number of grades per AlertId:\n",
      "IncidentGrade\n",
      "0      16855\n",
      "1    1246892\n",
      "2       1896\n",
      "3          1\n",
      "Name: count, dtype: int64\n",
      "\n",
      "Example alerts with multiple grades:\n",
      "         AlertId   IncidentGrade\n",
      "1356      257493    TruePositive\n",
      "1878     1116628  BenignPositive\n",
      "2094      341579  BenignPositive\n",
      "2732      252849   FalsePositive\n",
      "2943      143733  BenignPositive\n",
      "...          ...             ...\n",
      "9514975   200202   FalsePositive\n",
      "9515040   219780    TruePositive\n",
      "9516163   131167    TruePositive\n",
      "9516241   129521   FalsePositive\n",
      "9516718    89552   FalsePositive\n",
      "\n",
      "[21874 rows x 2 columns]\n"
     ]
    }
   ],
   "source": [
    "# Group by AlertId and count unique IncidentGrades\n",
    "alert_grade_counts = df.groupby('AlertId')['IncidentGrade'].nunique()\n",
    "\n",
    "# Find alerts with multiple grades\n",
    "multiple_grades = alert_grade_counts[alert_grade_counts > 1]\n",
    "\n",
    "print(f\"Number of AlertIds with multiple IncidentGrades: {len(multiple_grades)}\")\n",
    "print(\"\\nDistribution of number of grades per AlertId:\")\n",
    "print(alert_grade_counts.value_counts().sort_index())\n",
    "\n",
    "# Optional: Look at some examples of alerts with multiple grades\n",
    "if len(multiple_grades) > 0:\n",
    "    print(\"\\nExample alerts with multiple grades:\")\n",
    "    print(df[df['AlertId'].isin(multiple_grades.index)][['AlertId', 'IncidentGrade']])"
   ]
  },
  {
   "cell_type": "markdown",
   "metadata": {},
   "source": [
    "# There are few alerts that have multiple grades, we need to analyze this \n",
    "# May be these were transition from True Postive to Benign Positive or False Positive"
   ]
  },
  {
   "cell_type": "code",
   "execution_count": null,
   "metadata": {},
   "outputs": [],
   "source": []
  }
 ],
 "metadata": {
  "kernelspec": {
   "display_name": "nlp",
   "language": "python",
   "name": "python3"
  },
  "language_info": {
   "codemirror_mode": {
    "name": "ipython",
    "version": 3
   },
   "file_extension": ".py",
   "mimetype": "text/x-python",
   "name": "python",
   "nbconvert_exporter": "python",
   "pygments_lexer": "ipython3",
   "version": "3.9.18"
  }
 },
 "nbformat": 4,
 "nbformat_minor": 2
}
